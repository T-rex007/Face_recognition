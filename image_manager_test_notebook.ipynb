{
 "cells": [
  {
   "cell_type": "code",
   "execution_count": 2,
   "metadata": {},
   "outputs": [],
   "source": [
    "import pandas as pd\n",
    "import numpy as np\n",
    "import random\n",
    "import itertools\n",
    "import tensorflow as tf\n",
    "from tensorflow.keras.models import load_model\n",
    "from mtcnn.mtcnn import MTCNN\n",
    "import os"
   ]
  },
  {
   "cell_type": "code",
   "execution_count": 3,
   "metadata": {},
   "outputs": [],
   "source": [
    "tf.enable_eager_execution()"
   ]
  },
  {
   "cell_type": "code",
   "execution_count": 4,
   "metadata": {},
   "outputs": [],
   "source": [
    "img_lst = pd.read_csv(\"test/test_list.csv\")\n",
    "img_lst = [ str(i[0]) for i in img_lst.values ]\n",
    "idty = []\n",
    "for i in img_lst:\n",
    "    idty.append(i.split(\"/\"))\n",
    "df = pd.DataFrame(idty)\n",
    "classes = list(df[0].unique())"
   ]
  },
  {
   "cell_type": "code",
   "execution_count": 5,
   "metadata": {},
   "outputs": [],
   "source": [
    "c = df[0].values\n",
    "classes = list(df[0].unique())\n",
    "min_classes = min(df[0].value_counts())\n",
    "mapping = {}\n",
    "for i in classes:\n",
    "    mapping[i] = np.where(c == i)\n",
    "ran_pos = random.choices(mapping[classes[0]][0], k = 50)\n",
    "tmp = [list(mapping[i][0].reshape(-1)) for i in classes if(i != classes[0])]\n",
    "tmp = list(itertools.chain.from_iterable(tmp))\n",
    "ran_neg = random.choices(tmp, k = 50)"
   ]
  },
  {
   "cell_type": "code",
   "execution_count": 10,
   "metadata": {},
   "outputs": [],
   "source": [
    "detected_faces = []\n",
    "for i in img_lst:\n",
    "    if (os.path.isfile(\"test/image_features/\"+ i[:-4]+\".jpg.npy\")):\n",
    "        detected_faces.append(i)"
   ]
  },
  {
   "cell_type": "code",
   "execution_count": 12,
   "metadata": {},
   "outputs": [],
   "source": [
    "p = 100*(len(detected_faces)/len(img_lst))"
   ]
  },
  {
   "cell_type": "code",
   "execution_count": 14,
   "metadata": {},
   "outputs": [
    {
     "data": {
      "text/plain": [
       "218"
      ]
     },
     "execution_count": 14,
     "metadata": {},
     "output_type": "execute_result"
    }
   ],
   "source": [
    "len(img_lst)- len(detected_faces)"
   ]
  },
  {
   "cell_type": "code",
   "execution_count": 15,
   "metadata": {},
   "outputs": [
    {
     "data": {
      "text/plain": [
       "169396"
      ]
     },
     "execution_count": 15,
     "metadata": {},
     "output_type": "execute_result"
    }
   ],
   "source": [
    "len(img_lst)"
   ]
  },
  {
   "cell_type": "code",
   "execution_count": 286,
   "metadata": {},
   "outputs": [],
   "source": [
    "class ImageManager:\n",
    "    ### Class Constructor\n",
    "    def __init__(self, feature_extractor, face_detector, imgpaths = None, \n",
    "                 img_rtpath = None, feat_rtpath = None):\n",
    "        \n",
    "        self.feature_extractor = feature_extractor\n",
    "        self.face_detector = face_detector\n",
    "        self.bb_lst = []\n",
    "        self.im_sz = feature_extractor.input_shape\n",
    "        self.img = None\n",
    "        self.imgpaths = [str(i[0]) for i in imgpaths.values ]\n",
    "        self.img_rtpath = img_rtpath\n",
    "        self.feat_rtpaths = feat_rtpath\n",
    "        idty = []\n",
    "        for i in self.imgpaths:\n",
    "            idty.append(i.split(\"/\"))\n",
    "        df = pd.DataFrame(idty)\n",
    "        self.c = df[0].values ### The class of each image\n",
    "        self.classes = list(df[0].unique()) ### different class in dset\n",
    "        self.min_class_count = min(df[0].value_counts())\n",
    "        self.classmap = {}### class to index mapping\n",
    "        for i in self.classes:\n",
    "            self.classmap[i] = np.where(self.c == i)\n",
    "        self.sample_feat1 = []\n",
    "        self.sample_feat2 = []\n",
    "        self.feat1 = None\n",
    "        self.feat2 = None\n",
    "        self.sample_labels = []\n",
    "        ### Face Detector performance\n",
    "        self.undetected_faces = []\n",
    "        self.face_detector_error = None\n",
    "        \n",
    "        \n",
    "    def detect_faces(self, img):\n",
    "        results = self.face_detector.detect_faces(img)\n",
    "        for i in results:\n",
    "            self.bb_lst.append(i[\"box\"])\n",
    "        return bb_lst\n",
    "    \n",
    "    def extract_feature(self, img):\n",
    "        image_features = []\n",
    "        for i in range(len(bb_lst)):\n",
    "            img = crop_face(img, bb_lst[i])\n",
    "            img = resize(img,(self.im_sz[1],im_sz[2]))\n",
    "            img = normalize(img).reshape((1, im_sz[1],im_sz[2], im_sz[3]))\n",
    "            image_features.append(feature_extractor.predict(img))\n",
    "        return image_features\n",
    "    def extract_all_faetures(self): ###To be tested\n",
    "        for i in self.imgpaths:\n",
    "            if(os.path.isfile(self.feature_rt_path+\"/\"+i+\".npy\") ==True):\n",
    "                continue\n",
    "            else:\n",
    "                img = plt.imread(self.imgrt_path+\"/\" + i)\n",
    "                bb_lst = self.detect_faces(img)\n",
    "                for i1 in range(len(bb_lst)):\n",
    "                    feature = self.extract_feature(model, img, bb_lst[i1])\n",
    "                    ###check to see if dirrectory e\n",
    "                    if os.path.isdir(self.feature_rt_path+\"/\"+i[:7]):\n",
    "                        np.save(self.feature_rt_path+\"/\"+i+\".npy\", feature)\n",
    "                    else:\n",
    "                        os.mkdir(self.feature_rt_path+\"/\"+i[:7])\n",
    "                        np.save( self.feature_rt_path+\"/\"+i+\".npy\", feature)\n",
    "\n",
    "\n",
    "    def normalize(self, img):\n",
    "        \"\"\"\n",
    "        Normalize the image pixels values between  1 and 0\n",
    "        \"\"\"\n",
    "        return img/255\n",
    "    \n",
    "    def crop_face(self,img):\n",
    "        \"\"\"\n",
    "        Crop the area delimited by the the bounding box bb\n",
    "        \"\"\"\n",
    "        im_lst = []\n",
    "        for i in range(len(bb)):\n",
    "            x1, y1, width, height = bb[i]\n",
    "            x1,y1 = abs(x1), abs(y1)\n",
    "            x2, y2 = x1 + width, y1 + height\n",
    "            im_lst.append(img[y1:y2, x1:x2])\n",
    "        return im_lst\n",
    "    \n",
    "    def random_sample(self,label, classidx, k):\n",
    "        \"\"\"\n",
    "        Returns k random indexes of of a particalar class or all other classes \n",
    "        than that is indicated by classidx\n",
    "        Args:\n",
    "            label: Indicates whether to sample indexes form th indicate class or not.\n",
    "            classidx: which class to sample\n",
    "            k: Sample size \n",
    "        \"\"\"\n",
    "        if (label == 1):\n",
    "            return random.choices(self.classmap[classes[classidx]][0], k = k)\n",
    "        elif(label == 0):\n",
    "            tmp = [list(self.classmap[i][0].reshape(-1)) \n",
    "                   for i in self.classes if(i != self.classes[classidx])]\n",
    "            tmp = list(itertools.chain.from_iterable(tmp))\n",
    "            return random.choices(tmp, k = k)\n",
    "        print(\"OOPS it broke\")\n",
    "        return None\n",
    "            \n",
    "    def update_samples(self,sample, label):\n",
    "        \"\"\"\n",
    "        Update sample values(Mutator funtion)\n",
    "        Args:\n",
    "            Sample: Tuple containing the feature pairs in form of a list\n",
    "                    eg.(feature_idx_list1, feature_idx_list2)\n",
    "            label: Indicates the label of the input feature pair are \n",
    "        \"\"\"\n",
    "        tmp = [label] * len(sample[0])\n",
    "        \n",
    "        self.sample_labels = self.sample_labels + tmp\n",
    "        self.sample_feat1 = self.sample_feat1 + sample[0]\n",
    "        self.sample_feat2 = self.sample_feat2 + sample[1]\n",
    "        \n",
    "    def balance_random_sample(self, k):\n",
    "        ### Positive sampling\n",
    "        for clss_idx in range(len(self.classes)):\n",
    "            self.update_samples((self.random_sample(1, clss_idx, k),\n",
    "                                 self.random_sample(1, clss_idx, k)),1)\n",
    "            self.update_samples((self.random_sample(0, clss_idx, k),\n",
    "                                 self.random_sample(0, clss_idx, k)),0)\n",
    "        \n",
    "    def load_features(self):\n",
    "        \"\"\"\n",
    "        loads in extracted features and stores it to the \n",
    "        feat1 and feat2 attribute of the object\n",
    "        \"\"\"\n",
    "        ### Obtaining feature1\n",
    "        img_sam = np.array(self.imgpaths)[self.sample_feat1]\n",
    "        img_sam = list(img_sam)\n",
    "        if(os.path.isfile(\"test/image_features/\"+ img_sam[0][:-4]+\".jpg.npy\") == True):\n",
    "            imf = np.load(\"test/image_features/\"+ img_sam[0][:-4]+\".jpg.npy\")###\n",
    "        else:\n",
    "            self.undetected_faces.append(\"test/image_features/\"+ img_sam[0][:-4]+\".jpg.npy\")\n",
    "        for i in img_sam:\n",
    "            if (os.path.isfile(\"test/image_features/\"+ i[:-4]+\".jpg.npy\") == True):\n",
    "                imf1 = np.load(\"test/image_features/\"+ i[:-4]+\".jpg.npy\")###\n",
    "                imf = np.vstack([imf, imf1])\n",
    "            else:\n",
    "                self.undetected_faces.append(\"test/image_features/\"+ i[:-4]+\".jpg.npy\")\n",
    "        self.feat1 = imf\n",
    "        \n",
    "        ### Loading feat2\n",
    "        img_sam = np.array(self.imgpaths)[self.sample_feat2]\n",
    "        img_sam = list(img_sam)\n",
    "        if(os.path.isfile(\"test/image_features/\"+ img_sam[0][:-4]+\".jpg.npy\") == True):\n",
    "            imf = np.load(\"test/image_features/\"+ img_sam[0][:-4]+\".jpg.npy\")###\n",
    "        else:\n",
    "            self.undetected_faces.append(\"test/image_features/\"+ img_sam[0][:-4]+\".jpg.npy\")\n",
    "        for i in img_sam:\n",
    "            if (os.path.isfile(\"test/image_features/\"+ i[:-4]+\".jpg.npy\") == True):\n",
    "                imf1 = np.load(\"test/image_features/\"+ i[:-4]+\".jpg.npy\")###\n",
    "                imf = np.vstack([imf, imf1])\n",
    "            else:\n",
    "                self.undetected_faces.append(\"test/image_features/\"+ i[:-4]+\".jpg.npy\")\n",
    "        self.feat2 = imf\n",
    "    \n",
    "    def get_features(self):\n",
    "        return (self.feat1, self.feat2, self.sample_labels)\n",
    "    \n",
    "    def compute_face_detector_error(self):\n",
    "        for i in self.imgpaths:\n",
    "            if (os.path.isfile(\"test/image_features/\"+ i[:-4]+\".jpg.npy\")):\n",
    "                self.detected_faces.append(i)\n",
    "        "
   ]
  },
  {
   "cell_type": "code",
   "execution_count": 203,
   "metadata": {},
   "outputs": [
    {
     "name": "stderr",
     "output_type": "stream",
     "text": [
      "W0709 13:42:22.200342 22016 hdf5_format.py:221] No training configuration found in save file: the model was *not* compiled. Compile it manually.\n"
     ]
    }
   ],
   "source": [
    "model = load_model(\"Models/FaceNet/facenet_keras.h5\")\n",
    "dtor = MTCNN()\n",
    "pths = pd.read_csv(\"test/test_list.csv\")"
   ]
  },
  {
   "cell_type": "code",
   "execution_count": null,
   "metadata": {},
   "outputs": [],
   "source": [
    "def check_missing_features()"
   ]
  },
  {
   "cell_type": "code",
   "execution_count": 287,
   "metadata": {},
   "outputs": [],
   "source": [
    "m = ImageManager(model, dtor, pths[:4000])"
   ]
  },
  {
   "cell_type": "code",
   "execution_count": 288,
   "metadata": {},
   "outputs": [],
   "source": [
    "d = m.balance_random_sample(50)"
   ]
  },
  {
   "cell_type": "code",
   "execution_count": 289,
   "metadata": {},
   "outputs": [],
   "source": [
    "idx1 = m.sample_feat1\n",
    "idx2 = m.sample_feat2\n",
    "labels = np.array(m.sample_labels)"
   ]
  },
  {
   "cell_type": "code",
   "execution_count": 290,
   "metadata": {},
   "outputs": [],
   "source": [
    "i1 = np.array(m.imgpaths)[idx1]\n",
    "i2 = np.array(m.imgpaths)[idx2]"
   ]
  },
  {
   "cell_type": "code",
   "execution_count": 291,
   "metadata": {},
   "outputs": [
    {
     "data": {
      "text/plain": [
       "(1100,)"
      ]
     },
     "execution_count": 291,
     "metadata": {},
     "output_type": "execute_result"
    }
   ],
   "source": [
    "i1.shape"
   ]
  },
  {
   "cell_type": "code",
   "execution_count": 292,
   "metadata": {},
   "outputs": [],
   "source": [
    "df1=pd.DataFrame({\"labels\":labels.T,\"feat1\": i1.T,\"feat2\" :i2.T})"
   ]
  },
  {
   "cell_type": "code",
   "execution_count": 293,
   "metadata": {},
   "outputs": [],
   "source": [
    "m.load_features()"
   ]
  },
  {
   "cell_type": "code",
   "execution_count": 294,
   "metadata": {},
   "outputs": [
    {
     "data": {
      "text/plain": [
       "(1094, 128)"
      ]
     },
     "execution_count": 294,
     "metadata": {},
     "output_type": "execute_result"
    }
   ],
   "source": [
    "m.feat1.shape"
   ]
  },
  {
   "cell_type": "code",
   "execution_count": 295,
   "metadata": {},
   "outputs": [
    {
     "data": {
      "text/plain": [
       "['test/image_features/n000001/0281_01.jpg.npy',\n",
       " 'test/image_features/n000001/0281_01.jpg.npy',\n",
       " 'test/image_features/n000148/0268_01.jpg.npy',\n",
       " 'test/image_features/n000001/0289_01.jpg.npy',\n",
       " 'test/image_features/n000009/0079_01.jpg.npy',\n",
       " 'test/image_features/n000148/0296_03.jpg.npy',\n",
       " 'test/image_features/n000148/0085_01.jpg.npy',\n",
       " 'test/image_features/n000148/0296_03.jpg.npy']"
      ]
     },
     "execution_count": 295,
     "metadata": {},
     "output_type": "execute_result"
    }
   ],
   "source": [
    "m.undetected_faces"
   ]
  },
  {
   "cell_type": "code",
   "execution_count": null,
   "metadata": {},
   "outputs": [],
   "source": []
  }
 ],
 "metadata": {
  "kernelspec": {
   "display_name": "vision1",
   "language": "python",
   "name": "vision1"
  },
  "language_info": {
   "codemirror_mode": {
    "name": "ipython",
    "version": 3
   },
   "file_extension": ".py",
   "mimetype": "text/x-python",
   "name": "python",
   "nbconvert_exporter": "python",
   "pygments_lexer": "ipython3",
   "version": "3.7.3"
  }
 },
 "nbformat": 4,
 "nbformat_minor": 2
}
