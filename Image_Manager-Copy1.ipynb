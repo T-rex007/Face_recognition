{
 "cells": [
  {
   "cell_type": "code",
   "execution_count": 1,
   "metadata": {},
   "outputs": [],
   "source": [
    "from Manager import *\n",
    "from VisionUtils import *\n",
    "tf.enable_eager_execution()"
   ]
  },
  {
   "cell_type": "code",
   "execution_count": 2,
   "metadata": {},
   "outputs": [
    {
     "name": "stderr",
     "output_type": "stream",
     "text": [
      "WARNING: Logging before flag parsing goes to stderr.\n",
      "W0828 00:30:11.108951 11672 hdf5_format.py:221] No training configuration found in save file: the model was *not* compiled. Compile it manually.\n",
      "W0828 00:30:11.113940 11672 deprecation_wrapper.py:119] From C:\\Users\\user\\Anaconda3\\lib\\site-packages\\mtcnn\\mtcnn.py:187: The name tf.ConfigProto is deprecated. Please use tf.compat.v1.ConfigProto instead.\n",
      "\n",
      "W0828 00:30:11.115935 11672 deprecation_wrapper.py:119] From C:\\Users\\user\\Anaconda3\\lib\\site-packages\\mtcnn\\mtcnn.py:193: The name tf.Session is deprecated. Please use tf.compat.v1.Session instead.\n",
      "\n",
      "W0828 00:30:11.137899 11672 deprecation_wrapper.py:119] From C:\\Users\\user\\Anaconda3\\lib\\site-packages\\mtcnn\\network.py:43: The name tf.variable_scope is deprecated. Please use tf.compat.v1.variable_scope instead.\n",
      "\n",
      "W0828 00:30:11.137899 11672 deprecation_wrapper.py:119] From C:\\Users\\user\\Anaconda3\\lib\\site-packages\\mtcnn\\layer_factory.py:88: The name tf.placeholder is deprecated. Please use tf.compat.v1.placeholder instead.\n",
      "\n",
      "W0828 00:30:11.139870 11672 deprecation_wrapper.py:119] From C:\\Users\\user\\Anaconda3\\lib\\site-packages\\mtcnn\\layer_factory.py:79: The name tf.get_variable is deprecated. Please use tf.compat.v1.get_variable instead.\n",
      "\n",
      "W0828 00:30:11.140867 11672 deprecation.py:506] From C:\\Users\\user\\Anaconda3\\lib\\site-packages\\tensorflow\\python\\ops\\init_ops.py:1251: calling VarianceScaling.__init__ (from tensorflow.python.ops.init_ops) with dtype is deprecated and will be removed in a future version.\n",
      "Instructions for updating:\n",
      "Call initializer instance with the dtype argument instead of passing it to the constructor\n",
      "W0828 00:30:11.160845 11672 deprecation_wrapper.py:119] From C:\\Users\\user\\Anaconda3\\lib\\site-packages\\mtcnn\\layer_factory.py:171: The name tf.nn.max_pool is deprecated. Please use tf.nn.max_pool2d instead.\n",
      "\n",
      "W0828 00:30:11.212706 11672 deprecation.py:323] From C:\\Users\\user\\Anaconda3\\lib\\site-packages\\mtcnn\\layer_factory.py:221: div (from tensorflow.python.ops.math_ops) is deprecated and will be removed in a future version.\n",
      "Instructions for updating:\n",
      "Deprecated in favor of operator or tf.math.divide.\n",
      "W0828 00:30:11.379133 11672 deprecation_wrapper.py:119] From C:\\Users\\user\\Anaconda3\\lib\\site-packages\\mtcnn\\layer_factory.py:196: The name tf.nn.xw_plus_b is deprecated. Please use tf.compat.v1.nn.xw_plus_b instead.\n",
      "\n"
     ]
    }
   ],
   "source": [
    "IMG_RT_PATH = 'data/images/'\n",
    "FEATURE_RT_PATH = \"data/image_features/\"\n",
    "FEATURE_AUG_RT_PATH = \"data/image_aug_features/\"\n",
    "IMG_AUG_RT_PATH = 'data/images_aug/'\n",
    "\n",
    "#img_list = pd.read_csv(IMG_RT_PATH + \"test_list.TXT\")\n",
    "feature_extractor = load_model(\"Models\\FaceNet/Facenet_keras.h5\")\n",
    "face_detector = MTCNN()"
   ]
  },
  {
   "cell_type": "code",
   "execution_count": 3,
   "metadata": {},
   "outputs": [],
   "source": [
    "import os \n",
    "img_path_list = []\n",
    "folder_list = os.listdir(IMG_RT_PATH)\n",
    "for FOLDER in folder_list:\n",
    "    image_list_names = os.listdir(IMG_RT_PATH + FOLDER)\n",
    "    for NAME in image_list_names:\n",
    "        img_path_list.append(FOLDER+'/'+NAME)"
   ]
  },
  {
   "cell_type": "code",
   "execution_count": 4,
   "metadata": {},
   "outputs": [],
   "source": [
    "img_list = pd.DataFrame({\"path\": img_path_list})"
   ]
  },
  {
   "cell_type": "code",
   "execution_count": 5,
   "metadata": {},
   "outputs": [],
   "source": [
    "iman = ImageManager(\n",
    "    imgpaths = img_list,\n",
    "    feature_extractor = feature_extractor,\n",
    "    face_detector =  face_detector, \n",
    "    IMG_RTPATH = IMG_RT_PATH,\n",
    ")"
   ]
  },
  {
   "cell_type": "code",
   "execution_count": 6,
   "metadata": {},
   "outputs": [
    {
     "ename": "KeyboardInterrupt",
     "evalue": "",
     "output_type": "error",
     "traceback": [
      "\u001b[1;31m---------------------------------------------------------------------------\u001b[0m",
      "\u001b[1;31mKeyboardInterrupt\u001b[0m                         Traceback (most recent call last)",
      "\u001b[1;32m<ipython-input-6-a052022738ac>\u001b[0m in \u001b[0;36m<module>\u001b[1;34m\u001b[0m\n\u001b[1;32m----> 1\u001b[1;33m \u001b[0miman\u001b[0m\u001b[1;33m.\u001b[0m\u001b[0mface_detection_check\u001b[0m\u001b[1;33m(\u001b[0m\u001b[1;33m)\u001b[0m\u001b[1;33m\u001b[0m\u001b[1;33m\u001b[0m\u001b[0m\n\u001b[0m",
      "\u001b[1;32m~\\workspace\\Face_recognition1\\Manager.py\u001b[0m in \u001b[0;36mface_detection_check\u001b[1;34m(self)\u001b[0m\n\u001b[0;32m    196\u001b[0m \u001b[1;33m\u001b[0m\u001b[0m\n\u001b[0;32m    197\u001b[0m             \u001b[0mbb\u001b[0m \u001b[1;33m=\u001b[0m \u001b[0mdetect_faces\u001b[0m\u001b[1;33m(\u001b[0m\u001b[0mimg\u001b[0m \u001b[1;33m=\u001b[0m \u001b[0mimg\u001b[0m\u001b[1;33m,\u001b[0m \u001b[0mdetector\u001b[0m \u001b[1;33m=\u001b[0m \u001b[0mself\u001b[0m\u001b[1;33m.\u001b[0m\u001b[0mface_detector\u001b[0m\u001b[1;33m)\u001b[0m\u001b[1;33m\u001b[0m\u001b[1;33m\u001b[0m\u001b[0m\n\u001b[1;32m--> 198\u001b[1;33m \u001b[1;33m\u001b[0m\u001b[0m\n\u001b[0m\u001b[0;32m    199\u001b[0m             \u001b[1;32mif\u001b[0m \u001b[1;33m(\u001b[0m\u001b[0mlen\u001b[0m\u001b[1;33m(\u001b[0m\u001b[0mbb\u001b[0m\u001b[1;33m)\u001b[0m \u001b[1;33m==\u001b[0m \u001b[1;36m1\u001b[0m\u001b[1;33m)\u001b[0m\u001b[1;33m:\u001b[0m\u001b[1;33m\u001b[0m\u001b[1;33m\u001b[0m\u001b[0m\n\u001b[0;32m    200\u001b[0m                 \u001b[0mself\u001b[0m\u001b[1;33m.\u001b[0m\u001b[0mdetected_faces\u001b[0m\u001b[1;33m.\u001b[0m\u001b[0mappend\u001b[0m\u001b[1;33m(\u001b[0m\u001b[0mi\u001b[0m\u001b[1;33m)\u001b[0m\u001b[1;33m\u001b[0m\u001b[1;33m\u001b[0m\u001b[0m\n",
      "\u001b[1;32m~\\workspace\\Face_recognition1\\VisionUtils.py\u001b[0m in \u001b[0;36mdetect_faces\u001b[1;34m(img, detector)\u001b[0m\n\u001b[0;32m     62\u001b[0m \u001b[1;33m\u001b[0m\u001b[0m\n\u001b[0;32m     63\u001b[0m \u001b[1;32mdef\u001b[0m \u001b[0mdetect_faces\u001b[0m\u001b[1;33m(\u001b[0m\u001b[0mimg\u001b[0m\u001b[1;33m,\u001b[0m \u001b[0mdetector\u001b[0m\u001b[1;33m)\u001b[0m\u001b[1;33m:\u001b[0m\u001b[1;33m\u001b[0m\u001b[1;33m\u001b[0m\u001b[0m\n\u001b[1;32m---> 64\u001b[1;33m     \u001b[0mresults\u001b[0m \u001b[1;33m=\u001b[0m \u001b[0mdetector\u001b[0m\u001b[1;33m.\u001b[0m\u001b[0mdetect_faces\u001b[0m\u001b[1;33m(\u001b[0m\u001b[0mimg\u001b[0m\u001b[1;33m)\u001b[0m\u001b[1;33m\u001b[0m\u001b[1;33m\u001b[0m\u001b[0m\n\u001b[0m\u001b[0;32m     65\u001b[0m     \u001b[0mbb_lst\u001b[0m \u001b[1;33m=\u001b[0m\u001b[1;33m[\u001b[0m\u001b[1;33m]\u001b[0m\u001b[1;33m\u001b[0m\u001b[1;33m\u001b[0m\u001b[0m\n\u001b[0;32m     66\u001b[0m     \u001b[1;32mfor\u001b[0m \u001b[0mi\u001b[0m \u001b[1;32min\u001b[0m \u001b[0mresults\u001b[0m\u001b[1;33m:\u001b[0m\u001b[1;33m\u001b[0m\u001b[1;33m\u001b[0m\u001b[0m\n",
      "\u001b[1;32m~\\Anaconda3\\lib\\site-packages\\mtcnn\\mtcnn.py\u001b[0m in \u001b[0;36mdetect_faces\u001b[1;34m(self, img)\u001b[0m\n\u001b[0;32m    416\u001b[0m         \u001b[1;31m# We pipe here each of the stages\u001b[0m\u001b[1;33m\u001b[0m\u001b[1;33m\u001b[0m\u001b[1;33m\u001b[0m\u001b[0m\n\u001b[0;32m    417\u001b[0m         \u001b[1;32mfor\u001b[0m \u001b[0mstage\u001b[0m \u001b[1;32min\u001b[0m \u001b[0mstages\u001b[0m\u001b[1;33m:\u001b[0m\u001b[1;33m\u001b[0m\u001b[1;33m\u001b[0m\u001b[0m\n\u001b[1;32m--> 418\u001b[1;33m             \u001b[0mresult\u001b[0m \u001b[1;33m=\u001b[0m \u001b[0mstage\u001b[0m\u001b[1;33m(\u001b[0m\u001b[0mimg\u001b[0m\u001b[1;33m,\u001b[0m \u001b[0mresult\u001b[0m\u001b[1;33m[\u001b[0m\u001b[1;36m0\u001b[0m\u001b[1;33m]\u001b[0m\u001b[1;33m,\u001b[0m \u001b[0mresult\u001b[0m\u001b[1;33m[\u001b[0m\u001b[1;36m1\u001b[0m\u001b[1;33m]\u001b[0m\u001b[1;33m)\u001b[0m\u001b[1;33m\u001b[0m\u001b[1;33m\u001b[0m\u001b[0m\n\u001b[0m\u001b[0;32m    419\u001b[0m \u001b[1;33m\u001b[0m\u001b[0m\n\u001b[0;32m    420\u001b[0m         \u001b[1;33m[\u001b[0m\u001b[0mtotal_boxes\u001b[0m\u001b[1;33m,\u001b[0m \u001b[0mpoints\u001b[0m\u001b[1;33m]\u001b[0m \u001b[1;33m=\u001b[0m \u001b[0mresult\u001b[0m\u001b[1;33m\u001b[0m\u001b[1;33m\u001b[0m\u001b[0m\n",
      "\u001b[1;32m~\\Anaconda3\\lib\\site-packages\\mtcnn\\mtcnn.py\u001b[0m in \u001b[0;36m__stage1\u001b[1;34m(self, image, scales, stage_status)\u001b[0m\n\u001b[0;32m    452\u001b[0m \u001b[1;33m\u001b[0m\u001b[0m\n\u001b[0;32m    453\u001b[0m         \u001b[1;32mfor\u001b[0m \u001b[0mscale\u001b[0m \u001b[1;32min\u001b[0m \u001b[0mscales\u001b[0m\u001b[1;33m:\u001b[0m\u001b[1;33m\u001b[0m\u001b[1;33m\u001b[0m\u001b[0m\n\u001b[1;32m--> 454\u001b[1;33m             \u001b[0mscaled_image\u001b[0m \u001b[1;33m=\u001b[0m \u001b[0mself\u001b[0m\u001b[1;33m.\u001b[0m\u001b[0m__scale_image\u001b[0m\u001b[1;33m(\u001b[0m\u001b[0mimage\u001b[0m\u001b[1;33m,\u001b[0m \u001b[0mscale\u001b[0m\u001b[1;33m)\u001b[0m\u001b[1;33m\u001b[0m\u001b[1;33m\u001b[0m\u001b[0m\n\u001b[0m\u001b[0;32m    455\u001b[0m \u001b[1;33m\u001b[0m\u001b[0m\n\u001b[0;32m    456\u001b[0m             \u001b[0mimg_x\u001b[0m \u001b[1;33m=\u001b[0m \u001b[0mnp\u001b[0m\u001b[1;33m.\u001b[0m\u001b[0mexpand_dims\u001b[0m\u001b[1;33m(\u001b[0m\u001b[0mscaled_image\u001b[0m\u001b[1;33m,\u001b[0m \u001b[1;36m0\u001b[0m\u001b[1;33m)\u001b[0m\u001b[1;33m\u001b[0m\u001b[1;33m\u001b[0m\u001b[0m\n",
      "\u001b[1;32m~\\Anaconda3\\lib\\site-packages\\mtcnn\\mtcnn.py\u001b[0m in \u001b[0;36m__scale_image\u001b[1;34m(image, scale)\u001b[0m\n\u001b[0;32m    240\u001b[0m         \u001b[0mheight_scaled\u001b[0m \u001b[1;33m=\u001b[0m \u001b[0mint\u001b[0m\u001b[1;33m(\u001b[0m\u001b[0mnp\u001b[0m\u001b[1;33m.\u001b[0m\u001b[0mceil\u001b[0m\u001b[1;33m(\u001b[0m\u001b[0mheight\u001b[0m \u001b[1;33m*\u001b[0m \u001b[0mscale\u001b[0m\u001b[1;33m)\u001b[0m\u001b[1;33m)\u001b[0m\u001b[1;33m\u001b[0m\u001b[1;33m\u001b[0m\u001b[0m\n\u001b[0;32m    241\u001b[0m \u001b[1;33m\u001b[0m\u001b[0m\n\u001b[1;32m--> 242\u001b[1;33m         \u001b[0mim_data\u001b[0m \u001b[1;33m=\u001b[0m \u001b[0mcv2\u001b[0m\u001b[1;33m.\u001b[0m\u001b[0mresize\u001b[0m\u001b[1;33m(\u001b[0m\u001b[0mimage\u001b[0m\u001b[1;33m,\u001b[0m \u001b[1;33m(\u001b[0m\u001b[0mwidth_scaled\u001b[0m\u001b[1;33m,\u001b[0m \u001b[0mheight_scaled\u001b[0m\u001b[1;33m)\u001b[0m\u001b[1;33m,\u001b[0m \u001b[0minterpolation\u001b[0m\u001b[1;33m=\u001b[0m\u001b[0mcv2\u001b[0m\u001b[1;33m.\u001b[0m\u001b[0mINTER_AREA\u001b[0m\u001b[1;33m)\u001b[0m\u001b[1;33m\u001b[0m\u001b[1;33m\u001b[0m\u001b[0m\n\u001b[0m\u001b[0;32m    243\u001b[0m \u001b[1;33m\u001b[0m\u001b[0m\n\u001b[0;32m    244\u001b[0m         \u001b[1;31m# Normalize the image's pixels\u001b[0m\u001b[1;33m\u001b[0m\u001b[1;33m\u001b[0m\u001b[1;33m\u001b[0m\u001b[0m\n",
      "\u001b[1;31mKeyboardInterrupt\u001b[0m: "
     ]
    }
   ],
   "source": [
    "iman.face_detection_check()"
   ]
  },
  {
   "cell_type": "markdown",
   "metadata": {},
   "source": [
    "iman.augment_images()"
   ]
  },
  {
   "cell_type": "markdown",
   "metadata": {},
   "source": [
    "iman.extract_all_features(augment = True) ### dont run"
   ]
  },
  {
   "cell_type": "markdown",
   "metadata": {},
   "source": [
    "iman.face_detection_check()"
   ]
  },
  {
   "cell_type": "markdown",
   "metadata": {},
   "source": [
    "iman.update_metainfo()\n",
    "iman.balance_random_sample(100)\n",
    "iman.split(train_size = 0.75)"
   ]
  },
  {
   "cell_type": "markdown",
   "metadata": {},
   "source": [
    "len( iman.xtrainp[\"path1\"].values)"
   ]
  },
  {
   "cell_type": "markdown",
   "metadata": {},
   "source": [
    "feat_list1 =[]\n",
    "feat_list2 = []\n",
    "index = []\n",
    "i = 0\n",
    "y_aug =  []\n",
    "t1 = []\n",
    "for PATH1, PATH2 in zip(iman.xtrainp[\"path1\"].values, iman.xtrainp[\"path2\"].values):\n",
    "    if ((os.path.isfile(FEATURE_AUG_RT_PATH + PATH1[:-4]+\".npy\") ==True) and \n",
    "    (os.path.isfile(FEATURE_AUG_RT_PATH + PATH2[:-4]+\".npy\") == True)):\n",
    "        feat_list1.append(np.load(FEATURE_AUG_RT_PATH + PATH1[:-4]+\".npy\"))\n",
    "        feat_list2.append(np.load(FEATURE_AUG_RT_PATH + PATH2[:-4]+\".npy\"))\n",
    "        \n",
    "        if (PATH1[:7] == PATH2[:7]):\n",
    "            t1.append(1)\n",
    "        else:\n",
    "            t1.append(0)\n",
    "        \n",
    "    i = i + 1\n",
    "\n",
    "train_AUG_feat1 = np.vstack(feat_list1)\n",
    "train_AUG_feat2 = np.vstack(feat_list2)\n",
    "\n",
    "del feat_list1\n",
    "del feat_list2"
   ]
  },
  {
   "cell_type": "markdown",
   "metadata": {},
   "source": [
    "feat_list1 =[]\n",
    "feat_list2 = []\n",
    "index = []\n",
    "i = 0\n",
    "y_aug =  []\n",
    "t1 = []\n",
    "for PATH1, PATH2 in zip(iman.xtrainp[\"path1\"].values, iman.xtrainp[\"path2\"].values):\n",
    "    if ((os.path.isfile(FEATURE_AUG_RT_PATH + PATH1[:-4]+\".npy\") ==True) and \n",
    "    (os.path.isfile(FEATURE_AUG_RT_PATH + PATH2[:-4]+\".npy\") == True)):\n",
    "        feat_list1.append(np.load(FEATURE_AUG_RT_PATH + PATH1[:-4]+\".npy\"))\n",
    "        feat_list2.append(np.load(FEATURE_AUG_RT_PATH + PATH2[:-4]+\".npy\"))\n",
    "        \n",
    "        if (PATH1[:7] == PATH2[:7]):\n",
    "            t1.append(1)\n",
    "        else:\n",
    "            t1.append(0)\n",
    "        \n",
    "    i = i + 1\n",
    "\n",
    "train_AUG_feat1 = np.vstack(feat_list1)\n",
    "train_AUG_feat2 = np.vstack(feat_list2)\n",
    "\n",
    "del feat_list1\n",
    "del feat_list2"
   ]
  },
  {
   "cell_type": "markdown",
   "metadata": {},
   "source": [
    "feat_list1 =[]\n",
    "feat_list2 = []\n",
    "index = []\n",
    "i = 0\n",
    "y_aug =  []\n",
    "t2 = []\n",
    "for PATH1, PATH2 in zip(iman.xtrainp[\"path1\"].values, iman.xtrainp[\"path2\"].values):\n",
    "    if ((os.path.isfile(FEATURE_RT_PATH + PATH1[:-4]+\".npy\") ==True) and \n",
    "    (os.path.isfile(FEATURE_RT_PATH + PATH2[:-4]+\".npy\") == True)):\n",
    "        feat_list1.append(np.load(FEATURE_RT_PATH + PATH1[:-4]+\".npy\"))\n",
    "        feat_list2.append(np.load(FEATURE_RT_PATH + PATH2[:-4]+\".npy\"))\n",
    "        \n",
    "        if (PATH1[:7] == PATH2[:7]):\n",
    "            t2.append(1)\n",
    "        else:\n",
    "            t2.append(0)\n",
    "        \n",
    "    i = i + 1\n",
    "\n",
    "train_feat1 = np.vstack(feat_list1)\n",
    "train_feat2 = np.vstack(feat_list2)\n",
    "\n",
    "del feat_list1\n",
    "del feat_list2"
   ]
  },
  {
   "cell_type": "markdown",
   "metadata": {},
   "source": [
    "feat_list1 =[]\n",
    "feat_list2 = []\n",
    "index = []\n",
    "i = 0\n",
    "y =  []\n",
    "t3 = []\n",
    "iman.ytestp\n",
    "for PATH1, PATH2 in zip(iman.xtestp[\"path1\"].values, iman.xtestp[\"path2\"].values):\n",
    "    if ((os.path.isfile(FEATURE_RT_PATH + PATH1[:-4]+\".npy\") ==True) and \n",
    "    (os.path.isfile(FEATURE_RT_PATH + PATH2[:-4]+\".npy\") == True)):\n",
    "        feat_list1.append(np.load(FEATURE_RT_PATH + PATH1[:-4]+\".npy\"))\n",
    "        feat_list2.append(np.load(FEATURE_RT_PATH + PATH2[:-4]+\".npy\"))\n",
    "        y.append(iman.ytestp[i])\n",
    "        if (PATH1[:7] == PATH2[:7]):\n",
    "            t3.append(1)\n",
    "        else:\n",
    "            t3.append(0)\n",
    "        \n",
    "    i = i + 1\n",
    "\n",
    "test_feat1 = np.vstack(feat_list1)\n",
    "test_feat2 = np.vstack(feat_list2)\n",
    "\n",
    "del feat_list1\n",
    "del feat_list2"
   ]
  },
  {
   "cell_type": "markdown",
   "metadata": {},
   "source": [
    "labels_aug = np.array(t1 + t2 + t3)"
   ]
  },
  {
   "cell_type": "markdown",
   "metadata": {},
   "source": [
    "len(labels_aug)"
   ]
  },
  {
   "cell_type": "markdown",
   "metadata": {},
   "source": [
    "labels_aug"
   ]
  },
  {
   "cell_type": "markdown",
   "metadata": {},
   "source": [
    "len(train_aug_feat1) + len(train_feat1) + len(test_feat1)"
   ]
  },
  {
   "cell_type": "markdown",
   "metadata": {},
   "source": [
    "import pandas as pd\n",
    "np.save(\"features/train_aug_feat1.npy\", train_aug_feat1)\n",
    "np.save(\"features/train_aug_feat2.npy\", train_aug_feat2)\n",
    "\n",
    "np.save(\"features/train_feat1.npy\", train_feat1)\n",
    "np.save(\"features/train_feat2.npy\", train_feat2)\n",
    "\n",
    "np.save(\"features/test_feat1.npy\", test_feat1)\n",
    "np.save(\"features/test_feat2.npy\", test_feat2)\n",
    "\n",
    "np.save(\"features/labels_aug.npy\", labels_aug)\n",
    "\n",
    "paths = iman.get_sample_image_paths()\n",
    "paths_df = pd.DataFrame(paths)\n",
    "paths_df.to_csv(\"features/image_paths.csv\")"
   ]
  },
  {
   "cell_type": "code",
   "execution_count": 1,
   "metadata": {},
   "outputs": [],
   "source": [
    "import imgaug"
   ]
  },
  {
   "cell_type": "code",
   "execution_count": null,
   "metadata": {},
   "outputs": [],
   "source": []
  }
 ],
 "metadata": {
  "kernelspec": {
   "display_name": "vision1",
   "language": "python",
   "name": "vision1"
  },
  "language_info": {
   "codemirror_mode": {
    "name": "ipython",
    "version": 3
   },
   "file_extension": ".py",
   "mimetype": "text/x-python",
   "name": "python",
   "nbconvert_exporter": "python",
   "pygments_lexer": "ipython3",
   "version": "3.7.3"
  }
 },
 "nbformat": 4,
 "nbformat_minor": 2
}
