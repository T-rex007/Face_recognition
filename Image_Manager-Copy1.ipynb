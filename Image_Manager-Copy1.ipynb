{
 "cells": [
  {
   "cell_type": "code",
   "execution_count": 59,
   "metadata": {},
   "outputs": [],
   "source": [
    "from Manager import *\n",
    "from VisionUtils import *\n",
    "tf.enable_eager_execution()"
   ]
  },
  {
   "cell_type": "code",
   "execution_count": 60,
   "metadata": {},
   "outputs": [
    {
     "name": "stderr",
     "output_type": "stream",
     "text": [
      "W0925 12:03:41.859815 23432 hdf5_format.py:221] No training configuration found in save file: the model was *not* compiled. Compile it manually.\n"
     ]
    }
   ],
   "source": [
    "IMG_RT_PATH = 'data/whole_images/'\n",
    "FEATURE_RT_PATH = \"data/processed/other_image_features/\"\n",
    "FEATURE_AUG_RT_PATH = \"data/image_aug_features/\"\n",
    "IMG_AUG_RT_PATH = 'data/images_aug/'\n",
    "\n",
    "#img_list = pd.read_csv(IMG_RT_PATH + \"test_list.TXT\")\n",
    "feature_extractor = load_model(\"Models\\FaceNet/Facenet_keras.h5\")\n",
    "face_detector = MTCNN()"
   ]
  },
  {
   "cell_type": "code",
   "execution_count": 61,
   "metadata": {},
   "outputs": [],
   "source": [
    "import os \n",
    "img_path_list = []\n",
    "folder_list = os.listdir(IMG_RT_PATH)\n",
    "for FOLDER in folder_list:\n",
    "    if '.' in FOLDER:\n",
    "        continue\n",
    "    image_list_names = os.listdir(IMG_RT_PATH + FOLDER)\n",
    "    for NAME in image_list_names:\n",
    "        img_path_list.append(FOLDER+'/'+NAME)"
   ]
  },
  {
   "cell_type": "code",
   "execution_count": 62,
   "metadata": {},
   "outputs": [],
   "source": [
    "img_list = pd.DataFrame({\"path\": img_path_list})"
   ]
  },
  {
   "cell_type": "code",
   "execution_count": 63,
   "metadata": {},
   "outputs": [],
   "source": [
    "iman = ImageManager(img_list, feature_extractor = feature_extractor,\n",
    "                    face_detector = face_detector,\n",
    "                    IMG_RTPATH= IMG_RT_PATH)"
   ]
  },
  {
   "cell_type": "code",
   "execution_count": 64,
   "metadata": {},
   "outputs": [],
   "source": [
    "iman.split(train_size = 0.75)"
   ]
  },
  {
   "cell_type": "code",
   "execution_count": 65,
   "metadata": {},
   "outputs": [
    {
     "data": {
      "text/plain": [
       "'AbdA/AbdA_00001_m_31_i_fr_nc_no_2016_2_e0_Gn_h.jpg'"
      ]
     },
     "execution_count": 65,
     "metadata": {},
     "output_type": "execute_result"
    }
   ],
   "source": [
    "img_path_list[0]"
   ]
  },
  {
   "cell_type": "code",
   "execution_count": 66,
   "metadata": {},
   "outputs": [],
   "source": [
    "input_shape = feature_extractor.input_shape[1:]"
   ]
  },
  {
   "cell_type": "code",
   "execution_count": 67,
   "metadata": {},
   "outputs": [],
   "source": [
    "def extract_feature( feature_extractor, img, bb):\n",
    "    \"\"\"\n",
    "    Extract features given img, bounding box and feature extractor\n",
    "    \"\"\"\n",
    "    insz = feature_extractor.input_shape\n",
    "    img = crop_face(img, bb)\n",
    "    img = cv2.resize(img, (160,160), interpolation = cv2.INTER_AREA)\n",
    "    img = normalize(img).reshape((1, insz[1],insz[2], insz[3]))\n",
    "    image_feature = feature_extractor.predict(img)\n",
    "    return image_feature"
   ]
  },
  {
   "cell_type": "code",
   "execution_count": 72,
   "metadata": {},
   "outputs": [
    {
     "data": {
      "text/plain": [
       "'AbdA'"
      ]
     },
     "execution_count": 72,
     "metadata": {},
     "output_type": "execute_result"
    }
   ],
   "source": [
    "img_path_list[0].split('/')[0]"
   ]
  },
  {
   "cell_type": "code",
   "execution_count": 83,
   "metadata": {},
   "outputs": [
    {
     "data": {
      "text/plain": [
       "'AbdA/AbdA_00001_m_31_i_fr_nc_no_2016_2_e0_Gn_h'"
      ]
     },
     "execution_count": 83,
     "metadata": {},
     "output_type": "execute_result"
    }
   ],
   "source": [
    "import tqdm\n",
    "img_path_list[0][:-4]"
   ]
  },
  {
   "cell_type": "code",
   "execution_count": 84,
   "metadata": {},
   "outputs": [
    {
     "name": "stderr",
     "output_type": "stream",
     "text": [
      "100%|██████████████████████████████████████████████████████████████████████████| 83152/83152 [1:55:42<00:00,  4.56it/s]\n"
     ]
    }
   ],
   "source": [
    "for IMG_PATH in tqdm.tqdm(img_path_list):\n",
    "    if (os.path.isfile(IMG_RT_PATH + IMG_PATH)):\n",
    "        if '._' in IMG_PATH:\n",
    "            continue\n",
    "        img = cv2.imread(IMG_RT_PATH + IMG_PATH)\n",
    "    else: \n",
    "        continue\n",
    "    img = cv2.cvtColor(img, cv2.COLOR_BGR2RGB)\n",
    "    bb = detect_faces(img, face_detector)\n",
    "    if(len(bb) != 1):\n",
    "        continue\n",
    "    feature = extract_feature(feature_extractor, img, bb[0])\n",
    "    if(os.path.isdir(FEATURE_RT_PATH + IMG_PATH.split('/')[0])):\n",
    "        np.save( FEATURE_RT_PATH + IMG_PATH[:-4]+ \".npy\", feature)\n",
    "    else:\n",
    "        os.mkdir(FEATURE_RT_PATH + IMG_PATH.split('/')[0])\n",
    "        np.save( FEATURE_RT_PATH + IMG_PATH[:-4] + \".npy\", feature)\n",
    "    \n",
    "        \n",
    "        "
   ]
  },
  {
   "cell_type": "code",
   "execution_count": 79,
   "metadata": {},
   "outputs": [],
   "source": [
    "img = cv2.imread(IMG_RT_PATH + IMG_PATH)"
   ]
  },
  {
   "cell_type": "code",
   "execution_count": 82,
   "metadata": {},
   "outputs": [
    {
     "data": {
      "text/plain": [
       "'data/whole_images/'"
      ]
     },
     "execution_count": 82,
     "metadata": {},
     "output_type": "execute_result"
    }
   ],
   "source": [
    "IMG_RT_PATH "
   ]
  },
  {
   "cell_type": "code",
   "execution_count": null,
   "metadata": {},
   "outputs": [],
   "source": []
  }
 ],
 "metadata": {
  "kernelspec": {
   "display_name": "vision1",
   "language": "python",
   "name": "vision1"
  },
  "language_info": {
   "codemirror_mode": {
    "name": "ipython",
    "version": 3
   },
   "file_extension": ".py",
   "mimetype": "text/x-python",
   "name": "python",
   "nbconvert_exporter": "python",
   "pygments_lexer": "ipython3",
   "version": "3.7.3"
  }
 },
 "nbformat": 4,
 "nbformat_minor": 2
}
