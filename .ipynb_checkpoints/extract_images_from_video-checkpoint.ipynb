{
 "cells": [
  {
   "cell_type": "code",
   "execution_count": 5,
   "metadata": {},
   "outputs": [],
   "source": [
    "from VisionUtils import *\n",
    "from Manager import *\n",
    "import tensorflow as tf"
   ]
  },
  {
   "cell_type": "code",
   "execution_count": 8,
   "metadata": {},
   "outputs": [],
   "source": [
    "IMG_RT_PATH = 'data/images/'\n",
    "FEATURE_RT_PATH = \"data/processed/image_features/\"\n",
    "FEATURE_AUG_RT_PATH = \"data/image_aug_features/\"\n",
    "IMG_AUG_RT_PATH = 'data/images_aug/'"
   ]
  },
  {
   "cell_type": "code",
   "execution_count": 13,
   "metadata": {},
   "outputs": [
    {
     "name": "stdout",
     "output_type": "stream",
     "text": [
      "WARNING:tensorflow:From c:\\users\\user\\anaconda3\\envs\\tf_gpu\\lib\\site-packages\\tensorflow\\python\\ops\\resource_variable_ops.py:435: colocate_with (from tensorflow.python.framework.ops) is deprecated and will be removed in a future version.\n",
      "Instructions for updating:\n",
      "Colocations handled automatically by placer.\n",
      "WARNING:tensorflow:From c:\\users\\user\\anaconda3\\envs\\tf_gpu\\lib\\site-packages\\tensorflow\\python\\keras\\layers\\core.py:143: calling dropout (from tensorflow.python.ops.nn_ops) with keep_prob is deprecated and will be removed in a future version.\n",
      "Instructions for updating:\n",
      "Please use `rate` instead of `keep_prob`. Rate should be set to `rate = 1 - keep_prob`.\n",
      "WARNING:tensorflow:No training configuration found in save file: the model was *not* compiled. Compile it manually.\n",
      "WARNING:tensorflow:From c:\\users\\user\\anaconda3\\envs\\tf_gpu\\lib\\site-packages\\mtcnn\\layer_factory.py:221: div (from tensorflow.python.ops.math_ops) is deprecated and will be removed in a future version.\n",
      "Instructions for updating:\n",
      "Deprecated in favor of operator or tf.math.divide.\n"
     ]
    }
   ],
   "source": [
    "feature_extractor = load_model(\"Models\\FaceNet/Facenet_keras.h5\")\n",
    "face_detector = MTCNN()"
   ]
  },
  {
   "cell_type": "code",
   "execution_count": 14,
   "metadata": {},
   "outputs": [],
   "source": [
    "import os \n",
    "img_path_list = []\n",
    "folder_list = os.listdir(IMG_RT_PATH)\n",
    "for FOLDER in folder_list:\n",
    "    image_list_names = os.listdir(IMG_RT_PATH + FOLDER)\n",
    "    for NAME in image_list_names:\n",
    "        img_path_list.append(FOLDER+'/'+NAME)\n"
   ]
  },
  {
   "cell_type": "code",
   "execution_count": 17,
   "metadata": {},
   "outputs": [],
   "source": [
    "feat_path_list = []\n",
    "folder_list = os.listdir(FEATURE_RT_PATH)\n",
    "for FOLDER in folder_list:\n",
    "    image_list_names = os.listdir(FEATURE_RT_PATH + FOLDER)\n",
    "    for NAME in image_list_names:\n",
    "        feat_path_list.append(FOLDER+'/'+NAME)"
   ]
  },
  {
   "cell_type": "code",
   "execution_count": 20,
   "metadata": {},
   "outputs": [
    {
     "data": {
      "text/plain": [
       "110387"
      ]
     },
     "execution_count": 20,
     "metadata": {},
     "output_type": "execute_result"
    }
   ],
   "source": []
  },
  {
   "cell_type": "code",
   "execution_count": 22,
   "metadata": {},
   "outputs": [],
   "source": [
    "feat_list = pd.DataFrame({\"path\": img_path_list})\n",
    "img_list = pd.DataFrame({\"path\": img_path_list})"
   ]
  },
  {
   "cell_type": "code",
   "execution_count": 27,
   "metadata": {},
   "outputs": [],
   "source": [
    "\n",
    "idty = []\n",
    "for i in feat_path_list:\n",
    "    idty.append(i.split(\"/\"))\n",
    "df = pd.DataFrame(idty)\n",
    "c = df[0].values ### The class of each image\n",
    "classes = list(df[0].unique()) ### different class in dset\n",
    "min_class_count = min(df[0].value_counts())\n",
    "### class to index mapping\n",
    "classmap = {}\n",
    "for i in classes:\n",
    "    classmap[i] = np.where(c == i)"
   ]
  },
  {
   "cell_type": "code",
   "execution_count": 32,
   "metadata": {},
   "outputs": [
    {
     "data": {
      "text/plain": [
       "321"
      ]
     },
     "execution_count": 32,
     "metadata": {},
     "output_type": "execute_result"
    }
   ],
   "source": [
    "print(\"The number of people in data set is  %d\".format(len(classmap.keys()) )"
   ]
  },
  {
   "cell_type": "code",
   "execution_count": 16,
   "metadata": {},
   "outputs": [],
   "source": [
    "iman = ImageManager(img_list, feature_extractor = feature_extractor,\n",
    "                    face_detector = face_detector,\n",
    "                    IMG_RTPATH= IMG_RT_PATH)"
   ]
  },
  {
   "cell_type": "code",
   "execution_count": null,
   "metadata": {},
   "outputs": [],
   "source": []
  }
 ],
 "metadata": {
  "kernelspec": {
   "display_name": "tf_gpu",
   "language": "python",
   "name": "tf_gpu"
  },
  "language_info": {
   "codemirror_mode": {
    "name": "ipython",
    "version": 3
   },
   "file_extension": ".py",
   "mimetype": "text/x-python",
   "name": "python",
   "nbconvert_exporter": "python",
   "pygments_lexer": "ipython3",
   "version": "3.7.3"
  }
 },
 "nbformat": 4,
 "nbformat_minor": 2
}
