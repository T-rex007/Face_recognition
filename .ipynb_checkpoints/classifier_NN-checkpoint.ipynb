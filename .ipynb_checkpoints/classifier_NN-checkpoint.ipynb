{
 "cells": [
  {
   "cell_type": "code",
   "execution_count": 4,
   "metadata": {},
   "outputs": [],
   "source": [
    "from sklearn.model_selection import train_test_split\n",
    "from sklearn.svm import SVC, LinearSVC\n",
    "from sklearn.linear_model import SGDClassifier\n",
    "from sklearn.tree import DecisionTreeClassifier\n",
    "import tensorflow as tf\n",
    "from utils import *\n",
    "import numpy as np"
   ]
  },
  {
   "cell_type": "code",
   "execution_count": 87,
   "metadata": {},
   "outputs": [],
   "source": [
    "feat1 = np.load(\"features/feat1.npy\")\n",
    "feat2 = np.load(\"features/feat2.npy\")\n",
    "labels = np.load(\"features/labels.npy\")\n",
    "feat3 = np.load(\"features/feat3.npy\")\n",
    "feat4 = np.load(\"features/feat4.npy\")\n",
    "labels34 = np.load(\"features/labels34.npy\")"
   ]
  },
  {
   "cell_type": "code",
   "execution_count": 94,
   "metadata": {},
   "outputs": [],
   "source": [
    "d = np.power(np.abs(feat1-feat2), 2)\n",
    "xtrain, xtest, ytrain, ytest = train_test_split(d, labels, shuffle = True, random_state = 42)"
   ]
  },
  {
   "cell_type": "code",
   "execution_count": 154,
   "metadata": {},
   "outputs": [],
   "source": [
    "d1 = np.power(np.abs(feat3-feat2), 2)\n",
    "xtrain, xtest, ytrain, ytest = train_test_split(d1, labels34, shuffle = True, \n",
    "                                                random_state = 42)\n",
    "#xtrain = xtrain.reshape((xtrain.shape[0], xtrain.shape[1], 1 ))\n",
    "#xtest = xtest.reshape((xtest.shape[0], xtest.shape[1], 1 ))"
   ]
  },
  {
   "cell_type": "code",
   "execution_count": 160,
   "metadata": {},
   "outputs": [],
   "source": [
    "def feat_distance_cosine_scalar(feat1, feat2):\n",
    "    similarity = np.dot(feat1 , feat2) / (np.linalg.norm(feat1) * np.linalg.norm(feat2))\n",
    "    return similarity"
   ]
  },
  {
   "cell_type": "code",
   "execution_count": 164,
   "metadata": {},
   "outputs": [],
   "source": [
    "from sklearn.metrics.pairwise import cosine_similarity"
   ]
  },
  {
   "cell_type": "code",
   "execution_count": null,
   "metadata": {},
   "outputs": [],
   "source": [
    "sim = cosine_similarity(feat1, feat2)"
   ]
  },
  {
   "cell_type": "code",
   "execution_count": null,
   "metadata": {},
   "outputs": [],
   "source": []
  },
  {
   "cell_type": "code",
   "execution_count": 150,
   "metadata": {},
   "outputs": [
    {
     "data": {
      "text/plain": [
       "(37500, 128, 1)"
      ]
     },
     "execution_count": 150,
     "metadata": {},
     "output_type": "execute_result"
    }
   ],
   "source": [
    "xtrain.shape"
   ]
  },
  {
   "cell_type": "code",
   "execution_count": null,
   "metadata": {},
   "outputs": [],
   "source": []
  },
  {
   "cell_type": "code",
   "execution_count": 30,
   "metadata": {},
   "outputs": [
    {
     "data": {
      "text/plain": [
       "(12500,)"
      ]
     },
     "execution_count": 30,
     "metadata": {},
     "output_type": "execute_result"
    }
   ],
   "source": [
    "ytest.shape"
   ]
  },
  {
   "cell_type": "code",
   "execution_count": 8,
   "metadata": {},
   "outputs": [
    {
     "data": {
      "text/plain": [
       "(37500,)"
      ]
     },
     "execution_count": 8,
     "metadata": {},
     "output_type": "execute_result"
    }
   ],
   "source": [
    "ytrain.shape"
   ]
  },
  {
   "cell_type": "code",
   "execution_count": 9,
   "metadata": {},
   "outputs": [],
   "source": [
    "from tensorflow.keras.utils import to_categorical\n",
    "ytr = to_categorical(ytrain)\n",
    "yt = to_categorical(ytest)"
   ]
  },
  {
   "cell_type": "code",
   "execution_count": 90,
   "metadata": {},
   "outputs": [],
   "source": [
    "tf.enable_eager_execution()"
   ]
  },
  {
   "cell_type": "code",
   "execution_count": 155,
   "metadata": {},
   "outputs": [],
   "source": [
    "from tensorflow.keras.models import Sequential\n",
    "from tensorflow.keras.layers import Dense \n",
    "from tensorflow.keras.regularizers import l1, l2\n",
    "he_init = tf.keras.initializers.VarianceScaling()\n",
    "\n",
    "model = Sequential()\n",
    "model.add(Dense(50, activation = 'elu', kernel_initializer = he_init, \n",
    "                kernel_regularizer = l1(0.0001), \n",
    "                #input_shape = (1,128)\n",
    "               ))\n",
    "model.add(Dense(10, activation = 'elu',kernel_initializer = he_init))\n",
    "model.add(Dense(1, activation = \"sigmoid\", kernel_initializer = he_init))"
   ]
  },
  {
   "cell_type": "code",
   "execution_count": 156,
   "metadata": {},
   "outputs": [],
   "source": [
    "from tensorflow.keras.callbacks import ModelCheckpoint, ReduceLROnPlateau\n",
    "mcp = ModelCheckpoint(\"models_chpt/best_modelD.hdf5\",verbose = 1, \n",
    "                      monitor = \"val_loss\", save_best_only = True, save_weights_only = True)\n",
    "red_lr = tf.keras.callbacks.ReduceLROnPlateau(monitor='val_loss', factor =0.5)\n",
    "opt = tf.keras.optimizers.Adam(0.001)\n",
    "model.compile(optimizer = opt, loss = \"binary_crossentropy\", \n",
    "              metrics = [\"accuracy\"] )"
   ]
  },
  {
   "cell_type": "code",
   "execution_count": 158,
   "metadata": {
    "scrolled": true
   },
   "outputs": [
    {
     "name": "stdout",
     "output_type": "stream",
     "text": [
      "Train on 37500 samples, validate on 12500 samples\n",
      "Epoch 1/100\n",
      "37400/37500 [============================>.] - ETA: 0s - loss: 0.3060 - acc: 0.8889\n",
      "Epoch 00001: val_loss did not improve from 0.43267\n",
      "37500/37500 [==============================] - 2s 46us/sample - loss: 0.3061 - acc: 0.8889 - val_loss: 0.5310 - val_acc: 0.7932\n",
      "Epoch 2/100\n",
      "35900/37500 [===========================>..] - ETA: 0s - loss: 0.3063 - acc: 0.8885\n",
      "Epoch 00002: val_loss did not improve from 0.43267\n",
      "37500/37500 [==============================] - 1s 36us/sample - loss: 0.3061 - acc: 0.8887 - val_loss: 0.5310 - val_acc: 0.7933\n",
      "Epoch 3/100\n",
      "36200/37500 [===========================>..] - ETA: 0s - loss: 0.3068 - acc: 0.8883\n",
      "Epoch 00003: val_loss did not improve from 0.43267\n",
      "37500/37500 [==============================] - 1s 37us/sample - loss: 0.3061 - acc: 0.8886 - val_loss: 0.5310 - val_acc: 0.7932\n",
      "Epoch 4/100\n",
      "37200/37500 [============================>.] - ETA: 0s - loss: 0.3062 - acc: 0.8883\n",
      "Epoch 00004: val_loss did not improve from 0.43267\n",
      "37500/37500 [==============================] - 1s 34us/sample - loss: 0.3061 - acc: 0.8884 - val_loss: 0.5311 - val_acc: 0.7930\n",
      "Epoch 5/100\n",
      "36200/37500 [===========================>..] - ETA: 0s - loss: 0.3059 - acc: 0.8890\n",
      "Epoch 00005: val_loss did not improve from 0.43267\n",
      "37500/37500 [==============================] - 1s 35us/sample - loss: 0.3061 - acc: 0.8886 - val_loss: 0.5311 - val_acc: 0.7929\n",
      "Epoch 6/100\n",
      "36600/37500 [============================>.] - ETA: 0s - loss: 0.3061 - acc: 0.8886\n",
      "Epoch 00006: val_loss did not improve from 0.43267\n",
      "37500/37500 [==============================] - 1s 36us/sample - loss: 0.3061 - acc: 0.8885 - val_loss: 0.5311 - val_acc: 0.7930\n",
      "Epoch 7/100\n",
      "37400/37500 [============================>.] - ETA: 0s - loss: 0.3061 - acc: 0.8887\n",
      "Epoch 00007: val_loss did not improve from 0.43267\n",
      "37500/37500 [==============================] - 1s 36us/sample - loss: 0.3061 - acc: 0.8887 - val_loss: 0.5311 - val_acc: 0.7932\n",
      "Epoch 8/100\n",
      "36300/37500 [============================>.] - ETA: 0s - loss: 0.3056 - acc: 0.8887\n",
      "Epoch 00008: val_loss did not improve from 0.43267\n",
      "37500/37500 [==============================] - 1s 35us/sample - loss: 0.3061 - acc: 0.8886 - val_loss: 0.5311 - val_acc: 0.7931\n",
      "Epoch 9/100\n",
      "36600/37500 [============================>.] - ETA: 0s - loss: 0.3064 - acc: 0.8881\n",
      "Epoch 00009: val_loss did not improve from 0.43267\n",
      "37500/37500 [==============================] - 1s 37us/sample - loss: 0.3061 - acc: 0.8885 - val_loss: 0.5311 - val_acc: 0.7930\n",
      "Epoch 10/100\n",
      "36800/37500 [============================>.] - ETA: 0s - loss: 0.3067 - acc: 0.8885\n",
      "Epoch 00010: val_loss did not improve from 0.43267\n",
      "37500/37500 [==============================] - 1s 36us/sample - loss: 0.3061 - acc: 0.8887 - val_loss: 0.5312 - val_acc: 0.7933\n",
      "Epoch 11/100\n",
      "36000/37500 [===========================>..] - ETA: 0s - loss: 0.3067 - acc: 0.8884\n",
      "Epoch 00011: val_loss did not improve from 0.43267\n",
      "37500/37500 [==============================] - 1s 37us/sample - loss: 0.3061 - acc: 0.8886 - val_loss: 0.5312 - val_acc: 0.7930\n",
      "Epoch 12/100\n",
      "37000/37500 [============================>.] - ETA: 0s - loss: 0.3058 - acc: 0.8888\n",
      "Epoch 00012: val_loss did not improve from 0.43267\n",
      "37500/37500 [==============================] - 1s 36us/sample - loss: 0.3060 - acc: 0.8885 - val_loss: 0.5312 - val_acc: 0.7932\n",
      "Epoch 13/100\n",
      "37300/37500 [============================>.] - ETA: 0s - loss: 0.3055 - acc: 0.8889\n",
      "Epoch 00013: val_loss did not improve from 0.43267\n",
      "37500/37500 [==============================] - 1s 35us/sample - loss: 0.3060 - acc: 0.8887 - val_loss: 0.5312 - val_acc: 0.7930\n",
      "Epoch 14/100\n",
      "37000/37500 [============================>.] - ETA: 0s - loss: 0.3060 - acc: 0.8885\n",
      "Epoch 00014: val_loss did not improve from 0.43267\n",
      "37500/37500 [==============================] - 1s 36us/sample - loss: 0.3060 - acc: 0.8886 - val_loss: 0.5312 - val_acc: 0.7930\n",
      "Epoch 15/100\n",
      "36700/37500 [============================>.] - ETA: 0s - loss: 0.3062 - acc: 0.8884\n",
      "Epoch 00015: val_loss did not improve from 0.43267\n",
      "37500/37500 [==============================] - 1s 36us/sample - loss: 0.3060 - acc: 0.8886 - val_loss: 0.5312 - val_acc: 0.7930\n",
      "Epoch 16/100\n",
      "36900/37500 [============================>.] - ETA: 0s - loss: 0.3060 - acc: 0.8886\n",
      "Epoch 00016: val_loss did not improve from 0.43267\n",
      "37500/37500 [==============================] - 1s 37us/sample - loss: 0.3060 - acc: 0.8886 - val_loss: 0.5312 - val_acc: 0.7932\n",
      "Epoch 17/100\n",
      "37000/37500 [============================>.] - ETA: 0s - loss: 0.3056 - acc: 0.8891\n",
      "Epoch 00017: val_loss did not improve from 0.43267\n",
      "37500/37500 [==============================] - 1s 36us/sample - loss: 0.3060 - acc: 0.8888 - val_loss: 0.5312 - val_acc: 0.7930\n",
      "Epoch 18/100\n",
      "36200/37500 [===========================>..] - ETA: 0s - loss: 0.3064 - acc: 0.8885\n",
      "Epoch 00018: val_loss did not improve from 0.43267\n",
      "37500/37500 [==============================] - 1s 37us/sample - loss: 0.3060 - acc: 0.8886 - val_loss: 0.5313 - val_acc: 0.7930\n",
      "Epoch 19/100\n",
      "36800/37500 [============================>.] - ETA: 0s - loss: 0.3058 - acc: 0.8888\n",
      "Epoch 00019: val_loss did not improve from 0.43267\n",
      "37500/37500 [==============================] - 1s 36us/sample - loss: 0.3060 - acc: 0.8887 - val_loss: 0.5313 - val_acc: 0.7930\n",
      "Epoch 20/100\n",
      "36200/37500 [===========================>..] - ETA: 0s - loss: 0.3064 - acc: 0.8882\n",
      "Epoch 00020: val_loss did not improve from 0.43267\n",
      "37500/37500 [==============================] - 1s 37us/sample - loss: 0.3060 - acc: 0.8886 - val_loss: 0.5313 - val_acc: 0.7930\n",
      "Epoch 21/100\n",
      "36100/37500 [===========================>..] - ETA: 0s - loss: 0.3054 - acc: 0.8886\n",
      "Epoch 00021: val_loss did not improve from 0.43267\n",
      "37500/37500 [==============================] - 1s 37us/sample - loss: 0.3060 - acc: 0.8884 - val_loss: 0.5313 - val_acc: 0.7932\n",
      "Epoch 22/100\n",
      "35900/37500 [===========================>..] - ETA: 0s - loss: 0.3058 - acc: 0.8885\n",
      "Epoch 00022: val_loss did not improve from 0.43267\n",
      "37500/37500 [==============================] - 1s 37us/sample - loss: 0.3060 - acc: 0.8887 - val_loss: 0.5313 - val_acc: 0.7932\n",
      "Epoch 23/100\n",
      "35900/37500 [===========================>..] - ETA: 0s - loss: 0.3052 - acc: 0.8892\n",
      "Epoch 00023: val_loss did not improve from 0.43267\n",
      "37500/37500 [==============================] - 1s 37us/sample - loss: 0.3059 - acc: 0.8888 - val_loss: 0.5313 - val_acc: 0.7932\n",
      "Epoch 24/100\n",
      "37400/37500 [============================>.] - ETA: 0s - loss: 0.3063 - acc: 0.8886\n",
      "Epoch 00024: val_loss did not improve from 0.43267\n",
      "37500/37500 [==============================] - 1s 37us/sample - loss: 0.3059 - acc: 0.8888 - val_loss: 0.5313 - val_acc: 0.7930\n",
      "Epoch 25/100\n",
      "36100/37500 [===========================>..] - ETA: 0s - loss: 0.3055 - acc: 0.8893\n",
      "Epoch 00025: val_loss did not improve from 0.43267\n",
      "37500/37500 [==============================] - 1s 36us/sample - loss: 0.3059 - acc: 0.8888 - val_loss: 0.5313 - val_acc: 0.7930\n",
      "Epoch 26/100\n",
      "36300/37500 [============================>.] - ETA: 0s - loss: 0.3055 - acc: 0.8890\n",
      "Epoch 00026: val_loss did not improve from 0.43267\n",
      "37500/37500 [==============================] - 1s 37us/sample - loss: 0.3059 - acc: 0.8888 - val_loss: 0.5313 - val_acc: 0.7930\n",
      "Epoch 27/100\n",
      "36900/37500 [============================>.] - ETA: 0s - loss: 0.3060 - acc: 0.8885\n",
      "Epoch 00027: val_loss did not improve from 0.43267\n",
      "37500/37500 [==============================] - 1s 37us/sample - loss: 0.3059 - acc: 0.8886 - val_loss: 0.5313 - val_acc: 0.7930\n",
      "Epoch 28/100\n",
      "36200/37500 [===========================>..] - ETA: 0s - loss: 0.3060 - acc: 0.8887\n",
      "Epoch 00028: val_loss did not improve from 0.43267\n",
      "37500/37500 [==============================] - 1s 36us/sample - loss: 0.3059 - acc: 0.8886 - val_loss: 0.5313 - val_acc: 0.7930\n",
      "Epoch 29/100\n",
      "36300/37500 [============================>.] - ETA: 0s - loss: 0.3059 - acc: 0.8887\n",
      "Epoch 00029: val_loss did not improve from 0.43267\n",
      "37500/37500 [==============================] - 1s 36us/sample - loss: 0.3059 - acc: 0.8886 - val_loss: 0.5313 - val_acc: 0.7930\n",
      "Epoch 30/100\n",
      "37200/37500 [============================>.] - ETA: 0s - loss: 0.3060 - acc: 0.8887\n",
      "Epoch 00030: val_loss did not improve from 0.43267\n",
      "37500/37500 [==============================] - 1s 36us/sample - loss: 0.3059 - acc: 0.8887 - val_loss: 0.5313 - val_acc: 0.7930\n"
     ]
    },
    {
     "name": "stdout",
     "output_type": "stream",
     "text": [
      "Epoch 31/100\n",
      "36600/37500 [============================>.] - ETA: 0s - loss: 0.3057 - acc: 0.8890\n",
      "Epoch 00031: val_loss did not improve from 0.43267\n",
      "37500/37500 [==============================] - 1s 36us/sample - loss: 0.3059 - acc: 0.8887 - val_loss: 0.5313 - val_acc: 0.7930\n",
      "Epoch 32/100\n",
      "36700/37500 [============================>.] - ETA: 0s - loss: 0.3058 - acc: 0.8887\n",
      "Epoch 00032: val_loss did not improve from 0.43267\n",
      "37500/37500 [==============================] - 1s 38us/sample - loss: 0.3059 - acc: 0.8887 - val_loss: 0.5313 - val_acc: 0.7930\n",
      "Epoch 33/100\n",
      "36300/37500 [============================>.] - ETA: 0s - loss: 0.3053 - acc: 0.8889\n",
      "Epoch 00033: val_loss did not improve from 0.43267\n",
      "37500/37500 [==============================] - 1s 37us/sample - loss: 0.3059 - acc: 0.8888 - val_loss: 0.5313 - val_acc: 0.7930\n",
      "Epoch 34/100\n",
      "37200/37500 [============================>.] - ETA: 0s - loss: 0.3059 - acc: 0.8887\n",
      "Epoch 00034: val_loss did not improve from 0.43267\n",
      "37500/37500 [==============================] - 1s 36us/sample - loss: 0.3059 - acc: 0.8888 - val_loss: 0.5313 - val_acc: 0.7930\n",
      "Epoch 35/100\n",
      "37100/37500 [============================>.] - ETA: 0s - loss: 0.3060 - acc: 0.8885\n",
      "Epoch 00035: val_loss did not improve from 0.43267\n",
      "37500/37500 [==============================] - 1s 38us/sample - loss: 0.3059 - acc: 0.8886 - val_loss: 0.5313 - val_acc: 0.7930\n",
      "Epoch 36/100\n",
      "37100/37500 [============================>.] - ETA: 0s - loss: 0.3060 - acc: 0.8888\n",
      "Epoch 00036: val_loss did not improve from 0.43267\n",
      "37500/37500 [==============================] - 1s 38us/sample - loss: 0.3059 - acc: 0.8887 - val_loss: 0.5313 - val_acc: 0.7930\n",
      "Epoch 37/100\n",
      "36000/37500 [===========================>..] - ETA: 0s - loss: 0.3058 - acc: 0.8886\n",
      "Epoch 00037: val_loss did not improve from 0.43267\n",
      "37500/37500 [==============================] - 1s 36us/sample - loss: 0.3059 - acc: 0.8887 - val_loss: 0.5314 - val_acc: 0.7930\n",
      "Epoch 38/100\n",
      "35900/37500 [===========================>..] - ETA: 0s - loss: 0.3066 - acc: 0.8884\n",
      "Epoch 00038: val_loss did not improve from 0.43267\n",
      "37500/37500 [==============================] - 1s 37us/sample - loss: 0.3059 - acc: 0.8887 - val_loss: 0.5314 - val_acc: 0.7930\n",
      "Epoch 39/100\n",
      "37400/37500 [============================>.] - ETA: 0s - loss: 0.3060 - acc: 0.8887\n",
      "Epoch 00039: val_loss did not improve from 0.43267\n",
      "37500/37500 [==============================] - 1s 37us/sample - loss: 0.3059 - acc: 0.8887 - val_loss: 0.5314 - val_acc: 0.7930\n",
      "Epoch 40/100\n",
      "36800/37500 [============================>.] - ETA: 0s - loss: 0.3060 - acc: 0.8887\n",
      "Epoch 00040: val_loss did not improve from 0.43267\n",
      "37500/37500 [==============================] - 1s 37us/sample - loss: 0.3059 - acc: 0.8888 - val_loss: 0.5314 - val_acc: 0.7930\n",
      "Epoch 41/100\n",
      "36100/37500 [===========================>..] - ETA: 0s - loss: 0.3066 - acc: 0.8883\n",
      "Epoch 00041: val_loss did not improve from 0.43267\n",
      "37500/37500 [==============================] - 1s 37us/sample - loss: 0.3059 - acc: 0.8887 - val_loss: 0.5314 - val_acc: 0.7930\n",
      "Epoch 42/100\n",
      "36900/37500 [============================>.] - ETA: 0s - loss: 0.3058 - acc: 0.8888\n",
      "Epoch 00042: val_loss did not improve from 0.43267\n",
      "37500/37500 [==============================] - 1s 36us/sample - loss: 0.3059 - acc: 0.8887 - val_loss: 0.5314 - val_acc: 0.7930\n",
      "Epoch 43/100\n",
      "36000/37500 [===========================>..] - ETA: 0s - loss: 0.3059 - acc: 0.8888\n",
      "Epoch 00043: val_loss did not improve from 0.43267\n",
      "37500/37500 [==============================] - 1s 37us/sample - loss: 0.3059 - acc: 0.8887 - val_loss: 0.5314 - val_acc: 0.7930\n",
      "Epoch 44/100\n",
      "37000/37500 [============================>.] - ETA: 0s - loss: 0.3061 - acc: 0.8887\n",
      "Epoch 00044: val_loss did not improve from 0.43267\n",
      "37500/37500 [==============================] - 1s 37us/sample - loss: 0.3059 - acc: 0.8887 - val_loss: 0.5314 - val_acc: 0.7930\n",
      "Epoch 45/100\n",
      "35700/37500 [===========================>..] - ETA: 0s - loss: 0.3066 - acc: 0.8887\n",
      "Epoch 00045: val_loss did not improve from 0.43267\n",
      "37500/37500 [==============================] - 1s 35us/sample - loss: 0.3059 - acc: 0.8887 - val_loss: 0.5314 - val_acc: 0.7930\n",
      "Epoch 46/100\n",
      "36100/37500 [===========================>..] - ETA: 0s - loss: 0.3062 - acc: 0.8888\n",
      "Epoch 00046: val_loss did not improve from 0.43267\n",
      "37500/37500 [==============================] - 1s 37us/sample - loss: 0.3059 - acc: 0.8887 - val_loss: 0.5314 - val_acc: 0.7930\n",
      "Epoch 47/100\n",
      "36900/37500 [============================>.] - ETA: 0s - loss: 0.3055 - acc: 0.8890\n",
      "Epoch 00047: val_loss did not improve from 0.43267\n",
      "37500/37500 [==============================] - 1s 36us/sample - loss: 0.3059 - acc: 0.8887 - val_loss: 0.5314 - val_acc: 0.7930\n",
      "Epoch 48/100\n",
      "36100/37500 [===========================>..] - ETA: 0s - loss: 0.3052 - acc: 0.8890\n",
      "Epoch 00048: val_loss did not improve from 0.43267\n",
      "37500/37500 [==============================] - 1s 37us/sample - loss: 0.3059 - acc: 0.8887 - val_loss: 0.5314 - val_acc: 0.7930\n",
      "Epoch 49/100\n",
      "36700/37500 [============================>.] - ETA: 0s - loss: 0.3068 - acc: 0.8884\n",
      "Epoch 00049: val_loss did not improve from 0.43267\n",
      "37500/37500 [==============================] - 1s 35us/sample - loss: 0.3059 - acc: 0.8888 - val_loss: 0.5314 - val_acc: 0.7930\n",
      "Epoch 50/100\n",
      "37000/37500 [============================>.] - ETA: 0s - loss: 0.3061 - acc: 0.8889\n",
      "Epoch 00050: val_loss did not improve from 0.43267\n",
      "37500/37500 [==============================] - 1s 37us/sample - loss: 0.3059 - acc: 0.8887 - val_loss: 0.5314 - val_acc: 0.7930\n",
      "Epoch 51/100\n",
      "37200/37500 [============================>.] - ETA: 0s - loss: 0.3061 - acc: 0.8886\n",
      "Epoch 00051: val_loss did not improve from 0.43267\n",
      "37500/37500 [==============================] - 1s 37us/sample - loss: 0.3059 - acc: 0.8887 - val_loss: 0.5314 - val_acc: 0.7930\n",
      "Epoch 52/100\n",
      "36600/37500 [============================>.] - ETA: 0s - loss: 0.3057 - acc: 0.8889\n",
      "Epoch 00052: val_loss did not improve from 0.43267\n",
      "37500/37500 [==============================] - 1s 38us/sample - loss: 0.3059 - acc: 0.8887 - val_loss: 0.5314 - val_acc: 0.7930\n",
      "Epoch 53/100\n",
      "36600/37500 [============================>.] - ETA: 0s - loss: 0.3049 - acc: 0.8892\n",
      "Epoch 00053: val_loss did not improve from 0.43267\n",
      "37500/37500 [==============================] - 1s 37us/sample - loss: 0.3059 - acc: 0.8887 - val_loss: 0.5314 - val_acc: 0.7930\n",
      "Epoch 54/100\n",
      "36400/37500 [============================>.] - ETA: 0s - loss: 0.3060 - acc: 0.8887\n",
      "Epoch 00054: val_loss did not improve from 0.43267\n",
      "37500/37500 [==============================] - 1s 35us/sample - loss: 0.3059 - acc: 0.8887 - val_loss: 0.5314 - val_acc: 0.7930\n",
      "Epoch 55/100\n",
      "37400/37500 [============================>.] - ETA: 0s - loss: 0.3058 - acc: 0.8887\n",
      "Epoch 00055: val_loss did not improve from 0.43267\n",
      "37500/37500 [==============================] - 1s 36us/sample - loss: 0.3059 - acc: 0.8887 - val_loss: 0.5314 - val_acc: 0.7930\n",
      "Epoch 56/100\n",
      "37400/37500 [============================>.] - ETA: 0s - loss: 0.3059 - acc: 0.8888\n",
      "Epoch 00056: val_loss did not improve from 0.43267\n",
      "37500/37500 [==============================] - 1s 36us/sample - loss: 0.3059 - acc: 0.8887 - val_loss: 0.5314 - val_acc: 0.7930\n",
      "Epoch 57/100\n",
      "36500/37500 [============================>.] - ETA: 0s - loss: 0.3061 - acc: 0.8888\n",
      "Epoch 00057: val_loss did not improve from 0.43267\n",
      "37500/37500 [==============================] - 1s 36us/sample - loss: 0.3059 - acc: 0.8887 - val_loss: 0.5314 - val_acc: 0.7930\n",
      "Epoch 58/100\n",
      "37400/37500 [============================>.] - ETA: 0s - loss: 0.3057 - acc: 0.8888\n",
      "Epoch 00058: val_loss did not improve from 0.43267\n",
      "37500/37500 [==============================] - 1s 37us/sample - loss: 0.3059 - acc: 0.8887 - val_loss: 0.5314 - val_acc: 0.7930\n",
      "Epoch 59/100\n",
      "37000/37500 [============================>.] - ETA: 0s - loss: 0.3058 - acc: 0.8887\n",
      "Epoch 00059: val_loss did not improve from 0.43267\n",
      "37500/37500 [==============================] - 1s 36us/sample - loss: 0.3059 - acc: 0.8887 - val_loss: 0.5314 - val_acc: 0.7930\n",
      "Epoch 60/100\n",
      "36700/37500 [============================>.] - ETA: 0s - loss: 0.3056 - acc: 0.8887\n",
      "Epoch 00060: val_loss did not improve from 0.43267\n",
      "37500/37500 [==============================] - 1s 36us/sample - loss: 0.3059 - acc: 0.8887 - val_loss: 0.5314 - val_acc: 0.7930\n"
     ]
    },
    {
     "name": "stdout",
     "output_type": "stream",
     "text": [
      "Epoch 61/100\n",
      "35500/37500 [===========================>..] - ETA: 0s - loss: 0.3054 - acc: 0.8892\n",
      "Epoch 00061: val_loss did not improve from 0.43267\n",
      "37500/37500 [==============================] - 1s 34us/sample - loss: 0.3059 - acc: 0.8887 - val_loss: 0.5314 - val_acc: 0.7930\n",
      "Epoch 62/100\n",
      "35500/37500 [===========================>..] - ETA: 0s - loss: 0.3058 - acc: 0.8885\n",
      "Epoch 00062: val_loss did not improve from 0.43267\n",
      "37500/37500 [==============================] - 1s 37us/sample - loss: 0.3059 - acc: 0.8887 - val_loss: 0.5314 - val_acc: 0.7930\n",
      "Epoch 63/100\n",
      "35400/37500 [===========================>..] - ETA: 0s - loss: 0.3065 - acc: 0.8885\n",
      "Epoch 00063: val_loss did not improve from 0.43267\n",
      "37500/37500 [==============================] - 1s 36us/sample - loss: 0.3059 - acc: 0.8887 - val_loss: 0.5314 - val_acc: 0.7930\n",
      "Epoch 64/100\n",
      "35900/37500 [===========================>..] - ETA: 0s - loss: 0.3058 - acc: 0.8890\n",
      "Epoch 00064: val_loss did not improve from 0.43267\n",
      "37500/37500 [==============================] - 1s 37us/sample - loss: 0.3059 - acc: 0.8887 - val_loss: 0.5314 - val_acc: 0.7930\n",
      "Epoch 65/100\n",
      "37200/37500 [============================>.] - ETA: 0s - loss: 0.3060 - acc: 0.8887\n",
      "Epoch 00065: val_loss did not improve from 0.43267\n",
      "37500/37500 [==============================] - 1s 35us/sample - loss: 0.3059 - acc: 0.8887 - val_loss: 0.5314 - val_acc: 0.7930\n",
      "Epoch 66/100\n",
      "37100/37500 [============================>.] - ETA: 0s - loss: 0.3057 - acc: 0.8888\n",
      "Epoch 00066: val_loss did not improve from 0.43267\n",
      "37500/37500 [==============================] - 1s 36us/sample - loss: 0.3059 - acc: 0.8887 - val_loss: 0.5314 - val_acc: 0.7930\n",
      "Epoch 67/100\n",
      "36700/37500 [============================>.] - ETA: 0s - loss: 0.3065 - acc: 0.8884\n",
      "Epoch 00067: val_loss did not improve from 0.43267\n",
      "37500/37500 [==============================] - 1s 36us/sample - loss: 0.3059 - acc: 0.8887 - val_loss: 0.5314 - val_acc: 0.7930\n",
      "Epoch 68/100\n",
      "37200/37500 [============================>.] - ETA: 0s - loss: 0.3059 - acc: 0.8888\n",
      "Epoch 00068: val_loss did not improve from 0.43267\n",
      "37500/37500 [==============================] - 1s 36us/sample - loss: 0.3059 - acc: 0.8887 - val_loss: 0.5314 - val_acc: 0.7930\n",
      "Epoch 69/100\n",
      "36700/37500 [============================>.] - ETA: 0s - loss: 0.3060 - acc: 0.8886\n",
      "Epoch 00069: val_loss did not improve from 0.43267\n",
      "37500/37500 [==============================] - 1s 36us/sample - loss: 0.3059 - acc: 0.8887 - val_loss: 0.5314 - val_acc: 0.7930\n",
      "Epoch 70/100\n",
      "36600/37500 [============================>.] - ETA: 0s - loss: 0.3056 - acc: 0.8886\n",
      "Epoch 00070: val_loss did not improve from 0.43267\n",
      "37500/37500 [==============================] - 1s 32us/sample - loss: 0.3059 - acc: 0.8887 - val_loss: 0.5314 - val_acc: 0.7930\n",
      "Epoch 71/100\n",
      "37200/37500 [============================>.] - ETA: 0s - loss: 0.3060 - acc: 0.8887\n",
      "Epoch 00071: val_loss did not improve from 0.43267\n",
      "37500/37500 [==============================] - 1s 30us/sample - loss: 0.3059 - acc: 0.8887 - val_loss: 0.5314 - val_acc: 0.7930\n",
      "Epoch 72/100\n",
      "36500/37500 [============================>.] - ETA: 0s - loss: 0.3052 - acc: 0.8891\n",
      "Epoch 00072: val_loss did not improve from 0.43267\n",
      "37500/37500 [==============================] - 1s 30us/sample - loss: 0.3059 - acc: 0.8887 - val_loss: 0.5314 - val_acc: 0.7930\n",
      "Epoch 73/100\n",
      "36300/37500 [============================>.] - ETA: 0s - loss: 0.3058 - acc: 0.8887\n",
      "Epoch 00073: val_loss did not improve from 0.43267\n",
      "37500/37500 [==============================] - 1s 29us/sample - loss: 0.3059 - acc: 0.8887 - val_loss: 0.5314 - val_acc: 0.7930\n",
      "Epoch 74/100\n",
      "36900/37500 [============================>.] - ETA: 0s - loss: 0.3055 - acc: 0.8891\n",
      "Epoch 00074: val_loss did not improve from 0.43267\n",
      "37500/37500 [==============================] - 1s 28us/sample - loss: 0.3059 - acc: 0.8887 - val_loss: 0.5314 - val_acc: 0.7930\n",
      "Epoch 75/100\n",
      "35400/37500 [===========================>..] - ETA: 0s - loss: 0.3056 - acc: 0.8890\n",
      "Epoch 00075: val_loss did not improve from 0.43267\n",
      "37500/37500 [==============================] - 1s 27us/sample - loss: 0.3059 - acc: 0.8887 - val_loss: 0.5314 - val_acc: 0.7930\n",
      "Epoch 76/100\n",
      "36300/37500 [============================>.] - ETA: 0s - loss: 0.3059 - acc: 0.8888\n",
      "Epoch 00076: val_loss did not improve from 0.43267\n",
      "37500/37500 [==============================] - 1s 28us/sample - loss: 0.3059 - acc: 0.8887 - val_loss: 0.5314 - val_acc: 0.7930\n",
      "Epoch 77/100\n",
      "37100/37500 [============================>.] - ETA: 0s - loss: 0.3061 - acc: 0.8887\n",
      "Epoch 00077: val_loss did not improve from 0.43267\n",
      "37500/37500 [==============================] - 1s 30us/sample - loss: 0.3059 - acc: 0.8887 - val_loss: 0.5314 - val_acc: 0.7930\n",
      "Epoch 78/100\n",
      "37100/37500 [============================>.] - ETA: 0s - loss: 0.3057 - acc: 0.8888\n",
      "Epoch 00078: val_loss did not improve from 0.43267\n",
      "37500/37500 [==============================] - 1s 32us/sample - loss: 0.3059 - acc: 0.8887 - val_loss: 0.5314 - val_acc: 0.7930\n",
      "Epoch 79/100\n",
      "37400/37500 [============================>.] - ETA: 0s - loss: 0.3060 - acc: 0.8886\n",
      "Epoch 00079: val_loss did not improve from 0.43267\n",
      "37500/37500 [==============================] - 1s 34us/sample - loss: 0.3059 - acc: 0.8887 - val_loss: 0.5314 - val_acc: 0.7930\n",
      "Epoch 80/100\n",
      "36100/37500 [===========================>..] - ETA: 0s - loss: 0.3062 - acc: 0.8886\n",
      "Epoch 00080: val_loss did not improve from 0.43267\n",
      "37500/37500 [==============================] - 1s 35us/sample - loss: 0.3059 - acc: 0.8887 - val_loss: 0.5314 - val_acc: 0.7930\n",
      "Epoch 81/100\n",
      "36500/37500 [============================>.] - ETA: 0s - loss: 0.3047 - acc: 0.8897\n",
      "Epoch 00081: val_loss did not improve from 0.43267\n",
      "37500/37500 [==============================] - 1s 34us/sample - loss: 0.3059 - acc: 0.8887 - val_loss: 0.5314 - val_acc: 0.7930\n",
      "Epoch 82/100\n",
      "35700/37500 [===========================>..] - ETA: 0s - loss: 0.3061 - acc: 0.8885\n",
      "Epoch 00082: val_loss did not improve from 0.43267\n",
      "37500/37500 [==============================] - 1s 33us/sample - loss: 0.3059 - acc: 0.8887 - val_loss: 0.5314 - val_acc: 0.7930\n",
      "Epoch 83/100\n",
      "35600/37500 [===========================>..] - ETA: 0s - loss: 0.3075 - acc: 0.8882\n",
      "Epoch 00083: val_loss did not improve from 0.43267\n",
      "37500/37500 [==============================] - 1s 32us/sample - loss: 0.3059 - acc: 0.8887 - val_loss: 0.5314 - val_acc: 0.7930\n",
      "Epoch 84/100\n",
      "37200/37500 [============================>.] - ETA: 0s - loss: 0.3062 - acc: 0.8886\n",
      "Epoch 00084: val_loss did not improve from 0.43267\n",
      "37500/37500 [==============================] - 1s 32us/sample - loss: 0.3059 - acc: 0.8887 - val_loss: 0.5314 - val_acc: 0.7930\n",
      "Epoch 85/100\n",
      "36700/37500 [============================>.] - ETA: 0s - loss: 0.3060 - acc: 0.8888\n",
      "Epoch 00085: val_loss did not improve from 0.43267\n",
      "37500/37500 [==============================] - 1s 36us/sample - loss: 0.3059 - acc: 0.8887 - val_loss: 0.5314 - val_acc: 0.7930\n",
      "Epoch 86/100\n",
      "36500/37500 [============================>.] - ETA: 0s - loss: 0.3054 - acc: 0.8890\n",
      "Epoch 00086: val_loss did not improve from 0.43267\n",
      "37500/37500 [==============================] - 1s 33us/sample - loss: 0.3059 - acc: 0.8887 - val_loss: 0.5314 - val_acc: 0.7930\n",
      "Epoch 87/100\n",
      "35800/37500 [===========================>..] - ETA: 0s - loss: 0.3061 - acc: 0.8884\n",
      "Epoch 00087: val_loss did not improve from 0.43267\n",
      "37500/37500 [==============================] - 1s 35us/sample - loss: 0.3059 - acc: 0.8887 - val_loss: 0.5314 - val_acc: 0.7930\n",
      "Epoch 88/100\n",
      "36100/37500 [===========================>..] - ETA: 0s - loss: 0.3059 - acc: 0.8887\n",
      "Epoch 00088: val_loss did not improve from 0.43267\n",
      "37500/37500 [==============================] - 1s 33us/sample - loss: 0.3059 - acc: 0.8887 - val_loss: 0.5314 - val_acc: 0.7930\n",
      "Epoch 89/100\n",
      "36200/37500 [===========================>..] - ETA: 0s - loss: 0.3063 - acc: 0.8885\n",
      "Epoch 00089: val_loss did not improve from 0.43267\n",
      "37500/37500 [==============================] - 1s 34us/sample - loss: 0.3059 - acc: 0.8887 - val_loss: 0.5314 - val_acc: 0.7930\n",
      "Epoch 90/100\n",
      "36800/37500 [============================>.] - ETA: 0s - loss: 0.3055 - acc: 0.8888\n",
      "Epoch 00090: val_loss did not improve from 0.43267\n",
      "37500/37500 [==============================] - 1s 34us/sample - loss: 0.3059 - acc: 0.8887 - val_loss: 0.5314 - val_acc: 0.7930\n"
     ]
    },
    {
     "name": "stdout",
     "output_type": "stream",
     "text": [
      "Epoch 91/100\n",
      "36900/37500 [============================>.] - ETA: 0s - loss: 0.3057 - acc: 0.8888\n",
      "Epoch 00091: val_loss did not improve from 0.43267\n",
      "37500/37500 [==============================] - 1s 33us/sample - loss: 0.3059 - acc: 0.8887 - val_loss: 0.5314 - val_acc: 0.7930\n",
      "Epoch 92/100\n",
      "36300/37500 [============================>.] - ETA: 0s - loss: 0.3057 - acc: 0.8891\n",
      "Epoch 00092: val_loss did not improve from 0.43267\n",
      "37500/37500 [==============================] - 1s 33us/sample - loss: 0.3059 - acc: 0.8887 - val_loss: 0.5314 - val_acc: 0.7930\n",
      "Epoch 93/100\n",
      "36800/37500 [============================>.] - ETA: 0s - loss: 0.3060 - acc: 0.8887\n",
      "Epoch 00093: val_loss did not improve from 0.43267\n",
      "37500/37500 [==============================] - 1s 31us/sample - loss: 0.3059 - acc: 0.8887 - val_loss: 0.5314 - val_acc: 0.7930\n",
      "Epoch 94/100\n",
      "36700/37500 [============================>.] - ETA: 0s - loss: 0.3059 - acc: 0.8885\n",
      "Epoch 00094: val_loss did not improve from 0.43267\n",
      "37500/37500 [==============================] - 1s 31us/sample - loss: 0.3059 - acc: 0.8887 - val_loss: 0.5314 - val_acc: 0.7930\n",
      "Epoch 95/100\n",
      "36400/37500 [============================>.] - ETA: 0s - loss: 0.3065 - acc: 0.8884\n",
      "Epoch 00095: val_loss did not improve from 0.43267\n",
      "37500/37500 [==============================] - 1s 34us/sample - loss: 0.3059 - acc: 0.8887 - val_loss: 0.5314 - val_acc: 0.7930\n",
      "Epoch 96/100\n",
      "36200/37500 [===========================>..] - ETA: 0s - loss: 0.3059 - acc: 0.8890\n",
      "Epoch 00096: val_loss did not improve from 0.43267\n",
      "37500/37500 [==============================] - 1s 31us/sample - loss: 0.3059 - acc: 0.8887 - val_loss: 0.5314 - val_acc: 0.7930\n",
      "Epoch 97/100\n",
      "36000/37500 [===========================>..] - ETA: 0s - loss: 0.3067 - acc: 0.8882\n",
      "Epoch 00097: val_loss did not improve from 0.43267\n",
      "37500/37500 [==============================] - 1s 32us/sample - loss: 0.3059 - acc: 0.8887 - val_loss: 0.5314 - val_acc: 0.7930\n",
      "Epoch 98/100\n",
      "35900/37500 [===========================>..] - ETA: 0s - loss: 0.3067 - acc: 0.8886\n",
      "Epoch 00098: val_loss did not improve from 0.43267\n",
      "37500/37500 [==============================] - 1s 31us/sample - loss: 0.3059 - acc: 0.8887 - val_loss: 0.5314 - val_acc: 0.7930\n",
      "Epoch 99/100\n",
      "35700/37500 [===========================>..] - ETA: 0s - loss: 0.3066 - acc: 0.8890\n",
      "Epoch 00099: val_loss did not improve from 0.43267\n",
      "37500/37500 [==============================] - 1s 34us/sample - loss: 0.3059 - acc: 0.8887 - val_loss: 0.5314 - val_acc: 0.7930\n",
      "Epoch 100/100\n",
      "36800/37500 [============================>.] - ETA: 0s - loss: 0.3053 - acc: 0.8888\n",
      "Epoch 00100: val_loss did not improve from 0.43267\n",
      "37500/37500 [==============================] - 1s 35us/sample - loss: 0.3059 - acc: 0.8887 - val_loss: 0.5314 - val_acc: 0.7930\n"
     ]
    }
   ],
   "source": [
    "bz = 100\n",
    "epochs = 100\n",
    "history = model.fit(\n",
    "    xtrain,\n",
    "    ytrain,\n",
    "    epochs = epochs,\n",
    "    batch_size = bz,\n",
    "    validation_data =(xtest, ytest),\n",
    "    callbacks = [mcp, red_lr]\n",
    ")\n"
   ]
  },
  {
   "cell_type": "code",
   "execution_count": 147,
   "metadata": {},
   "outputs": [
    {
     "data": {
      "text/plain": [
       "Text(0.5, 1.0, 'Loss Vs # of epochs')"
      ]
     },
     "execution_count": 147,
     "metadata": {},
     "output_type": "execute_result"
    },
    {
     "data": {
      "image/png": "[encoded data removed]",
      "text/plain": [
       "<Figure size 432x288 with 1 Axes>"
      ]
     },
     "metadata": {
      "needs_background": "light"
     },
     "output_type": "display_data"
    }
   ],
   "source": [
    "%matplotlib inline \n",
    "plt.plot( [i for i in range(epochs)], history.history['val_loss'], label = \"validation loss\")\n",
    "plt.xlabel(\"#of epochs\")\n",
    "plt.ylabel(\"loss\")\n",
    "plt.title(\"Loss Vs # of epochs\")"
   ]
  },
  {
   "cell_type": "code",
   "execution_count": 119,
   "metadata": {},
   "outputs": [
    {
     "data": {
      "text/plain": [
       "Text(0, 0.5, 'loss')"
      ]
     },
     "execution_count": 119,
     "metadata": {},
     "output_type": "execute_result"
    },
    {
     "data": {
      "image/png": "[encoded data removed]",
      "text/plain": [
       "<Figure size 432x288 with 1 Axes>"
      ]
     },
     "metadata": {
      "needs_background": "light"
     },
     "output_type": "display_data"
    }
   ],
   "source": [
    "plt.plot([i for i in range(epochs)], history.history['loss'], label = \"Train loss\")\n",
    "plt.xlabel(\"#of epochs\")\n",
    "plt.ylabel(\"loss\")\n",
    "plt.title(\"Loss Vs # of epochs\")"
   ]
  },
  {
   "cell_type": "code",
   "execution_count": 122,
   "metadata": {
    "collapsed": true
   },
   "outputs": [
    {
     "data": {
      "text/plain": [
       "Text(0.5, 1.0, 'Learning rate Vs # of epochs')"
      ]
     },
     "execution_count": 122,
     "metadata": {},
     "output_type": "execute_result"
    },
    {
     "data": {
      "image/png": "[encoded data removed]",
      "text/plain": [
       "<Figure size 432x288 with 1 Axes>"
      ]
     },
     "metadata": {
      "needs_background": "light"
     },
     "output_type": "display_data"
    }
   ],
   "source": [
    "plt.plot([i for i in range(epochs)], history.history['lr'], label = \"Train loss\")\n",
    "plt.xlabel(\"#of epochs\")\n",
    "plt.ylabel(\"Learning rate\")\n",
    "plt.title(\"Learning rate Vs # of epochs\")"
   ]
  },
  {
   "cell_type": "code",
   "execution_count": 117,
   "metadata": {},
   "outputs": [
    {
     "data": {
      "text/plain": [
       "dict_keys(['loss', 'acc', 'val_loss', 'val_acc', 'lr'])"
      ]
     },
     "execution_count": 117,
     "metadata": {},
     "output_type": "execute_result"
    }
   ],
   "source": [
    "history.history.keys()"
   ]
  },
  {
   "cell_type": "code",
   "execution_count": 132,
   "metadata": {},
   "outputs": [],
   "source": [
    "model.load_weights(\"models_chpt/best_modelD.hdf5\")"
   ]
  },
  {
   "cell_type": "code",
   "execution_count": null,
   "metadata": {},
   "outputs": [],
   "source": [
    "model.predict(xtest)"
   ]
  }
 ],
 "metadata": {
  "kernelspec": {
   "display_name": "vision1",
   "language": "python",
   "name": "vision1"
  }
 },
 "nbformat": 4,
 "nbformat_minor": 2
}
