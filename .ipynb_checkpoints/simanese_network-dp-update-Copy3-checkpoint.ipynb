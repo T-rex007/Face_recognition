{
 "cells": [
  {
   "cell_type": "code",
   "execution_count": 2,
   "metadata": {},
   "outputs": [
    {
     "data": {
      "text/plain": [
       "'1.13.1'"
      ]
     },
     "execution_count": 2,
     "metadata": {},
     "output_type": "execute_result"
    }
   ],
   "source": [
    "from tensorflow.keras.models import load_model\n",
    "from VisionUtils import *\n",
    "#from imgaug import augmenters as iaa\n",
    "from Manager import *\n",
    "from sklearn.model_selection import train_test_split\n",
    "\n",
    "import tensorflow.keras.backend as k\n",
    "import tensorflow as tf\n",
    "import matplotlib.pyplot as plt\n",
    "import os \n",
    "#import imgaug\n",
    "import shutil\n",
    "import tqdm\n",
    "tf.enable_eager_execution()\n",
    "tf.__version__"
   ]
  },
  {
   "cell_type": "code",
   "execution_count": 3,
   "metadata": {},
   "outputs": [
    {
     "name": "stdout",
     "output_type": "stream",
     "text": [
      "True\n"
     ]
    }
   ],
   "source": [
    "print(tf.test.is_gpu_available())"
   ]
  },
  {
   "cell_type": "code",
   "execution_count": 4,
   "metadata": {},
   "outputs": [],
   "source": [
    "# tf.data api batch_size\n",
    "BATCH_SIZE = 32"
   ]
  },
  {
   "cell_type": "code",
   "execution_count": 5,
   "metadata": {},
   "outputs": [
    {
     "name": "stdout",
     "output_type": "stream",
     "text": [
      "WARNING:tensorflow:From c:\\users\\user\\anaconda3\\envs\\tf_gpu\\lib\\site-packages\\tensorflow\\python\\ops\\resource_variable_ops.py:642: colocate_with (from tensorflow.python.framework.ops) is deprecated and will be removed in a future version.\n",
      "Instructions for updating:\n",
      "Colocations handled automatically by placer.\n",
      "WARNING:tensorflow:From c:\\users\\user\\anaconda3\\envs\\tf_gpu\\lib\\site-packages\\tensorflow\\python\\keras\\layers\\core.py:143: calling dropout (from tensorflow.python.ops.nn_ops) with keep_prob is deprecated and will be removed in a future version.\n",
      "Instructions for updating:\n",
      "Please use `rate` instead of `keep_prob`. Rate should be set to `rate = 1 - keep_prob`.\n",
      "WARNING:tensorflow:No training configuration found in save file: the model was *not* compiled. Compile it manually.\n"
     ]
    }
   ],
   "source": [
    "m = load_model(\"Models/FaceNet/model/saved_model.h5\")"
   ]
  },
  {
   "cell_type": "code",
   "execution_count": 6,
   "metadata": {},
   "outputs": [],
   "source": [
    "### Important Dirrectories\n",
    "IMG_RT_PATH = 'data/processed/images/'\n",
    "FEATURE_RT_PATH = \"data/image_features/\"\n",
    "FEATURE_AUG_RT_PATH = \"data/image_aug_features/\"\n",
    "IMG_AUG_RT_PATH = 'data/images_aug/'"
   ]
  },
  {
   "cell_type": "code",
   "execution_count": 7,
   "metadata": {},
   "outputs": [
    {
     "name": "stdout",
     "output_type": "stream",
     "text": [
      "data_root:  data\\processed\\images\n"
     ]
    }
   ],
   "source": [
    "import pathlib\n",
    "data_root = pathlib.Path(IMG_RT_PATH)\n",
    "print('data_root: ', data_root)"
   ]
  },
  {
   "cell_type": "code",
   "execution_count": 8,
   "metadata": {},
   "outputs": [],
   "source": [
    "AUTOTUNE = tf.data.experimental.AUTOTUNE"
   ]
  },
  {
   "cell_type": "code",
   "execution_count": 27,
   "metadata": {},
   "outputs": [
    {
     "data": {
      "text/plain": [
       "['data\\\\processed\\\\images\\\\n000001',\n",
       " 'data\\\\processed\\\\images\\\\n000002',\n",
       " 'data\\\\processed\\\\images\\\\n000003',\n",
       " 'data\\\\processed\\\\images\\\\n000004',\n",
       " 'data\\\\processed\\\\images\\\\n000006']"
      ]
     },
     "execution_count": 27,
     "metadata": {},
     "output_type": "execute_result"
    }
   ],
   "source": [
    "all_dir_paths = [str(item_path) for item_path in data_root.iterdir() if '.DS_Store' not in str(item_path)]\n",
    "all_dir_paths[:5]"
   ]
  },
  {
   "cell_type": "code",
   "execution_count": 28,
   "metadata": {},
   "outputs": [
    {
     "data": {
      "text/plain": [
       "190"
      ]
     },
     "execution_count": 28,
     "metadata": {},
     "output_type": "execute_result"
    }
   ],
   "source": [
    "len(all_dir_paths)"
   ]
  },
  {
   "cell_type": "code",
   "execution_count": 29,
   "metadata": {},
   "outputs": [],
   "source": [
    "image_dir_paths_train, image_dir_paths_test, = train_test_split(all_dir_paths, test_size=0.2, shuffle=False)"
   ]
  },
  {
   "cell_type": "code",
   "execution_count": 30,
   "metadata": {},
   "outputs": [
    {
     "data": {
      "text/plain": [
       "(152, 'data\\\\processed\\\\images\\\\n000001')"
      ]
     },
     "execution_count": 30,
     "metadata": {},
     "output_type": "execute_result"
    }
   ],
   "source": [
    "len(image_dir_paths_train), image_dir_paths_train[0]"
   ]
  },
  {
   "cell_type": "code",
   "execution_count": 31,
   "metadata": {},
   "outputs": [
    {
     "data": {
      "text/plain": [
       "(38, 'data\\\\processed\\\\images\\\\n002351')"
      ]
     },
     "execution_count": 31,
     "metadata": {},
     "output_type": "execute_result"
    }
   ],
   "source": [
    "len(image_dir_paths_test), image_dir_paths_test[0]"
   ]
  },
  {
   "cell_type": "code",
   "execution_count": 32,
   "metadata": {},
   "outputs": [
    {
     "name": "stderr",
     "output_type": "stream",
     "text": [
      "100%|███████████████████████████████████████████████████████████████████████████████| 152/152 [00:00<00:00, 320.81it/s]\n"
     ]
    },
    {
     "data": {
      "text/plain": [
       "(46493, 'data\\\\processed\\\\images\\\\n000171\\\\0062_04.jpg')"
      ]
     },
     "execution_count": 32,
     "metadata": {},
     "output_type": "execute_result"
    }
   ],
   "source": [
    "all_train_image_paths = []\n",
    "for image_dir_train_path in tqdm.tqdm(image_dir_paths_train[:606]):\n",
    "    root = pathlib.Path(image_dir_train_path)\n",
    "    train_image_paths = list(root.glob('*.jpg'))\n",
    "    train_image_paths = [ str(item_path) for item_path in train_image_paths if '.DS_Store' not in str(item_path)]\n",
    "    all_train_image_paths += train_image_paths\n",
    "\n",
    "random.shuffle(all_train_image_paths)\n",
    "train_image_count = len(all_train_image_paths)\n",
    "train_image_count, all_train_image_paths[0]"
   ]
  },
  {
   "cell_type": "code",
   "execution_count": 33,
   "metadata": {},
   "outputs": [
    {
     "name": "stderr",
     "output_type": "stream",
     "text": [
      "100%|█████████████████████████████████████████████████████████████████████████████████| 38/38 [00:00<00:00, 383.47it/s]\n"
     ]
    },
    {
     "data": {
      "text/plain": [
       "(11176, 'data\\\\processed\\\\images\\\\n005112\\\\0183_01.jpg')"
      ]
     },
     "execution_count": 33,
     "metadata": {},
     "output_type": "execute_result"
    }
   ],
   "source": [
    "all_test_image_paths = []\n",
    "for image_dir_test_path in tqdm.tqdm(image_dir_paths_test[:100]):\n",
    "    root = pathlib.Path(image_dir_test_path)\n",
    "    test_image_paths = list(root.glob('*.jpg'))\n",
    "    test_image_paths = [ str(item_path) for item_path in test_image_paths if '.DS_Store' not in str(item_path)]\n",
    "    all_test_image_paths += test_image_paths\n",
    "\n",
    "random.shuffle(all_test_image_paths)\n",
    "test_image_count = len(all_test_image_paths)\n",
    "test_image_count, all_test_image_paths[0]"
   ]
  },
  {
   "cell_type": "code",
   "execution_count": 34,
   "metadata": {},
   "outputs": [
    {
     "data": {
      "text/plain": [
       "['n000001',\n",
       " 'n000002',\n",
       " 'n000003',\n",
       " 'n000004',\n",
       " 'n000006',\n",
       " 'n000007',\n",
       " 'n000008',\n",
       " 'n000009',\n",
       " 'n000010',\n",
       " 'n000012',\n",
       " 'n000013',\n",
       " 'n000015',\n",
       " 'n000016',\n",
       " 'n000017',\n",
       " 'n000018',\n",
       " 'n000019',\n",
       " 'n000020',\n",
       " 'n000029',\n",
       " 'n000032',\n",
       " 'n000037',\n",
       " 'n000040',\n",
       " 'n000045',\n",
       " 'n000046',\n",
       " 'n000056',\n",
       " 'n000065',\n",
       " 'n000070',\n",
       " 'n000074',\n",
       " 'n000076',\n",
       " 'n000078',\n",
       " 'n000079',\n",
       " 'n000082',\n",
       " 'n000084',\n",
       " 'n000088',\n",
       " 'n000094',\n",
       " 'n000096',\n",
       " 'n000104',\n",
       " 'n000106',\n",
       " 'n000114',\n",
       " 'n000118',\n",
       " 'n000119',\n",
       " 'n000127',\n",
       " 'n000129',\n",
       " 'n000130',\n",
       " 'n000135',\n",
       " 'n000144',\n",
       " 'n000148',\n",
       " 'n000149',\n",
       " 'n000154',\n",
       " 'n000158',\n",
       " 'n000159',\n",
       " 'n000160',\n",
       " 'n000163',\n",
       " 'n000165',\n",
       " 'n000171',\n",
       " 'n000172',\n",
       " 'n000173',\n",
       " 'n000178',\n",
       " 'n000180',\n",
       " 'n000181',\n",
       " 'n000182',\n",
       " 'n000186',\n",
       " 'n000191',\n",
       " 'n000192',\n",
       " 'n000196',\n",
       " 'n000198',\n",
       " 'n000205',\n",
       " 'n000208',\n",
       " 'n000209',\n",
       " 'n000210',\n",
       " 'n000211',\n",
       " 'n000217',\n",
       " 'n000220',\n",
       " 'n000223',\n",
       " 'n000233',\n",
       " 'n000235',\n",
       " 'n000259',\n",
       " 'n000267',\n",
       " 'n000276',\n",
       " 'n000278',\n",
       " 'n000281',\n",
       " 'n000284',\n",
       " 'n000294',\n",
       " 'n000299',\n",
       " 'n000318',\n",
       " 'n000320',\n",
       " 'n000321',\n",
       " 'n000322',\n",
       " 'n000324',\n",
       " 'n000336',\n",
       " 'n000337',\n",
       " 'n000345',\n",
       " 'n000348',\n",
       " 'n000352',\n",
       " 'n000356',\n",
       " 'n000359',\n",
       " 'n000363',\n",
       " 'n000365',\n",
       " 'n000366',\n",
       " 'n000370',\n",
       " 'n000371',\n",
       " 'n000372',\n",
       " 'n000378',\n",
       " 'n000391',\n",
       " 'n000394',\n",
       " 'n000410',\n",
       " 'n000452',\n",
       " 'n000480',\n",
       " 'n000527',\n",
       " 'n000596',\n",
       " 'n000624',\n",
       " 'n000654',\n",
       " 'n000658',\n",
       " 'n000659',\n",
       " 'n000667',\n",
       " 'n000689',\n",
       " 'n000706',\n",
       " 'n000736',\n",
       " 'n000740',\n",
       " 'n000746',\n",
       " 'n000775',\n",
       " 'n000785',\n",
       " 'n000836',\n",
       " 'n000838',\n",
       " 'n000912',\n",
       " 'n000928',\n",
       " 'n000945',\n",
       " 'n000950',\n",
       " 'n000958',\n",
       " 'n001021',\n",
       " 'n001059',\n",
       " 'n001127',\n",
       " 'n001197',\n",
       " 'n001199',\n",
       " 'n001211',\n",
       " 'n001299',\n",
       " 'n001304',\n",
       " 'n001439',\n",
       " 'n001655',\n",
       " 'n001672',\n",
       " 'n001708',\n",
       " 'n001710',\n",
       " 'n001857',\n",
       " 'n001923',\n",
       " 'n001956',\n",
       " 'n002080',\n",
       " 'n002109',\n",
       " 'n002158',\n",
       " 'n002216',\n",
       " 'n002245',\n",
       " 'n002257',\n",
       " 'n002267',\n",
       " 'n002329',\n",
       " 'n002351',\n",
       " 'n002474',\n",
       " 'n002761',\n",
       " 'n002773',\n",
       " 'n003092',\n",
       " 'n003554',\n",
       " 'n003728',\n",
       " 'n003775',\n",
       " 'n003786',\n",
       " 'n003881',\n",
       " 'n003894',\n",
       " 'n004050',\n",
       " 'n004424',\n",
       " 'n004486',\n",
       " 'n004663',\n",
       " 'n004719',\n",
       " 'n005112',\n",
       " 'n005347',\n",
       " 'n005380',\n",
       " 'n005425',\n",
       " 'n005664',\n",
       " 'n005695',\n",
       " 'n005723',\n",
       " 'n005755',\n",
       " 'n005799',\n",
       " 'n005956',\n",
       " 'n006211',\n",
       " 'n006247',\n",
       " 'n006909',\n",
       " 'n007159',\n",
       " 'n007358',\n",
       " 'n008110',\n",
       " 'n008155',\n",
       " 'n008179',\n",
       " 'n008595',\n",
       " 'n008937',\n",
       " 'n009283',\n",
       " 'n009294']"
      ]
     },
     "execution_count": 34,
     "metadata": {},
     "output_type": "execute_result"
    }
   ],
   "source": [
    "label_names = sorted(item.name for item in data_root.glob('*/') if item.is_dir())\n",
    "label_names"
   ]
  },
  {
   "cell_type": "code",
   "execution_count": 35,
   "metadata": {},
   "outputs": [
    {
     "data": {
      "text/plain": [
       "{'n000001': 0,\n",
       " 'n000002': 1,\n",
       " 'n000003': 2,\n",
       " 'n000004': 3,\n",
       " 'n000006': 4,\n",
       " 'n000007': 5,\n",
       " 'n000008': 6,\n",
       " 'n000009': 7,\n",
       " 'n000010': 8,\n",
       " 'n000012': 9,\n",
       " 'n000013': 10,\n",
       " 'n000015': 11,\n",
       " 'n000016': 12,\n",
       " 'n000017': 13,\n",
       " 'n000018': 14,\n",
       " 'n000019': 15,\n",
       " 'n000020': 16,\n",
       " 'n000029': 17,\n",
       " 'n000032': 18,\n",
       " 'n000037': 19,\n",
       " 'n000040': 20,\n",
       " 'n000045': 21,\n",
       " 'n000046': 22,\n",
       " 'n000056': 23,\n",
       " 'n000065': 24,\n",
       " 'n000070': 25,\n",
       " 'n000074': 26,\n",
       " 'n000076': 27,\n",
       " 'n000078': 28,\n",
       " 'n000079': 29,\n",
       " 'n000082': 30,\n",
       " 'n000084': 31,\n",
       " 'n000088': 32,\n",
       " 'n000094': 33,\n",
       " 'n000096': 34,\n",
       " 'n000104': 35,\n",
       " 'n000106': 36,\n",
       " 'n000114': 37,\n",
       " 'n000118': 38,\n",
       " 'n000119': 39,\n",
       " 'n000127': 40,\n",
       " 'n000129': 41,\n",
       " 'n000130': 42,\n",
       " 'n000135': 43,\n",
       " 'n000144': 44,\n",
       " 'n000148': 45,\n",
       " 'n000149': 46,\n",
       " 'n000154': 47,\n",
       " 'n000158': 48,\n",
       " 'n000159': 49,\n",
       " 'n000160': 50,\n",
       " 'n000163': 51,\n",
       " 'n000165': 52,\n",
       " 'n000171': 53,\n",
       " 'n000172': 54,\n",
       " 'n000173': 55,\n",
       " 'n000178': 56,\n",
       " 'n000180': 57,\n",
       " 'n000181': 58,\n",
       " 'n000182': 59,\n",
       " 'n000186': 60,\n",
       " 'n000191': 61,\n",
       " 'n000192': 62,\n",
       " 'n000196': 63,\n",
       " 'n000198': 64,\n",
       " 'n000205': 65,\n",
       " 'n000208': 66,\n",
       " 'n000209': 67,\n",
       " 'n000210': 68,\n",
       " 'n000211': 69,\n",
       " 'n000217': 70,\n",
       " 'n000220': 71,\n",
       " 'n000223': 72,\n",
       " 'n000233': 73,\n",
       " 'n000235': 74,\n",
       " 'n000259': 75,\n",
       " 'n000267': 76,\n",
       " 'n000276': 77,\n",
       " 'n000278': 78,\n",
       " 'n000281': 79,\n",
       " 'n000284': 80,\n",
       " 'n000294': 81,\n",
       " 'n000299': 82,\n",
       " 'n000318': 83,\n",
       " 'n000320': 84,\n",
       " 'n000321': 85,\n",
       " 'n000322': 86,\n",
       " 'n000324': 87,\n",
       " 'n000336': 88,\n",
       " 'n000337': 89,\n",
       " 'n000345': 90,\n",
       " 'n000348': 91,\n",
       " 'n000352': 92,\n",
       " 'n000356': 93,\n",
       " 'n000359': 94,\n",
       " 'n000363': 95,\n",
       " 'n000365': 96,\n",
       " 'n000366': 97,\n",
       " 'n000370': 98,\n",
       " 'n000371': 99,\n",
       " 'n000372': 100,\n",
       " 'n000378': 101,\n",
       " 'n000391': 102,\n",
       " 'n000394': 103,\n",
       " 'n000410': 104,\n",
       " 'n000452': 105,\n",
       " 'n000480': 106,\n",
       " 'n000527': 107,\n",
       " 'n000596': 108,\n",
       " 'n000624': 109,\n",
       " 'n000654': 110,\n",
       " 'n000658': 111,\n",
       " 'n000659': 112,\n",
       " 'n000667': 113,\n",
       " 'n000689': 114,\n",
       " 'n000706': 115,\n",
       " 'n000736': 116,\n",
       " 'n000740': 117,\n",
       " 'n000746': 118,\n",
       " 'n000775': 119,\n",
       " 'n000785': 120,\n",
       " 'n000836': 121,\n",
       " 'n000838': 122,\n",
       " 'n000912': 123,\n",
       " 'n000928': 124,\n",
       " 'n000945': 125,\n",
       " 'n000950': 126,\n",
       " 'n000958': 127,\n",
       " 'n001021': 128,\n",
       " 'n001059': 129,\n",
       " 'n001127': 130,\n",
       " 'n001197': 131,\n",
       " 'n001199': 132,\n",
       " 'n001211': 133,\n",
       " 'n001299': 134,\n",
       " 'n001304': 135,\n",
       " 'n001439': 136,\n",
       " 'n001655': 137,\n",
       " 'n001672': 138,\n",
       " 'n001708': 139,\n",
       " 'n001710': 140,\n",
       " 'n001857': 141,\n",
       " 'n001923': 142,\n",
       " 'n001956': 143,\n",
       " 'n002080': 144,\n",
       " 'n002109': 145,\n",
       " 'n002158': 146,\n",
       " 'n002216': 147,\n",
       " 'n002245': 148,\n",
       " 'n002257': 149,\n",
       " 'n002267': 150,\n",
       " 'n002329': 151,\n",
       " 'n002351': 152,\n",
       " 'n002474': 153,\n",
       " 'n002761': 154,\n",
       " 'n002773': 155,\n",
       " 'n003092': 156,\n",
       " 'n003554': 157,\n",
       " 'n003728': 158,\n",
       " 'n003775': 159,\n",
       " 'n003786': 160,\n",
       " 'n003881': 161,\n",
       " 'n003894': 162,\n",
       " 'n004050': 163,\n",
       " 'n004424': 164,\n",
       " 'n004486': 165,\n",
       " 'n004663': 166,\n",
       " 'n004719': 167,\n",
       " 'n005112': 168,\n",
       " 'n005347': 169,\n",
       " 'n005380': 170,\n",
       " 'n005425': 171,\n",
       " 'n005664': 172,\n",
       " 'n005695': 173,\n",
       " 'n005723': 174,\n",
       " 'n005755': 175,\n",
       " 'n005799': 176,\n",
       " 'n005956': 177,\n",
       " 'n006211': 178,\n",
       " 'n006247': 179,\n",
       " 'n006909': 180,\n",
       " 'n007159': 181,\n",
       " 'n007358': 182,\n",
       " 'n008110': 183,\n",
       " 'n008155': 184,\n",
       " 'n008179': 185,\n",
       " 'n008595': 186,\n",
       " 'n008937': 187,\n",
       " 'n009283': 188,\n",
       " 'n009294': 189}"
      ]
     },
     "execution_count": 35,
     "metadata": {},
     "output_type": "execute_result"
    }
   ],
   "source": [
    "label_to_index = dict((name, index) for index,name in enumerate(label_names))\n",
    "label_to_index"
   ]
  },
  {
   "cell_type": "code",
   "execution_count": 36,
   "metadata": {},
   "outputs": [
    {
     "data": {
      "text/plain": [
       "{0: 'n000001',\n",
       " 1: 'n000002',\n",
       " 2: 'n000003',\n",
       " 3: 'n000004',\n",
       " 4: 'n000006',\n",
       " 5: 'n000007',\n",
       " 6: 'n000008',\n",
       " 7: 'n000009',\n",
       " 8: 'n000010',\n",
       " 9: 'n000012',\n",
       " 10: 'n000013',\n",
       " 11: 'n000015',\n",
       " 12: 'n000016',\n",
       " 13: 'n000017',\n",
       " 14: 'n000018',\n",
       " 15: 'n000019',\n",
       " 16: 'n000020',\n",
       " 17: 'n000029',\n",
       " 18: 'n000032',\n",
       " 19: 'n000037',\n",
       " 20: 'n000040',\n",
       " 21: 'n000045',\n",
       " 22: 'n000046',\n",
       " 23: 'n000056',\n",
       " 24: 'n000065',\n",
       " 25: 'n000070',\n",
       " 26: 'n000074',\n",
       " 27: 'n000076',\n",
       " 28: 'n000078',\n",
       " 29: 'n000079',\n",
       " 30: 'n000082',\n",
       " 31: 'n000084',\n",
       " 32: 'n000088',\n",
       " 33: 'n000094',\n",
       " 34: 'n000096',\n",
       " 35: 'n000104',\n",
       " 36: 'n000106',\n",
       " 37: 'n000114',\n",
       " 38: 'n000118',\n",
       " 39: 'n000119',\n",
       " 40: 'n000127',\n",
       " 41: 'n000129',\n",
       " 42: 'n000130',\n",
       " 43: 'n000135',\n",
       " 44: 'n000144',\n",
       " 45: 'n000148',\n",
       " 46: 'n000149',\n",
       " 47: 'n000154',\n",
       " 48: 'n000158',\n",
       " 49: 'n000159',\n",
       " 50: 'n000160',\n",
       " 51: 'n000163',\n",
       " 52: 'n000165',\n",
       " 53: 'n000171',\n",
       " 54: 'n000172',\n",
       " 55: 'n000173',\n",
       " 56: 'n000178',\n",
       " 57: 'n000180',\n",
       " 58: 'n000181',\n",
       " 59: 'n000182',\n",
       " 60: 'n000186',\n",
       " 61: 'n000191',\n",
       " 62: 'n000192',\n",
       " 63: 'n000196',\n",
       " 64: 'n000198',\n",
       " 65: 'n000205',\n",
       " 66: 'n000208',\n",
       " 67: 'n000209',\n",
       " 68: 'n000210',\n",
       " 69: 'n000211',\n",
       " 70: 'n000217',\n",
       " 71: 'n000220',\n",
       " 72: 'n000223',\n",
       " 73: 'n000233',\n",
       " 74: 'n000235',\n",
       " 75: 'n000259',\n",
       " 76: 'n000267',\n",
       " 77: 'n000276',\n",
       " 78: 'n000278',\n",
       " 79: 'n000281',\n",
       " 80: 'n000284',\n",
       " 81: 'n000294',\n",
       " 82: 'n000299',\n",
       " 83: 'n000318',\n",
       " 84: 'n000320',\n",
       " 85: 'n000321',\n",
       " 86: 'n000322',\n",
       " 87: 'n000324',\n",
       " 88: 'n000336',\n",
       " 89: 'n000337',\n",
       " 90: 'n000345',\n",
       " 91: 'n000348',\n",
       " 92: 'n000352',\n",
       " 93: 'n000356',\n",
       " 94: 'n000359',\n",
       " 95: 'n000363',\n",
       " 96: 'n000365',\n",
       " 97: 'n000366',\n",
       " 98: 'n000370',\n",
       " 99: 'n000371',\n",
       " 100: 'n000372',\n",
       " 101: 'n000378',\n",
       " 102: 'n000391',\n",
       " 103: 'n000394',\n",
       " 104: 'n000410',\n",
       " 105: 'n000452',\n",
       " 106: 'n000480',\n",
       " 107: 'n000527',\n",
       " 108: 'n000596',\n",
       " 109: 'n000624',\n",
       " 110: 'n000654',\n",
       " 111: 'n000658',\n",
       " 112: 'n000659',\n",
       " 113: 'n000667',\n",
       " 114: 'n000689',\n",
       " 115: 'n000706',\n",
       " 116: 'n000736',\n",
       " 117: 'n000740',\n",
       " 118: 'n000746',\n",
       " 119: 'n000775',\n",
       " 120: 'n000785',\n",
       " 121: 'n000836',\n",
       " 122: 'n000838',\n",
       " 123: 'n000912',\n",
       " 124: 'n000928',\n",
       " 125: 'n000945',\n",
       " 126: 'n000950',\n",
       " 127: 'n000958',\n",
       " 128: 'n001021',\n",
       " 129: 'n001059',\n",
       " 130: 'n001127',\n",
       " 131: 'n001197',\n",
       " 132: 'n001199',\n",
       " 133: 'n001211',\n",
       " 134: 'n001299',\n",
       " 135: 'n001304',\n",
       " 136: 'n001439',\n",
       " 137: 'n001655',\n",
       " 138: 'n001672',\n",
       " 139: 'n001708',\n",
       " 140: 'n001710',\n",
       " 141: 'n001857',\n",
       " 142: 'n001923',\n",
       " 143: 'n001956',\n",
       " 144: 'n002080',\n",
       " 145: 'n002109',\n",
       " 146: 'n002158',\n",
       " 147: 'n002216',\n",
       " 148: 'n002245',\n",
       " 149: 'n002257',\n",
       " 150: 'n002267',\n",
       " 151: 'n002329',\n",
       " 152: 'n002351',\n",
       " 153: 'n002474',\n",
       " 154: 'n002761',\n",
       " 155: 'n002773',\n",
       " 156: 'n003092',\n",
       " 157: 'n003554',\n",
       " 158: 'n003728',\n",
       " 159: 'n003775',\n",
       " 160: 'n003786',\n",
       " 161: 'n003881',\n",
       " 162: 'n003894',\n",
       " 163: 'n004050',\n",
       " 164: 'n004424',\n",
       " 165: 'n004486',\n",
       " 166: 'n004663',\n",
       " 167: 'n004719',\n",
       " 168: 'n005112',\n",
       " 169: 'n005347',\n",
       " 170: 'n005380',\n",
       " 171: 'n005425',\n",
       " 172: 'n005664',\n",
       " 173: 'n005695',\n",
       " 174: 'n005723',\n",
       " 175: 'n005755',\n",
       " 176: 'n005799',\n",
       " 177: 'n005956',\n",
       " 178: 'n006211',\n",
       " 179: 'n006247',\n",
       " 180: 'n006909',\n",
       " 181: 'n007159',\n",
       " 182: 'n007358',\n",
       " 183: 'n008110',\n",
       " 184: 'n008155',\n",
       " 185: 'n008179',\n",
       " 186: 'n008595',\n",
       " 187: 'n008937',\n",
       " 188: 'n009283',\n",
       " 189: 'n009294'}"
      ]
     },
     "execution_count": 36,
     "metadata": {},
     "output_type": "execute_result"
    }
   ],
   "source": [
    "index_to_label = dict((index,name) for index,name in enumerate(label_names))\n",
    "index_to_label"
   ]
  },
  {
   "cell_type": "code",
   "execution_count": 37,
   "metadata": {},
   "outputs": [
    {
     "name": "stdout",
     "output_type": "stream",
     "text": [
      "First 10 labels indices:  [53, 11, 112, 18, 147, 53, 114, 123, 132, 146]\n"
     ]
    }
   ],
   "source": [
    "all_train_image_labels = [label_to_index[pathlib.Path(path).parent.name]\n",
    "                    for path in all_train_image_paths]\n",
    "\n",
    "print(\"First 10 labels indices: \", all_train_image_labels[:10])"
   ]
  },
  {
   "cell_type": "code",
   "execution_count": 38,
   "metadata": {},
   "outputs": [
    {
     "name": "stdout",
     "output_type": "stream",
     "text": [
      "First 10 labels indices:  [168, 176, 174, 169, 157, 173, 181, 176, 181, 158]\n"
     ]
    }
   ],
   "source": [
    "all_test_image_labels = [label_to_index[pathlib.Path(path).parent.name]\n",
    "                    for path in all_test_image_paths]\n",
    "\n",
    "print(\"First 10 labels indices: \", all_test_image_labels[:10])"
   ]
  },
  {
   "cell_type": "code",
   "execution_count": 39,
   "metadata": {},
   "outputs": [],
   "source": [
    "def load_positive_path_match(label_index, img_path1, base=\"data\\\\processed\\\\images\\\\\"):\n",
    "    label = index_to_label[label_index]\n",
    "    dir_path = base+label\n",
    "    img_path2 = dir_path+'\\\\'+random.choice(os.listdir(dir_path))\n",
    "    return label_index, img_path1, label_index, img_path2\n",
    "    "
   ]
  },
  {
   "cell_type": "code",
   "execution_count": 40,
   "metadata": {},
   "outputs": [],
   "source": [
    "def load_random_path_match(label_index1, img_path1, dirs, base=\"data\\\\processed\\\\images\\\\\"):\n",
    "    random_dir = random.choice(dirs)\n",
    "    label = random_dir.split('\\\\')[-1]\n",
    "    label_index = label_to_index[label]\n",
    "    dir_files = os.listdir(random_dir)\n",
    "    if len(dir_files) != 0:\n",
    "        random_file = random.choice(dir_files)\n",
    "        while '.jpg' not in random_file:\n",
    "            #print('redo random.choice(dir_files) : ', random_dir)\n",
    "            random_file = random.choice(dir_files)\n",
    "        img_path2 = random_dir+'\\\\'+random_file\n",
    "        return label_index1, img_path1, label_index, img_path2\n",
    "    else:\n",
    "        return '', '', '', ''\n"
   ]
  },
  {
   "cell_type": "code",
   "execution_count": 41,
   "metadata": {},
   "outputs": [
    {
     "data": {
      "text/plain": [
       "(53,\n",
       " 'data\\\\processed\\\\images\\\\n000171\\\\0062_04.jpg',\n",
       " 108,\n",
       " 'data\\\\processed\\\\images\\\\n000596\\\\0255_01.jpg')"
      ]
     },
     "execution_count": 41,
     "metadata": {},
     "output_type": "execute_result"
    }
   ],
   "source": [
    "img_path1 = all_train_image_paths[0]\n",
    "label_index = all_train_image_labels[0]\n",
    "load_random_path_match(label_index, img_path1, image_dir_paths_train)"
   ]
  },
  {
   "cell_type": "code",
   "execution_count": 42,
   "metadata": {},
   "outputs": [
    {
     "data": {
      "text/plain": [
       "(53,\n",
       " 'data\\\\processed\\\\images\\\\n000171\\\\0062_04.jpg',\n",
       " 53,\n",
       " 'data\\\\processed\\\\images\\\\n000171\\\\0087_02.jpg')"
      ]
     },
     "execution_count": 42,
     "metadata": {},
     "output_type": "execute_result"
    }
   ],
   "source": [
    "img_path1 = all_train_image_paths[0]\n",
    "label_index = all_train_image_labels[0]\n",
    "load_positive_path_match(label_index, img_path1)"
   ]
  },
  {
   "cell_type": "code",
   "execution_count": 43,
   "metadata": {},
   "outputs": [
    {
     "data": {
      "text/plain": [
       "'data\\\\processed\\\\images\\\\n000171\\\\0062_04.jpg'"
      ]
     },
     "execution_count": 43,
     "metadata": {},
     "output_type": "execute_result"
    }
   ],
   "source": [
    "all_train_image_paths[0]\n"
   ]
  },
  {
   "cell_type": "code",
   "execution_count": 44,
   "metadata": {},
   "outputs": [
    {
     "data": {
      "text/plain": [
       "53"
      ]
     },
     "execution_count": 44,
     "metadata": {},
     "output_type": "execute_result"
    }
   ],
   "source": [
    "all_train_image_labels[0]"
   ]
  },
  {
   "cell_type": "code",
   "execution_count": 48,
   "metadata": {},
   "outputs": [
    {
     "name": "stderr",
     "output_type": "stream",
     "text": [
      "\n",
      "  0%|                                                                                        | 0/46493 [00:00<?, ?it/s]\n",
      "  1%|▍                                                                           | 238/46493 [00:00<00:19, 2365.07it/s]\n",
      "  1%|▉                                                                           | 577/46493 [00:00<00:17, 2600.76it/s]\n",
      "  2%|█▍                                                                          | 881/46493 [00:00<00:16, 2718.02it/s]\n",
      "  3%|█▉                                                                         | 1163/46493 [00:00<00:16, 2740.40it/s]\n",
      "  3%|██▎                                                                        | 1468/46493 [00:00<00:15, 2822.81it/s]\n",
      "  4%|██▊                                                                        | 1760/46493 [00:00<00:15, 2844.50it/s]\n",
      "  4%|███▎                                                                       | 2020/46493 [00:00<00:16, 2682.63it/s]\n",
      "  5%|███▋                                                                       | 2273/46493 [00:00<00:16, 2602.00it/s]\n",
      "  6%|████▏                                                                      | 2572/46493 [00:00<00:16, 2701.37it/s]\n",
      "  6%|████▌                                                                      | 2865/46493 [00:01<00:15, 2761.69it/s]\n",
      "  7%|█████                                                                      | 3149/46493 [00:01<00:15, 2783.45it/s]\n",
      "  7%|█████▌                                                                     | 3481/46493 [00:01<00:14, 2923.32it/s]\n",
      "  8%|██████                                                                     | 3774/46493 [00:01<00:14, 2914.86it/s]\n",
      "  9%|██████▌                                                                    | 4085/46493 [00:01<00:14, 2966.68it/s]\n",
      "  9%|███████                                                                    | 4382/46493 [00:01<00:15, 2723.03it/s]\n",
      " 10%|███████▌                                                                   | 4659/46493 [00:01<00:16, 2541.65it/s]\n",
      " 11%|███████▉                                                                   | 4919/46493 [00:01<00:16, 2533.20it/s]\n",
      " 11%|████████▍                                                                  | 5195/46493 [00:01<00:15, 2596.83it/s]\n",
      " 12%|████████▊                                                                  | 5487/46493 [00:01<00:15, 2683.61it/s]\n",
      " 12%|█████████▎                                                                 | 5777/46493 [00:02<00:14, 2739.83it/s]\n",
      " 13%|█████████▊                                                                 | 6057/46493 [00:02<00:14, 2749.90it/s]\n",
      " 14%|██████████▏                                                                | 6334/46493 [00:02<00:14, 2704.54it/s]\n",
      " 14%|██████████▋                                                                | 6606/46493 [00:02<00:15, 2625.24it/s]\n",
      " 15%|███████████                                                                | 6887/46493 [00:02<00:14, 2675.09it/s]\n",
      " 15%|███████████▌                                                               | 7156/46493 [00:02<00:15, 2543.73it/s]\n",
      " 16%|███████████▉                                                               | 7413/46493 [00:02<00:15, 2489.00it/s]\n",
      " 17%|████████████▍                                                              | 7679/46493 [00:02<00:15, 2535.14it/s]\n",
      " 17%|████████████▊                                                              | 7977/46493 [00:02<00:14, 2653.99it/s]\n",
      " 18%|█████████████▎                                                             | 8263/46493 [00:03<00:14, 2712.50it/s]\n",
      " 18%|█████████████▊                                                             | 8545/46493 [00:03<00:13, 2742.69it/s]\n",
      " 19%|██████████████▎                                                            | 8872/46493 [00:03<00:13, 2874.72it/s]\n",
      " 20%|██████████████▊                                                            | 9167/46493 [00:03<00:12, 2888.88it/s]\n",
      " 20%|███████████████▎                                                           | 9487/46493 [00:03<00:12, 2968.16it/s]\n",
      " 21%|███████████████▊                                                           | 9786/46493 [00:03<00:12, 2930.93it/s]\n",
      " 22%|████████████████                                                          | 10081/46493 [00:03<00:12, 2859.63it/s]\n",
      " 22%|████████████████▌                                                         | 10369/46493 [00:03<00:12, 2798.62it/s]\n",
      " 23%|████████████████▉                                                         | 10674/46493 [00:03<00:12, 2862.93it/s]\n",
      " 24%|█████████████████▍                                                        | 10977/46493 [00:03<00:12, 2910.00it/s]\n",
      " 24%|█████████████████▉                                                        | 11272/46493 [00:04<00:12, 2919.50it/s]\n",
      " 25%|██████████████████▍                                                       | 11584/46493 [00:04<00:11, 2974.48it/s]\n",
      " 26%|██████████████████▉                                                       | 11897/46493 [00:04<00:11, 3012.33it/s]\n",
      " 26%|███████████████████▍                                                      | 12199/46493 [00:04<00:11, 2926.73it/s]\n",
      " 27%|███████████████████▉                                                      | 12506/46493 [00:04<00:11, 2966.64it/s]\n",
      " 28%|████████████████████▍                                                     | 12804/46493 [00:04<00:11, 2824.32it/s]\n",
      " 28%|████████████████████▊                                                     | 13089/46493 [00:04<00:12, 2682.90it/s]\n",
      " 29%|█████████████████████▎                                                    | 13361/46493 [00:04<00:12, 2661.01it/s]\n",
      " 29%|█████████████████████▋                                                    | 13665/46493 [00:04<00:11, 2764.30it/s]\n",
      " 30%|██████████████████████▏                                                   | 13944/46493 [00:05<00:12, 2634.56it/s]\n",
      " 31%|██████████████████████▌                                                   | 14214/46493 [00:05<00:12, 2650.66it/s]\n",
      " 31%|███████████████████████                                                   | 14488/46493 [00:05<00:11, 2673.84it/s]\n",
      " 32%|███████████████████████▍                                                  | 14757/46493 [00:05<00:11, 2658.58it/s]\n",
      " 32%|███████████████████████▉                                                  | 15076/46493 [00:05<00:11, 2793.78it/s]\n",
      " 33%|████████████████████████▍                                                 | 15358/46493 [00:05<00:11, 2799.59it/s]\n",
      " 34%|████████████████████████▉                                                 | 15640/46493 [00:05<00:11, 2610.66it/s]\n",
      " 34%|█████████████████████████▎                                                | 15910/46493 [00:05<00:11, 2636.12it/s]\n",
      " 35%|█████████████████████████▊                                                | 16215/46493 [00:05<00:11, 2739.37it/s]\n",
      " 35%|██████████████████████████▎                                               | 16501/46493 [00:05<00:10, 2771.86it/s]\n",
      " 36%|██████████████████████████▋                                               | 16781/46493 [00:06<00:11, 2478.29it/s]\n",
      " 37%|███████████████████████████                                               | 17037/46493 [00:06<00:12, 2375.31it/s]\n",
      " 37%|███████████████████████████▌                                              | 17325/46493 [00:06<00:11, 2503.28it/s]\n",
      " 38%|████████████████████████████                                              | 17625/46493 [00:06<00:10, 2632.67it/s]\n",
      " 38%|████████████████████████████▍                                             | 17895/46493 [00:06<00:11, 2568.96it/s]\n",
      " 39%|████████████████████████████▉                                             | 18169/46493 [00:06<00:10, 2617.85it/s]\n",
      " 40%|█████████████████████████████▎                                            | 18435/46493 [00:06<00:11, 2530.70it/s]\n",
      " 40%|█████████████████████████████▊                                            | 18709/46493 [00:06<00:10, 2588.83it/s]\n",
      " 41%|██████████████████████████████▏                                           | 18991/46493 [00:06<00:10, 2648.82it/s]\n",
      " 42%|██████████████████████████████▋                                           | 19298/46493 [00:07<00:09, 2761.25it/s]\n"
     ]
    },
    {
     "name": "stderr",
     "output_type": "stream",
     "text": [
      " 42%|███████████████████████████████▏                                          | 19577/46493 [00:07<00:09, 2761.98it/s]\n",
      " 43%|███████████████████████████████▌                                          | 19856/46493 [00:07<00:09, 2766.06it/s]\n",
      " 43%|████████████████████████████████                                          | 20140/46493 [00:07<00:09, 2779.75it/s]\n",
      " 44%|████████████████████████████████▍                                         | 20419/46493 [00:07<00:09, 2749.81it/s]\n",
      " 45%|████████████████████████████████▉                                         | 20695/46493 [00:07<00:09, 2714.02it/s]\n",
      " 45%|█████████████████████████████████▍                                        | 20988/46493 [00:07<00:09, 2772.42it/s]\n",
      " 46%|█████████████████████████████████▊                                        | 21266/46493 [00:07<00:09, 2675.64it/s]\n",
      " 46%|██████████████████████████████████▎                                       | 21537/46493 [00:07<00:09, 2681.51it/s]\n",
      " 47%|██████████████████████████████████▊                                       | 21837/46493 [00:07<00:08, 2768.72it/s]\n",
      " 48%|███████████████████████████████████▏                                      | 22116/46493 [00:08<00:08, 2762.85it/s]\n",
      " 48%|███████████████████████████████████▋                                      | 22412/46493 [00:08<00:08, 2811.98it/s]\n",
      " 49%|████████████████████████████████████▏                                     | 22707/46493 [00:08<00:08, 2843.52it/s]\n",
      " 49%|████████████████████████████████████▌                                     | 23002/46493 [00:08<00:08, 2870.21it/s]\n",
      " 50%|█████████████████████████████████████                                     | 23297/46493 [00:08<00:08, 2890.95it/s]\n",
      " 51%|█████████████████████████████████████▌                                    | 23587/46493 [00:08<00:08, 2818.72it/s]\n",
      " 51%|█████████████████████████████████████▉                                    | 23870/46493 [00:08<00:08, 2725.31it/s]\n",
      " 52%|██████████████████████████████████████▍                                   | 24144/46493 [00:08<00:08, 2599.50it/s]\n",
      " 53%|██████████████████████████████████████▉                                   | 24447/46493 [00:08<00:08, 2714.12it/s]\n",
      " 53%|███████████████████████████████████████▎                                  | 24737/46493 [00:09<00:07, 2765.13it/s]\n",
      " 54%|███████████████████████████████████████▊                                  | 25016/46493 [00:09<00:07, 2729.52it/s]\n",
      " 54%|████████████████████████████████████████▎                                 | 25299/46493 [00:09<00:07, 2755.04it/s]\n",
      " 55%|████████████████████████████████████████▋                                 | 25593/46493 [00:09<00:07, 2807.95it/s]\n",
      " 56%|█████████████████████████████████████████▎                                | 25924/46493 [00:09<00:06, 2941.52it/s]\n",
      " 56%|█████████████████████████████████████████▋                                | 26221/46493 [00:09<00:06, 2944.30it/s]\n",
      " 57%|██████████████████████████████████████████▏                               | 26518/46493 [00:09<00:07, 2741.74it/s]\n",
      " 58%|██████████████████████████████████████████▋                               | 26843/46493 [00:09<00:06, 2875.78it/s]\n",
      " 58%|███████████████████████████████████████████▏                              | 27136/46493 [00:09<00:06, 2840.53it/s]\n",
      " 59%|███████████████████████████████████████████▋                              | 27429/46493 [00:09<00:06, 2860.38it/s]\n",
      " 60%|████████████████████████████████████████████▏                             | 27737/46493 [00:10<00:06, 2916.15it/s]\n",
      " 60%|████████████████████████████████████████████▌                             | 28031/46493 [00:10<00:06, 2903.62it/s]\n",
      " 61%|█████████████████████████████████████████████                             | 28323/46493 [00:10<00:06, 2903.31it/s]\n",
      " 62%|█████████████████████████████████████████████▌                            | 28615/46493 [00:10<00:06, 2878.07it/s]\n",
      " 62%|██████████████████████████████████████████████                            | 28904/46493 [00:10<00:06, 2835.79it/s]\n",
      " 63%|██████████████████████████████████████████████▍                           | 29189/46493 [00:10<00:06, 2823.70it/s]\n",
      " 63%|██████████████████████████████████████████████▉                           | 29489/46493 [00:10<00:05, 2874.06it/s]\n",
      " 64%|███████████████████████████████████████████████▍                          | 29777/46493 [00:10<00:05, 2859.54it/s]\n",
      " 65%|███████████████████████████████████████████████▊                          | 30071/46493 [00:10<00:05, 2880.44it/s]\n",
      " 65%|████████████████████████████████████████████████▎                         | 30360/46493 [00:10<00:05, 2794.29it/s]\n",
      " 66%|████████████████████████████████████████████████▊                         | 30682/46493 [00:11<00:05, 2909.61it/s]\n",
      " 67%|█████████████████████████████████████████████████▎                        | 30975/46493 [00:11<00:05, 2724.86it/s]\n",
      " 67%|█████████████████████████████████████████████████▊                        | 31262/46493 [00:11<00:05, 2766.62it/s]\n",
      " 68%|██████████████████████████████████████████████████▏                       | 31542/46493 [00:11<00:05, 2755.68it/s]\n",
      " 69%|██████████████████████████████████████████████████▋                       | 31854/46493 [00:11<00:05, 2855.33it/s]\n",
      " 69%|███████████████████████████████████████████████████▏                      | 32181/46493 [00:11<00:04, 2966.10it/s]\n",
      " 70%|███████████████████████████████████████████████████▋                      | 32490/46493 [00:11<00:04, 2994.76it/s]\n",
      " 71%|████████████████████████████████████████████████████▏                     | 32809/46493 [00:11<00:04, 3045.81it/s]\n",
      " 71%|████████████████████████████████████████████████████▋                     | 33116/46493 [00:11<00:04, 2934.39it/s]\n",
      " 72%|█████████████████████████████████████████████████████▏                    | 33424/46493 [00:12<00:04, 2969.50it/s]\n",
      " 73%|█████████████████████████████████████████████████████▋                    | 33723/46493 [00:12<00:04, 2930.41it/s]\n",
      " 73%|██████████████████████████████████████████████████████▏                   | 34018/46493 [00:12<00:04, 2876.47it/s]\n",
      " 74%|██████████████████████████████████████████████████████▌                   | 34307/46493 [00:12<00:04, 2750.21it/s]\n",
      " 74%|███████████████████████████████████████████████████████                   | 34591/46493 [00:12<00:04, 2774.96it/s]\n",
      " 75%|███████████████████████████████████████████████████████▌                  | 34870/46493 [00:12<00:04, 2700.87it/s]\n",
      " 76%|███████████████████████████████████████████████████████▉                  | 35150/46493 [00:12<00:04, 2725.92it/s]\n",
      " 76%|████████████████████████████████████████████████████████▍                 | 35424/46493 [00:12<00:04, 2684.89it/s]\n",
      " 77%|████████████████████████████████████████████████████████▊                 | 35694/46493 [00:12<00:04, 2565.86it/s]\n",
      " 77%|█████████████████████████████████████████████████████████▏                | 35959/46493 [00:12<00:04, 2584.33it/s]\n",
      " 78%|█████████████████████████████████████████████████████████▋                | 36219/46493 [00:13<00:04, 2562.69it/s]\n",
      " 78%|██████████████████████████████████████████████████████████                | 36477/46493 [00:13<00:04, 2378.21it/s]\n",
      " 79%|██████████████████████████████████████████████████████████▍               | 36719/46493 [00:13<00:04, 2288.37it/s]\n",
      " 80%|██████████████████████████████████████████████████████████▊               | 36979/46493 [00:13<00:04, 2373.47it/s]\n",
      " 80%|███████████████████████████████████████████████████████████▎              | 37253/46493 [00:13<00:03, 2467.39it/s]\n",
      " 81%|███████████████████████████████████████████████████████████▋              | 37531/46493 [00:13<00:03, 2551.92it/s]\n",
      " 81%|████████████████████████████████████████████████████████████▏             | 37796/46493 [00:13<00:03, 2579.61it/s]\n",
      " 82%|████████████████████████████████████████████████████████████▋             | 38099/46493 [00:13<00:03, 2694.51it/s]\n",
      " 83%|█████████████████████████████████████████████████████████████▏            | 38421/46493 [00:13<00:02, 2829.25it/s]\n",
      " 83%|█████████████████████████████████████████████████████████████▌            | 38708/46493 [00:14<00:02, 2783.78it/s]\n",
      " 84%|██████████████████████████████████████████████████████████████            | 39013/46493 [00:14<00:02, 2857.37it/s]\n"
     ]
    },
    {
     "name": "stderr",
     "output_type": "stream",
     "text": [
      " 85%|██████████████████████████████████████████████████████████████▌           | 39302/46493 [00:14<00:02, 2657.10it/s]\n",
      " 85%|██████████████████████████████████████████████████████████████▉           | 39573/46493 [00:14<00:02, 2564.37it/s]\n",
      " 86%|███████████████████████████████████████████████████████████████▍          | 39878/46493 [00:14<00:02, 2690.66it/s]\n",
      " 86%|███████████████████████████████████████████████████████████████▉          | 40155/46493 [00:14<00:02, 2706.34it/s]\n",
      " 87%|████████████████████████████████████████████████████████████████▎         | 40429/46493 [00:14<00:02, 2675.65it/s]\n",
      " 88%|████████████████████████████████████████████████████████████████▊         | 40699/46493 [00:14<00:02, 2568.73it/s]\n",
      " 88%|█████████████████████████████████████████████████████████████████▏        | 40964/46493 [00:14<00:02, 2591.68it/s]\n",
      " 89%|█████████████████████████████████████████████████████████████████▌        | 41225/46493 [00:14<00:02, 2591.39it/s]\n",
      " 89%|██████████████████████████████████████████████████████████████████        | 41517/46493 [00:15<00:01, 2678.17it/s]\n",
      " 90%|██████████████████████████████████████████████████████████████████▌       | 41787/46493 [00:15<00:01, 2544.03it/s]\n",
      " 90%|██████████████████████████████████████████████████████████████████▉       | 42044/46493 [00:15<00:01, 2520.07it/s]\n",
      " 91%|███████████████████████████████████████████████████████████████████▎      | 42309/46493 [00:15<00:01, 2551.00it/s]\n",
      " 92%|███████████████████████████████████████████████████████████████████▊      | 42586/46493 [00:15<00:01, 2612.25it/s]\n",
      " 92%|████████████████████████████████████████████████████████████████████▏     | 42849/46493 [00:15<00:01, 2505.89it/s]\n",
      " 93%|████████████████████████████████████████████████████████████████████▌     | 43102/46493 [00:15<00:01, 2490.86it/s]\n",
      " 93%|█████████████████████████████████████████████████████████████████████     | 43382/46493 [00:15<00:01, 2575.13it/s]\n",
      " 94%|█████████████████████████████████████████████████████████████████████▌    | 43718/46493 [00:15<00:01, 2764.43it/s]\n",
      " 95%|██████████████████████████████████████████████████████████████████████    | 44000/46493 [00:16<00:00, 2747.55it/s]\n",
      " 95%|██████████████████████████████████████████████████████████████████████▌   | 44298/46493 [00:16<00:00, 2811.49it/s]\n",
      " 96%|██████████████████████████████████████████████████████████████████████▉   | 44583/46493 [00:16<00:00, 2804.57it/s]\n",
      " 97%|███████████████████████████████████████████████████████████████████████▍  | 44866/46493 [00:16<00:00, 2756.83it/s]\n",
      " 97%|███████████████████████████████████████████████████████████████████████▉  | 45164/46493 [00:16<00:00, 2819.50it/s]\n",
      " 98%|████████████████████████████████████████████████████████████████████████▎ | 45448/46493 [00:16<00:00, 2807.46it/s]\n",
      " 98%|████████████████████████████████████████████████████████████████████████▊ | 45730/46493 [00:16<00:00, 2699.46it/s]\n",
      " 99%|█████████████████████████████████████████████████████████████████████████▏| 46013/46493 [00:16<00:00, 2734.48it/s]\n",
      "100%|██████████████████████████████████████████████████████████████████████████| 46493/46493 [00:16<00:00, 2746.25it/s]\n"
     ]
    },
    {
     "data": {
      "text/plain": [
       "(46493, 46493, 46493)"
      ]
     },
     "execution_count": 48,
     "metadata": {},
     "output_type": "execute_result"
    }
   ],
   "source": [
    "all_train_image_pair_paths = []\n",
    "all_train_image_pair_labels = []\n",
    "all_train_data_labels = []\n",
    "\n",
    "for label_index, image_path in tqdm.tqdm(zip(all_train_image_labels, all_train_image_paths), total=len(all_train_image_labels)):\n",
    "    choice = random.choice([0,1])\n",
    "    if choice == 0:\n",
    "        label_index1, img_path1, label_index2, img_path2 = load_random_path_match(label_index, image_path, image_dir_paths_train)\n",
    "        all_train_image_pair_paths.append((img_path1, img_path2))\n",
    "        all_train_image_pair_labels.append((label_index1, label_index2))\n",
    "        if label_index1 == '' or label_index2 == '':\n",
    "            continue\n",
    "        if label_index1 == label_index2:\n",
    "            all_train_data_labels.append(1)\n",
    "        else:\n",
    "            all_train_data_labels.append(0)\n",
    "    else:\n",
    "        label_index1, img_path1, label_index2, img_path2 = load_positive_path_match(label_index, image_path)\n",
    "        all_train_image_pair_paths.append((img_path1, img_path2))\n",
    "        all_train_image_pair_labels.append((label_index1, label_index2))\n",
    "        if label_index1 == '' or label_index2 == '':\n",
    "            continue\n",
    "        if label_index1 == label_index2:\n",
    "            all_train_data_labels.append(1)\n",
    "        else:\n",
    "            all_train_data_labels.append(0)\n",
    "            print()\n",
    "            print(label_index1)\n",
    "            print(label_index1)\n",
    "            print(img_path1)\n",
    "            print(img_path2)\n",
    "            print()\n",
    "\n",
    "\n",
    "len(all_train_image_pair_paths), len(all_train_image_pair_labels), len(all_train_data_labels) "
   ]
  },
  {
   "cell_type": "code",
   "execution_count": 27,
   "metadata": {},
   "outputs": [
    {
     "data": {
      "text/plain": [
       "([('data\\\\processed\\\\images\\\\n000740\\\\0370_02.jpg',\n",
       "   'data\\\\processed\\\\images\\\\n000007\\\\0019_01.jpg'),\n",
       "  ('data\\\\processed\\\\images\\\\n000070\\\\0035_01.jpg',\n",
       "   'data\\\\processed\\\\images\\\\n000070\\\\0023_01.jpg'),\n",
       "  ('data\\\\processed\\\\images\\\\n000144\\\\0030_01.jpg',\n",
       "   'data\\\\processed\\\\images\\\\n000144\\\\0286_01.jpg'),\n",
       "  ('data\\\\processed\\\\images\\\\n000211\\\\0081_01.jpg',\n",
       "   'data\\\\processed\\\\images\\\\n000211\\\\0175_01.jpg'),\n",
       "  ('data\\\\processed\\\\images\\\\n000180\\\\0102_01.jpg',\n",
       "   'data\\\\processed\\\\images\\\\n000278\\\\0002_01.jpg')],\n",
       " [(117, 5), (25, 25), (44, 44), (69, 69), (57, 78)],\n",
       " [0, 1, 1, 1, 0, 1, 0, 0, 0, 0])"
      ]
     },
     "execution_count": 27,
     "metadata": {},
     "output_type": "execute_result"
    }
   ],
   "source": [
    "all_train_image_pair_paths[:5], all_train_image_pair_labels[:5], all_train_data_labels[:10]"
   ]
  },
  {
   "cell_type": "code",
   "execution_count": 28,
   "metadata": {},
   "outputs": [
    {
     "data": {
      "text/plain": [
       "('data\\\\processed\\\\images\\\\n000740\\\\0370_02.jpg',\n",
       " 'data\\\\processed\\\\images\\\\n000070\\\\0035_01.jpg',\n",
       " 'data\\\\processed\\\\images\\\\n000144\\\\0030_01.jpg',\n",
       " 'data\\\\processed\\\\images\\\\n000211\\\\0081_01.jpg',\n",
       " 'data\\\\processed\\\\images\\\\n000180\\\\0102_01.jpg')"
      ]
     },
     "execution_count": 28,
     "metadata": {},
     "output_type": "execute_result"
    }
   ],
   "source": [
    "a, b = list(zip(*all_train_image_pair_paths[:5]))\n",
    "a"
   ]
  },
  {
   "cell_type": "code",
   "execution_count": 29,
   "metadata": {},
   "outputs": [
    {
     "name": "stderr",
     "output_type": "stream",
     "text": [
      "100%|██████████████████████████████████████████████████████████████████████████| 11176/11176 [00:02<00:00, 4247.21it/s]\n"
     ]
    },
    {
     "data": {
      "text/plain": [
       "(11176, 11176, 11176)"
      ]
     },
     "execution_count": 29,
     "metadata": {},
     "output_type": "execute_result"
    }
   ],
   "source": [
    "all_test_image_pair_paths = []\n",
    "all_test_image_pair_labels = []\n",
    "all_test_data_labels = []\n",
    "\n",
    "for label_index, image_path in tqdm.tqdm(zip(all_test_image_labels, all_test_image_paths), total=len(all_test_image_labels)):\n",
    "    choice = random.choice([0,1])\n",
    "    if choice == 0:\n",
    "        label_index1, img_path1, label_index2, img_path2 = load_random_path_match(label_index, image_path, image_dir_paths_test)\n",
    "        all_test_image_pair_paths.append((img_path1, img_path2))\n",
    "        all_test_image_pair_labels.append((label_index1, label_index2))\n",
    "        if label_index1 == label_index2:\n",
    "            all_test_data_labels.append(1)\n",
    "        else:\n",
    "            all_test_data_labels.append(0)\n",
    "    else:\n",
    "        label_index1, img_path1, label_index2, img_path2 = load_positive_path_match(label_index, image_path)\n",
    "        all_test_image_pair_paths.append((img_path1, img_path2))\n",
    "        all_test_image_pair_labels.append((label_index1, label_index2))\n",
    "        if label_index1 == label_index2:\n",
    "            all_test_data_labels.append(1)\n",
    "        else:\n",
    "            all_test_data_labels.append(0)\n",
    "\n",
    "len(all_test_image_pair_paths), len(all_test_image_pair_labels), len(all_test_data_labels) "
   ]
  },
  {
   "cell_type": "code",
   "execution_count": 30,
   "metadata": {},
   "outputs": [
    {
     "data": {
      "text/plain": [
       "([('data\\\\processed\\\\images\\\\n004424\\\\0033_01.jpg',\n",
       "   'data\\\\processed\\\\images\\\\n004424\\\\0072_01.jpg'),\n",
       "  ('data\\\\processed\\\\images\\\\n005956\\\\0023_02.jpg',\n",
       "   'data\\\\processed\\\\images\\\\n005956\\\\0057_01.jpg'),\n",
       "  ('data\\\\processed\\\\images\\\\n006909\\\\0324_03.jpg',\n",
       "   'data\\\\processed\\\\images\\\\n008595\\\\0416_01.jpg'),\n",
       "  ('data\\\\processed\\\\images\\\\n003092\\\\0141_01.jpg',\n",
       "   'data\\\\processed\\\\images\\\\n008155\\\\0094_01.jpg'),\n",
       "  ('data\\\\processed\\\\images\\\\n003554\\\\0210_01.jpg',\n",
       "   'data\\\\processed\\\\images\\\\n003554\\\\0034_01.jpg')],\n",
       " [(164, 164), (177, 177), (180, 186), (156, 184), (157, 157)],\n",
       " [1, 1, 0, 0, 1, 0, 0, 0, 0, 1])"
      ]
     },
     "execution_count": 30,
     "metadata": {},
     "output_type": "execute_result"
    }
   ],
   "source": [
    "all_test_image_pair_paths[:5], all_test_image_pair_labels[:5], all_test_data_labels[:10]"
   ]
  },
  {
   "cell_type": "code",
   "execution_count": 31,
   "metadata": {},
   "outputs": [],
   "source": [
    "def preprocess_image(path):\n",
    "    image = tf.read_file(path)\n",
    "    \n",
    "    image = tf.image.decode_jpeg(image, channels=3)\n",
    "\n",
    "    return image"
   ]
  },
  {
   "cell_type": "code",
   "execution_count": 32,
   "metadata": {},
   "outputs": [],
   "source": [
    "def load_and_preprocess_image(paths):\n",
    "#     paths = tf.constant(np.array(list(paths)))\n",
    "    return tf.map_fn(preprocess_image, paths)"
   ]
  },
  {
   "cell_type": "code",
   "execution_count": 33,
   "metadata": {},
   "outputs": [
    {
     "name": "stdout",
     "output_type": "stream",
     "text": [
      "\n"
     ]
    },
    {
     "data": {
      "image/png": "[encoded data removed]",
      "text/plain": [
       "<Figure size 432x288 with 2 Axes>"
      ]
     },
     "metadata": {
      "needs_background": "light"
     },
     "output_type": "display_data"
    }
   ],
   "source": [
    "import matplotlib.pyplot as plt\n",
    "\n",
    "\n",
    "img_paths = all_train_image_pair_paths[0]\n",
    "label_indexs = all_train_image_pair_labels[0]\n",
    "image1, image2 = preprocess_image(img_paths[0]), preprocess_image(img_paths[1])\n",
    "plt.subplot(2,2,1)\n",
    "plt.imshow(image1)\n",
    "plt.title(label_names[label_index].title())\n",
    "\n",
    "\n",
    "plt.subplot(2,2,2)\n",
    "plt.imshow(image2)\n",
    "\n",
    "plt.grid(False)\n",
    "plt.title(label_names[label_index].title())\n",
    "print()"
   ]
  },
  {
   "cell_type": "code",
   "execution_count": 34,
   "metadata": {},
   "outputs": [
    {
     "data": {
      "text/plain": [
       "(117, 5)"
      ]
     },
     "execution_count": 34,
     "metadata": {},
     "output_type": "execute_result"
    }
   ],
   "source": [
    "label_indexs"
   ]
  },
  {
   "cell_type": "code",
   "execution_count": 87,
   "metadata": {},
   "outputs": [],
   "source": [
    "input_shape = m.input_shape[1:]"
   ]
  },
  {
   "cell_type": "code",
   "execution_count": 88,
   "metadata": {},
   "outputs": [
    {
     "data": {
      "text/plain": [
       "(160, 160, 3)"
      ]
     },
     "execution_count": 88,
     "metadata": {},
     "output_type": "execute_result"
    }
   ],
   "source": [
    "input_shape"
   ]
  },
  {
   "cell_type": "code",
   "execution_count": 89,
   "metadata": {},
   "outputs": [],
   "source": [
    "for layer in m.layers[:-6]:\n",
    "    layer.trainable = False"
   ]
  },
  {
   "cell_type": "code",
   "execution_count": 90,
   "metadata": {},
   "outputs": [],
   "source": [
    "def squared_differences(pair_of_tensors):\n",
    "    x, y = pair_of_tensors\n",
    "    return k.square(x - y)"
   ]
  },
  {
   "cell_type": "code",
   "execution_count": 91,
   "metadata": {},
   "outputs": [],
   "source": [
    "from tensorflow.keras.models import Sequential, Model\n",
    "from tensorflow.keras.layers import Dense, Input, Lambda, add, Dropout, BatchNormalization\n",
    "\n",
    "inputs1 = Input(input_shape)\n",
    "inputs2 = Input(input_shape)\n",
    "x1 = m(inputs1)\n",
    "x2 = m(inputs2)\n",
    "x1 = Model(inputs = inputs1, outputs = x1)\n",
    "x2 = Model(inputs = inputs2, outputs = x2)\n",
    "\n",
    "\n",
    "x = Lambda(squared_differences)([x1.output, x2.output])\n",
    "X = Dense(8, activation = tf.nn.relu)(x)\n",
    "X = Dropout(rate=0.2)(X)\n",
    "X = BatchNormalization()(X)\n",
    " #x= Dropout(0.5)(X)\n",
    "output = Dense(1, activation = 'sigmoid')(x)"
   ]
  },
  {
   "cell_type": "code",
   "execution_count": 92,
   "metadata": {},
   "outputs": [],
   "source": [
    "model = Model(inputs =[x1.input,x2.input], outputs=output)\n",
    "model.compile(\n",
    "    optimizer = tf.keras.optimizers.Adam(0.001), \n",
    "    loss = 'binary_crossentropy', \n",
    "    metrics = [\"accuracy\"],\n",
    ")\n"
   ]
  },
  {
   "cell_type": "code",
   "execution_count": 93,
   "metadata": {},
   "outputs": [],
   "source": [
    "all_train_image_pair_paths_a, all_train_image_pair_paths_b = list(zip(*all_train_image_pair_paths))\n",
    "all_train_image_pair_paths_a = list(all_train_image_pair_paths_a)\n",
    "all_train_image_pair_paths_b = list(all_train_image_pair_paths_b)"
   ]
  },
  {
   "cell_type": "code",
   "execution_count": 94,
   "metadata": {},
   "outputs": [
    {
     "data": {
      "text/plain": [
       "tensorflow.python.data.ops.dataset_ops.DatasetV1Adapter"
      ]
     },
     "execution_count": 94,
     "metadata": {},
     "output_type": "execute_result"
    }
   ],
   "source": [
    "path_ds_a = tf.data.Dataset.from_tensor_slices(all_train_image_pair_paths_a)\n",
    "path_ds_b = tf.data.Dataset.from_tensor_slices(all_train_image_pair_paths_b)\n",
    "\n",
    "type(path_ds_a)"
   ]
  },
  {
   "cell_type": "code",
   "execution_count": 95,
   "metadata": {},
   "outputs": [],
   "source": [
    "train_image_datasource_a = path_ds_a.map(preprocess_image, num_parallel_calls=AUTOTUNE)\n",
    "train_image_datasource_b = path_ds_b.map(preprocess_image, num_parallel_calls=AUTOTUNE)\n",
    "train_image_datasource = tf.data.Dataset.zip((train_image_datasource_a, train_image_datasource_b))"
   ]
  },
  {
   "cell_type": "code",
   "execution_count": 96,
   "metadata": {},
   "outputs": [],
   "source": [
    "train_label_datasource = tf.data.Dataset.from_tensor_slices(tf.cast(all_train_data_labels, tf.int64))"
   ]
  },
  {
   "cell_type": "code",
   "execution_count": 97,
   "metadata": {},
   "outputs": [],
   "source": [
    "train_datasource = tf.data.Dataset.zip((train_image_datasource, train_label_datasource))"
   ]
  },
  {
   "cell_type": "code",
   "execution_count": 98,
   "metadata": {},
   "outputs": [],
   "source": [
    "all_test_image_pair_paths_a, all_test_image_pair_paths_b = list(zip(*all_test_image_pair_paths))\n",
    "all_test_image_pair_paths_a = list(all_test_image_pair_paths_a)\n",
    "all_test_image_pair_paths_b = list(all_test_image_pair_paths_b)"
   ]
  },
  {
   "cell_type": "code",
   "execution_count": 99,
   "metadata": {},
   "outputs": [
    {
     "data": {
      "text/plain": [
       "tensorflow.python.data.ops.dataset_ops.DatasetV1Adapter"
      ]
     },
     "execution_count": 99,
     "metadata": {},
     "output_type": "execute_result"
    }
   ],
   "source": [
    "test_path_ds_a = tf.data.Dataset.from_tensor_slices(all_test_image_pair_paths_a)\n",
    "test_path_ds_b = tf.data.Dataset.from_tensor_slices(all_test_image_pair_paths_b)\n",
    "\n",
    "type(test_path_ds_a)"
   ]
  },
  {
   "cell_type": "code",
   "execution_count": 100,
   "metadata": {},
   "outputs": [],
   "source": [
    "test_image_datasource_a = test_path_ds_a.map(preprocess_image, num_parallel_calls=AUTOTUNE)\n",
    "test_image_datasource_b = test_path_ds_b.map(preprocess_image, num_parallel_calls=AUTOTUNE)\n",
    "test_image_datasource = tf.data.Dataset.zip((test_image_datasource_a, test_image_datasource_b))"
   ]
  },
  {
   "cell_type": "code",
   "execution_count": 101,
   "metadata": {},
   "outputs": [],
   "source": [
    "test_label_datasource = tf.data.Dataset.from_tensor_slices(tf.cast(all_test_data_labels, tf.int64))"
   ]
  },
  {
   "cell_type": "code",
   "execution_count": 102,
   "metadata": {},
   "outputs": [],
   "source": [
    "test_datasource = tf.data.Dataset.zip((test_image_datasource, test_label_datasource))"
   ]
  },
  {
   "cell_type": "code",
   "execution_count": 103,
   "metadata": {},
   "outputs": [],
   "source": [
    "# train_datasource = train_datasource.shuffle(buffer_size=1000)"
   ]
  },
  {
   "cell_type": "code",
   "execution_count": 104,
   "metadata": {},
   "outputs": [],
   "source": [
    "train_datasource = train_datasource.repeat()"
   ]
  },
  {
   "cell_type": "code",
   "execution_count": 105,
   "metadata": {},
   "outputs": [],
   "source": [
    "train_datasource = train_datasource.batch(BATCH_SIZE)"
   ]
  },
  {
   "cell_type": "code",
   "execution_count": 106,
   "metadata": {},
   "outputs": [],
   "source": [
    "train_datasource = train_datasource.prefetch(buffer_size=AUTOTUNE)"
   ]
  },
  {
   "cell_type": "code",
   "execution_count": 107,
   "metadata": {},
   "outputs": [],
   "source": [
    "# test_datasource = test_datasource.shuffle(buffer_size=1000)"
   ]
  },
  {
   "cell_type": "code",
   "execution_count": 108,
   "metadata": {},
   "outputs": [],
   "source": [
    "test_datasource = test_datasource.repeat()"
   ]
  },
  {
   "cell_type": "code",
   "execution_count": 109,
   "metadata": {},
   "outputs": [],
   "source": [
    "test_datasource = test_datasource.batch(BATCH_SIZE)"
   ]
  },
  {
   "cell_type": "code",
   "execution_count": 110,
   "metadata": {},
   "outputs": [],
   "source": [
    "test_datasource = test_datasource.prefetch(buffer_size=AUTOTUNE)"
   ]
  },
  {
   "cell_type": "code",
   "execution_count": 111,
   "metadata": {},
   "outputs": [
    {
     "data": {
      "text/plain": [
       "349"
      ]
     },
     "execution_count": 111,
     "metadata": {},
     "output_type": "execute_result"
    }
   ],
   "source": [
    "int(len(all_test_image_pair_paths)/BATCH_SIZE)"
   ]
  },
  {
   "cell_type": "code",
   "execution_count": null,
   "metadata": {},
   "outputs": [
    {
     "name": "stdout",
     "output_type": "stream",
     "text": [
      "Epoch 1/100\n"
     ]
    },
    {
     "name": "stdout",
     "output_type": "stream",
     "text": [
      " 204/1452 [===>..........................] - ETA: 5:57:01 - loss: 1.7962 - acc: 0.34 - ETA: 3:00:26 - loss: 1.9504 - acc: 0.31 - ETA: 2:01:35 - loss: 1.8905 - acc: 0.31 - ETA: 1:32:09 - loss: 1.8415 - acc: 0.31 - ETA: 1:14:28 - loss: 1.6709 - acc: 0.35 - ETA: 1:02:39 - loss: 1.7044 - acc: 0.34 - ETA: 54:14 - loss: 1.7169 - acc: 0.3438 - ETA: 47:56 - loss: 1.6630 - acc: 0.36 - ETA: 43:06 - loss: 1.6420 - acc: 0.35 - ETA: 39:09 - loss: 1.6009 - acc: 0.37 - ETA: 35:55 - loss: 1.5423 - acc: 0.38 - ETA: 33:15 - loss: 1.5048 - acc: 0.40 - ETA: 30:58 - loss: 1.4770 - acc: 0.40 - ETA: 29:00 - loss: 1.4448 - acc: 0.40 - ETA: 27:19 - loss: 1.4138 - acc: 0.41 - ETA: 25:51 - loss: 1.3842 - acc: 0.41 - ETA: 24:33 - loss: 1.3720 - acc: 0.42 - ETA: 23:24 - loss: 1.3495 - acc: 0.42 - ETA: 22:22 - loss: 1.3402 - acc: 0.43 - ETA: 21:25 - loss: 1.3213 - acc: 0.44 - ETA: 20:34 - loss: 1.3092 - acc: 0.44 - ETA: 19:47 - loss: 1.3055 - acc: 0.44 - ETA: 19:05 - loss: 1.3002 - acc: 0.44 - ETA: 18:27 - loss: 1.2849 - acc: 0.45 - ETA: 17:51 - loss: 1.2705 - acc: 0.45 - ETA: 17:18 - loss: 1.2535 - acc: 0.46 - ETA: 16:48 - loss: 1.2435 - acc: 0.46 - ETA: 16:20 - loss: 1.2279 - acc: 0.47 - ETA: 15:53 - loss: 1.2132 - acc: 0.47 - ETA: 15:28 - loss: 1.1974 - acc: 0.48 - ETA: 15:05 - loss: 1.1824 - acc: 0.48 - ETA: 14:43 - loss: 1.1637 - acc: 0.49 - ETA: 14:23 - loss: 1.1569 - acc: 0.49 - ETA: 14:04 - loss: 1.1356 - acc: 0.50 - ETA: 13:47 - loss: 1.1237 - acc: 0.50 - ETA: 13:30 - loss: 1.1171 - acc: 0.50 - ETA: 13:15 - loss: 1.1105 - acc: 0.50 - ETA: 13:01 - loss: 1.0971 - acc: 0.51 - ETA: 12:48 - loss: 1.0856 - acc: 0.51 - ETA: 12:34 - loss: 1.0776 - acc: 0.52 - ETA: 12:22 - loss: 1.0677 - acc: 0.52 - ETA: 12:09 - loss: 1.0556 - acc: 0.52 - ETA: 11:59 - loss: 1.0507 - acc: 0.53 - ETA: 11:48 - loss: 1.0415 - acc: 0.53 - ETA: 11:37 - loss: 1.0280 - acc: 0.53 - ETA: 11:27 - loss: 1.0226 - acc: 0.54 - ETA: 11:17 - loss: 1.0114 - acc: 0.54 - ETA: 11:08 - loss: 1.0024 - acc: 0.54 - ETA: 10:59 - loss: 0.9946 - acc: 0.55 - ETA: 10:50 - loss: 0.9821 - acc: 0.55 - ETA: 10:42 - loss: 0.9775 - acc: 0.55 - ETA: 10:34 - loss: 0.9692 - acc: 0.56 - ETA: 10:26 - loss: 0.9634 - acc: 0.56 - ETA: 10:19 - loss: 0.9549 - acc: 0.56 - ETA: 10:11 - loss: 0.9444 - acc: 0.57 - ETA: 10:05 - loss: 0.9362 - acc: 0.57 - ETA: 9:58 - loss: 0.9244 - acc: 0.5789 - ETA: 9:51 - loss: 0.9195 - acc: 0.580 - ETA: 9:44 - loss: 0.9128 - acc: 0.582 - ETA: 9:38 - loss: 0.9052 - acc: 0.585 - ETA: 9:31 - loss: 0.8979 - acc: 0.588 - ETA: 9:26 - loss: 0.8964 - acc: 0.590 - ETA: 9:20 - loss: 0.8916 - acc: 0.593 - ETA: 9:14 - loss: 0.8907 - acc: 0.593 - ETA: 9:09 - loss: 0.8839 - acc: 0.597 - ETA: 9:03 - loss: 0.8785 - acc: 0.599 - ETA: 8:58 - loss: 0.8725 - acc: 0.601 - ETA: 8:53 - loss: 0.8661 - acc: 0.605 - ETA: 8:48 - loss: 0.8603 - acc: 0.607 - ETA: 8:44 - loss: 0.8524 - acc: 0.611 - ETA: 8:39 - loss: 0.8483 - acc: 0.614 - ETA: 8:35 - loss: 0.8419 - acc: 0.616 - ETA: 8:31 - loss: 0.8365 - acc: 0.619 - ETA: 8:26 - loss: 0.8321 - acc: 0.622 - ETA: 8:22 - loss: 0.8287 - acc: 0.624 - ETA: 8:18 - loss: 0.8216 - acc: 0.627 - ETA: 8:15 - loss: 0.8170 - acc: 0.630 - ETA: 8:11 - loss: 0.8121 - acc: 0.632 - ETA: 8:07 - loss: 0.8080 - acc: 0.633 - ETA: 8:04 - loss: 0.8030 - acc: 0.636 - ETA: 8:00 - loss: 0.7988 - acc: 0.637 - ETA: 7:57 - loss: 0.7955 - acc: 0.638 - ETA: 7:53 - loss: 0.7925 - acc: 0.639 - ETA: 7:50 - loss: 0.7868 - acc: 0.642 - ETA: 7:47 - loss: 0.7824 - acc: 0.644 - ETA: 7:44 - loss: 0.7785 - acc: 0.646 - ETA: 7:41 - loss: 0.7730 - acc: 0.649 - ETA: 7:38 - loss: 0.7704 - acc: 0.650 - ETA: 7:35 - loss: 0.7658 - acc: 0.652 - ETA: 7:32 - loss: 0.7619 - acc: 0.653 - ETA: 7:29 - loss: 0.7576 - acc: 0.656 - ETA: 7:26 - loss: 0.7523 - acc: 0.658 - ETA: 7:24 - loss: 0.7494 - acc: 0.660 - ETA: 7:21 - loss: 0.7447 - acc: 0.662 - ETA: 7:18 - loss: 0.7411 - acc: 0.664 - ETA: 7:16 - loss: 0.7373 - acc: 0.666 - ETA: 7:13 - loss: 0.7322 - acc: 0.668 - ETA: 7:11 - loss: 0.7284 - acc: 0.671 - ETA: 7:09 - loss: 0.7249 - acc: 0.672 - ETA: 7:06 - loss: 0.7218 - acc: 0.673 - ETA: 7:04 - loss: 0.7184 - acc: 0.674 - ETA: 7:01 - loss: 0.7139 - acc: 0.677 - ETA: 6:59 - loss: 0.7091 - acc: 0.679 - ETA: 6:57 - loss: 0.7056 - acc: 0.681 - ETA: 6:55 - loss: 0.7024 - acc: 0.683 - ETA: 6:52 - loss: 0.6989 - acc: 0.685 - ETA: 6:51 - loss: 0.6964 - acc: 0.686 - ETA: 6:49 - loss: 0.6915 - acc: 0.688 - ETA: 6:47 - loss: 0.6867 - acc: 0.691 - ETA: 6:45 - loss: 0.6825 - acc: 0.693 - ETA: 6:43 - loss: 0.6788 - acc: 0.695 - ETA: 6:41 - loss: 0.6754 - acc: 0.697 - ETA: 6:39 - loss: 0.6731 - acc: 0.698 - ETA: 6:37 - loss: 0.6688 - acc: 0.700 - ETA: 6:35 - loss: 0.6649 - acc: 0.702 - ETA: 6:34 - loss: 0.6622 - acc: 0.703 - ETA: 6:32 - loss: 0.6611 - acc: 0.704 - ETA: 6:30 - loss: 0.6585 - acc: 0.706 - ETA: 6:28 - loss: 0.6558 - acc: 0.707 - ETA: 6:27 - loss: 0.6527 - acc: 0.709 - ETA: 6:25 - loss: 0.6514 - acc: 0.710 - ETA: 6:23 - loss: 0.6489 - acc: 0.711 - ETA: 6:22 - loss: 0.6474 - acc: 0.712 - ETA: 6:20 - loss: 0.6443 - acc: 0.713 - ETA: 6:19 - loss: 0.6413 - acc: 0.715 - ETA: 6:17 - loss: 0.6397 - acc: 0.716 - ETA: 6:15 - loss: 0.6371 - acc: 0.717 - ETA: 6:14 - loss: 0.6349 - acc: 0.718 - ETA: 6:13 - loss: 0.6336 - acc: 0.719 - ETA: 6:11 - loss: 0.6304 - acc: 0.720 - ETA: 6:10 - loss: 0.6291 - acc: 0.721 - ETA: 6:08 - loss: 0.6270 - acc: 0.722 - ETA: 6:07 - loss: 0.6252 - acc: 0.723 - ETA: 6:06 - loss: 0.6240 - acc: 0.723 - ETA: 6:04 - loss: 0.6218 - acc: 0.724 - ETA: 6:03 - loss: 0.6205 - acc: 0.725 - ETA: 6:02 - loss: 0.6203 - acc: 0.725 - ETA: 6:00 - loss: 0.6178 - acc: 0.727 - ETA: 5:59 - loss: 0.6160 - acc: 0.728 - ETA: 5:58 - loss: 0.6139 - acc: 0.729 - ETA: 5:56 - loss: 0.6116 - acc: 0.730 - ETA: 5:55 - loss: 0.6104 - acc: 0.730 - ETA: 5:54 - loss: 0.6079 - acc: 0.731 - ETA: 5:53 - loss: 0.6060 - acc: 0.732 - ETA: 5:52 - loss: 0.6039 - acc: 0.733 - ETA: 5:50 - loss: 0.6016 - acc: 0.734 - ETA: 5:49 - loss: 0.5996 - acc: 0.735 - ETA: 5:48 - loss: 0.5980 - acc: 0.736 - ETA: 5:47 - loss: 0.5952 - acc: 0.737 - ETA: 5:46 - loss: 0.5937 - acc: 0.738 - ETA: 5:45 - loss: 0.5918 - acc: 0.739 - ETA: 5:43 - loss: 0.5903 - acc: 0.740 - ETA: 5:42 - loss: 0.5895 - acc: 0.741 - ETA: 5:41 - loss: 0.5874 - acc: 0.742 - ETA: 5:40 - loss: 0.5858 - acc: 0.742 - ETA: 5:39 - loss: 0.5849 - acc: 0.743 - ETA: 5:38 - loss: 0.5830 - acc: 0.744 - ETA: 5:37 - loss: 0.5804 - acc: 0.745 - ETA: 5:36 - loss: 0.5783 - acc: 0.746 - ETA: 5:35 - loss: 0.5758 - acc: 0.747 - ETA: 5:34 - loss: 0.5734 - acc: 0.748 - ETA: 5:33 - loss: 0.5713 - acc: 0.750 - ETA: 5:32 - loss: 0.5695 - acc: 0.751 - ETA: 5:31 - loss: 0.5685 - acc: 0.751 - ETA: 5:30 - loss: 0.5670 - acc: 0.752 - ETA: 5:29 - loss: 0.5655 - acc: 0.753 - ETA: 5:28 - loss: 0.5636 - acc: 0.754 - ETA: 5:27 - loss: 0.5620 - acc: 0.755 - ETA: 5:26 - loss: 0.5608 - acc: 0.756 - ETA: 5:25 - loss: 0.5587 - acc: 0.757 - ETA: 5:24 - loss: 0.5563 - acc: 0.758 - ETA: 5:23 - loss: 0.5556 - acc: 0.758 - ETA: 5:23 - loss: 0.5546 - acc: 0.758 - ETA: 5:22 - loss: 0.5539 - acc: 0.759 - ETA: 5:21 - loss: 0.5528 - acc: 0.759 - ETA: 5:20 - loss: 0.5506 - acc: 0.761 - ETA: 5:19 - loss: 0.5488 - acc: 0.761 - ETA: 5:19 - loss: 0.5473 - acc: 0.762 - ETA: 5:18 - loss: 0.5455 - acc: 0.763 - ETA: 5:17 - loss: 0.5438 - acc: 0.763 - ETA: 5:16 - loss: 0.5423 - acc: 0.764 - ETA: 5:15 - loss: 0.5407 - acc: 0.764 - ETA: 5:14 - loss: 0.5387 - acc: 0.766 - ETA: 5:13 - loss: 0.5366 - acc: 0.767 - ETA: 5:13 - loss: 0.5358 - acc: 0.767 - ETA: 5:12 - loss: 0.5347 - acc: 0.768 - ETA: 5:11 - loss: 0.5334 - acc: 0.768 - ETA: 5:10 - loss: 0.5318 - acc: 0.769 - ETA: 5:09 - loss: 0.5304 - acc: 0.770 - ETA: 5:09 - loss: 0.5290 - acc: 0.771 - ETA: 5:08 - loss: 0.5275 - acc: 0.771 - ETA: 5:07 - loss: 0.5266 - acc: 0.772 - ETA: 5:06 - loss: 0.5256 - acc: 0.772 - ETA: 5:06 - loss: 0.5246 - acc: 0.772 - ETA: 5:05 - loss: 0.5231 - acc: 0.773 - ETA: 5:04 - loss: 0.5225 - acc: 0.773 - ETA: 5:03 - loss: 0.5214 - acc: 0.774 - ETA: 5:03 - loss: 0.5194 - acc: 0.775 - ETA: 5:02 - loss: 0.5196 - acc: 0.775 - ETA: 5:01 - loss: 0.5188 - acc: 0.775 - ETA: 5:00 - loss: 0.5179 - acc: 0.776 - ETA: 5:00 - loss: 0.5165 - acc: 0.777 - ETA: 4:59 - loss: 0.5147 - acc: 0.778 - ETA: 4:58 - loss: 0.5142 - acc: 0.778 408/1452 [=======>......................] - ETA: 4:58 - loss: 0.5136 - acc: 0.778 - ETA: 4:57 - loss: 0.5130 - acc: 0.779 - ETA: 4:56 - loss: 0.5115 - acc: 0.780 - ETA: 4:56 - loss: 0.5111 - acc: 0.780 - ETA: 4:55 - loss: 0.5092 - acc: 0.781 - ETA: 4:54 - loss: 0.5080 - acc: 0.781 - ETA: 4:54 - loss: 0.5074 - acc: 0.781 - ETA: 4:53 - loss: 0.5060 - acc: 0.782 - ETA: 4:52 - loss: 0.5060 - acc: 0.782 - ETA: 4:52 - loss: 0.5050 - acc: 0.782 - ETA: 4:51 - loss: 0.5036 - acc: 0.783 - ETA: 4:50 - loss: 0.5025 - acc: 0.783 - ETA: 4:50 - loss: 0.5014 - acc: 0.784 - ETA: 4:49 - loss: 0.5013 - acc: 0.784 - ETA: 4:48 - loss: 0.5000 - acc: 0.784 - ETA: 4:48 - loss: 0.4986 - acc: 0.785 - ETA: 4:47 - loss: 0.4972 - acc: 0.786 - ETA: 4:46 - loss: 0.4964 - acc: 0.786 - ETA: 4:46 - loss: 0.4953 - acc: 0.787 - ETA: 4:45 - loss: 0.4952 - acc: 0.787 - ETA: 4:45 - loss: 0.4940 - acc: 0.787 - ETA: 4:44 - loss: 0.4931 - acc: 0.788 - ETA: 4:43 - loss: 0.4918 - acc: 0.788 - ETA: 4:43 - loss: 0.4905 - acc: 0.789 - ETA: 4:42 - loss: 0.4894 - acc: 0.789 - ETA: 4:42 - loss: 0.4882 - acc: 0.790 - ETA: 4:41 - loss: 0.4867 - acc: 0.791 - ETA: 4:40 - loss: 0.4867 - acc: 0.791 - ETA: 4:40 - loss: 0.4854 - acc: 0.792 - ETA: 4:39 - loss: 0.4853 - acc: 0.792 - ETA: 4:39 - loss: 0.4846 - acc: 0.792 - ETA: 4:38 - loss: 0.4837 - acc: 0.793 - ETA: 4:38 - loss: 0.4831 - acc: 0.793 - ETA: 4:37 - loss: 0.4818 - acc: 0.794 - ETA: 4:37 - loss: 0.4815 - acc: 0.794 - ETA: 4:36 - loss: 0.4803 - acc: 0.794 - ETA: 4:36 - loss: 0.4801 - acc: 0.794 - ETA: 4:35 - loss: 0.4789 - acc: 0.795 - ETA: 4:35 - loss: 0.4775 - acc: 0.796 - ETA: 4:34 - loss: 0.4763 - acc: 0.797 - ETA: 4:33 - loss: 0.4753 - acc: 0.797 - ETA: 4:33 - loss: 0.4747 - acc: 0.797 - ETA: 4:32 - loss: 0.4737 - acc: 0.798 - ETA: 4:32 - loss: 0.4729 - acc: 0.799 - ETA: 4:31 - loss: 0.4718 - acc: 0.799 - ETA: 4:31 - loss: 0.4712 - acc: 0.800 - ETA: 4:30 - loss: 0.4698 - acc: 0.800 - ETA: 4:30 - loss: 0.4685 - acc: 0.801 - ETA: 4:29 - loss: 0.4674 - acc: 0.801 - ETA: 4:29 - loss: 0.4665 - acc: 0.802 - ETA: 4:29 - loss: 0.4653 - acc: 0.802 - ETA: 4:28 - loss: 0.4644 - acc: 0.803 - ETA: 4:28 - loss: 0.4635 - acc: 0.803 - ETA: 4:27 - loss: 0.4629 - acc: 0.803 - ETA: 4:27 - loss: 0.4621 - acc: 0.804 - ETA: 4:26 - loss: 0.4616 - acc: 0.804 - ETA: 4:26 - loss: 0.4606 - acc: 0.804 - ETA: 4:25 - loss: 0.4599 - acc: 0.805 - ETA: 4:25 - loss: 0.4591 - acc: 0.805 - ETA: 4:24 - loss: 0.4589 - acc: 0.805 - ETA: 4:24 - loss: 0.4582 - acc: 0.805 - ETA: 4:23 - loss: 0.4570 - acc: 0.806 - ETA: 4:23 - loss: 0.4557 - acc: 0.807 - ETA: 4:22 - loss: 0.4557 - acc: 0.807 - ETA: 4:22 - loss: 0.4551 - acc: 0.807 - ETA: 4:21 - loss: 0.4546 - acc: 0.807 - ETA: 4:21 - loss: 0.4540 - acc: 0.808 - ETA: 4:20 - loss: 0.4536 - acc: 0.808 - ETA: 4:20 - loss: 0.4531 - acc: 0.808 - ETA: 4:20 - loss: 0.4522 - acc: 0.809 - ETA: 4:19 - loss: 0.4518 - acc: 0.809 - ETA: 4:19 - loss: 0.4507 - acc: 0.809 - ETA: 4:18 - loss: 0.4500 - acc: 0.810 - ETA: 4:18 - loss: 0.4496 - acc: 0.810 - ETA: 4:17 - loss: 0.4490 - acc: 0.810 - ETA: 4:17 - loss: 0.4480 - acc: 0.811 - ETA: 4:17 - loss: 0.4468 - acc: 0.811 - ETA: 4:16 - loss: 0.4461 - acc: 0.812 - ETA: 4:16 - loss: 0.4453 - acc: 0.812 - ETA: 4:15 - loss: 0.4445 - acc: 0.812 - ETA: 4:15 - loss: 0.4433 - acc: 0.813 - ETA: 4:14 - loss: 0.4426 - acc: 0.813 - ETA: 4:14 - loss: 0.4420 - acc: 0.814 - ETA: 4:14 - loss: 0.4416 - acc: 0.814 - ETA: 4:13 - loss: 0.4421 - acc: 0.814 - ETA: 4:13 - loss: 0.4412 - acc: 0.814 - ETA: 4:12 - loss: 0.4402 - acc: 0.815 - ETA: 4:12 - loss: 0.4396 - acc: 0.815 - ETA: 4:12 - loss: 0.4389 - acc: 0.815 - ETA: 4:11 - loss: 0.4379 - acc: 0.816 - ETA: 4:11 - loss: 0.4373 - acc: 0.816 - ETA: 4:10 - loss: 0.4368 - acc: 0.816 - ETA: 4:10 - loss: 0.4365 - acc: 0.817 - ETA: 4:09 - loss: 0.4359 - acc: 0.817 - ETA: 4:09 - loss: 0.4352 - acc: 0.817 - ETA: 4:09 - loss: 0.4349 - acc: 0.818 - ETA: 4:08 - loss: 0.4342 - acc: 0.818 - ETA: 4:08 - loss: 0.4335 - acc: 0.818 - ETA: 4:07 - loss: 0.4336 - acc: 0.818 - ETA: 4:07 - loss: 0.4335 - acc: 0.818 - ETA: 4:07 - loss: 0.4328 - acc: 0.819 - ETA: 4:06 - loss: 0.4321 - acc: 0.819 - ETA: 4:06 - loss: 0.4319 - acc: 0.819 - ETA: 4:05 - loss: 0.4311 - acc: 0.819 - ETA: 4:05 - loss: 0.4306 - acc: 0.820 - ETA: 4:05 - loss: 0.4298 - acc: 0.820 - ETA: 4:04 - loss: 0.4296 - acc: 0.820 - ETA: 4:04 - loss: 0.4290 - acc: 0.820 - ETA: 4:03 - loss: 0.4285 - acc: 0.821 - ETA: 4:03 - loss: 0.4277 - acc: 0.821 - ETA: 4:03 - loss: 0.4268 - acc: 0.821 - ETA: 4:02 - loss: 0.4261 - acc: 0.822 - ETA: 4:02 - loss: 0.4254 - acc: 0.822 - ETA: 4:02 - loss: 0.4248 - acc: 0.823 - ETA: 4:01 - loss: 0.4251 - acc: 0.822 - ETA: 4:01 - loss: 0.4244 - acc: 0.823 - ETA: 4:01 - loss: 0.4241 - acc: 0.823 - ETA: 4:00 - loss: 0.4238 - acc: 0.823 - ETA: 4:00 - loss: 0.4229 - acc: 0.824 - ETA: 3:59 - loss: 0.4226 - acc: 0.824 - ETA: 3:59 - loss: 0.4220 - acc: 0.824 - ETA: 3:59 - loss: 0.4213 - acc: 0.824 - ETA: 3:58 - loss: 0.4214 - acc: 0.824 - ETA: 3:58 - loss: 0.4206 - acc: 0.825 - ETA: 3:57 - loss: 0.4199 - acc: 0.825 - ETA: 3:57 - loss: 0.4194 - acc: 0.826 - ETA: 3:57 - loss: 0.4187 - acc: 0.826 - ETA: 3:56 - loss: 0.4179 - acc: 0.826 - ETA: 3:56 - loss: 0.4171 - acc: 0.827 - ETA: 3:56 - loss: 0.4161 - acc: 0.827 - ETA: 3:55 - loss: 0.4152 - acc: 0.828 - ETA: 3:55 - loss: 0.4150 - acc: 0.828 - ETA: 3:54 - loss: 0.4143 - acc: 0.828 - ETA: 3:54 - loss: 0.4140 - acc: 0.828 - ETA: 3:54 - loss: 0.4130 - acc: 0.829 - ETA: 3:53 - loss: 0.4124 - acc: 0.829 - ETA: 3:53 - loss: 0.4117 - acc: 0.829 - ETA: 3:53 - loss: 0.4113 - acc: 0.830 - ETA: 3:52 - loss: 0.4107 - acc: 0.830 - ETA: 3:52 - loss: 0.4104 - acc: 0.830 - ETA: 3:52 - loss: 0.4097 - acc: 0.830 - ETA: 3:51 - loss: 0.4090 - acc: 0.830 - ETA: 3:51 - loss: 0.4084 - acc: 0.831 - ETA: 3:51 - loss: 0.4086 - acc: 0.830 - ETA: 3:50 - loss: 0.4085 - acc: 0.830 - ETA: 3:50 - loss: 0.4079 - acc: 0.831 - ETA: 3:50 - loss: 0.4071 - acc: 0.831 - ETA: 3:49 - loss: 0.4063 - acc: 0.831 - ETA: 3:49 - loss: 0.4055 - acc: 0.832 - ETA: 3:49 - loss: 0.4050 - acc: 0.832 - ETA: 3:48 - loss: 0.4046 - acc: 0.832 - ETA: 3:48 - loss: 0.4041 - acc: 0.833 - ETA: 3:48 - loss: 0.4041 - acc: 0.833 - ETA: 3:47 - loss: 0.4037 - acc: 0.833 - ETA: 3:47 - loss: 0.4034 - acc: 0.833 - ETA: 3:47 - loss: 0.4028 - acc: 0.833 - ETA: 3:46 - loss: 0.4022 - acc: 0.833 - ETA: 3:46 - loss: 0.4020 - acc: 0.834 - ETA: 3:46 - loss: 0.4018 - acc: 0.834 - ETA: 3:45 - loss: 0.4015 - acc: 0.834 - ETA: 3:45 - loss: 0.4012 - acc: 0.834 - ETA: 3:45 - loss: 0.4007 - acc: 0.834 - ETA: 3:44 - loss: 0.4001 - acc: 0.834 - ETA: 3:44 - loss: 0.4002 - acc: 0.834 - ETA: 3:44 - loss: 0.3999 - acc: 0.834 - ETA: 3:43 - loss: 0.3991 - acc: 0.835 - ETA: 3:43 - loss: 0.3987 - acc: 0.835 - ETA: 3:43 - loss: 0.3985 - acc: 0.835 - ETA: 3:43 - loss: 0.3979 - acc: 0.835 - ETA: 3:42 - loss: 0.3980 - acc: 0.835 - ETA: 3:42 - loss: 0.3974 - acc: 0.835 - ETA: 3:42 - loss: 0.3966 - acc: 0.836 - ETA: 3:42 - loss: 0.3966 - acc: 0.836 - ETA: 3:41 - loss: 0.3961 - acc: 0.836 - ETA: 3:41 - loss: 0.3962 - acc: 0.836 - ETA: 3:41 - loss: 0.3959 - acc: 0.836 - ETA: 3:40 - loss: 0.3953 - acc: 0.836 - ETA: 3:40 - loss: 0.3945 - acc: 0.837 - ETA: 3:40 - loss: 0.3944 - acc: 0.837 - ETA: 3:39 - loss: 0.3941 - acc: 0.837 - ETA: 3:39 - loss: 0.3940 - acc: 0.837 - ETA: 3:39 - loss: 0.3940 - acc: 0.837 - ETA: 3:39 - loss: 0.3943 - acc: 0.837 - ETA: 3:38 - loss: 0.3938 - acc: 0.837 - ETA: 3:38 - loss: 0.3931 - acc: 0.837 - ETA: 3:38 - loss: 0.3927 - acc: 0.838 - ETA: 3:38 - loss: 0.3924 - acc: 0.838 - ETA: 3:37 - loss: 0.3921 - acc: 0.838 - ETA: 3:37 - loss: 0.3917 - acc: 0.838 - ETA: 3:37 - loss: 0.3912 - acc: 0.838 - ETA: 3:37 - loss: 0.3908 - acc: 0.838 - ETA: 3:36 - loss: 0.3902 - acc: 0.839 - ETA: 3:36 - loss: 0.3901 - acc: 0.839 - ETA: 3:36 - loss: 0.3895 - acc: 0.839 - ETA: 3:35 - loss: 0.3892 - acc: 0.839 - ETA: 3:35 - loss: 0.3889 - acc: 0.839 - ETA: 3:35 - loss: 0.3885 - acc: 0.840 - ETA: 3:35 - loss: 0.3883 - acc: 0.840 - ETA: 3:34 - loss: 0.3883 - acc: 0.840 - ETA: 3:34 - loss: 0.3878 - acc: 0.840 - ETA: 3:34 - loss: 0.3876 - acc: 0.840 - ETA: 3:33 - loss: 0.3874 - acc: 0.840 - ETA: 3:33 - loss: 0.3870 - acc: 0.840 - ETA: 3:33 - loss: 0.3866 - acc: 0.8410"
     ]
    },
    {
     "name": "stdout",
     "output_type": "stream",
     "text": [
      " 612/1452 [===========>..................] - ETA: 3:33 - loss: 0.3863 - acc: 0.841 - ETA: 3:32 - loss: 0.3859 - acc: 0.841 - ETA: 3:32 - loss: 0.3854 - acc: 0.841 - ETA: 3:32 - loss: 0.3853 - acc: 0.841 - ETA: 3:31 - loss: 0.3851 - acc: 0.841 - ETA: 3:31 - loss: 0.3845 - acc: 0.842 - ETA: 3:31 - loss: 0.3842 - acc: 0.842 - ETA: 3:30 - loss: 0.3838 - acc: 0.842 - ETA: 3:30 - loss: 0.3833 - acc: 0.842 - ETA: 3:30 - loss: 0.3832 - acc: 0.842 - ETA: 3:29 - loss: 0.3833 - acc: 0.842 - ETA: 3:29 - loss: 0.3832 - acc: 0.842 - ETA: 3:29 - loss: 0.3826 - acc: 0.842 - ETA: 3:29 - loss: 0.3820 - acc: 0.843 - ETA: 3:28 - loss: 0.3817 - acc: 0.843 - ETA: 3:28 - loss: 0.3812 - acc: 0.843 - ETA: 3:28 - loss: 0.3809 - acc: 0.843 - ETA: 3:27 - loss: 0.3806 - acc: 0.843 - ETA: 3:27 - loss: 0.3802 - acc: 0.843 - ETA: 3:27 - loss: 0.3798 - acc: 0.843 - ETA: 3:27 - loss: 0.3796 - acc: 0.844 - ETA: 3:26 - loss: 0.3791 - acc: 0.844 - ETA: 3:26 - loss: 0.3787 - acc: 0.844 - ETA: 3:26 - loss: 0.3786 - acc: 0.844 - ETA: 3:25 - loss: 0.3788 - acc: 0.844 - ETA: 3:25 - loss: 0.3788 - acc: 0.844 - ETA: 3:25 - loss: 0.3791 - acc: 0.844 - ETA: 3:25 - loss: 0.3786 - acc: 0.844 - ETA: 3:24 - loss: 0.3782 - acc: 0.844 - ETA: 3:24 - loss: 0.3775 - acc: 0.845 - ETA: 3:24 - loss: 0.3772 - acc: 0.845 - ETA: 3:23 - loss: 0.3769 - acc: 0.845 - ETA: 3:23 - loss: 0.3767 - acc: 0.845 - ETA: 3:23 - loss: 0.3766 - acc: 0.845 - ETA: 3:23 - loss: 0.3763 - acc: 0.845 - ETA: 3:22 - loss: 0.3757 - acc: 0.846 - ETA: 3:22 - loss: 0.3756 - acc: 0.845 - ETA: 3:22 - loss: 0.3750 - acc: 0.846 - ETA: 3:22 - loss: 0.3747 - acc: 0.846 - ETA: 3:21 - loss: 0.3745 - acc: 0.846 - ETA: 3:21 - loss: 0.3741 - acc: 0.846 - ETA: 3:21 - loss: 0.3736 - acc: 0.846 - ETA: 3:20 - loss: 0.3731 - acc: 0.847 - ETA: 3:20 - loss: 0.3725 - acc: 0.847 - ETA: 3:20 - loss: 0.3720 - acc: 0.847 - ETA: 3:20 - loss: 0.3716 - acc: 0.847 - ETA: 3:20 - loss: 0.3715 - acc: 0.847 - ETA: 3:19 - loss: 0.3710 - acc: 0.848 - ETA: 3:19 - loss: 0.3708 - acc: 0.848 - ETA: 3:19 - loss: 0.3703 - acc: 0.848 - ETA: 3:19 - loss: 0.3704 - acc: 0.848 - ETA: 3:18 - loss: 0.3700 - acc: 0.849 - ETA: 3:18 - loss: 0.3700 - acc: 0.849 - ETA: 3:18 - loss: 0.3697 - acc: 0.849 - ETA: 3:18 - loss: 0.3692 - acc: 0.849 - ETA: 3:17 - loss: 0.3690 - acc: 0.849 - ETA: 3:17 - loss: 0.3684 - acc: 0.849 - ETA: 3:17 - loss: 0.3681 - acc: 0.849 - ETA: 3:17 - loss: 0.3676 - acc: 0.850 - ETA: 3:17 - loss: 0.3670 - acc: 0.850 - ETA: 3:16 - loss: 0.3665 - acc: 0.850 - ETA: 3:16 - loss: 0.3663 - acc: 0.850 - ETA: 3:16 - loss: 0.3661 - acc: 0.850 - ETA: 3:16 - loss: 0.3662 - acc: 0.850 - ETA: 3:15 - loss: 0.3658 - acc: 0.851 - ETA: 3:15 - loss: 0.3664 - acc: 0.850 - ETA: 3:15 - loss: 0.3661 - acc: 0.851 - ETA: 3:15 - loss: 0.3662 - acc: 0.851 - ETA: 3:14 - loss: 0.3657 - acc: 0.851 - ETA: 3:14 - loss: 0.3656 - acc: 0.851 - ETA: 3:14 - loss: 0.3655 - acc: 0.851 - ETA: 3:14 - loss: 0.3650 - acc: 0.851 - ETA: 3:14 - loss: 0.3647 - acc: 0.851 - ETA: 3:13 - loss: 0.3649 - acc: 0.851 - ETA: 3:13 - loss: 0.3644 - acc: 0.852 - ETA: 3:13 - loss: 0.3643 - acc: 0.852 - ETA: 3:13 - loss: 0.3639 - acc: 0.852 - ETA: 3:12 - loss: 0.3636 - acc: 0.852 - ETA: 3:12 - loss: 0.3632 - acc: 0.852 - ETA: 3:12 - loss: 0.3627 - acc: 0.853 - ETA: 3:12 - loss: 0.3626 - acc: 0.853 - ETA: 3:11 - loss: 0.3622 - acc: 0.853 - ETA: 3:11 - loss: 0.3617 - acc: 0.853 - ETA: 3:11 - loss: 0.3611 - acc: 0.853 - ETA: 3:11 - loss: 0.3607 - acc: 0.854 - ETA: 3:11 - loss: 0.3602 - acc: 0.854 - ETA: 3:10 - loss: 0.3598 - acc: 0.854 - ETA: 3:10 - loss: 0.3596 - acc: 0.854 - ETA: 3:10 - loss: 0.3591 - acc: 0.854 - ETA: 3:10 - loss: 0.3587 - acc: 0.855 - ETA: 3:09 - loss: 0.3585 - acc: 0.855 - ETA: 3:09 - loss: 0.3580 - acc: 0.855 - ETA: 3:09 - loss: 0.3574 - acc: 0.855 - ETA: 3:09 - loss: 0.3571 - acc: 0.855 - ETA: 3:08 - loss: 0.3565 - acc: 0.856 - ETA: 3:08 - loss: 0.3565 - acc: 0.856 - ETA: 3:08 - loss: 0.3560 - acc: 0.856 - ETA: 3:08 - loss: 0.3557 - acc: 0.856 - ETA: 3:07 - loss: 0.3557 - acc: 0.856 - ETA: 3:07 - loss: 0.3556 - acc: 0.856 - ETA: 3:07 - loss: 0.3553 - acc: 0.856 - ETA: 3:07 - loss: 0.3548 - acc: 0.856 - ETA: 3:06 - loss: 0.3543 - acc: 0.857 - ETA: 3:06 - loss: 0.3538 - acc: 0.857 - ETA: 3:06 - loss: 0.3535 - acc: 0.857 - ETA: 3:06 - loss: 0.3534 - acc: 0.857 - ETA: 3:05 - loss: 0.3530 - acc: 0.858 - ETA: 3:05 - loss: 0.3525 - acc: 0.858 - ETA: 3:05 - loss: 0.3520 - acc: 0.858 - ETA: 3:05 - loss: 0.3517 - acc: 0.858 - ETA: 3:04 - loss: 0.3515 - acc: 0.858 - ETA: 3:04 - loss: 0.3510 - acc: 0.859 - ETA: 3:04 - loss: 0.3506 - acc: 0.859 - ETA: 3:04 - loss: 0.3503 - acc: 0.859 - ETA: 3:04 - loss: 0.3503 - acc: 0.859 - ETA: 3:03 - loss: 0.3503 - acc: 0.859 - ETA: 3:03 - loss: 0.3500 - acc: 0.859 - ETA: 3:03 - loss: 0.3496 - acc: 0.859 - ETA: 3:02 - loss: 0.3492 - acc: 0.859 - ETA: 3:02 - loss: 0.3488 - acc: 0.860 - ETA: 3:02 - loss: 0.3486 - acc: 0.860 - ETA: 3:02 - loss: 0.3483 - acc: 0.860 - ETA: 3:01 - loss: 0.3482 - acc: 0.860 - ETA: 3:01 - loss: 0.3478 - acc: 0.860 - ETA: 3:01 - loss: 0.3473 - acc: 0.860 - ETA: 3:01 - loss: 0.3471 - acc: 0.860 - ETA: 3:00 - loss: 0.3469 - acc: 0.860 - ETA: 3:00 - loss: 0.3466 - acc: 0.861 - ETA: 3:00 - loss: 0.3463 - acc: 0.861 - ETA: 3:00 - loss: 0.3463 - acc: 0.861 - ETA: 2:59 - loss: 0.3464 - acc: 0.861 - ETA: 2:59 - loss: 0.3464 - acc: 0.861 - ETA: 2:59 - loss: 0.3462 - acc: 0.861 - ETA: 2:59 - loss: 0.3459 - acc: 0.861 - ETA: 2:59 - loss: 0.3454 - acc: 0.861 - ETA: 2:58 - loss: 0.3451 - acc: 0.861 - ETA: 2:58 - loss: 0.3449 - acc: 0.861 - ETA: 2:58 - loss: 0.3449 - acc: 0.861 - ETA: 2:58 - loss: 0.3445 - acc: 0.861 - ETA: 2:57 - loss: 0.3441 - acc: 0.862 - ETA: 2:57 - loss: 0.3437 - acc: 0.862 - ETA: 2:57 - loss: 0.3438 - acc: 0.862 - ETA: 2:57 - loss: 0.3438 - acc: 0.862 - ETA: 2:56 - loss: 0.3433 - acc: 0.862 - ETA: 2:56 - loss: 0.3429 - acc: 0.862 - ETA: 2:56 - loss: 0.3424 - acc: 0.862 - ETA: 2:56 - loss: 0.3421 - acc: 0.863 - ETA: 2:55 - loss: 0.3416 - acc: 0.863 - ETA: 2:55 - loss: 0.3415 - acc: 0.863 - ETA: 2:55 - loss: 0.3412 - acc: 0.863 - ETA: 2:55 - loss: 0.3411 - acc: 0.863 - ETA: 2:54 - loss: 0.3409 - acc: 0.863 - ETA: 2:54 - loss: 0.3408 - acc: 0.863 - ETA: 2:54 - loss: 0.3405 - acc: 0.863 - ETA: 2:54 - loss: 0.3405 - acc: 0.863 - ETA: 2:53 - loss: 0.3403 - acc: 0.863 - ETA: 2:53 - loss: 0.3399 - acc: 0.864 - ETA: 2:53 - loss: 0.3396 - acc: 0.864 - ETA: 2:53 - loss: 0.3394 - acc: 0.864 - ETA: 2:53 - loss: 0.3394 - acc: 0.864 - ETA: 2:52 - loss: 0.3390 - acc: 0.864 - ETA: 2:52 - loss: 0.3390 - acc: 0.864 - ETA: 2:52 - loss: 0.3389 - acc: 0.864 - ETA: 2:52 - loss: 0.3387 - acc: 0.864 - ETA: 2:51 - loss: 0.3383 - acc: 0.864 - ETA: 2:51 - loss: 0.3380 - acc: 0.865 - ETA: 2:51 - loss: 0.3378 - acc: 0.865 - ETA: 2:51 - loss: 0.3375 - acc: 0.865 - ETA: 2:50 - loss: 0.3374 - acc: 0.865 - ETA: 2:50 - loss: 0.3371 - acc: 0.865 - ETA: 2:50 - loss: 0.3368 - acc: 0.865 - ETA: 2:50 - loss: 0.3368 - acc: 0.865 - ETA: 2:50 - loss: 0.3365 - acc: 0.865 - ETA: 2:49 - loss: 0.3363 - acc: 0.866 - ETA: 2:49 - loss: 0.3363 - acc: 0.866 - ETA: 2:49 - loss: 0.3360 - acc: 0.866 - ETA: 2:49 - loss: 0.3360 - acc: 0.866 - ETA: 2:48 - loss: 0.3359 - acc: 0.866 - ETA: 2:48 - loss: 0.3356 - acc: 0.866 - ETA: 2:48 - loss: 0.3353 - acc: 0.866 - ETA: 2:48 - loss: 0.3351 - acc: 0.866 - ETA: 2:47 - loss: 0.3350 - acc: 0.866 - ETA: 2:47 - loss: 0.3347 - acc: 0.866 - ETA: 2:47 - loss: 0.3344 - acc: 0.866 - ETA: 2:47 - loss: 0.3340 - acc: 0.867 - ETA: 2:46 - loss: 0.3338 - acc: 0.867 - ETA: 2:46 - loss: 0.3336 - acc: 0.867 - ETA: 2:46 - loss: 0.3332 - acc: 0.867 - ETA: 2:46 - loss: 0.3328 - acc: 0.867 - ETA: 2:46 - loss: 0.3325 - acc: 0.867 - ETA: 2:45 - loss: 0.3322 - acc: 0.867 - ETA: 2:45 - loss: 0.3319 - acc: 0.867 - ETA: 2:45 - loss: 0.3317 - acc: 0.867 - ETA: 2:45 - loss: 0.3318 - acc: 0.867 - ETA: 2:44 - loss: 0.3319 - acc: 0.867 - ETA: 2:44 - loss: 0.3315 - acc: 0.868 - ETA: 2:44 - loss: 0.3312 - acc: 0.868 - ETA: 2:44 - loss: 0.3310 - acc: 0.868 - ETA: 2:43 - loss: 0.3307 - acc: 0.868 - ETA: 2:43 - loss: 0.3306 - acc: 0.868 - ETA: 2:43 - loss: 0.3306 - acc: 0.868 - ETA: 2:43 - loss: 0.3304 - acc: 0.868 - ETA: 2:43 - loss: 0.3301 - acc: 0.868 - ETA: 2:42 - loss: 0.3301 - acc: 0.8686"
     ]
    },
    {
     "name": "stdout",
     "output_type": "stream",
     "text": [
      " 816/1452 [===============>..............] - ETA: 2:42 - loss: 0.3299 - acc: 0.868 - ETA: 2:42 - loss: 0.3297 - acc: 0.868 - ETA: 2:42 - loss: 0.3294 - acc: 0.868 - ETA: 2:41 - loss: 0.3291 - acc: 0.869 - ETA: 2:41 - loss: 0.3290 - acc: 0.869 - ETA: 2:41 - loss: 0.3287 - acc: 0.869 - ETA: 2:41 - loss: 0.3283 - acc: 0.869 - ETA: 2:40 - loss: 0.3281 - acc: 0.869 - ETA: 2:40 - loss: 0.3277 - acc: 0.869 - ETA: 2:40 - loss: 0.3276 - acc: 0.869 - ETA: 2:40 - loss: 0.3274 - acc: 0.869 - ETA: 2:40 - loss: 0.3272 - acc: 0.869 - ETA: 2:39 - loss: 0.3271 - acc: 0.870 - ETA: 2:39 - loss: 0.3269 - acc: 0.870 - ETA: 2:39 - loss: 0.3268 - acc: 0.870 - ETA: 2:39 - loss: 0.3270 - acc: 0.870 - ETA: 2:38 - loss: 0.3267 - acc: 0.870 - ETA: 2:38 - loss: 0.3266 - acc: 0.870 - ETA: 2:38 - loss: 0.3264 - acc: 0.870 - ETA: 2:38 - loss: 0.3262 - acc: 0.870 - ETA: 2:38 - loss: 0.3264 - acc: 0.870 - ETA: 2:37 - loss: 0.3263 - acc: 0.870 - ETA: 2:37 - loss: 0.3264 - acc: 0.870 - ETA: 2:37 - loss: 0.3260 - acc: 0.870 - ETA: 2:37 - loss: 0.3260 - acc: 0.870 - ETA: 2:36 - loss: 0.3257 - acc: 0.870 - ETA: 2:36 - loss: 0.3257 - acc: 0.870 - ETA: 2:36 - loss: 0.3255 - acc: 0.870 - ETA: 2:36 - loss: 0.3252 - acc: 0.870 - ETA: 2:36 - loss: 0.3250 - acc: 0.870 - ETA: 2:35 - loss: 0.3247 - acc: 0.871 - ETA: 2:35 - loss: 0.3246 - acc: 0.871 - ETA: 2:35 - loss: 0.3243 - acc: 0.871 - ETA: 2:35 - loss: 0.3241 - acc: 0.871 - ETA: 2:35 - loss: 0.3239 - acc: 0.871 - ETA: 2:34 - loss: 0.3240 - acc: 0.871 - ETA: 2:34 - loss: 0.3238 - acc: 0.871 - ETA: 2:34 - loss: 0.3237 - acc: 0.871 - ETA: 2:34 - loss: 0.3236 - acc: 0.871 - ETA: 2:33 - loss: 0.3235 - acc: 0.871 - ETA: 2:33 - loss: 0.3235 - acc: 0.871 - ETA: 2:33 - loss: 0.3233 - acc: 0.871 - ETA: 2:33 - loss: 0.3231 - acc: 0.871 - ETA: 2:33 - loss: 0.3228 - acc: 0.871 - ETA: 2:32 - loss: 0.3225 - acc: 0.872 - ETA: 2:32 - loss: 0.3224 - acc: 0.872 - ETA: 2:32 - loss: 0.3225 - acc: 0.872 - ETA: 2:32 - loss: 0.3223 - acc: 0.872 - ETA: 2:32 - loss: 0.3219 - acc: 0.872 - ETA: 2:31 - loss: 0.3217 - acc: 0.872 - ETA: 2:31 - loss: 0.3218 - acc: 0.872 - ETA: 2:31 - loss: 0.3216 - acc: 0.872 - ETA: 2:31 - loss: 0.3214 - acc: 0.872 - ETA: 2:30 - loss: 0.3211 - acc: 0.872 - ETA: 2:30 - loss: 0.3208 - acc: 0.872 - ETA: 2:30 - loss: 0.3207 - acc: 0.872 - ETA: 2:30 - loss: 0.3207 - acc: 0.872 - ETA: 2:30 - loss: 0.3207 - acc: 0.872 - ETA: 2:29 - loss: 0.3204 - acc: 0.873 - ETA: 2:29 - loss: 0.3202 - acc: 0.873 - ETA: 2:29 - loss: 0.3200 - acc: 0.873 - ETA: 2:29 - loss: 0.3197 - acc: 0.873 - ETA: 2:29 - loss: 0.3197 - acc: 0.873 - ETA: 2:28 - loss: 0.3195 - acc: 0.873 - ETA: 2:28 - loss: 0.3191 - acc: 0.873 - ETA: 2:28 - loss: 0.3194 - acc: 0.873 - ETA: 2:28 - loss: 0.3192 - acc: 0.873 - ETA: 2:27 - loss: 0.3189 - acc: 0.873 - ETA: 2:27 - loss: 0.3187 - acc: 0.873 - ETA: 2:27 - loss: 0.3186 - acc: 0.873 - ETA: 2:27 - loss: 0.3184 - acc: 0.874 - ETA: 2:27 - loss: 0.3181 - acc: 0.874 - ETA: 2:26 - loss: 0.3178 - acc: 0.874 - ETA: 2:26 - loss: 0.3177 - acc: 0.874 - ETA: 2:26 - loss: 0.3176 - acc: 0.874 - ETA: 2:26 - loss: 0.3173 - acc: 0.874 - ETA: 2:25 - loss: 0.3170 - acc: 0.874 - ETA: 2:25 - loss: 0.3169 - acc: 0.874 - ETA: 2:25 - loss: 0.3169 - acc: 0.874 - ETA: 2:25 - loss: 0.3167 - acc: 0.875 - ETA: 2:25 - loss: 0.3164 - acc: 0.875 - ETA: 2:24 - loss: 0.3164 - acc: 0.875 - ETA: 2:24 - loss: 0.3165 - acc: 0.874 - ETA: 2:24 - loss: 0.3163 - acc: 0.875 - ETA: 2:24 - loss: 0.3160 - acc: 0.875 - ETA: 2:24 - loss: 0.3158 - acc: 0.875 - ETA: 2:23 - loss: 0.3158 - acc: 0.875 - ETA: 2:23 - loss: 0.3158 - acc: 0.875 - ETA: 2:23 - loss: 0.3154 - acc: 0.875 - ETA: 2:23 - loss: 0.3153 - acc: 0.875 - ETA: 2:22 - loss: 0.3152 - acc: 0.875 - ETA: 2:22 - loss: 0.3149 - acc: 0.875 - ETA: 2:22 - loss: 0.3149 - acc: 0.875 - ETA: 2:22 - loss: 0.3147 - acc: 0.875 - ETA: 2:22 - loss: 0.3146 - acc: 0.875 - ETA: 2:21 - loss: 0.3143 - acc: 0.876 - ETA: 2:21 - loss: 0.3141 - acc: 0.876 - ETA: 2:21 - loss: 0.3138 - acc: 0.876 - ETA: 2:21 - loss: 0.3137 - acc: 0.876 - ETA: 2:21 - loss: 0.3133 - acc: 0.876 - ETA: 2:20 - loss: 0.3131 - acc: 0.876 - ETA: 2:20 - loss: 0.3129 - acc: 0.876 - ETA: 2:20 - loss: 0.3128 - acc: 0.876 - ETA: 2:20 - loss: 0.3128 - acc: 0.876 - ETA: 2:19 - loss: 0.3125 - acc: 0.876 - ETA: 2:19 - loss: 0.3123 - acc: 0.876 - ETA: 2:19 - loss: 0.3124 - acc: 0.876 - ETA: 2:19 - loss: 0.3124 - acc: 0.876 - ETA: 2:19 - loss: 0.3121 - acc: 0.876 - ETA: 2:18 - loss: 0.3118 - acc: 0.876 - ETA: 2:18 - loss: 0.3117 - acc: 0.877 - ETA: 2:18 - loss: 0.3116 - acc: 0.877 - ETA: 2:18 - loss: 0.3114 - acc: 0.877 - ETA: 2:18 - loss: 0.3112 - acc: 0.877 - ETA: 2:17 - loss: 0.3111 - acc: 0.877 - ETA: 2:17 - loss: 0.3108 - acc: 0.877 - ETA: 2:17 - loss: 0.3107 - acc: 0.877 - ETA: 2:17 - loss: 0.3105 - acc: 0.877 - ETA: 2:16 - loss: 0.3104 - acc: 0.877 - ETA: 2:16 - loss: 0.3102 - acc: 0.877 - ETA: 2:16 - loss: 0.3101 - acc: 0.877 - ETA: 2:16 - loss: 0.3103 - acc: 0.877 - ETA: 2:16 - loss: 0.3102 - acc: 0.877 - ETA: 2:15 - loss: 0.3103 - acc: 0.877 - ETA: 2:15 - loss: 0.3100 - acc: 0.877 - ETA: 2:15 - loss: 0.3098 - acc: 0.877 - ETA: 2:15 - loss: 0.3098 - acc: 0.877 - ETA: 2:15 - loss: 0.3097 - acc: 0.878 - ETA: 2:14 - loss: 0.3096 - acc: 0.877 - ETA: 2:14 - loss: 0.3096 - acc: 0.877 - ETA: 2:14 - loss: 0.3094 - acc: 0.877 - ETA: 2:14 - loss: 0.3091 - acc: 0.878 - ETA: 2:14 - loss: 0.3091 - acc: 0.878 - ETA: 2:13 - loss: 0.3089 - acc: 0.878 - ETA: 2:13 - loss: 0.3090 - acc: 0.878 - ETA: 2:13 - loss: 0.3088 - acc: 0.878 - ETA: 2:13 - loss: 0.3088 - acc: 0.878 - ETA: 2:12 - loss: 0.3086 - acc: 0.878 - ETA: 2:12 - loss: 0.3084 - acc: 0.878 - ETA: 2:12 - loss: 0.3082 - acc: 0.878 - ETA: 2:12 - loss: 0.3079 - acc: 0.878 - ETA: 2:12 - loss: 0.3078 - acc: 0.878 - ETA: 2:11 - loss: 0.3079 - acc: 0.878 - ETA: 2:11 - loss: 0.3078 - acc: 0.878 - ETA: 2:11 - loss: 0.3078 - acc: 0.878 - ETA: 2:11 - loss: 0.3075 - acc: 0.878 - ETA: 2:11 - loss: 0.3073 - acc: 0.878 - ETA: 2:10 - loss: 0.3070 - acc: 0.878 - ETA: 2:10 - loss: 0.3068 - acc: 0.878 - ETA: 2:10 - loss: 0.3066 - acc: 0.878 - ETA: 2:10 - loss: 0.3064 - acc: 0.879 - ETA: 2:10 - loss: 0.3061 - acc: 0.879 - ETA: 2:09 - loss: 0.3059 - acc: 0.879 - ETA: 2:09 - loss: 0.3057 - acc: 0.879 - ETA: 2:09 - loss: 0.3054 - acc: 0.879 - ETA: 2:09 - loss: 0.3051 - acc: 0.879 - ETA: 2:08 - loss: 0.3050 - acc: 0.879 - ETA: 2:08 - loss: 0.3048 - acc: 0.879 - ETA: 2:08 - loss: 0.3046 - acc: 0.880 - ETA: 2:08 - loss: 0.3043 - acc: 0.880 - ETA: 2:08 - loss: 0.3042 - acc: 0.880 - ETA: 2:07 - loss: 0.3040 - acc: 0.880 - ETA: 2:07 - loss: 0.3038 - acc: 0.880 - ETA: 2:07 - loss: 0.3036 - acc: 0.880 - ETA: 2:07 - loss: 0.3036 - acc: 0.880 - ETA: 2:07 - loss: 0.3033 - acc: 0.880 - ETA: 2:06 - loss: 0.3031 - acc: 0.880 - ETA: 2:06 - loss: 0.3028 - acc: 0.880 - ETA: 2:06 - loss: 0.3027 - acc: 0.881 - ETA: 2:06 - loss: 0.3025 - acc: 0.881 - ETA: 2:06 - loss: 0.3023 - acc: 0.881 - ETA: 2:05 - loss: 0.3020 - acc: 0.881 - ETA: 2:05 - loss: 0.3020 - acc: 0.881 - ETA: 2:05 - loss: 0.3020 - acc: 0.881 - ETA: 2:05 - loss: 0.3017 - acc: 0.881 - ETA: 2:05 - loss: 0.3015 - acc: 0.881 - ETA: 2:04 - loss: 0.3014 - acc: 0.881 - ETA: 2:04 - loss: 0.3012 - acc: 0.881 - ETA: 2:04 - loss: 0.3009 - acc: 0.881 - ETA: 2:04 - loss: 0.3008 - acc: 0.881 - ETA: 2:04 - loss: 0.3008 - acc: 0.881 - ETA: 2:03 - loss: 0.3008 - acc: 0.881 - ETA: 2:03 - loss: 0.3005 - acc: 0.882 - ETA: 2:03 - loss: 0.3002 - acc: 0.882 - ETA: 2:03 - loss: 0.3002 - acc: 0.882 - ETA: 2:03 - loss: 0.3001 - acc: 0.882 - ETA: 2:02 - loss: 0.3000 - acc: 0.882 - ETA: 2:02 - loss: 0.2999 - acc: 0.882 - ETA: 2:02 - loss: 0.2999 - acc: 0.882 - ETA: 2:02 - loss: 0.2998 - acc: 0.882 - ETA: 2:02 - loss: 0.2996 - acc: 0.882 - ETA: 2:01 - loss: 0.2994 - acc: 0.882 - ETA: 2:01 - loss: 0.2991 - acc: 0.882 - ETA: 2:01 - loss: 0.2992 - acc: 0.882 - ETA: 2:01 - loss: 0.2989 - acc: 0.882 - ETA: 2:01 - loss: 0.2989 - acc: 0.882 - ETA: 2:00 - loss: 0.2987 - acc: 0.882 - ETA: 2:00 - loss: 0.2987 - acc: 0.882 - ETA: 2:00 - loss: 0.2984 - acc: 0.883 - ETA: 2:00 - loss: 0.2981 - acc: 0.883 - ETA: 1:59 - loss: 0.2978 - acc: 0.883 - ETA: 1:59 - loss: 0.2977 - acc: 0.883 - ETA: 1:59 - loss: 0.2975 - acc: 0.883 - ETA: 1:59 - loss: 0.2976 - acc: 0.8834"
     ]
    },
    {
     "name": "stdout",
     "output_type": "stream",
     "text": [
      "1020/1452 [====================>.........] - ETA: 1:59 - loss: 0.2978 - acc: 0.883 - ETA: 1:58 - loss: 0.2976 - acc: 0.883 - ETA: 1:58 - loss: 0.2974 - acc: 0.883 - ETA: 1:58 - loss: 0.2972 - acc: 0.883 - ETA: 1:58 - loss: 0.2970 - acc: 0.883 - ETA: 1:58 - loss: 0.2968 - acc: 0.883 - ETA: 1:57 - loss: 0.2967 - acc: 0.883 - ETA: 1:57 - loss: 0.2966 - acc: 0.883 - ETA: 1:57 - loss: 0.2964 - acc: 0.883 - ETA: 1:57 - loss: 0.2962 - acc: 0.884 - ETA: 1:57 - loss: 0.2961 - acc: 0.884 - ETA: 1:56 - loss: 0.2958 - acc: 0.884 - ETA: 1:56 - loss: 0.2958 - acc: 0.884 - ETA: 1:56 - loss: 0.2956 - acc: 0.884 - ETA: 1:56 - loss: 0.2953 - acc: 0.884 - ETA: 1:56 - loss: 0.2951 - acc: 0.884 - ETA: 1:55 - loss: 0.2949 - acc: 0.884 - ETA: 1:55 - loss: 0.2949 - acc: 0.884 - ETA: 1:55 - loss: 0.2948 - acc: 0.884 - ETA: 1:55 - loss: 0.2946 - acc: 0.884 - ETA: 1:55 - loss: 0.2945 - acc: 0.884 - ETA: 1:54 - loss: 0.2943 - acc: 0.884 - ETA: 1:54 - loss: 0.2941 - acc: 0.885 - ETA: 1:54 - loss: 0.2939 - acc: 0.885 - ETA: 1:54 - loss: 0.2937 - acc: 0.885 - ETA: 1:54 - loss: 0.2936 - acc: 0.885 - ETA: 1:53 - loss: 0.2934 - acc: 0.885 - ETA: 1:53 - loss: 0.2933 - acc: 0.885 - ETA: 1:53 - loss: 0.2932 - acc: 0.885 - ETA: 1:53 - loss: 0.2930 - acc: 0.885 - ETA: 1:53 - loss: 0.2929 - acc: 0.885 - ETA: 1:52 - loss: 0.2928 - acc: 0.885 - ETA: 1:52 - loss: 0.2927 - acc: 0.885 - ETA: 1:52 - loss: 0.2926 - acc: 0.885 - ETA: 1:52 - loss: 0.2927 - acc: 0.885 - ETA: 1:52 - loss: 0.2926 - acc: 0.885 - ETA: 1:51 - loss: 0.2925 - acc: 0.885 - ETA: 1:51 - loss: 0.2922 - acc: 0.885 - ETA: 1:51 - loss: 0.2922 - acc: 0.885 - ETA: 1:51 - loss: 0.2922 - acc: 0.885 - ETA: 1:51 - loss: 0.2921 - acc: 0.885 - ETA: 1:51 - loss: 0.2918 - acc: 0.886 - ETA: 1:50 - loss: 0.2918 - acc: 0.886 - ETA: 1:50 - loss: 0.2916 - acc: 0.886 - ETA: 1:50 - loss: 0.2915 - acc: 0.886 - ETA: 1:50 - loss: 0.2914 - acc: 0.886 - ETA: 1:50 - loss: 0.2912 - acc: 0.886 - ETA: 1:49 - loss: 0.2909 - acc: 0.886 - ETA: 1:49 - loss: 0.2908 - acc: 0.886 - ETA: 1:49 - loss: 0.2906 - acc: 0.886 - ETA: 1:49 - loss: 0.2905 - acc: 0.886 - ETA: 1:49 - loss: 0.2903 - acc: 0.886 - ETA: 1:48 - loss: 0.2902 - acc: 0.886 - ETA: 1:48 - loss: 0.2900 - acc: 0.886 - ETA: 1:48 - loss: 0.2900 - acc: 0.886 - ETA: 1:48 - loss: 0.2898 - acc: 0.886 - ETA: 1:48 - loss: 0.2899 - acc: 0.886 - ETA: 1:47 - loss: 0.2896 - acc: 0.886 - ETA: 1:47 - loss: 0.2896 - acc: 0.887 - ETA: 1:47 - loss: 0.2895 - acc: 0.887 - ETA: 1:47 - loss: 0.2893 - acc: 0.887 - ETA: 1:47 - loss: 0.2890 - acc: 0.887 - ETA: 1:46 - loss: 0.2889 - acc: 0.887 - ETA: 1:46 - loss: 0.2887 - acc: 0.887 - ETA: 1:46 - loss: 0.2885 - acc: 0.887 - ETA: 1:46 - loss: 0.2885 - acc: 0.887 - ETA: 1:46 - loss: 0.2882 - acc: 0.887 - ETA: 1:45 - loss: 0.2880 - acc: 0.887 - ETA: 1:45 - loss: 0.2880 - acc: 0.887 - ETA: 1:45 - loss: 0.2878 - acc: 0.887 - ETA: 1:45 - loss: 0.2877 - acc: 0.887 - ETA: 1:45 - loss: 0.2877 - acc: 0.887 - ETA: 1:44 - loss: 0.2875 - acc: 0.887 - ETA: 1:44 - loss: 0.2874 - acc: 0.887 - ETA: 1:44 - loss: 0.2873 - acc: 0.887 - ETA: 1:44 - loss: 0.2871 - acc: 0.888 - ETA: 1:44 - loss: 0.2873 - acc: 0.888 - ETA: 1:43 - loss: 0.2871 - acc: 0.888 - ETA: 1:43 - loss: 0.2870 - acc: 0.888 - ETA: 1:43 - loss: 0.2868 - acc: 0.888 - ETA: 1:43 - loss: 0.2866 - acc: 0.888 - ETA: 1:43 - loss: 0.2864 - acc: 0.888 - ETA: 1:42 - loss: 0.2863 - acc: 0.888 - ETA: 1:42 - loss: 0.2862 - acc: 0.888 - ETA: 1:42 - loss: 0.2862 - acc: 0.888 - ETA: 1:42 - loss: 0.2861 - acc: 0.888 - ETA: 1:42 - loss: 0.2859 - acc: 0.888 - ETA: 1:41 - loss: 0.2858 - acc: 0.888 - ETA: 1:41 - loss: 0.2856 - acc: 0.888 - ETA: 1:41 - loss: 0.2855 - acc: 0.888 - ETA: 1:41 - loss: 0.2853 - acc: 0.888 - ETA: 1:41 - loss: 0.2852 - acc: 0.888 - ETA: 1:40 - loss: 0.2851 - acc: 0.888 - ETA: 1:40 - loss: 0.2851 - acc: 0.888 - ETA: 1:40 - loss: 0.2849 - acc: 0.889 - ETA: 1:40 - loss: 0.2848 - acc: 0.889 - ETA: 1:40 - loss: 0.2848 - acc: 0.889 - ETA: 1:39 - loss: 0.2846 - acc: 0.889 - ETA: 1:39 - loss: 0.2845 - acc: 0.889 - ETA: 1:39 - loss: 0.2845 - acc: 0.889 - ETA: 1:39 - loss: 0.2843 - acc: 0.889 - ETA: 1:39 - loss: 0.2842 - acc: 0.889 - ETA: 1:38 - loss: 0.2841 - acc: 0.889 - ETA: 1:38 - loss: 0.2840 - acc: 0.889 - ETA: 1:38 - loss: 0.2838 - acc: 0.889 - ETA: 1:38 - loss: 0.2838 - acc: 0.889 - ETA: 1:38 - loss: 0.2836 - acc: 0.889 - ETA: 1:38 - loss: 0.2835 - acc: 0.889 - ETA: 1:37 - loss: 0.2833 - acc: 0.889 - ETA: 1:37 - loss: 0.2831 - acc: 0.889 - ETA: 1:37 - loss: 0.2829 - acc: 0.889 - ETA: 1:37 - loss: 0.2829 - acc: 0.889 - ETA: 1:37 - loss: 0.2829 - acc: 0.889 - ETA: 1:36 - loss: 0.2829 - acc: 0.889 - ETA: 1:36 - loss: 0.2827 - acc: 0.889 - ETA: 1:36 - loss: 0.2826 - acc: 0.889 - ETA: 1:36 - loss: 0.2826 - acc: 0.889 - ETA: 1:36 - loss: 0.2826 - acc: 0.889 - ETA: 1:35 - loss: 0.2825 - acc: 0.889 - ETA: 1:35 - loss: 0.2824 - acc: 0.889 - ETA: 1:35 - loss: 0.2822 - acc: 0.889 - ETA: 1:35 - loss: 0.2821 - acc: 0.890 - ETA: 1:35 - loss: 0.2820 - acc: 0.890 - ETA: 1:34 - loss: 0.2819 - acc: 0.890 - ETA: 1:34 - loss: 0.2817 - acc: 0.890 - ETA: 1:34 - loss: 0.2816 - acc: 0.890 - ETA: 1:34 - loss: 0.2815 - acc: 0.890 - ETA: 1:34 - loss: 0.2813 - acc: 0.890 - ETA: 1:33 - loss: 0.2811 - acc: 0.890 - ETA: 1:33 - loss: 0.2810 - acc: 0.890 - ETA: 1:33 - loss: 0.2810 - acc: 0.890 - ETA: 1:33 - loss: 0.2808 - acc: 0.890 - ETA: 1:33 - loss: 0.2806 - acc: 0.890 - ETA: 1:32 - loss: 0.2806 - acc: 0.890 - ETA: 1:32 - loss: 0.2805 - acc: 0.890 - ETA: 1:32 - loss: 0.2803 - acc: 0.890 - ETA: 1:32 - loss: 0.2802 - acc: 0.890 - ETA: 1:32 - loss: 0.2802 - acc: 0.890 - ETA: 1:32 - loss: 0.2800 - acc: 0.890 - ETA: 1:31 - loss: 0.2798 - acc: 0.890 - ETA: 1:31 - loss: 0.2797 - acc: 0.890 - ETA: 1:31 - loss: 0.2795 - acc: 0.890 - ETA: 1:31 - loss: 0.2795 - acc: 0.890 - ETA: 1:31 - loss: 0.2794 - acc: 0.890 - ETA: 1:30 - loss: 0.2794 - acc: 0.890 - ETA: 1:30 - loss: 0.2796 - acc: 0.890 - ETA: 1:30 - loss: 0.2797 - acc: 0.890 - ETA: 1:30 - loss: 0.2795 - acc: 0.890 - ETA: 1:30 - loss: 0.2795 - acc: 0.890 - ETA: 1:29 - loss: 0.2793 - acc: 0.891 - ETA: 1:29 - loss: 0.2793 - acc: 0.891 - ETA: 1:29 - loss: 0.2794 - acc: 0.891 - ETA: 1:29 - loss: 0.2792 - acc: 0.891 - ETA: 1:29 - loss: 0.2790 - acc: 0.891 - ETA: 1:28 - loss: 0.2789 - acc: 0.891 - ETA: 1:28 - loss: 0.2788 - acc: 0.891 - ETA: 1:28 - loss: 0.2787 - acc: 0.891 - ETA: 1:28 - loss: 0.2787 - acc: 0.891 - ETA: 1:28 - loss: 0.2787 - acc: 0.891 - ETA: 1:27 - loss: 0.2789 - acc: 0.891 - ETA: 1:27 - loss: 0.2787 - acc: 0.891 - ETA: 1:27 - loss: 0.2786 - acc: 0.891 - ETA: 1:27 - loss: 0.2784 - acc: 0.891 - ETA: 1:27 - loss: 0.2783 - acc: 0.891 - ETA: 1:27 - loss: 0.2782 - acc: 0.891 - ETA: 1:26 - loss: 0.2782 - acc: 0.891 - ETA: 1:26 - loss: 0.2781 - acc: 0.891 - ETA: 1:26 - loss: 0.2779 - acc: 0.891 - ETA: 1:26 - loss: 0.2779 - acc: 0.891 - ETA: 1:26 - loss: 0.2779 - acc: 0.891 - ETA: 1:25 - loss: 0.2776 - acc: 0.892 - ETA: 1:25 - loss: 0.2774 - acc: 0.892 - ETA: 1:25 - loss: 0.2775 - acc: 0.892 - ETA: 1:25 - loss: 0.2773 - acc: 0.892 - ETA: 1:25 - loss: 0.2772 - acc: 0.892 - ETA: 1:24 - loss: 0.2771 - acc: 0.892 - ETA: 1:24 - loss: 0.2771 - acc: 0.892 - ETA: 1:24 - loss: 0.2770 - acc: 0.892 - ETA: 1:24 - loss: 0.2769 - acc: 0.892 - ETA: 1:24 - loss: 0.2768 - acc: 0.892 - ETA: 1:23 - loss: 0.2766 - acc: 0.892 - ETA: 1:23 - loss: 0.2764 - acc: 0.892 - ETA: 1:23 - loss: 0.2764 - acc: 0.892 - ETA: 1:23 - loss: 0.2763 - acc: 0.892 - ETA: 1:23 - loss: 0.2763 - acc: 0.892 - ETA: 1:22 - loss: 0.2761 - acc: 0.892 - ETA: 1:22 - loss: 0.2760 - acc: 0.892 - ETA: 1:22 - loss: 0.2759 - acc: 0.892 - ETA: 1:22 - loss: 0.2759 - acc: 0.892 - ETA: 1:22 - loss: 0.2758 - acc: 0.892 - ETA: 1:22 - loss: 0.2756 - acc: 0.892 - ETA: 1:21 - loss: 0.2754 - acc: 0.892 - ETA: 1:21 - loss: 0.2755 - acc: 0.892 - ETA: 1:21 - loss: 0.2754 - acc: 0.892 - ETA: 1:21 - loss: 0.2753 - acc: 0.892 - ETA: 1:21 - loss: 0.2751 - acc: 0.892 - ETA: 1:20 - loss: 0.2749 - acc: 0.892 - ETA: 1:20 - loss: 0.2748 - acc: 0.892 - ETA: 1:20 - loss: 0.2747 - acc: 0.893 - ETA: 1:20 - loss: 0.2745 - acc: 0.893 - ETA: 1:20 - loss: 0.2744 - acc: 0.893 - ETA: 1:19 - loss: 0.2742 - acc: 0.893 - ETA: 1:19 - loss: 0.2743 - acc: 0.893 - ETA: 1:19 - loss: 0.2742 - acc: 0.8932"
     ]
    },
    {
     "name": "stdout",
     "output_type": "stream",
     "text": [
      "1229/1452 [========================>.....] - ETA: 1:19 - loss: 0.2740 - acc: 0.893 - ETA: 1:19 - loss: 0.2740 - acc: 0.893 - ETA: 1:19 - loss: 0.2738 - acc: 0.893 - ETA: 1:18 - loss: 0.2737 - acc: 0.893 - ETA: 1:18 - loss: 0.2737 - acc: 0.893 - ETA: 1:18 - loss: 0.2739 - acc: 0.893 - ETA: 1:18 - loss: 0.2740 - acc: 0.893 - ETA: 1:18 - loss: 0.2739 - acc: 0.893 - ETA: 1:17 - loss: 0.2738 - acc: 0.893 - ETA: 1:17 - loss: 0.2737 - acc: 0.893 - ETA: 1:17 - loss: 0.2736 - acc: 0.893 - ETA: 1:17 - loss: 0.2735 - acc: 0.893 - ETA: 1:17 - loss: 0.2734 - acc: 0.893 - ETA: 1:16 - loss: 0.2733 - acc: 0.893 - ETA: 1:16 - loss: 0.2732 - acc: 0.893 - ETA: 1:16 - loss: 0.2731 - acc: 0.893 - ETA: 1:16 - loss: 0.2732 - acc: 0.893 - ETA: 1:16 - loss: 0.2731 - acc: 0.893 - ETA: 1:15 - loss: 0.2732 - acc: 0.893 - ETA: 1:15 - loss: 0.2730 - acc: 0.893 - ETA: 1:15 - loss: 0.2730 - acc: 0.893 - ETA: 1:15 - loss: 0.2728 - acc: 0.893 - ETA: 1:15 - loss: 0.2728 - acc: 0.893 - ETA: 1:15 - loss: 0.2728 - acc: 0.893 - ETA: 1:14 - loss: 0.2728 - acc: 0.893 - ETA: 1:14 - loss: 0.2728 - acc: 0.893 - ETA: 1:14 - loss: 0.2728 - acc: 0.893 - ETA: 1:14 - loss: 0.2728 - acc: 0.893 - ETA: 1:14 - loss: 0.2728 - acc: 0.893 - ETA: 1:13 - loss: 0.2727 - acc: 0.893 - ETA: 1:13 - loss: 0.2726 - acc: 0.893 - ETA: 1:13 - loss: 0.2725 - acc: 0.893 - ETA: 1:13 - loss: 0.2726 - acc: 0.893 - ETA: 1:13 - loss: 0.2726 - acc: 0.893 - ETA: 1:12 - loss: 0.2725 - acc: 0.893 - ETA: 1:12 - loss: 0.2726 - acc: 0.893 - ETA: 1:12 - loss: 0.2726 - acc: 0.893 - ETA: 1:12 - loss: 0.2726 - acc: 0.893 - ETA: 1:12 - loss: 0.2726 - acc: 0.893 - ETA: 1:11 - loss: 0.2725 - acc: 0.894 - ETA: 1:11 - loss: 0.2723 - acc: 0.894 - ETA: 1:11 - loss: 0.2722 - acc: 0.894 - ETA: 1:11 - loss: 0.2721 - acc: 0.894 - ETA: 1:11 - loss: 0.2719 - acc: 0.894 - ETA: 1:11 - loss: 0.2718 - acc: 0.894 - ETA: 1:10 - loss: 0.2717 - acc: 0.894 - ETA: 1:10 - loss: 0.2717 - acc: 0.894 - ETA: 1:10 - loss: 0.2715 - acc: 0.894 - ETA: 1:10 - loss: 0.2713 - acc: 0.894 - ETA: 1:10 - loss: 0.2712 - acc: 0.894 - ETA: 1:09 - loss: 0.2710 - acc: 0.894 - ETA: 1:09 - loss: 0.2709 - acc: 0.894 - ETA: 1:09 - loss: 0.2707 - acc: 0.894 - ETA: 1:09 - loss: 0.2705 - acc: 0.894 - ETA: 1:09 - loss: 0.2707 - acc: 0.894 - ETA: 1:08 - loss: 0.2706 - acc: 0.894 - ETA: 1:08 - loss: 0.2705 - acc: 0.894 - ETA: 1:08 - loss: 0.2705 - acc: 0.894 - ETA: 1:08 - loss: 0.2704 - acc: 0.894 - ETA: 1:08 - loss: 0.2703 - acc: 0.894 - ETA: 1:08 - loss: 0.2702 - acc: 0.894 - ETA: 1:07 - loss: 0.2701 - acc: 0.894 - ETA: 1:07 - loss: 0.2701 - acc: 0.894 - ETA: 1:07 - loss: 0.2700 - acc: 0.894 - ETA: 1:07 - loss: 0.2698 - acc: 0.895 - ETA: 1:07 - loss: 0.2697 - acc: 0.895 - ETA: 1:06 - loss: 0.2695 - acc: 0.895 - ETA: 1:06 - loss: 0.2694 - acc: 0.895 - ETA: 1:06 - loss: 0.2694 - acc: 0.895 - ETA: 1:06 - loss: 0.2693 - acc: 0.895 - ETA: 1:06 - loss: 0.2691 - acc: 0.895 - ETA: 1:05 - loss: 0.2692 - acc: 0.895 - ETA: 1:05 - loss: 0.2691 - acc: 0.895 - ETA: 1:05 - loss: 0.2689 - acc: 0.895 - ETA: 1:05 - loss: 0.2689 - acc: 0.895 - ETA: 1:05 - loss: 0.2688 - acc: 0.895 - ETA: 1:05 - loss: 0.2688 - acc: 0.895 - ETA: 1:04 - loss: 0.2686 - acc: 0.895 - ETA: 1:04 - loss: 0.2686 - acc: 0.895 - ETA: 1:04 - loss: 0.2684 - acc: 0.895 - ETA: 1:04 - loss: 0.2682 - acc: 0.895 - ETA: 1:04 - loss: 0.2682 - acc: 0.895 - ETA: 1:03 - loss: 0.2681 - acc: 0.895 - ETA: 1:03 - loss: 0.2682 - acc: 0.895 - ETA: 1:03 - loss: 0.2681 - acc: 0.895 - ETA: 1:03 - loss: 0.2679 - acc: 0.895 - ETA: 1:03 - loss: 0.2678 - acc: 0.895 - ETA: 1:03 - loss: 0.2677 - acc: 0.895 - ETA: 1:02 - loss: 0.2676 - acc: 0.896 - ETA: 1:02 - loss: 0.2675 - acc: 0.896 - ETA: 1:02 - loss: 0.2674 - acc: 0.896 - ETA: 1:02 - loss: 0.2673 - acc: 0.896 - ETA: 1:02 - loss: 0.2672 - acc: 0.896 - ETA: 1:01 - loss: 0.2671 - acc: 0.896 - ETA: 1:01 - loss: 0.2670 - acc: 0.896 - ETA: 1:01 - loss: 0.2668 - acc: 0.896 - ETA: 1:01 - loss: 0.2668 - acc: 0.896 - ETA: 1:01 - loss: 0.2668 - acc: 0.896 - ETA: 1:00 - loss: 0.2667 - acc: 0.896 - ETA: 1:00 - loss: 0.2666 - acc: 0.896 - ETA: 1:00 - loss: 0.2665 - acc: 0.896 - ETA: 1:00 - loss: 0.2664 - acc: 0.896 - ETA: 1:00 - loss: 0.2663 - acc: 0.896 - ETA: 1:00 - loss: 0.2663 - acc: 0.896 - ETA: 59s - loss: 0.2662 - acc: 0.896 - ETA: 59s - loss: 0.2660 - acc: 0.89 - ETA: 59s - loss: 0.2660 - acc: 0.89 - ETA: 59s - loss: 0.2659 - acc: 0.89 - ETA: 59s - loss: 0.2658 - acc: 0.89 - ETA: 58s - loss: 0.2659 - acc: 0.89 - ETA: 58s - loss: 0.2658 - acc: 0.89 - ETA: 58s - loss: 0.2657 - acc: 0.89 - ETA: 58s - loss: 0.2655 - acc: 0.89 - ETA: 58s - loss: 0.2655 - acc: 0.89 - ETA: 57s - loss: 0.2655 - acc: 0.89 - ETA: 57s - loss: 0.2655 - acc: 0.89 - ETA: 57s - loss: 0.2656 - acc: 0.89 - ETA: 57s - loss: 0.2655 - acc: 0.89 - ETA: 57s - loss: 0.2654 - acc: 0.89 - ETA: 57s - loss: 0.2653 - acc: 0.89 - ETA: 56s - loss: 0.2651 - acc: 0.89 - ETA: 56s - loss: 0.2650 - acc: 0.89 - ETA: 56s - loss: 0.2650 - acc: 0.89 - ETA: 56s - loss: 0.2649 - acc: 0.89 - ETA: 56s - loss: 0.2649 - acc: 0.89 - ETA: 55s - loss: 0.2648 - acc: 0.89 - ETA: 55s - loss: 0.2650 - acc: 0.89 - ETA: 55s - loss: 0.2648 - acc: 0.89 - ETA: 55s - loss: 0.2648 - acc: 0.89 - ETA: 55s - loss: 0.2647 - acc: 0.89 - ETA: 54s - loss: 0.2645 - acc: 0.89 - ETA: 54s - loss: 0.2644 - acc: 0.89 - ETA: 54s - loss: 0.2645 - acc: 0.89 - ETA: 54s - loss: 0.2644 - acc: 0.89 - ETA: 54s - loss: 0.2644 - acc: 0.89 - ETA: 54s - loss: 0.2643 - acc: 0.89 - ETA: 53s - loss: 0.2642 - acc: 0.89 - ETA: 53s - loss: 0.2643 - acc: 0.89 - ETA: 53s - loss: 0.2642 - acc: 0.89 - ETA: 53s - loss: 0.2642 - acc: 0.89 - ETA: 53s - loss: 0.2642 - acc: 0.89 - ETA: 52s - loss: 0.2640 - acc: 0.89 - ETA: 52s - loss: 0.2639 - acc: 0.89 - ETA: 52s - loss: 0.2638 - acc: 0.89 - ETA: 52s - loss: 0.2640 - acc: 0.89 - ETA: 52s - loss: 0.2640 - acc: 0.89 - ETA: 52s - loss: 0.2638 - acc: 0.89 - ETA: 51s - loss: 0.2637 - acc: 0.89 - ETA: 51s - loss: 0.2636 - acc: 0.89 - ETA: 51s - loss: 0.2635 - acc: 0.89 - ETA: 51s - loss: 0.2634 - acc: 0.89 - ETA: 51s - loss: 0.2634 - acc: 0.89 - ETA: 50s - loss: 0.2634 - acc: 0.89 - ETA: 50s - loss: 0.2636 - acc: 0.89 - ETA: 50s - loss: 0.2634 - acc: 0.89 - ETA: 50s - loss: 0.2633 - acc: 0.89 - ETA: 50s - loss: 0.2632 - acc: 0.89 - ETA: 49s - loss: 0.2632 - acc: 0.89 - ETA: 49s - loss: 0.2630 - acc: 0.89 - ETA: 49s - loss: 0.2629 - acc: 0.89 - ETA: 49s - loss: 0.2629 - acc: 0.89 - ETA: 49s - loss: 0.2628 - acc: 0.89 - ETA: 49s - loss: 0.2626 - acc: 0.89 - ETA: 48s - loss: 0.2625 - acc: 0.89 - ETA: 48s - loss: 0.2625 - acc: 0.89 - ETA: 48s - loss: 0.2623 - acc: 0.89 - ETA: 48s - loss: 0.2622 - acc: 0.89 - ETA: 48s - loss: 0.2621 - acc: 0.89 - ETA: 47s - loss: 0.2620 - acc: 0.89 - ETA: 47s - loss: 0.2619 - acc: 0.89 - ETA: 47s - loss: 0.2617 - acc: 0.89 - ETA: 47s - loss: 0.2616 - acc: 0.89 - ETA: 47s - loss: 0.2615 - acc: 0.89 - ETA: 47s - loss: 0.2615 - acc: 0.89 - ETA: 46s - loss: 0.2615 - acc: 0.89 - ETA: 46s - loss: 0.2615 - acc: 0.89 - ETA: 46s - loss: 0.2613 - acc: 0.89 - ETA: 46s - loss: 0.2612 - acc: 0.89 - ETA: 46s - loss: 0.2613 - acc: 0.89 - ETA: 45s - loss: 0.2612 - acc: 0.89 - ETA: 45s - loss: 0.2612 - acc: 0.89 - ETA: 45s - loss: 0.2612 - acc: 0.89 - ETA: 45s - loss: 0.2612 - acc: 0.89 - ETA: 45s - loss: 0.2611 - acc: 0.89 - ETA: 44s - loss: 0.2610 - acc: 0.89 - ETA: 44s - loss: 0.2609 - acc: 0.89 - ETA: 44s - loss: 0.2608 - acc: 0.89 - ETA: 44s - loss: 0.2607 - acc: 0.89 - ETA: 44s - loss: 0.2606 - acc: 0.89 - ETA: 44s - loss: 0.2607 - acc: 0.89 - ETA: 43s - loss: 0.2605 - acc: 0.89 - ETA: 43s - loss: 0.2605 - acc: 0.89 - ETA: 43s - loss: 0.2604 - acc: 0.89 - ETA: 43s - loss: 0.2603 - acc: 0.89 - ETA: 43s - loss: 0.2602 - acc: 0.89 - ETA: 42s - loss: 0.2601 - acc: 0.89 - ETA: 42s - loss: 0.2601 - acc: 0.90 - ETA: 42s - loss: 0.2600 - acc: 0.89 - ETA: 42s - loss: 0.2600 - acc: 0.90 - ETA: 42s - loss: 0.2599 - acc: 0.90 - ETA: 42s - loss: 0.2598 - acc: 0.90 - ETA: 41s - loss: 0.2596 - acc: 0.90 - ETA: 41s - loss: 0.2595 - acc: 0.90 - ETA: 41s - loss: 0.2595 - acc: 0.90 - ETA: 41s - loss: 0.2594 - acc: 0.90 - ETA: 41s - loss: 0.2593 - acc: 0.90 - ETA: 40s - loss: 0.2592 - acc: 0.90 - ETA: 40s - loss: 0.2591 - acc: 0.90 - ETA: 40s - loss: 0.2590 - acc: 0.9004"
     ]
    },
    {
     "name": "stdout",
     "output_type": "stream",
     "text": [
      "1444/1452 [============================>.] - ETA: 40s - loss: 0.2589 - acc: 0.90 - ETA: 40s - loss: 0.2588 - acc: 0.90 - ETA: 40s - loss: 0.2588 - acc: 0.90 - ETA: 39s - loss: 0.2587 - acc: 0.90 - ETA: 39s - loss: 0.2586 - acc: 0.90 - ETA: 39s - loss: 0.2585 - acc: 0.90 - ETA: 39s - loss: 0.2583 - acc: 0.90 - ETA: 39s - loss: 0.2582 - acc: 0.90 - ETA: 38s - loss: 0.2581 - acc: 0.90 - ETA: 38s - loss: 0.2580 - acc: 0.90 - ETA: 38s - loss: 0.2579 - acc: 0.90 - ETA: 38s - loss: 0.2578 - acc: 0.90 - ETA: 38s - loss: 0.2578 - acc: 0.90 - ETA: 37s - loss: 0.2578 - acc: 0.90 - ETA: 37s - loss: 0.2577 - acc: 0.90 - ETA: 37s - loss: 0.2576 - acc: 0.90 - ETA: 37s - loss: 0.2575 - acc: 0.90 - ETA: 37s - loss: 0.2574 - acc: 0.90 - ETA: 37s - loss: 0.2573 - acc: 0.90 - ETA: 36s - loss: 0.2574 - acc: 0.90 - ETA: 36s - loss: 0.2573 - acc: 0.90 - ETA: 36s - loss: 0.2572 - acc: 0.90 - ETA: 36s - loss: 0.2572 - acc: 0.90 - ETA: 36s - loss: 0.2571 - acc: 0.90 - ETA: 35s - loss: 0.2570 - acc: 0.90 - ETA: 35s - loss: 0.2570 - acc: 0.90 - ETA: 35s - loss: 0.2569 - acc: 0.90 - ETA: 35s - loss: 0.2568 - acc: 0.90 - ETA: 35s - loss: 0.2567 - acc: 0.90 - ETA: 35s - loss: 0.2568 - acc: 0.90 - ETA: 34s - loss: 0.2567 - acc: 0.90 - ETA: 34s - loss: 0.2566 - acc: 0.90 - ETA: 34s - loss: 0.2565 - acc: 0.90 - ETA: 34s - loss: 0.2565 - acc: 0.90 - ETA: 34s - loss: 0.2565 - acc: 0.90 - ETA: 33s - loss: 0.2564 - acc: 0.90 - ETA: 33s - loss: 0.2564 - acc: 0.90 - ETA: 33s - loss: 0.2563 - acc: 0.90 - ETA: 33s - loss: 0.2563 - acc: 0.90 - ETA: 33s - loss: 0.2562 - acc: 0.90 - ETA: 33s - loss: 0.2563 - acc: 0.90 - ETA: 32s - loss: 0.2562 - acc: 0.90 - ETA: 32s - loss: 0.2562 - acc: 0.90 - ETA: 32s - loss: 0.2561 - acc: 0.90 - ETA: 32s - loss: 0.2560 - acc: 0.90 - ETA: 32s - loss: 0.2560 - acc: 0.90 - ETA: 31s - loss: 0.2559 - acc: 0.90 - ETA: 31s - loss: 0.2559 - acc: 0.90 - ETA: 31s - loss: 0.2558 - acc: 0.90 - ETA: 31s - loss: 0.2559 - acc: 0.90 - ETA: 31s - loss: 0.2558 - acc: 0.90 - ETA: 31s - loss: 0.2558 - acc: 0.90 - ETA: 30s - loss: 0.2559 - acc: 0.90 - ETA: 30s - loss: 0.2559 - acc: 0.90 - ETA: 30s - loss: 0.2558 - acc: 0.90 - ETA: 30s - loss: 0.2557 - acc: 0.90 - ETA: 30s - loss: 0.2556 - acc: 0.90 - ETA: 29s - loss: 0.2554 - acc: 0.90 - ETA: 29s - loss: 0.2554 - acc: 0.90 - ETA: 29s - loss: 0.2553 - acc: 0.90 - ETA: 29s - loss: 0.2552 - acc: 0.90 - ETA: 29s - loss: 0.2551 - acc: 0.90 - ETA: 29s - loss: 0.2550 - acc: 0.90 - ETA: 28s - loss: 0.2549 - acc: 0.90 - ETA: 28s - loss: 0.2548 - acc: 0.90 - ETA: 28s - loss: 0.2548 - acc: 0.90 - ETA: 28s - loss: 0.2547 - acc: 0.90 - ETA: 28s - loss: 0.2546 - acc: 0.90 - ETA: 27s - loss: 0.2546 - acc: 0.90 - ETA: 27s - loss: 0.2546 - acc: 0.90 - ETA: 27s - loss: 0.2545 - acc: 0.90 - ETA: 27s - loss: 0.2545 - acc: 0.90 - ETA: 27s - loss: 0.2544 - acc: 0.90 - ETA: 27s - loss: 0.2544 - acc: 0.90 - ETA: 26s - loss: 0.2543 - acc: 0.90 - ETA: 26s - loss: 0.2542 - acc: 0.90 - ETA: 26s - loss: 0.2541 - acc: 0.90 - ETA: 26s - loss: 0.2540 - acc: 0.90 - ETA: 26s - loss: 0.2538 - acc: 0.90 - ETA: 25s - loss: 0.2538 - acc: 0.90 - ETA: 25s - loss: 0.2537 - acc: 0.90 - ETA: 25s - loss: 0.2536 - acc: 0.90 - ETA: 25s - loss: 0.2536 - acc: 0.90 - ETA: 25s - loss: 0.2535 - acc: 0.90 - ETA: 25s - loss: 0.2535 - acc: 0.90 - ETA: 24s - loss: 0.2534 - acc: 0.90 - ETA: 24s - loss: 0.2533 - acc: 0.90 - ETA: 24s - loss: 0.2533 - acc: 0.90 - ETA: 24s - loss: 0.2532 - acc: 0.90 - ETA: 24s - loss: 0.2532 - acc: 0.90 - ETA: 23s - loss: 0.2532 - acc: 0.90 - ETA: 23s - loss: 0.2531 - acc: 0.90 - ETA: 23s - loss: 0.2530 - acc: 0.90 - ETA: 23s - loss: 0.2530 - acc: 0.90 - ETA: 23s - loss: 0.2529 - acc: 0.90 - ETA: 23s - loss: 0.2528 - acc: 0.90 - ETA: 22s - loss: 0.2527 - acc: 0.90 - ETA: 22s - loss: 0.2526 - acc: 0.90 - ETA: 22s - loss: 0.2526 - acc: 0.90 - ETA: 22s - loss: 0.2526 - acc: 0.90 - ETA: 22s - loss: 0.2527 - acc: 0.90 - ETA: 21s - loss: 0.2527 - acc: 0.90 - ETA: 21s - loss: 0.2528 - acc: 0.90 - ETA: 21s - loss: 0.2531 - acc: 0.90 - ETA: 21s - loss: 0.2532 - acc: 0.90 - ETA: 21s - loss: 0.2532 - acc: 0.90 - ETA: 20s - loss: 0.2531 - acc: 0.90 - ETA: 20s - loss: 0.2530 - acc: 0.90 - ETA: 20s - loss: 0.2529 - acc: 0.90 - ETA: 20s - loss: 0.2529 - acc: 0.90 - ETA: 20s - loss: 0.2528 - acc: 0.90 - ETA: 20s - loss: 0.2527 - acc: 0.90 - ETA: 19s - loss: 0.2526 - acc: 0.90 - ETA: 19s - loss: 0.2525 - acc: 0.90 - ETA: 19s - loss: 0.2524 - acc: 0.90 - ETA: 19s - loss: 0.2524 - acc: 0.90 - ETA: 19s - loss: 0.2523 - acc: 0.90 - ETA: 19s - loss: 0.2522 - acc: 0.90 - ETA: 18s - loss: 0.2521 - acc: 0.90 - ETA: 18s - loss: 0.2520 - acc: 0.90 - ETA: 18s - loss: 0.2518 - acc: 0.90 - ETA: 18s - loss: 0.2518 - acc: 0.90 - ETA: 18s - loss: 0.2517 - acc: 0.90 - ETA: 17s - loss: 0.2516 - acc: 0.90 - ETA: 17s - loss: 0.2515 - acc: 0.90 - ETA: 17s - loss: 0.2515 - acc: 0.90 - ETA: 17s - loss: 0.2514 - acc: 0.90 - ETA: 17s - loss: 0.2512 - acc: 0.90 - ETA: 17s - loss: 0.2513 - acc: 0.90 - ETA: 16s - loss: 0.2512 - acc: 0.90 - ETA: 16s - loss: 0.2511 - acc: 0.90 - ETA: 16s - loss: 0.2510 - acc: 0.90 - ETA: 16s - loss: 0.2509 - acc: 0.90 - ETA: 16s - loss: 0.2509 - acc: 0.90 - ETA: 15s - loss: 0.2508 - acc: 0.90 - ETA: 15s - loss: 0.2509 - acc: 0.90 - ETA: 15s - loss: 0.2507 - acc: 0.90 - ETA: 15s - loss: 0.2507 - acc: 0.90 - ETA: 15s - loss: 0.2506 - acc: 0.90 - ETA: 15s - loss: 0.2505 - acc: 0.90 - ETA: 14s - loss: 0.2504 - acc: 0.90 - ETA: 14s - loss: 0.2504 - acc: 0.90 - ETA: 14s - loss: 0.2504 - acc: 0.90 - ETA: 14s - loss: 0.2502 - acc: 0.90 - ETA: 14s - loss: 0.2502 - acc: 0.90 - ETA: 13s - loss: 0.2501 - acc: 0.90 - ETA: 13s - loss: 0.2500 - acc: 0.90 - ETA: 13s - loss: 0.2501 - acc: 0.90 - ETA: 13s - loss: 0.2500 - acc: 0.90 - ETA: 13s - loss: 0.2499 - acc: 0.90 - ETA: 13s - loss: 0.2500 - acc: 0.90 - ETA: 12s - loss: 0.2499 - acc: 0.90 - ETA: 12s - loss: 0.2499 - acc: 0.90 - ETA: 12s - loss: 0.2498 - acc: 0.90 - ETA: 12s - loss: 0.2498 - acc: 0.90 - ETA: 12s - loss: 0.2497 - acc: 0.90 - ETA: 11s - loss: 0.2497 - acc: 0.90 - ETA: 11s - loss: 0.2497 - acc: 0.90 - ETA: 11s - loss: 0.2497 - acc: 0.90 - ETA: 11s - loss: 0.2496 - acc: 0.90 - ETA: 11s - loss: 0.2495 - acc: 0.90 - ETA: 11s - loss: 0.2493 - acc: 0.90 - ETA: 10s - loss: 0.2492 - acc: 0.90 - ETA: 10s - loss: 0.2492 - acc: 0.90 - ETA: 10s - loss: 0.2491 - acc: 0.90 - ETA: 10s - loss: 0.2490 - acc: 0.90 - ETA: 10s - loss: 0.2490 - acc: 0.90 - ETA: 9s - loss: 0.2488 - acc: 0.9049 - ETA: 9s - loss: 0.2488 - acc: 0.904 - ETA: 9s - loss: 0.2488 - acc: 0.904 - ETA: 9s - loss: 0.2488 - acc: 0.905 - ETA: 9s - loss: 0.2487 - acc: 0.905 - ETA: 9s - loss: 0.2486 - acc: 0.905 - ETA: 8s - loss: 0.2485 - acc: 0.905 - ETA: 8s - loss: 0.2484 - acc: 0.905 - ETA: 8s - loss: 0.2483 - acc: 0.905 - ETA: 8s - loss: 0.2482 - acc: 0.905 - ETA: 8s - loss: 0.2482 - acc: 0.905 - ETA: 7s - loss: 0.2481 - acc: 0.905 - ETA: 7s - loss: 0.2480 - acc: 0.905 - ETA: 7s - loss: 0.2480 - acc: 0.905 - ETA: 7s - loss: 0.2480 - acc: 0.905 - ETA: 7s - loss: 0.2479 - acc: 0.905 - ETA: 7s - loss: 0.2478 - acc: 0.905 - ETA: 6s - loss: 0.2477 - acc: 0.905 - ETA: 6s - loss: 0.2476 - acc: 0.905 - ETA: 6s - loss: 0.2475 - acc: 0.905 - ETA: 6s - loss: 0.2474 - acc: 0.905 - ETA: 6s - loss: 0.2473 - acc: 0.905 - ETA: 5s - loss: 0.2472 - acc: 0.905 - ETA: 5s - loss: 0.2472 - acc: 0.905 - ETA: 5s - loss: 0.2470 - acc: 0.905 - ETA: 5s - loss: 0.2469 - acc: 0.905 - ETA: 5s - loss: 0.2469 - acc: 0.905 - ETA: 5s - loss: 0.2469 - acc: 0.905 - ETA: 4s - loss: 0.2468 - acc: 0.905 - ETA: 4s - loss: 0.2467 - acc: 0.905 - ETA: 4s - loss: 0.2466 - acc: 0.905 - ETA: 4s - loss: 0.2465 - acc: 0.905 - ETA: 4s - loss: 0.2464 - acc: 0.905 - ETA: 3s - loss: 0.2463 - acc: 0.905 - ETA: 3s - loss: 0.2465 - acc: 0.905 - ETA: 3s - loss: 0.2464 - acc: 0.905 - ETA: 3s - loss: 0.2463 - acc: 0.906 - ETA: 3s - loss: 0.2464 - acc: 0.905 - ETA: 3s - loss: 0.2463 - acc: 0.906 - ETA: 2s - loss: 0.2463 - acc: 0.906 - ETA: 2s - loss: 0.2462 - acc: 0.906 - ETA: 2s - loss: 0.2462 - acc: 0.906 - ETA: 2s - loss: 0.2461 - acc: 0.906 - ETA: 2s - loss: 0.2460 - acc: 0.906 - ETA: 1s - loss: 0.2460 - acc: 0.906 - ETA: 1s - loss: 0.2459 - acc: 0.906 - ETA: 1s - loss: 0.2458 - acc: 0.906 - ETA: 1s - loss: 0.2457 - acc: 0.9062"
     ]
    },
    {
     "name": "stdout",
     "output_type": "stream",
     "text": [
      "204/349 [================>.............].] - ETA: 1s - loss: 0.2456 - acc: 0.906 - ETA: 1s - loss: 0.2456 - acc: 0.906 - ETA: 0s - loss: 0.2456 - acc: 0.906 - ETA: 0s - loss: 0.2455 - acc: 0.906 - ETA: 0s - loss: 0.2454 - acc: 0.906 - ETA: 0s - loss: 0.2453 - acc: 0.906 - ETA: 0s - loss: 0.2452 - acc: 0.9065 - ETA: 25:05 - loss: 1.4850 - acc: 0.59 - ETA: 12:56 - loss: 1.1157 - acc: 0.67 - ETA: 8:53 - loss: 1.2908 - acc: 0.5729 - ETA: 6:51 - loss: 1.3789 - acc: 0.531 - ETA: 5:37 - loss: 1.3478 - acc: 0.550 - ETA: 4:49 - loss: 1.2998 - acc: 0.546 - ETA: 4:14 - loss: 1.2605 - acc: 0.540 - ETA: 3:48 - loss: 1.2174 - acc: 0.554 - ETA: 3:28 - loss: 1.2396 - acc: 0.548 - ETA: 3:11 - loss: 1.2753 - acc: 0.553 - ETA: 2:58 - loss: 1.2940 - acc: 0.562 - ETA: 2:47 - loss: 1.2592 - acc: 0.559 - ETA: 2:37 - loss: 1.2596 - acc: 0.562 - ETA: 2:29 - loss: 1.2759 - acc: 0.564 - ETA: 2:22 - loss: 1.2602 - acc: 0.570 - ETA: 2:15 - loss: 1.2591 - acc: 0.572 - ETA: 2:10 - loss: 1.2680 - acc: 0.569 - ETA: 2:05 - loss: 1.2784 - acc: 0.562 - ETA: 2:01 - loss: 1.2921 - acc: 0.565 - ETA: 1:57 - loss: 1.3008 - acc: 0.567 - ETA: 1:53 - loss: 1.3336 - acc: 0.562 - ETA: 1:50 - loss: 1.3497 - acc: 0.558 - ETA: 1:47 - loss: 1.3938 - acc: 0.557 - ETA: 1:45 - loss: 1.4223 - acc: 0.556 - ETA: 1:42 - loss: 1.4315 - acc: 0.553 - ETA: 1:40 - loss: 1.4635 - acc: 0.548 - ETA: 1:38 - loss: 1.4365 - acc: 0.552 - ETA: 1:36 - loss: 1.4438 - acc: 0.544 - ETA: 1:34 - loss: 1.4210 - acc: 0.547 - ETA: 1:32 - loss: 1.4380 - acc: 0.541 - ETA: 1:30 - loss: 1.4350 - acc: 0.541 - ETA: 1:29 - loss: 1.4338 - acc: 0.541 - ETA: 1:27 - loss: 1.4269 - acc: 0.540 - ETA: 1:26 - loss: 1.4170 - acc: 0.541 - ETA: 1:25 - loss: 1.4043 - acc: 0.542 - ETA: 1:23 - loss: 1.4051 - acc: 0.543 - ETA: 1:22 - loss: 1.4061 - acc: 0.539 - ETA: 1:21 - loss: 1.4085 - acc: 0.537 - ETA: 1:20 - loss: 1.4166 - acc: 0.537 - ETA: 1:19 - loss: 1.4313 - acc: 0.536 - ETA: 1:18 - loss: 1.4249 - acc: 0.537 - ETA: 1:17 - loss: 1.4483 - acc: 0.535 - ETA: 1:16 - loss: 1.4389 - acc: 0.534 - ETA: 1:15 - loss: 1.4306 - acc: 0.536 - ETA: 1:14 - loss: 1.4338 - acc: 0.534 - ETA: 1:13 - loss: 1.4401 - acc: 0.534 - ETA: 1:12 - loss: 1.4427 - acc: 0.531 - ETA: 1:11 - loss: 1.4264 - acc: 0.536 - ETA: 1:11 - loss: 1.4174 - acc: 0.535 - ETA: 1:10 - loss: 1.4341 - acc: 0.536 - ETA: 1:09 - loss: 1.4323 - acc: 0.535 - ETA: 1:08 - loss: 1.4228 - acc: 0.537 - ETA: 1:08 - loss: 1.4248 - acc: 0.535 - ETA: 1:07 - loss: 1.4245 - acc: 0.534 - ETA: 1:07 - loss: 1.4167 - acc: 0.534 - ETA: 1:06 - loss: 1.4179 - acc: 0.536 - ETA: 1:05 - loss: 1.4088 - acc: 0.538 - ETA: 1:05 - loss: 1.4187 - acc: 0.537 - ETA: 1:04 - loss: 1.4180 - acc: 0.537 - ETA: 1:04 - loss: 1.4177 - acc: 0.535 - ETA: 1:03 - loss: 1.4219 - acc: 0.537 - ETA: 1:02 - loss: 1.4181 - acc: 0.537 - ETA: 1:02 - loss: 1.4200 - acc: 0.536 - ETA: 1:01 - loss: 1.4192 - acc: 0.536 - ETA: 1:01 - loss: 1.4166 - acc: 0.536 - ETA: 1:00 - loss: 1.4137 - acc: 0.536 - ETA: 1:00 - loss: 1.4309 - acc: 0.534 - ETA: 59s - loss: 1.4256 - acc: 0.534 - ETA: 59s - loss: 1.4210 - acc: 0.53 - ETA: 58s - loss: 1.4225 - acc: 0.53 - ETA: 58s - loss: 1.4194 - acc: 0.53 - ETA: 58s - loss: 1.4291 - acc: 0.53 - ETA: 57s - loss: 1.4388 - acc: 0.53 - ETA: 57s - loss: 1.4464 - acc: 0.53 - ETA: 56s - loss: 1.4417 - acc: 0.53 - ETA: 56s - loss: 1.4373 - acc: 0.53 - ETA: 55s - loss: 1.4281 - acc: 0.53 - ETA: 55s - loss: 1.4245 - acc: 0.53 - ETA: 55s - loss: 1.4280 - acc: 0.53 - ETA: 54s - loss: 1.4281 - acc: 0.53 - ETA: 54s - loss: 1.4267 - acc: 0.53 - ETA: 54s - loss: 1.4227 - acc: 0.53 - ETA: 53s - loss: 1.4243 - acc: 0.53 - ETA: 53s - loss: 1.4214 - acc: 0.53 - ETA: 53s - loss: 1.4155 - acc: 0.53 - ETA: 52s - loss: 1.4150 - acc: 0.53 - ETA: 52s - loss: 1.4184 - acc: 0.53 - ETA: 52s - loss: 1.4204 - acc: 0.53 - ETA: 51s - loss: 1.4149 - acc: 0.52 - ETA: 51s - loss: 1.4164 - acc: 0.52 - ETA: 51s - loss: 1.4160 - acc: 0.52 - ETA: 50s - loss: 1.4191 - acc: 0.52 - ETA: 50s - loss: 1.4205 - acc: 0.52 - ETA: 50s - loss: 1.4189 - acc: 0.52 - ETA: 49s - loss: 1.4142 - acc: 0.52 - ETA: 49s - loss: 1.4155 - acc: 0.52 - ETA: 49s - loss: 1.4175 - acc: 0.52 - ETA: 48s - loss: 1.4200 - acc: 0.52 - ETA: 48s - loss: 1.4173 - acc: 0.52 - ETA: 48s - loss: 1.4138 - acc: 0.52 - ETA: 47s - loss: 1.4178 - acc: 0.52 - ETA: 47s - loss: 1.4147 - acc: 0.52 - ETA: 47s - loss: 1.4131 - acc: 0.52 - ETA: 47s - loss: 1.4190 - acc: 0.52 - ETA: 46s - loss: 1.4215 - acc: 0.52 - ETA: 46s - loss: 1.4230 - acc: 0.52 - ETA: 46s - loss: 1.4237 - acc: 0.52 - ETA: 45s - loss: 1.4220 - acc: 0.52 - ETA: 45s - loss: 1.4163 - acc: 0.52 - ETA: 45s - loss: 1.4183 - acc: 0.52 - ETA: 45s - loss: 1.4273 - acc: 0.52 - ETA: 44s - loss: 1.4254 - acc: 0.52 - ETA: 44s - loss: 1.4213 - acc: 0.52 - ETA: 44s - loss: 1.4245 - acc: 0.52 - ETA: 44s - loss: 1.4258 - acc: 0.52 - ETA: 43s - loss: 1.4278 - acc: 0.52 - ETA: 43s - loss: 1.4259 - acc: 0.52 - ETA: 43s - loss: 1.4262 - acc: 0.52 - ETA: 43s - loss: 1.4234 - acc: 0.52 - ETA: 42s - loss: 1.4201 - acc: 0.52 - ETA: 42s - loss: 1.4191 - acc: 0.52 - ETA: 42s - loss: 1.4148 - acc: 0.52 - ETA: 42s - loss: 1.4137 - acc: 0.52 - ETA: 41s - loss: 1.4133 - acc: 0.52 - ETA: 41s - loss: 1.4161 - acc: 0.52 - ETA: 41s - loss: 1.4159 - acc: 0.52 - ETA: 41s - loss: 1.4178 - acc: 0.52 - ETA: 40s - loss: 1.4133 - acc: 0.52 - ETA: 40s - loss: 1.4161 - acc: 0.52 - ETA: 40s - loss: 1.4181 - acc: 0.52 - ETA: 40s - loss: 1.4162 - acc: 0.52 - ETA: 39s - loss: 1.4211 - acc: 0.52 - ETA: 39s - loss: 1.4210 - acc: 0.52 - ETA: 39s - loss: 1.4155 - acc: 0.52 - ETA: 39s - loss: 1.4162 - acc: 0.52 - ETA: 38s - loss: 1.4169 - acc: 0.52 - ETA: 38s - loss: 1.4143 - acc: 0.52 - ETA: 38s - loss: 1.4155 - acc: 0.52 - ETA: 38s - loss: 1.4198 - acc: 0.52 - ETA: 37s - loss: 1.4165 - acc: 0.52 - ETA: 37s - loss: 1.4118 - acc: 0.52 - ETA: 37s - loss: 1.4105 - acc: 0.52 - ETA: 37s - loss: 1.4103 - acc: 0.52 - ETA: 37s - loss: 1.4070 - acc: 0.52 - ETA: 36s - loss: 1.4037 - acc: 0.52 - ETA: 36s - loss: 1.4047 - acc: 0.52 - ETA: 36s - loss: 1.4009 - acc: 0.52 - ETA: 36s - loss: 1.3976 - acc: 0.52 - ETA: 36s - loss: 1.4009 - acc: 0.52 - ETA: 35s - loss: 1.4012 - acc: 0.52 - ETA: 35s - loss: 1.4013 - acc: 0.52 - ETA: 35s - loss: 1.4016 - acc: 0.52 - ETA: 35s - loss: 1.4048 - acc: 0.52 - ETA: 35s - loss: 1.4016 - acc: 0.52 - ETA: 34s - loss: 1.3987 - acc: 0.52 - ETA: 34s - loss: 1.4000 - acc: 0.52 - ETA: 34s - loss: 1.4009 - acc: 0.52 - ETA: 34s - loss: 1.4023 - acc: 0.52 - ETA: 34s - loss: 1.4010 - acc: 0.52 - ETA: 33s - loss: 1.4017 - acc: 0.52 - ETA: 33s - loss: 1.4045 - acc: 0.52 - ETA: 33s - loss: 1.4037 - acc: 0.52 - ETA: 33s - loss: 1.4017 - acc: 0.52 - ETA: 33s - loss: 1.4037 - acc: 0.52 - ETA: 32s - loss: 1.4028 - acc: 0.52 - ETA: 32s - loss: 1.4045 - acc: 0.52 - ETA: 32s - loss: 1.4008 - acc: 0.52 - ETA: 32s - loss: 1.4023 - acc: 0.52 - ETA: 32s - loss: 1.3983 - acc: 0.52 - ETA: 32s - loss: 1.4033 - acc: 0.52 - ETA: 31s - loss: 1.4009 - acc: 0.52 - ETA: 31s - loss: 1.4041 - acc: 0.52 - ETA: 31s - loss: 1.4026 - acc: 0.52 - ETA: 31s - loss: 1.4038 - acc: 0.52 - ETA: 31s - loss: 1.4049 - acc: 0.52 - ETA: 30s - loss: 1.4037 - acc: 0.52 - ETA: 30s - loss: 1.4013 - acc: 0.52 - ETA: 30s - loss: 1.3995 - acc: 0.52 - ETA: 30s - loss: 1.3965 - acc: 0.52 - ETA: 30s - loss: 1.3952 - acc: 0.52 - ETA: 29s - loss: 1.3967 - acc: 0.52 - ETA: 29s - loss: 1.3944 - acc: 0.52 - ETA: 29s - loss: 1.3945 - acc: 0.52 - ETA: 29s - loss: 1.3936 - acc: 0.52 - ETA: 29s - loss: 1.3909 - acc: 0.52 - ETA: 28s - loss: 1.3887 - acc: 0.52 - ETA: 28s - loss: 1.3887 - acc: 0.52 - ETA: 28s - loss: 1.3888 - acc: 0.52 - ETA: 28s - loss: 1.3888 - acc: 0.52 - ETA: 28s - loss: 1.3863 - acc: 0.52 - ETA: 27s - loss: 1.3866 - acc: 0.52 - ETA: 27s - loss: 1.3901 - acc: 0.52 - ETA: 27s - loss: 1.3979 - acc: 0.52 - ETA: 27s - loss: 1.3969 - acc: 0.52 - ETA: 27s - loss: 1.3945 - acc: 0.52 - ETA: 27s - loss: 1.3945 - acc: 0.52 - ETA: 26s - loss: 1.3934 - acc: 0.52 - ETA: 26s - loss: 1.3917 - acc: 0.52 - ETA: 26s - loss: 1.3916 - acc: 0.52 - ETA: 26s - loss: 1.3920 - acc: 0.52 - ETA: 26s - loss: 1.3942 - acc: 0.52 - ETA: 25s - loss: 1.3912 - acc: 0.52 - ETA: 25s - loss: 1.3915 - acc: 0.52 - ETA: 25s - loss: 1.3912 - acc: 0.5236"
     ]
    },
    {
     "name": "stdout",
     "output_type": "stream",
     "text": [
      "349/349 [==============================] - ETA: 25s - loss: 1.3904 - acc: 0.52 - ETA: 25s - loss: 1.3912 - acc: 0.52 - ETA: 25s - loss: 1.3913 - acc: 0.52 - ETA: 24s - loss: 1.3925 - acc: 0.52 - ETA: 24s - loss: 1.3963 - acc: 0.52 - ETA: 24s - loss: 1.3969 - acc: 0.52 - ETA: 24s - loss: 1.3952 - acc: 0.52 - ETA: 24s - loss: 1.3941 - acc: 0.52 - ETA: 23s - loss: 1.3932 - acc: 0.52 - ETA: 23s - loss: 1.3923 - acc: 0.52 - ETA: 23s - loss: 1.3919 - acc: 0.52 - ETA: 23s - loss: 1.3961 - acc: 0.52 - ETA: 23s - loss: 1.3959 - acc: 0.52 - ETA: 22s - loss: 1.3952 - acc: 0.52 - ETA: 22s - loss: 1.3951 - acc: 0.52 - ETA: 22s - loss: 1.3929 - acc: 0.52 - ETA: 22s - loss: 1.3943 - acc: 0.52 - ETA: 22s - loss: 1.3935 - acc: 0.52 - ETA: 22s - loss: 1.3931 - acc: 0.52 - ETA: 21s - loss: 1.3953 - acc: 0.52 - ETA: 21s - loss: 1.3956 - acc: 0.52 - ETA: 21s - loss: 1.3952 - acc: 0.52 - ETA: 21s - loss: 1.3942 - acc: 0.52 - ETA: 21s - loss: 1.3945 - acc: 0.52 - ETA: 20s - loss: 1.3957 - acc: 0.52 - ETA: 20s - loss: 1.3962 - acc: 0.52 - ETA: 20s - loss: 1.3932 - acc: 0.52 - ETA: 20s - loss: 1.3921 - acc: 0.52 - ETA: 20s - loss: 1.3924 - acc: 0.52 - ETA: 20s - loss: 1.3929 - acc: 0.52 - ETA: 19s - loss: 1.3928 - acc: 0.52 - ETA: 19s - loss: 1.3914 - acc: 0.52 - ETA: 19s - loss: 1.3898 - acc: 0.52 - ETA: 19s - loss: 1.3882 - acc: 0.52 - ETA: 19s - loss: 1.3862 - acc: 0.52 - ETA: 19s - loss: 1.3877 - acc: 0.52 - ETA: 18s - loss: 1.3874 - acc: 0.52 - ETA: 18s - loss: 1.3863 - acc: 0.52 - ETA: 18s - loss: 1.3856 - acc: 0.52 - ETA: 18s - loss: 1.3860 - acc: 0.52 - ETA: 18s - loss: 1.3864 - acc: 0.52 - ETA: 17s - loss: 1.3840 - acc: 0.52 - ETA: 17s - loss: 1.3835 - acc: 0.52 - ETA: 17s - loss: 1.3832 - acc: 0.52 - ETA: 17s - loss: 1.3852 - acc: 0.52 - ETA: 17s - loss: 1.3850 - acc: 0.52 - ETA: 17s - loss: 1.3851 - acc: 0.52 - ETA: 16s - loss: 1.3831 - acc: 0.52 - ETA: 16s - loss: 1.3820 - acc: 0.52 - ETA: 16s - loss: 1.3812 - acc: 0.52 - ETA: 16s - loss: 1.3844 - acc: 0.52 - ETA: 16s - loss: 1.3844 - acc: 0.52 - ETA: 15s - loss: 1.3867 - acc: 0.52 - ETA: 15s - loss: 1.3866 - acc: 0.52 - ETA: 15s - loss: 1.3874 - acc: 0.52 - ETA: 15s - loss: 1.3848 - acc: 0.52 - ETA: 15s - loss: 1.3858 - acc: 0.52 - ETA: 15s - loss: 1.3860 - acc: 0.52 - ETA: 14s - loss: 1.3839 - acc: 0.52 - ETA: 14s - loss: 1.3840 - acc: 0.52 - ETA: 14s - loss: 1.3829 - acc: 0.52 - ETA: 14s - loss: 1.3825 - acc: 0.52 - ETA: 14s - loss: 1.3810 - acc: 0.52 - ETA: 14s - loss: 1.3816 - acc: 0.52 - ETA: 13s - loss: 1.3836 - acc: 0.52 - ETA: 13s - loss: 1.3821 - acc: 0.52 - ETA: 13s - loss: 1.3808 - acc: 0.52 - ETA: 13s - loss: 1.3800 - acc: 0.52 - ETA: 13s - loss: 1.3794 - acc: 0.52 - ETA: 12s - loss: 1.3769 - acc: 0.52 - ETA: 12s - loss: 1.3765 - acc: 0.52 - ETA: 12s - loss: 1.3773 - acc: 0.52 - ETA: 12s - loss: 1.3751 - acc: 0.52 - ETA: 12s - loss: 1.3744 - acc: 0.52 - ETA: 12s - loss: 1.3740 - acc: 0.52 - ETA: 11s - loss: 1.3730 - acc: 0.52 - ETA: 11s - loss: 1.3727 - acc: 0.52 - ETA: 11s - loss: 1.3735 - acc: 0.52 - ETA: 11s - loss: 1.3721 - acc: 0.52 - ETA: 11s - loss: 1.3739 - acc: 0.52 - ETA: 11s - loss: 1.3749 - acc: 0.52 - ETA: 10s - loss: 1.3750 - acc: 0.52 - ETA: 10s - loss: 1.3735 - acc: 0.52 - ETA: 10s - loss: 1.3719 - acc: 0.52 - ETA: 10s - loss: 1.3711 - acc: 0.52 - ETA: 10s - loss: 1.3722 - acc: 0.52 - ETA: 10s - loss: 1.3727 - acc: 0.52 - ETA: 9s - loss: 1.3726 - acc: 0.5265 - ETA: 9s - loss: 1.3720 - acc: 0.526 - ETA: 9s - loss: 1.3723 - acc: 0.526 - ETA: 9s - loss: 1.3687 - acc: 0.527 - ETA: 9s - loss: 1.3681 - acc: 0.527 - ETA: 8s - loss: 1.3709 - acc: 0.527 - ETA: 8s - loss: 1.3707 - acc: 0.527 - ETA: 8s - loss: 1.3724 - acc: 0.527 - ETA: 8s - loss: 1.3727 - acc: 0.527 - ETA: 8s - loss: 1.3726 - acc: 0.527 - ETA: 8s - loss: 1.3755 - acc: 0.526 - ETA: 7s - loss: 1.3741 - acc: 0.527 - ETA: 7s - loss: 1.3749 - acc: 0.526 - ETA: 7s - loss: 1.3741 - acc: 0.526 - ETA: 7s - loss: 1.3768 - acc: 0.526 - ETA: 7s - loss: 1.3760 - acc: 0.526 - ETA: 7s - loss: 1.3766 - acc: 0.526 - ETA: 6s - loss: 1.3783 - acc: 0.526 - ETA: 6s - loss: 1.3801 - acc: 0.526 - ETA: 6s - loss: 1.3804 - acc: 0.525 - ETA: 6s - loss: 1.3837 - acc: 0.525 - ETA: 6s - loss: 1.3827 - acc: 0.525 - ETA: 6s - loss: 1.3826 - acc: 0.525 - ETA: 5s - loss: 1.3830 - acc: 0.525 - ETA: 5s - loss: 1.3808 - acc: 0.525 - ETA: 5s - loss: 1.3805 - acc: 0.525 - ETA: 5s - loss: 1.3787 - acc: 0.526 - ETA: 5s - loss: 1.3786 - acc: 0.526 - ETA: 5s - loss: 1.3785 - acc: 0.526 - ETA: 4s - loss: 1.3775 - acc: 0.526 - ETA: 4s - loss: 1.3782 - acc: 0.526 - ETA: 4s - loss: 1.3773 - acc: 0.526 - ETA: 4s - loss: 1.3770 - acc: 0.526 - ETA: 4s - loss: 1.3756 - acc: 0.526 - ETA: 3s - loss: 1.3771 - acc: 0.526 - ETA: 3s - loss: 1.3773 - acc: 0.525 - ETA: 3s - loss: 1.3772 - acc: 0.526 - ETA: 3s - loss: 1.3784 - acc: 0.525 - ETA: 3s - loss: 1.3773 - acc: 0.526 - ETA: 3s - loss: 1.3770 - acc: 0.526 - ETA: 2s - loss: 1.3787 - acc: 0.526 - ETA: 2s - loss: 1.3785 - acc: 0.526 - ETA: 2s - loss: 1.3777 - acc: 0.526 - ETA: 2s - loss: 1.3791 - acc: 0.525 - ETA: 2s - loss: 1.3782 - acc: 0.525 - ETA: 2s - loss: 1.3782 - acc: 0.525 - ETA: 1s - loss: 1.3797 - acc: 0.525 - ETA: 1s - loss: 1.3813 - acc: 0.525 - ETA: 1s - loss: 1.3808 - acc: 0.525 - ETA: 1s - loss: 1.3812 - acc: 0.525 - ETA: 1s - loss: 1.3809 - acc: 0.525 - ETA: 1s - loss: 1.3825 - acc: 0.524 - ETA: 0s - loss: 1.3820 - acc: 0.525 - ETA: 0s - loss: 1.3809 - acc: 0.525 - ETA: 0s - loss: 1.3802 - acc: 0.525 - ETA: 0s - loss: 1.3796 - acc: 0.525 - ETA: 0s - loss: 1.3783 - acc: 0.525 - 60s 173ms/step - loss: 1.3777 - acc: 0.5253\n",
      "1452/1452 [==============================] - 325s 224ms/step - loss: 0.2451 - acc: 0.9065 - val_loss: 1.3777 - val_acc: 0.5253\n",
      "Epoch 2/100\n"
     ]
    },
    {
     "name": "stdout",
     "output_type": "stream",
     "text": [
      " 204/1452 [===>..........................] - ETA: 4:56 - loss: 0.2982 - acc: 0.843 - ETA: 4:55 - loss: 0.2427 - acc: 0.906 - ETA: 4:55 - loss: 0.2155 - acc: 0.927 - ETA: 4:58 - loss: 0.2703 - acc: 0.914 - ETA: 5:00 - loss: 0.2589 - acc: 0.918 - ETA: 4:57 - loss: 0.2819 - acc: 0.906 - ETA: 4:58 - loss: 0.2594 - acc: 0.910 - ETA: 5:00 - loss: 0.2704 - acc: 0.906 - ETA: 5:01 - loss: 0.2796 - acc: 0.899 - ETA: 4:59 - loss: 0.2626 - acc: 0.906 - ETA: 4:58 - loss: 0.2657 - acc: 0.906 - ETA: 4:57 - loss: 0.2649 - acc: 0.906 - ETA: 4:54 - loss: 0.2544 - acc: 0.908 - ETA: 4:54 - loss: 0.2457 - acc: 0.912 - ETA: 4:54 - loss: 0.2416 - acc: 0.912 - ETA: 4:55 - loss: 0.2461 - acc: 0.908 - ETA: 4:54 - loss: 0.2361 - acc: 0.913 - ETA: 4:54 - loss: 0.2306 - acc: 0.916 - ETA: 4:54 - loss: 0.2252 - acc: 0.916 - ETA: 4:54 - loss: 0.2214 - acc: 0.917 - ETA: 4:53 - loss: 0.2140 - acc: 0.921 - ETA: 4:52 - loss: 0.2168 - acc: 0.919 - ETA: 4:51 - loss: 0.2241 - acc: 0.914 - ETA: 4:51 - loss: 0.2200 - acc: 0.916 - ETA: 4:50 - loss: 0.2161 - acc: 0.920 - ETA: 4:50 - loss: 0.2169 - acc: 0.920 - ETA: 4:49 - loss: 0.2187 - acc: 0.919 - ETA: 4:48 - loss: 0.2157 - acc: 0.919 - ETA: 4:47 - loss: 0.2120 - acc: 0.921 - ETA: 4:47 - loss: 0.2148 - acc: 0.919 - ETA: 4:46 - loss: 0.2110 - acc: 0.921 - ETA: 4:46 - loss: 0.2057 - acc: 0.923 - ETA: 4:46 - loss: 0.2019 - acc: 0.926 - ETA: 4:46 - loss: 0.2009 - acc: 0.924 - ETA: 4:46 - loss: 0.2044 - acc: 0.925 - ETA: 4:46 - loss: 0.2010 - acc: 0.926 - ETA: 4:45 - loss: 0.2015 - acc: 0.926 - ETA: 4:45 - loss: 0.2018 - acc: 0.926 - ETA: 4:45 - loss: 0.1993 - acc: 0.927 - ETA: 4:44 - loss: 0.1977 - acc: 0.928 - ETA: 4:43 - loss: 0.1998 - acc: 0.926 - ETA: 4:43 - loss: 0.1985 - acc: 0.927 - ETA: 4:42 - loss: 0.1957 - acc: 0.928 - ETA: 4:42 - loss: 0.1958 - acc: 0.928 - ETA: 4:41 - loss: 0.1949 - acc: 0.928 - ETA: 4:41 - loss: 0.1915 - acc: 0.930 - ETA: 4:41 - loss: 0.1892 - acc: 0.930 - ETA: 4:40 - loss: 0.1921 - acc: 0.930 - ETA: 4:40 - loss: 0.1903 - acc: 0.931 - ETA: 4:40 - loss: 0.1889 - acc: 0.931 - ETA: 4:40 - loss: 0.1876 - acc: 0.932 - ETA: 4:39 - loss: 0.1883 - acc: 0.932 - ETA: 4:39 - loss: 0.1869 - acc: 0.933 - ETA: 4:39 - loss: 0.1865 - acc: 0.932 - ETA: 4:40 - loss: 0.1849 - acc: 0.933 - ETA: 4:39 - loss: 0.1841 - acc: 0.932 - ETA: 4:39 - loss: 0.1823 - acc: 0.933 - ETA: 4:39 - loss: 0.1847 - acc: 0.932 - ETA: 4:38 - loss: 0.1836 - acc: 0.932 - ETA: 4:38 - loss: 0.1835 - acc: 0.932 - ETA: 4:37 - loss: 0.1831 - acc: 0.932 - ETA: 4:37 - loss: 0.1821 - acc: 0.933 - ETA: 4:37 - loss: 0.1848 - acc: 0.932 - ETA: 4:37 - loss: 0.1828 - acc: 0.933 - ETA: 4:36 - loss: 0.1844 - acc: 0.932 - ETA: 4:36 - loss: 0.1842 - acc: 0.932 - ETA: 4:35 - loss: 0.1826 - acc: 0.933 - ETA: 4:35 - loss: 0.1813 - acc: 0.933 - ETA: 4:35 - loss: 0.1807 - acc: 0.933 - ETA: 4:34 - loss: 0.1838 - acc: 0.933 - ETA: 4:34 - loss: 0.1835 - acc: 0.933 - ETA: 4:33 - loss: 0.1823 - acc: 0.934 - ETA: 4:33 - loss: 0.1813 - acc: 0.934 - ETA: 4:33 - loss: 0.1821 - acc: 0.933 - ETA: 4:32 - loss: 0.1816 - acc: 0.933 - ETA: 4:32 - loss: 0.1806 - acc: 0.933 - ETA: 4:32 - loss: 0.1796 - acc: 0.934 - ETA: 4:31 - loss: 0.1787 - acc: 0.935 - ETA: 4:31 - loss: 0.1790 - acc: 0.934 - ETA: 4:31 - loss: 0.1781 - acc: 0.935 - ETA: 4:31 - loss: 0.1771 - acc: 0.935 - ETA: 4:31 - loss: 0.1780 - acc: 0.935 - ETA: 4:30 - loss: 0.1787 - acc: 0.934 - ETA: 4:30 - loss: 0.1789 - acc: 0.934 - ETA: 4:30 - loss: 0.1776 - acc: 0.935 - ETA: 4:30 - loss: 0.1780 - acc: 0.935 - ETA: 4:29 - loss: 0.1801 - acc: 0.934 - ETA: 4:30 - loss: 0.1794 - acc: 0.935 - ETA: 4:29 - loss: 0.1816 - acc: 0.934 - ETA: 4:29 - loss: 0.1824 - acc: 0.933 - ETA: 4:29 - loss: 0.1862 - acc: 0.932 - ETA: 4:29 - loss: 0.1856 - acc: 0.932 - ETA: 4:29 - loss: 0.1852 - acc: 0.932 - ETA: 4:29 - loss: 0.1848 - acc: 0.932 - ETA: 4:28 - loss: 0.1835 - acc: 0.933 - ETA: 4:28 - loss: 0.1839 - acc: 0.933 - ETA: 4:28 - loss: 0.1840 - acc: 0.933 - ETA: 4:28 - loss: 0.1826 - acc: 0.934 - ETA: 4:28 - loss: 0.1812 - acc: 0.934 - ETA: 4:28 - loss: 0.1802 - acc: 0.935 - ETA: 4:27 - loss: 0.1799 - acc: 0.935 - ETA: 4:27 - loss: 0.1797 - acc: 0.935 - ETA: 4:27 - loss: 0.1791 - acc: 0.935 - ETA: 4:27 - loss: 0.1783 - acc: 0.936 - ETA: 4:27 - loss: 0.1775 - acc: 0.936 - ETA: 4:27 - loss: 0.1772 - acc: 0.936 - ETA: 4:26 - loss: 0.1774 - acc: 0.936 - ETA: 4:26 - loss: 0.1774 - acc: 0.936 - ETA: 4:26 - loss: 0.1762 - acc: 0.937 - ETA: 4:26 - loss: 0.1755 - acc: 0.937 - ETA: 4:25 - loss: 0.1755 - acc: 0.937 - ETA: 4:25 - loss: 0.1752 - acc: 0.937 - ETA: 4:25 - loss: 0.1756 - acc: 0.936 - ETA: 4:25 - loss: 0.1749 - acc: 0.937 - ETA: 4:25 - loss: 0.1739 - acc: 0.937 - ETA: 4:25 - loss: 0.1740 - acc: 0.937 - ETA: 4:25 - loss: 0.1728 - acc: 0.937 - ETA: 4:25 - loss: 0.1719 - acc: 0.938 - ETA: 4:24 - loss: 0.1714 - acc: 0.938 - ETA: 4:24 - loss: 0.1710 - acc: 0.938 - ETA: 4:24 - loss: 0.1705 - acc: 0.938 - ETA: 4:23 - loss: 0.1704 - acc: 0.938 - ETA: 4:23 - loss: 0.1695 - acc: 0.939 - ETA: 4:23 - loss: 0.1686 - acc: 0.939 - ETA: 4:23 - loss: 0.1680 - acc: 0.939 - ETA: 4:23 - loss: 0.1669 - acc: 0.940 - ETA: 4:22 - loss: 0.1672 - acc: 0.940 - ETA: 4:22 - loss: 0.1675 - acc: 0.939 - ETA: 4:22 - loss: 0.1666 - acc: 0.940 - ETA: 4:22 - loss: 0.1660 - acc: 0.940 - ETA: 4:22 - loss: 0.1653 - acc: 0.941 - ETA: 4:21 - loss: 0.1652 - acc: 0.941 - ETA: 4:21 - loss: 0.1645 - acc: 0.941 - ETA: 4:21 - loss: 0.1650 - acc: 0.940 - ETA: 4:21 - loss: 0.1647 - acc: 0.940 - ETA: 4:20 - loss: 0.1653 - acc: 0.940 - ETA: 4:20 - loss: 0.1652 - acc: 0.940 - ETA: 4:20 - loss: 0.1654 - acc: 0.940 - ETA: 4:20 - loss: 0.1647 - acc: 0.940 - ETA: 4:19 - loss: 0.1672 - acc: 0.940 - ETA: 4:19 - loss: 0.1673 - acc: 0.939 - ETA: 4:19 - loss: 0.1672 - acc: 0.939 - ETA: 4:19 - loss: 0.1663 - acc: 0.939 - ETA: 4:18 - loss: 0.1658 - acc: 0.940 - ETA: 4:18 - loss: 0.1657 - acc: 0.940 - ETA: 4:18 - loss: 0.1653 - acc: 0.940 - ETA: 4:18 - loss: 0.1660 - acc: 0.940 - ETA: 4:18 - loss: 0.1653 - acc: 0.940 - ETA: 4:18 - loss: 0.1663 - acc: 0.939 - ETA: 4:17 - loss: 0.1663 - acc: 0.939 - ETA: 4:17 - loss: 0.1663 - acc: 0.939 - ETA: 4:17 - loss: 0.1663 - acc: 0.939 - ETA: 4:17 - loss: 0.1661 - acc: 0.939 - ETA: 4:16 - loss: 0.1661 - acc: 0.939 - ETA: 4:16 - loss: 0.1657 - acc: 0.939 - ETA: 4:16 - loss: 0.1664 - acc: 0.939 - ETA: 4:15 - loss: 0.1672 - acc: 0.939 - ETA: 4:15 - loss: 0.1670 - acc: 0.939 - ETA: 4:15 - loss: 0.1665 - acc: 0.939 - ETA: 4:15 - loss: 0.1667 - acc: 0.939 - ETA: 4:15 - loss: 0.1665 - acc: 0.939 - ETA: 4:14 - loss: 0.1659 - acc: 0.940 - ETA: 4:14 - loss: 0.1660 - acc: 0.940 - ETA: 4:14 - loss: 0.1652 - acc: 0.940 - ETA: 4:14 - loss: 0.1649 - acc: 0.940 - ETA: 4:13 - loss: 0.1644 - acc: 0.941 - ETA: 4:13 - loss: 0.1638 - acc: 0.941 - ETA: 4:13 - loss: 0.1631 - acc: 0.941 - ETA: 4:13 - loss: 0.1625 - acc: 0.941 - ETA: 4:12 - loss: 0.1628 - acc: 0.941 - ETA: 4:12 - loss: 0.1633 - acc: 0.941 - ETA: 4:12 - loss: 0.1632 - acc: 0.941 - ETA: 4:12 - loss: 0.1640 - acc: 0.940 - ETA: 4:11 - loss: 0.1639 - acc: 0.940 - ETA: 4:11 - loss: 0.1639 - acc: 0.940 - ETA: 4:11 - loss: 0.1638 - acc: 0.940 - ETA: 4:11 - loss: 0.1634 - acc: 0.940 - ETA: 4:11 - loss: 0.1631 - acc: 0.940 - ETA: 4:10 - loss: 0.1631 - acc: 0.940 - ETA: 4:10 - loss: 0.1634 - acc: 0.940 - ETA: 4:10 - loss: 0.1636 - acc: 0.940 - ETA: 4:10 - loss: 0.1644 - acc: 0.940 - ETA: 4:09 - loss: 0.1641 - acc: 0.940 - ETA: 4:09 - loss: 0.1639 - acc: 0.940 - ETA: 4:09 - loss: 0.1634 - acc: 0.940 - ETA: 4:09 - loss: 0.1635 - acc: 0.940 - ETA: 4:08 - loss: 0.1634 - acc: 0.940 - ETA: 4:08 - loss: 0.1640 - acc: 0.940 - ETA: 4:08 - loss: 0.1635 - acc: 0.940 - ETA: 4:08 - loss: 0.1630 - acc: 0.941 - ETA: 4:08 - loss: 0.1628 - acc: 0.940 - ETA: 4:08 - loss: 0.1634 - acc: 0.940 - ETA: 4:08 - loss: 0.1630 - acc: 0.940 - ETA: 4:08 - loss: 0.1638 - acc: 0.940 - ETA: 4:07 - loss: 0.1642 - acc: 0.940 - ETA: 4:07 - loss: 0.1644 - acc: 0.940 - ETA: 4:07 - loss: 0.1641 - acc: 0.940 - ETA: 4:07 - loss: 0.1638 - acc: 0.940 - ETA: 4:07 - loss: 0.1631 - acc: 0.940 - ETA: 4:06 - loss: 0.1639 - acc: 0.940 - ETA: 4:06 - loss: 0.1637 - acc: 0.940 - ETA: 4:06 - loss: 0.1640 - acc: 0.940 - ETA: 4:06 - loss: 0.1637 - acc: 0.940 - ETA: 4:06 - loss: 0.1637 - acc: 0.9406 216/1452 [===>..........................] - ETA: 4:05 - loss: 0.1639 - acc: 0.940 - ETA: 4:05 - loss: 0.1642 - acc: 0.940 - ETA: 4:05 - loss: 0.1652 - acc: 0.939 - ETA: 4:05 - loss: 0.1650 - acc: 0.939 - ETA: 4:05 - loss: 0.1653 - acc: 0.939 - ETA: 4:05 - loss: 0.1652 - acc: 0.939 - ETA: 4:04 - loss: 0.1652 - acc: 0.939 - ETA: 4:04 - loss: 0.1648 - acc: 0.939 - ETA: 4:04 - loss: 0.1653 - acc: 0.939 - ETA: 4:04 - loss: 0.1656 - acc: 0.939 - ETA: 4:03 - loss: 0.1656 - acc: 0.939 - ETA: 4:03 - loss: 0.1655 - acc: 0.9391"
     ]
    }
   ],
   "source": [
    "\n",
    "callbacks = [\n",
    "  # Interrupt training if `val_loss` stops improving for over 2 epochs\n",
    "  #tf.keras.callbacks.EarlyStopping(patience=5, monitor='val_loss'),\n",
    "  # Write TensorBoard logs to `./logs` directory\n",
    "  tf.keras.callbacks.TensorBoard(log_dir='./logs')\n",
    "]\n",
    "model.fit(train_datasource, epochs=100, callbacks = callbacks, steps_per_epoch=int(len(all_train_image_pair_paths)/BATCH_SIZE),\n",
    "          validation_data=test_datasource, \n",
    "          validation_steps=int(len(all_test_image_pair_paths)/BATCH_SIZE))"
   ]
  },
  {
   "cell_type": "code",
   "execution_count": null,
   "metadata": {},
   "outputs": [],
   "source": [
    "model.compile(\n",
    "    optimizer = tf.keras.optimizers.Adam(0.01), \n",
    "    loss = 'binary_crossentropy', \n",
    "    metrics = [\"accuracy\"],\n",
    ")"
   ]
  },
  {
   "cell_type": "code",
   "execution_count": null,
   "metadata": {},
   "outputs": [],
   "source": []
  },
  {
   "cell_type": "code",
   "execution_count": null,
   "metadata": {},
   "outputs": [],
   "source": []
  },
  {
   "cell_type": "code",
   "execution_count": null,
   "metadata": {},
   "outputs": [],
   "source": []
  }
 ],
 "metadata": {
  "kernelspec": {
   "display_name": "tf_gpu",
   "language": "python",
   "name": "tf_gpu"
  },
  "language_info": {
   "codemirror_mode": {
    "name": "ipython",
    "version": 3
   },
   "file_extension": ".py",
   "mimetype": "text/x-python",
   "name": "python",
   "nbconvert_exporter": "python",
   "pygments_lexer": "ipython3",
   "version": "3.7.3"
  }
 },
 "nbformat": 4,
 "nbformat_minor": 2
}
