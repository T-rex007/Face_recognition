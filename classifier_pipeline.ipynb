{
 "cells": [
  {
   "cell_type": "code",
   "execution_count": 45,
   "metadata": {},
   "outputs": [],
   "source": [
    "import pandas as pd\n",
    "import numpy as np\n",
    "import random\n",
    "import itertools\n",
    "import tensorflow as tf\n",
    "from tensorflow.keras.models import load_model\n",
    "from mtcnn.mtcnn import MTCNN"
   ]
  },
  {
   "cell_type": "code",
   "execution_count": 48,
   "metadata": {},
   "outputs": [],
   "source": [
    "tf.enable_eager_execution()"
   ]
  },
  {
   "cell_type": "code",
   "execution_count": 3,
   "metadata": {},
   "outputs": [],
   "source": [
    "img_lst = pd.read_csv(\"test/test_list.csv\")\n",
    "img_lst = [ str(i[0]) for i in img_lst.values ]\n",
    "idty = []\n",
    "for i in img_lst:\n",
    "    idty.append(i.split(\"/\"))\n",
    "df = pd.DataFrame(idty)\n",
    "classes = list(df[0].unique())"
   ]
  },
  {
   "cell_type": "code",
   "execution_count": 8,
   "metadata": {},
   "outputs": [],
   "source": [
    "c = df[0].values\n",
    "classes = list(df[0].unique())\n",
    "min_classes = min(df[0].value_counts())\n",
    "mapping = {}\n",
    "for i in classes:\n",
    "    mapping[i] = np.where(c == i)\n",
    "ran_pos = random.choices(mapping[classes[0]][0], k = 50)\n",
    "tmp = [list(mapping[i][0].reshape(-1)) for i in classes if(i != classes[0])]\n",
    "tmp = list(itertools.chain.from_iterable(tmp))\n",
    "ran_neg = random.choices(tmp, k = 50)"
   ]
  },
  {
   "cell_type": "code",
   "execution_count": 83,
   "metadata": {},
   "outputs": [],
   "source": [
    "def sample(self, label, i, k):\n",
    "    if (label== 1):\n",
    "        return random.choices(self.mapping[classes[i]][0], k = k)\n",
    "    elif(label==0):\n",
    "        tmp = [list(mapping[i][0].reshape(-1)) for i in classes if(i != classes[0])]\n",
    "        tmp = list(itertools.chain.from_iterable(tmp))\n",
    "        return random.choices(tmp, k = 50)\n",
    "    print(\"OOPS it broke\")\n",
    "    return None"
   ]
  },
  {
   "cell_type": "code",
   "execution_count": 87,
   "metadata": {},
   "outputs": [
    {
     "data": {
      "text/plain": [
       "100"
      ]
     },
     "execution_count": 87,
     "metadata": {},
     "output_type": "execute_result"
    }
   ],
   "source": [
    "len(sample( ,  ))"
   ]
  },
  {
   "cell_type": "code",
   "execution_count": 71,
   "metadata": {},
   "outputs": [],
   "source": [
    "class ImageManager:\n",
    "    ### Class Constructor\n",
    "    def __init__(self, feature_extractor, face_detector, imgpaths = None):\n",
    "        self.feature_extractor = feature_extractor\n",
    "        self.face_detector = face_detector\n",
    "        self.bb_lst = []\n",
    "        self.im_sz = feature_extractor.input_shape\n",
    "        self.img = None\n",
    "        self.imgpaths = [ str(i[0]) for i in imgpaths.values ]\n",
    "        \n",
    "        idty = []\n",
    "        for i in self.imgpaths:\n",
    "            idty.append(i.split(\"/\"))\n",
    "        df = pd.DataFrame(idty)\n",
    "        self.c = df[0].values ### The class of each image\n",
    "        self.classes = list(df[0].unique()) ### different class in dset\n",
    "        self.min_class_count = min(df[0].value_counts())\n",
    "        self.classmap = {}### class to index mapping\n",
    "        for i in self.classes:\n",
    "            self.classmap[i] = np.where(self.c == i)\n",
    "        self.sample_feat = []\n",
    "        self.sample_labels = []\n",
    "        \n",
    "        \n",
    "        \n",
    "    def detect_faces(self, img):\n",
    "        results = self.face_detector.detect_faces(img)\n",
    "        for i in results:\n",
    "            self.bb_lst.append(i[\"box\"])\n",
    "        return bb_lst\n",
    "    \n",
    "    def extract_feature(self, img):\n",
    "        image_features = []\n",
    "        for i in range(len(bb_lst)):\n",
    "            img = crop_face(img, bb_lst[i])\n",
    "            img = resize(img,(self.im_sz[1],im_sz[2]))\n",
    "            img = normalize(img).reshape((1, im_sz[1],im_sz[2], im_sz[3]))\n",
    "            image_features.append(feature_extractor.predict(img))\n",
    "        return image_features\n",
    "    \n",
    "\n",
    "    def normalize(self, img):\n",
    "        \"\"\"\n",
    "        Normalize the image pixels values between  1 and 0\n",
    "        \"\"\"\n",
    "        return img/255\n",
    "    \n",
    "    def crop_face(self,img):\n",
    "        \"\"\"\n",
    "        Crop the area delimited by the the bounding box bb\n",
    "        \"\"\"\n",
    "        im_lst = []\n",
    "        for i in range(len(bb)):\n",
    "            x1, y1, width, height = bb[i]\n",
    "            x1,y1 = abs(x1), abs(y1)\n",
    "            x2, y2 = x1 + width, y1 + height\n",
    "            im_lst.append(img[y1:y2, x1:x2])\n",
    "        return im_lst\n",
    "    \n",
    "    def random_sample(self,label, classidx, k):\n",
    "        \"\"\"\n",
    "        Returns k random indexes of of a particalar class or all other classes \n",
    "        than that is indicated by classidx\n",
    "        Args:\n",
    "            label: Indicates whether to sample indexes form th indicate class or not.\n",
    "            classidx: which class to sample\n",
    "            k: Sample size \n",
    "        \"\"\"\n",
    "        if (label== 1):\n",
    "            return random.choices(self.classmap[classes[classidx]][0], k = k)\n",
    "        elif(label==0):\n",
    "            tmp = [list(self.classmap[i][0].reshape(-1)) \n",
    "                   for i in self.classes if(i != self.classes[classidx])]\n",
    "            tmp = list(itertools.chain.from_iterable(tmp))\n",
    "            return random.choices(tmp, k = k)\n",
    "        print(\"OOPS it broke\")\n",
    "        return None\n",
    "    def update(self,sample, label):\n",
    "        \"\"\"Update sample values\"\"\"\n",
    "        tmp = [label] * len(sample)\n",
    "        self.sample_label = self.sample_label + tmp\n",
    "        self.sample_feat = self.sample_feat + sample\n",
    "        \n",
    "        \n",
    "        "
   ]
  },
  {
   "cell_type": "code",
   "execution_count": 59,
   "metadata": {},
   "outputs": [
    {
     "name": "stderr",
     "output_type": "stream",
     "text": [
      "W0707 23:47:07.276424 22016 hdf5_format.py:221] No training configuration found in save file: the model was *not* compiled. Compile it manually.\n"
     ]
    }
   ],
   "source": [
    "model = load_model(\"Models/FaceNet/facenet_keras.h5\")\n",
    "dtor = MTCNN()\n",
    "pths = pd.read_csv(\"test/test_list.csv\")"
   ]
  },
  {
   "cell_type": "code",
   "execution_count": 72,
   "metadata": {},
   "outputs": [],
   "source": [
    "m = ImageManager(model, dtor, pths)"
   ]
  },
  {
   "cell_type": "code",
   "execution_count": 81,
   "metadata": {},
   "outputs": [],
   "source": [
    "d = m.random_sample(0, 0, 50)"
   ]
  },
  {
   "cell_type": "code",
   "execution_count": 84,
   "metadata": {},
   "outputs": [],
   "source": [
    "ara = np.array(d)"
   ]
  },
  {
   "cell_type": "code",
   "execution_count": 92,
   "metadata": {},
   "outputs": [],
   "source": [
    "f = np.array(m.imgpaths)"
   ]
  },
  {
   "cell_type": "code",
   "execution_count": 93,
   "metadata": {},
   "outputs": [
    {
     "data": {
      "text/plain": [
       "array(['n000001/0004_01.jpg', 'n000001/0006_01.jpg',\n",
       "       'n000001/0008_01.jpg'], dtype='<U19')"
      ]
     },
     "execution_count": 93,
     "metadata": {},
     "output_type": "execute_result"
    }
   ],
   "source": [
    "f[[3, 5, 7]]"
   ]
  },
  {
   "cell_type": "code",
   "execution_count": null,
   "metadata": {},
   "outputs": [],
   "source": []
  }
 ],
 "metadata": {
  "kernelspec": {
   "display_name": "vision1",
   "language": "python",
   "name": "vision1"
  },
  "language_info": {
   "codemirror_mode": {
    "name": "ipython",
    "version": 3
   },
   "file_extension": ".py",
   "mimetype": "text/x-python",
   "name": "python",
   "nbconvert_exporter": "python",
   "pygments_lexer": "ipython3",
   "version": "3.7.3"
  }
 },
 "nbformat": 4,
 "nbformat_minor": 2
}
