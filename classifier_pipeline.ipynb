{
 "cells": [
  {
   "cell_type": "code",
   "execution_count": 45,
   "metadata": {},
   "outputs": [],
   "source": [
    "import pandas as pd\n",
    "import numpy as np\n",
    "import random\n",
    "import itertools\n",
    "import tensorflow as tf\n",
    "from tensorflow.keras.models import load_model\n",
    "from mtcnn.mtcnn import MTCNN"
   ]
  },
  {
   "cell_type": "code",
   "execution_count": 48,
   "metadata": {},
   "outputs": [],
   "source": [
    "tf.enable_eager_execution()"
   ]
  },
  {
   "cell_type": "code",
   "execution_count": 152,
   "metadata": {},
   "outputs": [],
   "source": [
    "img_lst = pd.read_csv(\"test/test_list.csv\")\n",
    "img_lst = [ str(i[0]) for i in img_lst.values ]\n",
    "idty = []\n",
    "for i in img_lst:\n",
    "    idty.append(i.split(\"/\"))\n",
    "df = pd.DataFrame(idty)\n",
    "classes = list(df[0].unique())"
   ]
  },
  {
   "cell_type": "code",
   "execution_count": 8,
   "metadata": {},
   "outputs": [],
   "source": [
    "c = df[0].values\n",
    "classes = list(df[0].unique())\n",
    "min_classes = min(df[0].value_counts())\n",
    "mapping = {}\n",
    "for i in classes:\n",
    "    mapping[i] = np.where(c == i)\n",
    "ran_pos = random.choices(mapping[classes[0]][0], k = 50)\n",
    "tmp = [list(mapping[i][0].reshape(-1)) for i in classes if(i != classes[0])]\n",
    "tmp = list(itertools.chain.from_iterable(tmp))\n",
    "ran_neg = random.choices(tmp, k = 50)"
   ]
  },
  {
   "cell_type": "code",
   "execution_count": 83,
   "metadata": {},
   "outputs": [],
   "source": [
    "def sample(self, label, i, k):\n",
    "    if (label== 1):\n",
    "        return random.choices(self.mapping[classes[i]][0], k = k)\n",
    "    elif(label==0):\n",
    "        tmp = [list(mapping[i][0].reshape(-1)) for i in classes if(i != classes[0])]\n",
    "        tmp = list(itertools.chain.from_iterable(tmp))\n",
    "        return random.choices(tmp, k = 50)\n",
    "    print(\"OOPS it broke\")\n",
    "    return None"
   ]
  },
  {
   "cell_type": "code",
   "execution_count": 98,
   "metadata": {},
   "outputs": [],
   "source": [
    "type(img_lst)\n",
    "ti = np.array(img_lst)"
   ]
  },
  {
   "cell_type": "code",
   "execution_count": 101,
   "metadata": {},
   "outputs": [],
   "source": [
    "ts = ti [[12,5,7,0]]"
   ]
  },
  {
   "cell_type": "code",
   "execution_count": 104,
   "metadata": {},
   "outputs": [
    {
     "data": {
      "text/plain": [
       "'n000001/0001_01'"
      ]
     },
     "execution_count": 104,
     "metadata": {},
     "output_type": "execute_result"
    }
   ],
   "source": [
    "img_lst[0][:-4]"
   ]
  },
  {
   "cell_type": "code",
   "execution_count": 105,
   "metadata": {},
   "outputs": [
    {
     "data": {
      "text/plain": [
       "'n000001/0001_01.jpg'"
      ]
     },
     "execution_count": 105,
     "metadata": {},
     "output_type": "execute_result"
    }
   ],
   "source": [
    "img_lst[0]"
   ]
  },
  {
   "cell_type": "code",
   "execution_count": 130,
   "metadata": {},
   "outputs": [],
   "source": [
    "imf = np.load(\"test/image_features/\"+ img_lst[0][:-4]+\".jpg.npy\")\n",
    "imf1 = np.load(\"test/image_features/\"+ img_lst[2][:-4]+\".jpg.npy\")"
   ]
  },
  {
   "cell_type": "code",
   "execution_count": 144,
   "metadata": {},
   "outputs": [],
   "source": [
    "labels = [1]* 100\n",
    "labels= pd.DataFrame(labels)"
   ]
  },
  {
   "cell_type": "code",
   "execution_count": 149,
   "metadata": {},
   "outputs": [],
   "source": [
    "ls = [31,3,21,84,65,31,86,4]"
   ]
  },
  {
   "cell_type": "code",
   "execution_count": 154,
   "metadata": {},
   "outputs": [],
   "source": [
    "img_sam = np.array(img_lst)[ls]\n",
    "img_sam = list(img_sam)"
   ]
  },
  {
   "cell_type": "code",
   "execution_count": 156,
   "metadata": {},
   "outputs": [],
   "source": [
    "def get_features(self)\n",
    "    ### Obtaining feature1\n",
    "    img_sam = np.array(self.img_lst)[self.sample_feat1]\n",
    "    img_sam = list(img_sam)\n",
    "    imf = np.load(\"test/image_features/\"+ img_sam[0][:-4]+\".jpg.npy\")\n",
    "    for i in img_sam:\n",
    "        imf1 = np.load(\"test/image_features/\"+ i[:-4]+\".jpg.npy\")\n",
    "        imf = np.vstack([imf, imf1])\n",
    "    self.feat1 = imf\n",
    "    \n",
    "    ###Obtaining feature 2\n",
    "    img_sam = np.array(self.img_lst)[self.sample_feat2]\n",
    "    img_sam = list(img_sam)\n",
    "    imf = np.load(\"test/image_features/\"+ img_sam[0][:-4]+\".jpg.npy\")\n",
    "    for i in img_sam:\n",
    "        imf1 = np.load(\"test/image_features/\"+ i[:-4]+\".jpg.npy\")\n",
    "        imf = np.vstack([imf, imf1])\n",
    "    self.feat1 = imf\n",
    "    \n",
    "    "
   ]
  },
  {
   "cell_type": "code",
   "execution_count": 157,
   "metadata": {},
   "outputs": [],
   "source": [
    "dt = pd.DataFrame(imf)"
   ]
  },
  {
   "cell_type": "code",
   "execution_count": 158,
   "metadata": {},
   "outputs": [],
   "source": [
    "dt [\"labels\"] = labels"
   ]
  },
  {
   "cell_type": "code",
   "execution_count": 159,
   "metadata": {},
   "outputs": [
    {
     "data": {
      "text/html": [
       "<div>\n",
       "<style scoped>\n",
       "    .dataframe tbody tr th:only-of-type {\n",
       "        vertical-align: middle;\n",
       "    }\n",
       "\n",
       "    .dataframe tbody tr th {\n",
       "        vertical-align: top;\n",
       "    }\n",
       "\n",
       "    .dataframe thead th {\n",
       "        text-align: right;\n",
       "    }\n",
       "</style>\n",
       "<table border=\"1\" class=\"dataframe\">\n",
       "  <thead>\n",
       "    <tr style=\"text-align: right;\">\n",
       "      <th></th>\n",
       "      <th>0</th>\n",
       "      <th>1</th>\n",
       "      <th>2</th>\n",
       "      <th>3</th>\n",
       "      <th>4</th>\n",
       "      <th>5</th>\n",
       "      <th>6</th>\n",
       "      <th>7</th>\n",
       "      <th>8</th>\n",
       "      <th>9</th>\n",
       "      <th>...</th>\n",
       "      <th>119</th>\n",
       "      <th>120</th>\n",
       "      <th>121</th>\n",
       "      <th>122</th>\n",
       "      <th>123</th>\n",
       "      <th>124</th>\n",
       "      <th>125</th>\n",
       "      <th>126</th>\n",
       "      <th>127</th>\n",
       "      <th>labels</th>\n",
       "    </tr>\n",
       "  </thead>\n",
       "  <tbody>\n",
       "    <tr>\n",
       "      <th>0</th>\n",
       "      <td>0.315263</td>\n",
       "      <td>0.636195</td>\n",
       "      <td>-0.175732</td>\n",
       "      <td>-1.043500</td>\n",
       "      <td>-0.197832</td>\n",
       "      <td>-1.250189</td>\n",
       "      <td>0.131719</td>\n",
       "      <td>-1.051070</td>\n",
       "      <td>-1.083343</td>\n",
       "      <td>-0.013384</td>\n",
       "      <td>...</td>\n",
       "      <td>0.154535</td>\n",
       "      <td>0.517486</td>\n",
       "      <td>-1.476916</td>\n",
       "      <td>1.888353</td>\n",
       "      <td>-0.559066</td>\n",
       "      <td>1.127827</td>\n",
       "      <td>-0.084678</td>\n",
       "      <td>1.533017</td>\n",
       "      <td>0.179454</td>\n",
       "      <td>1</td>\n",
       "    </tr>\n",
       "    <tr>\n",
       "      <th>1</th>\n",
       "      <td>0.041021</td>\n",
       "      <td>1.104900</td>\n",
       "      <td>-0.528670</td>\n",
       "      <td>-1.541810</td>\n",
       "      <td>-0.467686</td>\n",
       "      <td>-0.897842</td>\n",
       "      <td>-0.562308</td>\n",
       "      <td>-0.226090</td>\n",
       "      <td>-1.876331</td>\n",
       "      <td>-0.851999</td>\n",
       "      <td>...</td>\n",
       "      <td>-0.030639</td>\n",
       "      <td>0.434121</td>\n",
       "      <td>-1.151424</td>\n",
       "      <td>2.017329</td>\n",
       "      <td>-0.181708</td>\n",
       "      <td>0.817447</td>\n",
       "      <td>-0.960071</td>\n",
       "      <td>0.726964</td>\n",
       "      <td>-0.265892</td>\n",
       "      <td>1</td>\n",
       "    </tr>\n",
       "    <tr>\n",
       "      <th>2</th>\n",
       "      <td>-0.428104</td>\n",
       "      <td>1.512833</td>\n",
       "      <td>-0.583690</td>\n",
       "      <td>-1.338151</td>\n",
       "      <td>-0.301589</td>\n",
       "      <td>-0.614875</td>\n",
       "      <td>-0.965708</td>\n",
       "      <td>-0.485295</td>\n",
       "      <td>-1.576415</td>\n",
       "      <td>-1.342914</td>\n",
       "      <td>...</td>\n",
       "      <td>-0.101992</td>\n",
       "      <td>0.537510</td>\n",
       "      <td>-1.995122</td>\n",
       "      <td>2.451614</td>\n",
       "      <td>-0.685253</td>\n",
       "      <td>1.063446</td>\n",
       "      <td>-0.682377</td>\n",
       "      <td>1.845323</td>\n",
       "      <td>0.024886</td>\n",
       "      <td>1</td>\n",
       "    </tr>\n",
       "    <tr>\n",
       "      <th>3</th>\n",
       "      <td>0.087128</td>\n",
       "      <td>0.793409</td>\n",
       "      <td>-0.896879</td>\n",
       "      <td>-1.230173</td>\n",
       "      <td>-0.398586</td>\n",
       "      <td>-0.966301</td>\n",
       "      <td>-0.400256</td>\n",
       "      <td>-0.489013</td>\n",
       "      <td>-1.590885</td>\n",
       "      <td>-0.325289</td>\n",
       "      <td>...</td>\n",
       "      <td>0.364372</td>\n",
       "      <td>0.412002</td>\n",
       "      <td>-1.660689</td>\n",
       "      <td>1.914344</td>\n",
       "      <td>-0.281600</td>\n",
       "      <td>1.449945</td>\n",
       "      <td>-0.393236</td>\n",
       "      <td>1.226452</td>\n",
       "      <td>-0.166929</td>\n",
       "      <td>1</td>\n",
       "    </tr>\n",
       "    <tr>\n",
       "      <th>4</th>\n",
       "      <td>-0.303960</td>\n",
       "      <td>1.680455</td>\n",
       "      <td>-0.665283</td>\n",
       "      <td>-1.406661</td>\n",
       "      <td>0.231448</td>\n",
       "      <td>-1.317054</td>\n",
       "      <td>-0.231514</td>\n",
       "      <td>-0.014099</td>\n",
       "      <td>-2.021549</td>\n",
       "      <td>-0.123661</td>\n",
       "      <td>...</td>\n",
       "      <td>-0.602473</td>\n",
       "      <td>1.186818</td>\n",
       "      <td>-1.316623</td>\n",
       "      <td>1.993647</td>\n",
       "      <td>-1.234915</td>\n",
       "      <td>0.420915</td>\n",
       "      <td>-1.002671</td>\n",
       "      <td>0.625248</td>\n",
       "      <td>-0.327898</td>\n",
       "      <td>1</td>\n",
       "    </tr>\n",
       "    <tr>\n",
       "      <th>5</th>\n",
       "      <td>0.315263</td>\n",
       "      <td>0.636195</td>\n",
       "      <td>-0.175732</td>\n",
       "      <td>-1.043500</td>\n",
       "      <td>-0.197832</td>\n",
       "      <td>-1.250189</td>\n",
       "      <td>0.131719</td>\n",
       "      <td>-1.051070</td>\n",
       "      <td>-1.083343</td>\n",
       "      <td>-0.013384</td>\n",
       "      <td>...</td>\n",
       "      <td>0.154535</td>\n",
       "      <td>0.517486</td>\n",
       "      <td>-1.476916</td>\n",
       "      <td>1.888353</td>\n",
       "      <td>-0.559066</td>\n",
       "      <td>1.127827</td>\n",
       "      <td>-0.084678</td>\n",
       "      <td>1.533017</td>\n",
       "      <td>0.179454</td>\n",
       "      <td>1</td>\n",
       "    </tr>\n",
       "    <tr>\n",
       "      <th>6</th>\n",
       "      <td>0.130775</td>\n",
       "      <td>1.248805</td>\n",
       "      <td>-0.185775</td>\n",
       "      <td>-0.770915</td>\n",
       "      <td>0.282654</td>\n",
       "      <td>-1.405563</td>\n",
       "      <td>-0.633366</td>\n",
       "      <td>-0.061656</td>\n",
       "      <td>-1.718809</td>\n",
       "      <td>-0.613481</td>\n",
       "      <td>...</td>\n",
       "      <td>0.406381</td>\n",
       "      <td>1.345883</td>\n",
       "      <td>-2.544343</td>\n",
       "      <td>2.044993</td>\n",
       "      <td>-1.068878</td>\n",
       "      <td>1.134137</td>\n",
       "      <td>-0.896481</td>\n",
       "      <td>1.603088</td>\n",
       "      <td>0.636979</td>\n",
       "      <td>1</td>\n",
       "    </tr>\n",
       "    <tr>\n",
       "      <th>7</th>\n",
       "      <td>-0.337989</td>\n",
       "      <td>0.978029</td>\n",
       "      <td>-0.972323</td>\n",
       "      <td>-1.204272</td>\n",
       "      <td>-0.221746</td>\n",
       "      <td>-1.620279</td>\n",
       "      <td>-1.001400</td>\n",
       "      <td>-0.696822</td>\n",
       "      <td>-0.519650</td>\n",
       "      <td>-0.144950</td>\n",
       "      <td>...</td>\n",
       "      <td>0.839490</td>\n",
       "      <td>-0.098621</td>\n",
       "      <td>-1.202494</td>\n",
       "      <td>1.863641</td>\n",
       "      <td>-0.701124</td>\n",
       "      <td>0.756743</td>\n",
       "      <td>-0.143279</td>\n",
       "      <td>1.347998</td>\n",
       "      <td>-0.230365</td>\n",
       "      <td>1</td>\n",
       "    </tr>\n",
       "  </tbody>\n",
       "</table>\n",
       "<p>8 rows × 129 columns</p>\n",
       "</div>"
      ],
      "text/plain": [
       "          0         1         2         3         4         5         6  \\\n",
       "0  0.315263  0.636195 -0.175732 -1.043500 -0.197832 -1.250189  0.131719   \n",
       "1  0.041021  1.104900 -0.528670 -1.541810 -0.467686 -0.897842 -0.562308   \n",
       "2 -0.428104  1.512833 -0.583690 -1.338151 -0.301589 -0.614875 -0.965708   \n",
       "3  0.087128  0.793409 -0.896879 -1.230173 -0.398586 -0.966301 -0.400256   \n",
       "4 -0.303960  1.680455 -0.665283 -1.406661  0.231448 -1.317054 -0.231514   \n",
       "5  0.315263  0.636195 -0.175732 -1.043500 -0.197832 -1.250189  0.131719   \n",
       "6  0.130775  1.248805 -0.185775 -0.770915  0.282654 -1.405563 -0.633366   \n",
       "7 -0.337989  0.978029 -0.972323 -1.204272 -0.221746 -1.620279 -1.001400   \n",
       "\n",
       "          7         8         9  ...       119       120       121       122  \\\n",
       "0 -1.051070 -1.083343 -0.013384  ...  0.154535  0.517486 -1.476916  1.888353   \n",
       "1 -0.226090 -1.876331 -0.851999  ... -0.030639  0.434121 -1.151424  2.017329   \n",
       "2 -0.485295 -1.576415 -1.342914  ... -0.101992  0.537510 -1.995122  2.451614   \n",
       "3 -0.489013 -1.590885 -0.325289  ...  0.364372  0.412002 -1.660689  1.914344   \n",
       "4 -0.014099 -2.021549 -0.123661  ... -0.602473  1.186818 -1.316623  1.993647   \n",
       "5 -1.051070 -1.083343 -0.013384  ...  0.154535  0.517486 -1.476916  1.888353   \n",
       "6 -0.061656 -1.718809 -0.613481  ...  0.406381  1.345883 -2.544343  2.044993   \n",
       "7 -0.696822 -0.519650 -0.144950  ...  0.839490 -0.098621 -1.202494  1.863641   \n",
       "\n",
       "        123       124       125       126       127  labels  \n",
       "0 -0.559066  1.127827 -0.084678  1.533017  0.179454       1  \n",
       "1 -0.181708  0.817447 -0.960071  0.726964 -0.265892       1  \n",
       "2 -0.685253  1.063446 -0.682377  1.845323  0.024886       1  \n",
       "3 -0.281600  1.449945 -0.393236  1.226452 -0.166929       1  \n",
       "4 -1.234915  0.420915 -1.002671  0.625248 -0.327898       1  \n",
       "5 -0.559066  1.127827 -0.084678  1.533017  0.179454       1  \n",
       "6 -1.068878  1.134137 -0.896481  1.603088  0.636979       1  \n",
       "7 -0.701124  0.756743 -0.143279  1.347998 -0.230365       1  \n",
       "\n",
       "[8 rows x 129 columns]"
      ]
     },
     "execution_count": 159,
     "metadata": {},
     "output_type": "execute_result"
    }
   ],
   "source": [
    "dt"
   ]
  },
  {
   "cell_type": "code",
   "execution_count": 71,
   "metadata": {},
   "outputs": [],
   "source": [
    "class ImageManager:\n",
    "    ### Class Constructor\n",
    "    def __init__(self, feature_extractor, face_detector, imgpaths = None, \n",
    "                 img_rtpath = None, feat_rtpath = None):\n",
    "        \n",
    "        self.feature_extractor = feature_extractor\n",
    "        self.face_detector = face_detector\n",
    "        self.bb_lst = []\n",
    "        self.im_sz = feature_extractor.input_shape\n",
    "        self.img = None\n",
    "        self.imgpaths = [str(i[0]) for i in imgpaths.values ]\n",
    "        self.img_rtpath = img_rtpath\n",
    "        self.feat_rtpaths = feat_rtpath\n",
    "        idty = []\n",
    "        for i in self.imgpaths:\n",
    "            idty.append(i.split(\"/\"))\n",
    "        df = pd.DataFrame(idty)\n",
    "        self.c = df[0].values ### The class of each image\n",
    "        self.classes = list(df[0].unique()) ### different class in dset\n",
    "        self.min_class_count = min(df[0].value_counts())\n",
    "        self.classmap = {}### class to index mapping\n",
    "        for i in self.classes:\n",
    "            self.classmap[i] = np.where(self.c == i)\n",
    "        self.sample_feat1 = []\n",
    "        self.sample_feat2 = []\n",
    "        self.feat1 = None\n",
    "        self.feat2 = None\n",
    "        self.sample_labels = []\n",
    "        \n",
    "        \n",
    "        \n",
    "    def detect_faces(self, img):\n",
    "        results = self.face_detector.detect_faces(img)\n",
    "        for i in results:\n",
    "            self.bb_lst.append(i[\"box\"])\n",
    "        return bb_lst\n",
    "    \n",
    "    def extract_feature(self, img):\n",
    "        image_features = []\n",
    "        for i in range(len(bb_lst)):\n",
    "            img = crop_face(img, bb_lst[i])\n",
    "            img = resize(img,(self.im_sz[1],im_sz[2]))\n",
    "            img = normalize(img).reshape((1, im_sz[1],im_sz[2], im_sz[3]))\n",
    "            image_features.append(feature_extractor.predict(img))\n",
    "        return image_features\n",
    "    \n",
    "\n",
    "    def normalize(self, img):\n",
    "        \"\"\"\n",
    "        Normalize the image pixels values between  1 and 0\n",
    "        \"\"\"\n",
    "        return img/255\n",
    "    \n",
    "    def crop_face(self,img):\n",
    "        \"\"\"\n",
    "        Crop the area delimited by the the bounding box bb\n",
    "        \"\"\"\n",
    "        im_lst = []\n",
    "        for i in range(len(bb)):\n",
    "            x1, y1, width, height = bb[i]\n",
    "            x1,y1 = abs(x1), abs(y1)\n",
    "            x2, y2 = x1 + width, y1 + height\n",
    "            im_lst.append(img[y1:y2, x1:x2])\n",
    "        return im_lst\n",
    "    \n",
    "    def random_sample(self,label, classidx, k):\n",
    "        \"\"\"\n",
    "        Returns k random indexes of of a particalar class or all other classes \n",
    "        than that is indicated by classidx\n",
    "        Args:\n",
    "            label: Indicates whether to sample indexes form th indicate class or not.\n",
    "            classidx: which class to sample\n",
    "            k: Sample size \n",
    "        \"\"\"\n",
    "        if (label== 1):\n",
    "            return random.choices(self.classmap[classes[classidx]][0], k = k)\n",
    "        elif(label==0):\n",
    "            tmp = [list(self.classmap[i][0].reshape(-1)) \n",
    "                   for i in self.classes if(i != self.classes[classidx])]\n",
    "            tmp = list(itertools.chain.from_iterable(tmp))\n",
    "            return random.choices(tmp, k = k)\n",
    "        print(\"OOPS it broke\")\n",
    "        return None\n",
    "    def update(self,sample, label):\n",
    "        \"\"\"Update sample values(Mutator funtion)\"\"\"\n",
    "        tmp = [label] * len(sample)\n",
    "        \n",
    "        self.sample_label = self.sample_label + tmp\n",
    "        self.sample_feat = self.sample_feat + sample\n",
    "    def get_features(self):\n",
    "        "
   ]
  },
  {
   "cell_type": "code",
   "execution_count": 59,
   "metadata": {},
   "outputs": [
    {
     "name": "stderr",
     "output_type": "stream",
     "text": [
      "W0707 23:47:07.276424 22016 hdf5_format.py:221] No training configuration found in save file: the model was *not* compiled. Compile it manually.\n"
     ]
    }
   ],
   "source": [
    "model = load_model(\"Models/FaceNet/facenet_keras.h5\")\n",
    "dtor = MTCNN()\n",
    "pths = pd.read_csv(\"test/test_list.csv\")"
   ]
  },
  {
   "cell_type": "code",
   "execution_count": 72,
   "metadata": {},
   "outputs": [],
   "source": [
    "m = ImageManager(model, dtor, pths)"
   ]
  },
  {
   "cell_type": "code",
   "execution_count": 81,
   "metadata": {},
   "outputs": [],
   "source": [
    "d = m.random_sample(0, 0, 50)"
   ]
  },
  {
   "cell_type": "code",
   "execution_count": 84,
   "metadata": {},
   "outputs": [],
   "source": [
    "ara = np.array(d)"
   ]
  },
  {
   "cell_type": "code",
   "execution_count": 92,
   "metadata": {},
   "outputs": [],
   "source": [
    "f = np.array(m.imgpaths)"
   ]
  },
  {
   "cell_type": "code",
   "execution_count": 93,
   "metadata": {},
   "outputs": [
    {
     "data": {
      "text/plain": [
       "array(['n000001/0004_01.jpg', 'n000001/0006_01.jpg',\n",
       "       'n000001/0008_01.jpg'], dtype='<U19')"
      ]
     },
     "execution_count": 93,
     "metadata": {},
     "output_type": "execute_result"
    }
   ],
   "source": [
    "f[[3, 5, 7]]"
   ]
  },
  {
   "cell_type": "code",
   "execution_count": null,
   "metadata": {},
   "outputs": [],
   "source": [
    "\n",
    "\n",
    "    tmp = np.load(rtpath+\"/\"+img_paths[0][-4]+\".jpg.npy\") ### this is an error that will be fixed soon\n",
    "    ### doesnt affet the workings of the code but should be fixed\n",
    "    for i in img_paths:\n",
    "        tmp1 = np.load(\"test/image_features/\"+ i[:-4]+\".jpg.npy\")\n",
    "        tmp = np.vstack([tmp, tmp1])\n",
    "    "
   ]
  }
 ],
 "metadata": {
  "kernelspec": {
   "display_name": "vision1",
   "language": "python",
   "name": "vision1"
  },
  "language_info": {
   "codemirror_mode": {
    "name": "ipython",
    "version": 3
   },
   "file_extension": ".py",
   "mimetype": "text/x-python",
   "name": "python",
   "nbconvert_exporter": "python",
   "pygments_lexer": "ipython3",
   "version": "3.7.3"
  }
 },
 "nbformat": 4,
 "nbformat_minor": 2
}
