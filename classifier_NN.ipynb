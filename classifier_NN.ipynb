{
 "cells": [
  {
   "cell_type": "code",
   "execution_count": 43,
   "metadata": {},
   "outputs": [],
   "source": [
    "from sklearn.model_selection import train_test_split\n",
    "from sklearn.svm import SVC, LinearSVC\n",
    "from sklearn.linear_model import SGDClassifier\n",
    "from sklearn.tree import DecisionTreeClassifier\n",
    "import tensorflow as tf\n",
    "from utils import *\n",
    "import numpy as np"
   ]
  },
  {
   "cell_type": "code",
   "execution_count": 44,
   "metadata": {},
   "outputs": [],
   "source": [
    "tf.enable_eager_execution()"
   ]
  },
  {
   "cell_type": "code",
   "execution_count": 45,
   "metadata": {},
   "outputs": [],
   "source": [
    "feat1 = np.load(\"features/feat1.npy\")\n",
    "feat2 = np.load(\"features/feat2.npy\")\n",
    "labels = np.load(\"features/labels.npy\")\n",
    "feat3 = np.load(\"features/feat3.npy\")\n",
    "feat4 = np.load(\"features/feat4.npy\")\n",
    "labels34 = np.load(\"features/labels34.npy\")"
   ]
  },
  {
   "cell_type": "code",
   "execution_count": 46,
   "metadata": {},
   "outputs": [
    {
     "data": {
      "text/plain": [
       "(50000, 128)"
      ]
     },
     "execution_count": 46,
     "metadata": {},
     "output_type": "execute_result"
    }
   ],
   "source": [
    "feat1.shape"
   ]
  },
  {
   "cell_type": "code",
   "execution_count": 47,
   "metadata": {},
   "outputs": [],
   "source": [
    "f1 = [feat1[i1].reshape(-1,1) for i1 in range(len(feat1))]\n",
    "f2 = [feat2[i2].reshape(-1,1) for i2 in range(len(feat2))]\n",
    "cos_d = np.array(\n",
    "    [ feat_distance_cosine_scalar(f1[i].T, f2[i]) for i in range(len(feat1))]).reshape(-1,1)\n",
    "eucl_d = np.array([ np.linalg.norm(f1[i]- f2[i]) for i in range(len(feat1))]).reshape(-1,1)\n",
    "sqr_diff = np.power((feat1-feat2), 2)\n",
    "\n",
    "data_dict = { \"labels\": labels,\n",
    "             \"cosine_distance\": cos_d, \n",
    "             \"Eucledian_distance\": eucl_d,\n",
    "             \"sqaured_difference\":sqr_diff}\n",
    "data = np.hstack([cos_d,eucl_d, sqr_diff])"
   ]
  },
  {
   "cell_type": "code",
   "execution_count": 48,
   "metadata": {},
   "outputs": [
    {
     "data": {
      "text/plain": [
       "(50000, 130)"
      ]
     },
     "execution_count": 48,
     "metadata": {},
     "output_type": "execute_result"
    }
   ],
   "source": [
    "data.shape"
   ]
  },
  {
   "cell_type": "code",
   "execution_count": 49,
   "metadata": {},
   "outputs": [
    {
     "data": {
      "text/plain": [
       "(100, 1)"
      ]
     },
     "execution_count": 49,
     "metadata": {},
     "output_type": "execute_result"
    }
   ],
   "source": [
    "eucl_d[:100].shape"
   ]
  },
  {
   "cell_type": "code",
   "execution_count": 50,
   "metadata": {},
   "outputs": [
    {
     "data": {
      "text/plain": [
       "<matplotlib.collections.PathCollection at 0x294a7c97c88>"
      ]
     },
     "execution_count": 50,
     "metadata": {},
     "output_type": "execute_result"
    },
    {
     "data": {
      "image/png": "[encoded data removed]",
      "text/plain": [
       "<Figure size 432x288 with 1 Axes>"
      ]
     },
     "metadata": {
      "needs_background": "light"
     },
     "output_type": "display_data"
    }
   ],
   "source": [
    "plt.scatter(cos_d, labels)"
   ]
  },
  {
   "cell_type": "code",
   "execution_count": 51,
   "metadata": {},
   "outputs": [],
   "source": [
    "\n",
    "xtrain, xtest, ytrain, ytest = train_test_split(cos_d, labels, shuffle = True, random_state = 42)"
   ]
  },
  {
   "cell_type": "code",
   "execution_count": 67,
   "metadata": {},
   "outputs": [],
   "source": [
    "from tensorflow.keras.models import Sequential\n",
    "from tensorflow.keras.layers import Dense \n",
    "from tensorflow.keras.regularizers import l1, l2\n",
    "he_init = tf.keras.initializers.VarianceScaling()\n",
    "\n",
    "model = Sequential()\n",
    "model.add(Dense(20, activation = 'relu', kernel_initializer = he_init, \n",
    "                kernel_regularizer = l1(0.0001), \n",
    "                #input_shape = (1,128)\n",
    "               ))\n",
    "model.add(Dense(5, activation = 'relu',kernel_initializer = he_init))\n",
    "model.add(Dense(1, activation = \"sigmoid\", kernel_initializer = he_init))"
   ]
  },
  {
   "cell_type": "code",
   "execution_count": 68,
   "metadata": {},
   "outputs": [],
   "source": [
    "from tensorflow.keras.callbacks import ModelCheckpoint, ReduceLROnPlateau\n",
    "mcp = ModelCheckpoint(\"models_chpt/best_modelD.hdf5\",verbose = 1, \n",
    "                      monitor = \"val_loss\", save_best_only = True, save_weights_only = True)\n",
    "red_lr = tf.keras.callbacks.ReduceLROnPlateau(monitor='val_loss', factor =0.5)\n",
    "opt = tf.keras.optimizers.Adam(0.1)\n",
    "model.compile(optimizer = opt, loss = \"binary_crossentropy\", \n",
    "              metrics = [\"accuracy\"] )"
   ]
  },
  {
   "cell_type": "code",
   "execution_count": null,
   "metadata": {
    "scrolled": true
   },
   "outputs": [
    {
     "name": "stdout",
     "output_type": "stream",
     "text": [
      "Train on 37500 samples, validate on 12500 samples\n",
      "Epoch 1/100\n",
      "33400/37500 [=========================>....] - ETA: 0s - loss: 0.4160 - acc: 0.8252\n",
      "Epoch 00001: val_loss improved from inf to 0.43361, saving model to models_chpt/best_modelD.hdf5\n",
      "37500/37500 [==============================] - 0s 12us/sample - loss: 0.4161 - acc: 0.8247 - val_loss: 0.4336 - val_acc: 0.8183\n",
      "Epoch 2/100\n",
      "34900/37500 [==========================>...] - ETA: 0s - loss: 0.4061 - acc: 0.8276\n",
      "Epoch 00002: val_loss improved from 0.43361 to 0.41198, saving model to models_chpt/best_modelD.hdf5\n",
      "37500/37500 [==============================] - 0s 9us/sample - loss: 0.4040 - acc: 0.8292 - val_loss: 0.4120 - val_acc: 0.8225\n",
      "Epoch 3/100\n",
      "34800/37500 [==========================>...] - ETA: 0s - loss: 0.4000 - acc: 0.8305\n",
      "Epoch 00003: val_loss improved from 0.41198 to 0.41121, saving model to models_chpt/best_modelD.hdf5\n",
      "37500/37500 [==============================] - 0s 9us/sample - loss: 0.4005 - acc: 0.8302 - val_loss: 0.4112 - val_acc: 0.8230\n",
      "Epoch 4/100\n",
      "32900/37500 [=========================>....] - ETA: 0s - loss: 0.4060 - acc: 0.827 - ETA: 0s - loss: 0.4053 - acc: 0.8283\n",
      "Epoch 00004: val_loss improved from 0.41121 to 0.40465, saving model to models_chpt/best_modelD.hdf5\n",
      "37500/37500 [==============================] - 0s 9us/sample - loss: 0.4020 - acc: 0.8301 - val_loss: 0.4047 - val_acc: 0.8263\n",
      "Epoch 5/100\n",
      "33600/37500 [=========================>....] - ETA: 0s - loss: 0.4020 - acc: 0.8289\n",
      "Epoch 00005: val_loss improved from 0.40465 to 0.40170, saving model to models_chpt/best_modelD.hdf5\n",
      "37500/37500 [==============================] - 0s 9us/sample - loss: 0.4010 - acc: 0.8292 - val_loss: 0.4017 - val_acc: 0.8259\n",
      "Epoch 6/100\n",
      "33700/37500 [=========================>....] - ETA: 0s - loss: 0.4008 - acc: 0.8285\n",
      "Epoch 00006: val_loss improved from 0.40170 to 0.40119, saving model to models_chpt/best_modelD.hdf5\n",
      "37500/37500 [==============================] - 0s 9us/sample - loss: 0.4006 - acc: 0.8290 - val_loss: 0.4012 - val_acc: 0.8274\n",
      "Epoch 7/100\n",
      "33200/37500 [=========================>....] - ETA: 0s - loss: 0.3976 - acc: 0.830 - ETA: 0s - loss: 0.4006 - acc: 0.8298\n",
      "Epoch 00007: val_loss did not improve from 0.40119\n",
      "37500/37500 [==============================] - 0s 9us/sample - loss: 0.4008 - acc: 0.8293 - val_loss: 0.4021 - val_acc: 0.8274\n",
      "Epoch 8/100\n",
      "31800/37500 [========================>.....] - ETA: 0s - loss: 0.3982 - acc: 0.8300\n",
      "Epoch 00008: val_loss did not improve from 0.40119\n",
      "37500/37500 [==============================] - 0s 9us/sample - loss: 0.4004 - acc: 0.8291 - val_loss: 0.4032 - val_acc: 0.8269\n",
      "Epoch 9/100\n",
      "33400/37500 [=========================>....] - ETA: 0s - loss: 0.4005 - acc: 0.8297\n",
      "Epoch 00009: val_loss did not improve from 0.40119\n",
      "37500/37500 [==============================] - 0s 9us/sample - loss: 0.3995 - acc: 0.8299 - val_loss: 0.4012 - val_acc: 0.8281\n",
      "Epoch 10/100\n",
      "33300/37500 [=========================>....] - ETA: 0s - loss: 0.3976 - acc: 0.8300\n",
      "Epoch 00010: val_loss did not improve from 0.40119\n",
      "37500/37500 [==============================] - 0s 9us/sample - loss: 0.3996 - acc: 0.8288 - val_loss: 0.4019 - val_acc: 0.8238\n",
      "Epoch 11/100\n",
      "34000/37500 [==========================>...] - ETA: 0s - loss: 0.4021 - acc: 0.8282\n",
      "Epoch 00011: val_loss did not improve from 0.40119\n",
      "37500/37500 [==============================] - 0s 9us/sample - loss: 0.4015 - acc: 0.8285 - val_loss: 0.4123 - val_acc: 0.8238\n",
      "Epoch 12/100\n",
      "32500/37500 [=========================>....] - ETA: 0s - loss: 0.4016 - acc: 0.8288\n",
      "Epoch 00012: val_loss did not improve from 0.40119\n",
      "37500/37500 [==============================] - 0s 9us/sample - loss: 0.4011 - acc: 0.8298 - val_loss: 0.4042 - val_acc: 0.8282\n",
      "Epoch 13/100\n",
      "33000/37500 [=========================>....] - ETA: 0s - loss: 0.4014 - acc: 0.828 - ETA: 0s - loss: 0.4021 - acc: 0.8281\n",
      "Epoch 00013: val_loss did not improve from 0.40119\n",
      "37500/37500 [==============================] - 0s 9us/sample - loss: 0.4007 - acc: 0.8286 - val_loss: 0.4256 - val_acc: 0.8199\n",
      "Epoch 14/100\n",
      "33200/37500 [=========================>....] - ETA: 0s - loss: 0.4027 - acc: 0.8282\n",
      "Epoch 00014: val_loss did not improve from 0.40119\n",
      "37500/37500 [==============================] - 0s 9us/sample - loss: 0.4024 - acc: 0.8283 - val_loss: 0.4077 - val_acc: 0.8200\n",
      "Epoch 15/100\n",
      "31700/37500 [========================>.....] - ETA: 0s - loss: 0.3989 - acc: 0.8295\n",
      "Epoch 00015: val_loss did not improve from 0.40119\n",
      "37500/37500 [==============================] - 0s 9us/sample - loss: 0.3986 - acc: 0.8302 - val_loss: 0.4031 - val_acc: 0.8257\n",
      "Epoch 16/100\n",
      "34200/37500 [==========================>...] - ETA: 0s - loss: 0.4011 - acc: 0.8289\n",
      "Epoch 00016: val_loss did not improve from 0.40119\n",
      "37500/37500 [==============================] - 0s 9us/sample - loss: 0.4004 - acc: 0.8292 - val_loss: 0.4016 - val_acc: 0.8260\n",
      "Epoch 17/100\n",
      "32900/37500 [=========================>....] - ETA: 0s - loss: 0.3975 - acc: 0.8301\n",
      "Epoch 00017: val_loss did not improve from 0.40119\n",
      "37500/37500 [==============================] - 0s 9us/sample - loss: 0.3967 - acc: 0.8309 - val_loss: 0.4021 - val_acc: 0.8276\n",
      "Epoch 18/100\n",
      "32900/37500 [=========================>....] - ETA: 0s - loss: 0.3945 - acc: 0.8323\n",
      "Epoch 00018: val_loss did not improve from 0.40119\n",
      "37500/37500 [==============================] - 0s 9us/sample - loss: 0.3965 - acc: 0.8303 - val_loss: 0.4069 - val_acc: 0.8216\n",
      "Epoch 19/100\n",
      "33000/37500 [=========================>....] - ETA: 0s - loss: 0.3973 - acc: 0.830 - ETA: 0s - loss: 0.3970 - acc: 0.8304\n",
      "Epoch 00019: val_loss improved from 0.40119 to 0.40051, saving model to models_chpt/best_modelD.hdf5\n",
      "37500/37500 [==============================] - 0s 9us/sample - loss: 0.3976 - acc: 0.8304 - val_loss: 0.4005 - val_acc: 0.8281\n",
      "Epoch 20/100\n",
      "34100/37500 [==========================>...] - ETA: 0s - loss: 0.3965 - acc: 0.8305\n",
      "Epoch 00020: val_loss did not improve from 0.40051\n",
      "37500/37500 [==============================] - 0s 9us/sample - loss: 0.3967 - acc: 0.8306 - val_loss: 0.4078 - val_acc: 0.8255\n",
      "Epoch 21/100\n",
      "31800/37500 [========================>.....] - ETA: 0s - loss: 0.3981 - acc: 0.8299\n",
      "Epoch 00021: val_loss did not improve from 0.40051\n",
      "37500/37500 [==============================] - 0s 9us/sample - loss: 0.3969 - acc: 0.8307 - val_loss: 0.4339 - val_acc: 0.8206\n",
      "Epoch 22/100\n",
      "33600/37500 [=========================>....] - ETA: 0s - loss: 0.3981 - acc: 0.8305\n",
      "Epoch 00022: val_loss did not improve from 0.40051\n",
      "37500/37500 [==============================] - 0s 9us/sample - loss: 0.3984 - acc: 0.8302 - val_loss: 0.4006 - val_acc: 0.8274\n",
      "Epoch 23/100\n",
      "33900/37500 [==========================>...] - ETA: 0s - loss: 0.3980 - acc: 0.829 - ETA: 0s - loss: 0.3969 - acc: 0.8307\n",
      "Epoch 00023: val_loss did not improve from 0.40051\n",
      "37500/37500 [==============================] - 0s 9us/sample - loss: 0.3967 - acc: 0.8308 - val_loss: 0.4008 - val_acc: 0.8255\n",
      "Epoch 24/100\n",
      "33400/37500 [=========================>....] - ETA: 0s - loss: 0.3966 - acc: 0.831 - ETA: 0s - loss: 0.3961 - acc: 0.8310\n",
      "Epoch 00024: val_loss did not improve from 0.40051\n",
      "37500/37500 [==============================] - 0s 10us/sample - loss: 0.3962 - acc: 0.8306 - val_loss: 0.4037 - val_acc: 0.8256\n",
      "Epoch 25/100\n",
      "33700/37500 [=========================>....] - ETA: 0s - loss: 0.3976 - acc: 0.8299\n",
      "Epoch 00025: val_loss did not improve from 0.40051\n",
      "37500/37500 [==============================] - 0s 9us/sample - loss: 0.3969 - acc: 0.8303 - val_loss: 0.4007 - val_acc: 0.8279\n",
      "Epoch 26/100\n",
      "34300/37500 [==========================>...] - ETA: 0s - loss: 0.3973 - acc: 0.8309\n",
      "Epoch 00026: val_loss did not improve from 0.40051\n",
      "37500/37500 [==============================] - 0s 9us/sample - loss: 0.3976 - acc: 0.8303 - val_loss: 0.4059 - val_acc: 0.8232\n",
      "Epoch 27/100\n",
      "31800/37500 [========================>.....] - ETA: 0s - loss: 0.3978 - acc: 0.8296\n",
      "Epoch 00027: val_loss improved from 0.40051 to 0.40036, saving model to models_chpt/best_modelD.hdf5\n",
      "37500/37500 [==============================] - 0s 10us/sample - loss: 0.3984 - acc: 0.8289 - val_loss: 0.4004 - val_acc: 0.8281\n",
      "Epoch 28/100\n",
      "33300/37500 [=========================>....] - ETA: 0s - loss: 0.3989 - acc: 0.8293\n",
      "Epoch 00028: val_loss did not improve from 0.40036\n",
      "37500/37500 [==============================] - 0s 9us/sample - loss: 0.3979 - acc: 0.8300 - val_loss: 0.4098 - val_acc: 0.8229\n"
     ]
    },
    {
     "name": "stdout",
     "output_type": "stream",
     "text": [
      "Epoch 29/100\n",
      "33500/37500 [=========================>....] - ETA: 0s - loss: 0.3982 - acc: 0.8301\n",
      "Epoch 00029: val_loss did not improve from 0.40036\n",
      "37500/37500 [==============================] - 0s 9us/sample - loss: 0.3973 - acc: 0.8305 - val_loss: 0.4052 - val_acc: 0.8270\n",
      "Epoch 30/100\n",
      "33500/37500 [=========================>....] - ETA: 0s - loss: 0.3965 - acc: 0.8312\n",
      "Epoch 00030: val_loss improved from 0.40036 to 0.40026, saving model to models_chpt/best_modelD.hdf5\n",
      "37500/37500 [==============================] - 0s 9us/sample - loss: 0.3970 - acc: 0.8308 - val_loss: 0.4003 - val_acc: 0.8266\n",
      "Epoch 31/100\n",
      "33400/37500 [=========================>....] - ETA: 0s - loss: 0.3949 - acc: 0.8317\n",
      "Epoch 00031: val_loss did not improve from 0.40026\n",
      "37500/37500 [==============================] - 0s 9us/sample - loss: 0.3971 - acc: 0.8303 - val_loss: 0.4068 - val_acc: 0.8245\n",
      "Epoch 32/100\n",
      "31200/37500 [=======================>......] - ETA: 0s - loss: 0.3983 - acc: 0.829 - ETA: 0s - loss: 0.3964 - acc: 0.8301\n",
      "Epoch 00032: val_loss did not improve from 0.40026\n",
      "37500/37500 [==============================] - 0s 9us/sample - loss: 0.3976 - acc: 0.8290 - val_loss: 0.4074 - val_acc: 0.8205\n",
      "Epoch 33/100\n",
      "33300/37500 [=========================>....] - ETA: 0s - loss: 0.3966 - acc: 0.8308\n",
      "Epoch 00033: val_loss did not improve from 0.40026\n",
      "37500/37500 [==============================] - 0s 9us/sample - loss: 0.3964 - acc: 0.8306 - val_loss: 0.4032 - val_acc: 0.8226\n",
      "Epoch 34/100\n",
      "34800/37500 [==========================>...] - ETA: 0s - loss: 0.3973 - acc: 0.8303\n",
      "Epoch 00034: val_loss did not improve from 0.40026\n",
      "37500/37500 [==============================] - 0s 9us/sample - loss: 0.3973 - acc: 0.8302 - val_loss: 0.4016 - val_acc: 0.8232\n",
      "Epoch 35/100\n",
      "33300/37500 [=========================>....] - ETA: 0s - loss: 0.3961 - acc: 0.8305\n",
      "Epoch 00035: val_loss did not improve from 0.40026\n",
      "37500/37500 [==============================] - 0s 9us/sample - loss: 0.3975 - acc: 0.8302 - val_loss: 0.4021 - val_acc: 0.8271\n",
      "Epoch 36/100\n",
      "33100/37500 [=========================>....] - ETA: 0s - loss: 0.4000 - acc: 0.8284\n",
      "Epoch 00036: val_loss did not improve from 0.40026\n",
      "37500/37500 [==============================] - 0s 9us/sample - loss: 0.3977 - acc: 0.8297 - val_loss: 0.4151 - val_acc: 0.8226\n",
      "Epoch 37/100\n",
      "34300/37500 [==========================>...] - ETA: 0s - loss: 0.3964 - acc: 0.8300\n",
      "Epoch 00037: val_loss did not improve from 0.40026\n",
      "37500/37500 [==============================] - 0s 9us/sample - loss: 0.3963 - acc: 0.8302 - val_loss: 0.4017 - val_acc: 0.8265\n",
      "Epoch 38/100\n",
      "32400/37500 [========================>.....] - ETA: 0s - loss: 0.3961 - acc: 0.8313\n",
      "Epoch 00038: val_loss improved from 0.40026 to 0.39996, saving model to models_chpt/best_modelD.hdf5\n",
      "37500/37500 [==============================] - 0s 10us/sample - loss: 0.3951 - acc: 0.8314 - val_loss: 0.4000 - val_acc: 0.8271\n",
      "Epoch 39/100\n",
      "32700/37500 [=========================>....] - ETA: 0s - loss: 0.3959 - acc: 0.8299\n",
      "Epoch 00039: val_loss did not improve from 0.39996\n",
      "37500/37500 [==============================] - 0s 9us/sample - loss: 0.3958 - acc: 0.8311 - val_loss: 0.4009 - val_acc: 0.8274\n",
      "Epoch 40/100\n",
      "33000/37500 [=========================>....] - ETA: 0s - loss: 0.3972 - acc: 0.8295\n",
      "Epoch 00040: val_loss did not improve from 0.39996\n",
      "37500/37500 [==============================] - 0s 9us/sample - loss: 0.3960 - acc: 0.8311 - val_loss: 0.4052 - val_acc: 0.8254\n",
      "Epoch 41/100\n",
      "33800/37500 [==========================>...] - ETA: 0s - loss: 0.3940 - acc: 0.8319\n",
      "Epoch 00041: val_loss did not improve from 0.39996\n",
      "37500/37500 [==============================] - 0s 9us/sample - loss: 0.3949 - acc: 0.8311 - val_loss: 0.4004 - val_acc: 0.8271\n",
      "Epoch 42/100\n",
      "33600/37500 [=========================>....] - ETA: 0s - loss: 0.3949 - acc: 0.8312- ETA: 0s - loss: 0.3933 - acc: 0.832\n",
      "Epoch 00042: val_loss did not improve from 0.39996\n",
      "37500/37500 [==============================] - 0s 9us/sample - loss: 0.3957 - acc: 0.8305 - val_loss: 0.4020 - val_acc: 0.8233\n",
      "Epoch 43/100\n",
      "33800/37500 [==========================>...] - ETA: 0s - loss: 0.3930 - acc: 0.834 - ETA: 0s - loss: 0.3960 - acc: 0.832 - ETA: 0s - loss: 0.3946 - acc: 0.8322\n",
      "Epoch 00043: val_loss did not improve from 0.39996\n",
      "37500/37500 [==============================] - 0s 9us/sample - loss: 0.3956 - acc: 0.8313 - val_loss: 0.4042 - val_acc: 0.8253\n",
      "Epoch 44/100\n",
      "33900/37500 [==========================>...] - ETA: 0s - loss: 0.3950 - acc: 0.8306- ETA: 0s - loss: 0.3976 - acc: 0.828\n",
      "Epoch 00044: val_loss did not improve from 0.39996\n",
      "37500/37500 [==============================] - 0s 9us/sample - loss: 0.3952 - acc: 0.8305 - val_loss: 0.4008 - val_acc: 0.8250\n",
      "Epoch 45/100\n",
      "34100/37500 [==========================>...] - ETA: 0s - loss: 0.3974 - acc: 0.8299\n",
      "Epoch 00045: val_loss did not improve from 0.39996\n",
      "37500/37500 [==============================] - 0s 9us/sample - loss: 0.3952 - acc: 0.8312 - val_loss: 0.4013 - val_acc: 0.8276\n",
      "Epoch 46/100\n",
      "32800/37500 [=========================>....] - ETA: 0s - loss: 0.3939 - acc: 0.8316\n",
      "Epoch 00046: val_loss did not improve from 0.39996\n",
      "37500/37500 [==============================] - 0s 9us/sample - loss: 0.3957 - acc: 0.8306 - val_loss: 0.4006 - val_acc: 0.8276\n",
      "Epoch 47/100\n",
      "32800/37500 [=========================>....] - ETA: 0s - loss: 0.3967 - acc: 0.8304\n",
      "Epoch 00047: val_loss improved from 0.39996 to 0.39996, saving model to models_chpt/best_modelD.hdf5\n",
      "37500/37500 [==============================] - 0s 10us/sample - loss: 0.3949 - acc: 0.8314 - val_loss: 0.4000 - val_acc: 0.8279\n",
      "Epoch 48/100\n",
      "33000/37500 [=========================>....] - ETA: 0s - loss: 0.3957 - acc: 0.8316\n",
      "Epoch 00048: val_loss did not improve from 0.39996\n",
      "37500/37500 [==============================] - 0s 9us/sample - loss: 0.3958 - acc: 0.8315 - val_loss: 0.4123 - val_acc: 0.8236\n",
      "Epoch 49/100\n",
      "32800/37500 [=========================>....] - ETA: 0s - loss: 0.3941 - acc: 0.8318\n",
      "Epoch 00049: val_loss improved from 0.39996 to 0.39990, saving model to models_chpt/best_modelD.hdf5\n",
      "37500/37500 [==============================] - 0s 9us/sample - loss: 0.3944 - acc: 0.8308 - val_loss: 0.3999 - val_acc: 0.8277\n",
      "Epoch 50/100\n",
      "32700/37500 [=========================>....] - ETA: 0s - loss: 0.3965 - acc: 0.8298\n",
      "Epoch 00050: val_loss did not improve from 0.39990\n",
      "37500/37500 [==============================] - 0s 9us/sample - loss: 0.3945 - acc: 0.8313 - val_loss: 0.4028 - val_acc: 0.8277\n",
      "Epoch 51/100\n",
      "33100/37500 [=========================>....] - ETA: 0s - loss: 0.3918 - acc: 0.8328\n",
      "Epoch 00051: val_loss did not improve from 0.39990\n",
      "37500/37500 [==============================] - 0s 9us/sample - loss: 0.3944 - acc: 0.8315 - val_loss: 0.4007 - val_acc: 0.8274\n",
      "Epoch 52/100\n",
      "32500/37500 [=========================>....] - ETA: 0s - loss: 0.3930 - acc: 0.8320\n",
      "Epoch 00052: val_loss did not improve from 0.39990\n",
      "37500/37500 [==============================] - 0s 9us/sample - loss: 0.3942 - acc: 0.8312 - val_loss: 0.4009 - val_acc: 0.8276\n",
      "Epoch 53/100\n",
      "32800/37500 [=========================>....] - ETA: 0s - loss: 0.3932 - acc: 0.8320\n",
      "Epoch 00053: val_loss did not improve from 0.39990\n",
      "37500/37500 [==============================] - 0s 9us/sample - loss: 0.3941 - acc: 0.8313 - val_loss: 0.4011 - val_acc: 0.8272\n",
      "Epoch 54/100\n",
      "33000/37500 [=========================>....] - ETA: 0s - loss: 0.3941 - acc: 0.831 - ETA: 0s - loss: 0.3958 - acc: 0.8299\n",
      "Epoch 00054: val_loss did not improve from 0.39990\n",
      "37500/37500 [==============================] - 0s 9us/sample - loss: 0.3943 - acc: 0.8307 - val_loss: 0.4001 - val_acc: 0.8272\n",
      "Epoch 55/100\n",
      "33000/37500 [=========================>....] - ETA: 0s - loss: 0.3938 - acc: 0.8303\n",
      "Epoch 00055: val_loss did not improve from 0.39990\n",
      "37500/37500 [==============================] - 0s 9us/sample - loss: 0.3941 - acc: 0.8304 - val_loss: 0.4007 - val_acc: 0.8260\n",
      "Epoch 56/100\n",
      "32900/37500 [=========================>....] - ETA: 0s - loss: 0.3966 - acc: 0.8292\n",
      "Epoch 00056: val_loss did not improve from 0.39990\n",
      "37500/37500 [==============================] - 0s 9us/sample - loss: 0.3946 - acc: 0.8304 - val_loss: 0.4047 - val_acc: 0.8258\n",
      "Epoch 57/100\n"
     ]
    },
    {
     "name": "stdout",
     "output_type": "stream",
     "text": [
      "25800/37500 [===================>..........] - ETA: 0s - loss: 0.3935 - acc: 0.8305"
     ]
    }
   ],
   "source": [
    "bz = 100\n",
    "epochs = 100\n",
    "history = model.fit(\n",
    "    xtrain,\n",
    "    ytrain,\n",
    "    epochs = epochs,\n",
    "    batch_size = bz,\n",
    "    validation_data =(xtest, ytest),\n",
    "    callbacks = [mcp, red_lr]\n",
    ")\n"
   ]
  },
  {
   "cell_type": "code",
   "execution_count": 58,
   "metadata": {},
   "outputs": [
    {
     "data": {
      "text/plain": [
       "Text(0.5, 1.0, 'Loss Vs # of epochs')"
      ]
     },
     "execution_count": 58,
     "metadata": {},
     "output_type": "execute_result"
    },
    {
     "data": {
      "image/png": "[encoded data removed]",
      "text/plain": [
       "<Figure size 432x288 with 1 Axes>"
      ]
     },
     "metadata": {
      "needs_background": "light"
     },
     "output_type": "display_data"
    }
   ],
   "source": [
    "%matplotlib inline \n",
    "plt.plot( [i for i in range(epochs)], history.history['val_loss'], label = \"validation loss\")\n",
    "plt.xlabel(\"#of epochs\")\n",
    "plt.ylabel(\"loss\")\n",
    "plt.title(\"Loss Vs # of epochs\")"
   ]
  },
  {
   "cell_type": "code",
   "execution_count": 59,
   "metadata": {},
   "outputs": [
    {
     "data": {
      "text/plain": [
       "Text(0.5, 1.0, 'Loss Vs # of epochs')"
      ]
     },
     "execution_count": 59,
     "metadata": {},
     "output_type": "execute_result"
    },
    {
     "data": {
      "image/png": "[encoded data removed]",
      "text/plain": [
       "<Figure size 432x288 with 1 Axes>"
      ]
     },
     "metadata": {
      "needs_background": "light"
     },
     "output_type": "display_data"
    }
   ],
   "source": [
    "plt.plot([i for i in range(epochs)], history.history['loss'], label = \"Train loss\")\n",
    "plt.xlabel(\"#of epochs\")\n",
    "plt.ylabel(\"loss\")\n",
    "plt.title(\"Loss Vs # of epochs\")"
   ]
  },
  {
   "cell_type": "code",
   "execution_count": 60,
   "metadata": {},
   "outputs": [
    {
     "data": {
      "text/plain": [
       "Text(0.5, 1.0, 'Learning rate Vs # of epochs')"
      ]
     },
     "execution_count": 60,
     "metadata": {},
     "output_type": "execute_result"
    },
    {
     "data": {
      "image/png": "[encoded data removed]",
      "text/plain": [
       "<Figure size 432x288 with 1 Axes>"
      ]
     },
     "metadata": {
      "needs_background": "light"
     },
     "output_type": "display_data"
    }
   ],
   "source": [
    "plt.plot([i for i in range(epochs)], history.history['lr'], label = \"Train loss\")\n",
    "plt.xlabel(\"#of epochs\")\n",
    "plt.ylabel(\"Learning rate\")\n",
    "plt.title(\"Learning rate Vs # of epochs\")"
   ]
  },
  {
   "cell_type": "code",
   "execution_count": 61,
   "metadata": {},
   "outputs": [
    {
     "name": "stdout",
     "output_type": "stream",
     "text": [
      "12500/12500 [==============================] - 0s 16us/sample - loss: 0.3996 - acc: 0.8271\n"
     ]
    },
    {
     "data": {
      "text/plain": [
       "[0.39961667862892153, 0.82712]"
      ]
     },
     "execution_count": 61,
     "metadata": {},
     "output_type": "execute_result"
    }
   ],
   "source": [
    "model.evaluate(xtest, ytest)"
   ]
  },
  {
   "cell_type": "code",
   "execution_count": 62,
   "metadata": {},
   "outputs": [],
   "source": [
    "model_best = model"
   ]
  },
  {
   "cell_type": "code",
   "execution_count": 63,
   "metadata": {},
   "outputs": [
    {
     "data": {
      "text/plain": [
       "dict_keys(['loss', 'acc', 'val_loss', 'val_acc', 'lr'])"
      ]
     },
     "execution_count": 63,
     "metadata": {},
     "output_type": "execute_result"
    }
   ],
   "source": [
    "history.history.keys()"
   ]
  },
  {
   "cell_type": "code",
   "execution_count": 64,
   "metadata": {},
   "outputs": [],
   "source": [
    "model_best.load_weights(\"models_chpt/best_modelD.hdf5\")"
   ]
  },
  {
   "cell_type": "code",
   "execution_count": 66,
   "metadata": {},
   "outputs": [
    {
     "name": "stdout",
     "output_type": "stream",
     "text": [
      "12500/12500 [==============================] - 0s 11us/sample - loss: 0.3996 - acc: 0.8270\n"
     ]
    },
    {
     "data": {
      "text/plain": [
       "[0.3996146966934204, 0.82704]"
      ]
     },
     "execution_count": 66,
     "metadata": {},
     "output_type": "execute_result"
    }
   ],
   "source": [
    "model_best.evaluate(xtest, ytest)"
   ]
  },
  {
   "cell_type": "code",
   "execution_count": null,
   "metadata": {},
   "outputs": [],
   "source": []
  }
 ],
 "metadata": {
  "kernelspec": {
   "display_name": "vision1",
   "language": "python",
   "name": "vision1"
  },
  "language_info": {
   "codemirror_mode": {
    "name": "ipython",
    "version": 3
   },
   "file_extension": ".py",
   "mimetype": "text/x-python",
   "name": "python",
   "nbconvert_exporter": "python",
   "pygments_lexer": "ipython3",
   "version": "3.7.3"
  }
 },
 "nbformat": 4,
 "nbformat_minor": 2
}
