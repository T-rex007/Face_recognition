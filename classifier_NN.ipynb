{
 "cells": [
  {
   "cell_type": "code",
   "execution_count": 4,
   "metadata": {},
   "outputs": [],
   "source": [
    "from sklearn.model_selection import train_test_split\n",
    "from sklearn.svm import SVC, LinearSVC\n",
    "from sklearn.linear_model import SGDClassifier\n",
    "from sklearn.tree import DecisionTreeClassifier\n",
    "import tensorflow as tf\n",
    "from utils import *\n",
    "import numpy as np"
   ]
  },
  {
   "cell_type": "code",
   "execution_count": 87,
   "metadata": {},
   "outputs": [],
   "source": [
    "feat1 = np.load(\"features/feat1.npy\")\n",
    "feat2 = np.load(\"features/feat2.npy\")\n",
    "labels = np.load(\"features/labels.npy\")\n",
    "feat3 = np.load(\"features/feat3.npy\")\n",
    "feat4 = np.load(\"features/feat4.npy\")\n",
    "labels34 = np.load(\"features/labels34.npy\")"
   ]
  },
  {
   "cell_type": "code",
   "execution_count": 94,
   "metadata": {},
   "outputs": [],
   "source": [
    "d = np.power(np.abs(feat1-feat2), 2)\n",
    "xtrain, xtest, ytrain, ytest = train_test_split(d, labels, shuffle = True, random_state = 42)"
   ]
  },
  {
   "cell_type": "code",
   "execution_count": 89,
   "metadata": {},
   "outputs": [],
   "source": [
    "d1 = np.power(np.abs(feat3-feat2), 2)\n",
    "xtrain, xtest, ytrain, ytest = train_test_split(d1, labels34, shuffle = True, random_state = 42)"
   ]
  },
  {
   "cell_type": "code",
   "execution_count": 7,
   "metadata": {},
   "outputs": [
    {
     "data": {
      "text/plain": [
       "(37500, 128)"
      ]
     },
     "execution_count": 7,
     "metadata": {},
     "output_type": "execute_result"
    }
   ],
   "source": [
    "xtrain.shape"
   ]
  },
  {
   "cell_type": "code",
   "execution_count": 30,
   "metadata": {},
   "outputs": [
    {
     "data": {
      "text/plain": [
       "(12500,)"
      ]
     },
     "execution_count": 30,
     "metadata": {},
     "output_type": "execute_result"
    }
   ],
   "source": [
    "ytest.shape"
   ]
  },
  {
   "cell_type": "code",
   "execution_count": 8,
   "metadata": {},
   "outputs": [
    {
     "data": {
      "text/plain": [
       "(37500,)"
      ]
     },
     "execution_count": 8,
     "metadata": {},
     "output_type": "execute_result"
    }
   ],
   "source": [
    "ytrain.shape"
   ]
  },
  {
   "cell_type": "code",
   "execution_count": 9,
   "metadata": {},
   "outputs": [],
   "source": [
    "from tensorflow.keras.utils import to_categorical\n",
    "ytr = to_categorical(ytrain)\n",
    "yt = to_categorical(ytest)"
   ]
  },
  {
   "cell_type": "code",
   "execution_count": 90,
   "metadata": {},
   "outputs": [],
   "source": [
    "tf.enable_eager_execution()"
   ]
  },
  {
   "cell_type": "code",
   "execution_count": 91,
   "metadata": {},
   "outputs": [],
   "source": [
    "from tensorflow.keras.models import Sequential\n",
    "from tensorflow.keras.layers import Dense \n",
    "from tensorflow.keras.regularizers import l1, l2\n",
    "he_init = tf.keras.initializers.VarianceScaling()\n",
    "\n",
    "model = Sequential()\n",
    "model.add(Dense(50, activation = 'elu', kernel_initializer = he_init, \n",
    "                kernel_regularizer = l1(0.00001)))\n",
    "model.add(Dense(10, activation = 'elu',kernel_initializer = he_init))\n",
    "model.add(Dense(1, activation = \"sigmoid\", kernel_initializer = he_init))"
   ]
  },
  {
   "cell_type": "code",
   "execution_count": 92,
   "metadata": {},
   "outputs": [],
   "source": [
    "opt = tf.keras.optimizers.Adam(0.001)\n",
    "model.compile(optimizer = opt, loss = \"binary_crossentropy\", \n",
    "              metrics = [\"accuracy\"] )"
   ]
  },
  {
   "cell_type": "code",
   "execution_count": 95,
   "metadata": {},
   "outputs": [
    {
     "name": "stdout",
     "output_type": "stream",
     "text": [
      "Train on 37500 samples, validate on 12500 samples\n",
      "Epoch 1/50\n",
      "37500/37500 [==============================] - 0s 13us/sample - loss: 0.4602 - acc: 0.8061 - val_loss: 0.4258 - val_acc: 0.8134\n",
      "Epoch 2/50\n",
      "37500/37500 [==============================] - 0s 12us/sample - loss: 0.4121 - acc: 0.8187 - val_loss: 0.4194 - val_acc: 0.8160\n",
      "Epoch 3/50\n",
      "37500/37500 [==============================] - 1s 14us/sample - loss: 0.4028 - acc: 0.8247 - val_loss: 0.4178 - val_acc: 0.8142\n",
      "Epoch 4/50\n",
      "37500/37500 [==============================] - 1s 13us/sample - loss: 0.3963 - acc: 0.8264 - val_loss: 0.4159 - val_acc: 0.8146\n",
      "Epoch 5/50\n",
      "37500/37500 [==============================] - 1s 13us/sample - loss: 0.3906 - acc: 0.8288 - val_loss: 0.4179 - val_acc: 0.8115\n",
      "Epoch 6/50\n",
      "37500/37500 [==============================] - 0s 13us/sample - loss: 0.3842 - acc: 0.8316 - val_loss: 0.4180 - val_acc: 0.8106\n",
      "Epoch 7/50\n",
      "37500/37500 [==============================] - 1s 13us/sample - loss: 0.3778 - acc: 0.8343 - val_loss: 0.4200 - val_acc: 0.8125\n",
      "Epoch 8/50\n",
      "37500/37500 [==============================] - 1s 14us/sample - loss: 0.3717 - acc: 0.8386 - val_loss: 0.4237 - val_acc: 0.8116\n",
      "Epoch 9/50\n",
      "37500/37500 [==============================] - 1s 14us/sample - loss: 0.3661 - acc: 0.8409 - val_loss: 0.4244 - val_acc: 0.8115\n",
      "Epoch 10/50\n",
      "37500/37500 [==============================] - 0s 12us/sample - loss: 0.3608 - acc: 0.8424 - val_loss: 0.4277 - val_acc: 0.8092\n",
      "Epoch 11/50\n",
      "37500/37500 [==============================] - 1s 13us/sample - loss: 0.3549 - acc: 0.8466 - val_loss: 0.4358 - val_acc: 0.8070\n",
      "Epoch 12/50\n",
      "37500/37500 [==============================] - 1s 13us/sample - loss: 0.3488 - acc: 0.8489 - val_loss: 0.4369 - val_acc: 0.8067\n",
      "Epoch 13/50\n",
      "37500/37500 [==============================] - 0s 13us/sample - loss: 0.3438 - acc: 0.8522 - val_loss: 0.4405 - val_acc: 0.8056\n",
      "Epoch 14/50\n",
      "37500/37500 [==============================] - 1s 14us/sample - loss: 0.3387 - acc: 0.8547 - val_loss: 0.4465 - val_acc: 0.8017\n",
      "Epoch 15/50\n",
      "37500/37500 [==============================] - 0s 13us/sample - loss: 0.3340 - acc: 0.8580 - val_loss: 0.4572 - val_acc: 0.8018\n",
      "Epoch 16/50\n",
      "37500/37500 [==============================] - 0s 13us/sample - loss: 0.3291 - acc: 0.8591 - val_loss: 0.4635 - val_acc: 0.8006\n",
      "Epoch 17/50\n",
      "37500/37500 [==============================] - 1s 14us/sample - loss: 0.3243 - acc: 0.8610 - val_loss: 0.4657 - val_acc: 0.7979\n",
      "Epoch 18/50\n",
      "37500/37500 [==============================] - 0s 13us/sample - loss: 0.3202 - acc: 0.8631 - val_loss: 0.4726 - val_acc: 0.7982\n",
      "Epoch 19/50\n",
      "37500/37500 [==============================] - 0s 13us/sample - loss: 0.3160 - acc: 0.8663 - val_loss: 0.4813 - val_acc: 0.7957\n",
      "Epoch 20/50\n",
      "37500/37500 [==============================] - 0s 12us/sample - loss: 0.3121 - acc: 0.8672 - val_loss: 0.4900 - val_acc: 0.7970\n",
      "Epoch 21/50\n",
      "37500/37500 [==============================] - 0s 12us/sample - loss: 0.3093 - acc: 0.8693 - val_loss: 0.4832 - val_acc: 0.7957\n",
      "Epoch 22/50\n",
      "37500/37500 [==============================] - 0s 13us/sample - loss: 0.3049 - acc: 0.8721 - val_loss: 0.4985 - val_acc: 0.7960\n",
      "Epoch 23/50\n",
      "37500/37500 [==============================] - 0s 13us/sample - loss: 0.3025 - acc: 0.8730 - val_loss: 0.5014 - val_acc: 0.7920\n",
      "Epoch 24/50\n",
      "37500/37500 [==============================] - 0s 13us/sample - loss: 0.2993 - acc: 0.8749 - val_loss: 0.5076 - val_acc: 0.7931\n",
      "Epoch 25/50\n",
      "37500/37500 [==============================] - 0s 13us/sample - loss: 0.2950 - acc: 0.8771 - val_loss: 0.5172 - val_acc: 0.7914\n",
      "Epoch 26/50\n",
      "37500/37500 [==============================] - 0s 13us/sample - loss: 0.2928 - acc: 0.8769 - val_loss: 0.5139 - val_acc: 0.7932\n",
      "Epoch 27/50\n",
      "37500/37500 [==============================] - 1s 14us/sample - loss: 0.2901 - acc: 0.8791 - val_loss: 0.5307 - val_acc: 0.7895\n",
      "Epoch 28/50\n",
      "37500/37500 [==============================] - 1s 14us/sample - loss: 0.2867 - acc: 0.8813 - val_loss: 0.5341 - val_acc: 0.7884\n",
      "Epoch 29/50\n",
      "37500/37500 [==============================] - 1s 14us/sample - loss: 0.2844 - acc: 0.8823 - val_loss: 0.5390 - val_acc: 0.7897\n",
      "Epoch 30/50\n",
      "37500/37500 [==============================] - 1s 14us/sample - loss: 0.2826 - acc: 0.8829 - val_loss: 0.5438 - val_acc: 0.7884\n",
      "Epoch 31/50\n",
      "37500/37500 [==============================] - 1s 14us/sample - loss: 0.2797 - acc: 0.8843 - val_loss: 0.5514 - val_acc: 0.7829\n",
      "Epoch 32/50\n",
      "19000/37500 [==============>...............] - ETA: 0s - loss: 0.2715 - acc: 0.8889"
     ]
    },
    {
     "ename": "KeyboardInterrupt",
     "evalue": "",
     "output_type": "error",
     "traceback": [
      "\u001b[1;31m---------------------------------------------------------------------------\u001b[0m",
      "\u001b[1;31mKeyboardInterrupt\u001b[0m                         Traceback (most recent call last)",
      "\u001b[1;32m<ipython-input-95-22ee6ef12a9e>\u001b[0m in \u001b[0;36m<module>\u001b[1;34m\u001b[0m\n\u001b[0;32m      5\u001b[0m     \u001b[0mepochs\u001b[0m \u001b[1;33m=\u001b[0m \u001b[1;36m50\u001b[0m\u001b[1;33m,\u001b[0m\u001b[1;33m\u001b[0m\u001b[1;33m\u001b[0m\u001b[0m\n\u001b[0;32m      6\u001b[0m     \u001b[0mbatch_size\u001b[0m \u001b[1;33m=\u001b[0m \u001b[0mbz\u001b[0m\u001b[1;33m,\u001b[0m\u001b[1;33m\u001b[0m\u001b[1;33m\u001b[0m\u001b[0m\n\u001b[1;32m----> 7\u001b[1;33m     \u001b[0mvalidation_data\u001b[0m \u001b[1;33m=\u001b[0m\u001b[1;33m(\u001b[0m\u001b[0mxtest\u001b[0m\u001b[1;33m,\u001b[0m \u001b[0mytest\u001b[0m\u001b[1;33m)\u001b[0m\u001b[1;33m\u001b[0m\u001b[1;33m\u001b[0m\u001b[0m\n\u001b[0m\u001b[0;32m      8\u001b[0m )\n",
      "\u001b[1;32m~\\Anaconda3\\lib\\site-packages\\tensorflow\\python\\keras\\engine\\training.py\u001b[0m in \u001b[0;36mfit\u001b[1;34m(self, x, y, batch_size, epochs, verbose, callbacks, validation_split, validation_data, shuffle, class_weight, sample_weight, initial_epoch, steps_per_epoch, validation_steps, validation_freq, max_queue_size, workers, use_multiprocessing, **kwargs)\u001b[0m\n\u001b[0;32m    778\u001b[0m           \u001b[0mvalidation_steps\u001b[0m\u001b[1;33m=\u001b[0m\u001b[0mvalidation_steps\u001b[0m\u001b[1;33m,\u001b[0m\u001b[1;33m\u001b[0m\u001b[1;33m\u001b[0m\u001b[0m\n\u001b[0;32m    779\u001b[0m           \u001b[0mvalidation_freq\u001b[0m\u001b[1;33m=\u001b[0m\u001b[0mvalidation_freq\u001b[0m\u001b[1;33m,\u001b[0m\u001b[1;33m\u001b[0m\u001b[1;33m\u001b[0m\u001b[0m\n\u001b[1;32m--> 780\u001b[1;33m           steps_name='steps_per_epoch')\n\u001b[0m\u001b[0;32m    781\u001b[0m \u001b[1;33m\u001b[0m\u001b[0m\n\u001b[0;32m    782\u001b[0m   def evaluate(self,\n",
      "\u001b[1;32m~\\Anaconda3\\lib\\site-packages\\tensorflow\\python\\keras\\engine\\training_arrays.py\u001b[0m in \u001b[0;36mmodel_iteration\u001b[1;34m(model, inputs, targets, sample_weights, batch_size, epochs, verbose, callbacks, val_inputs, val_targets, val_sample_weights, shuffle, initial_epoch, steps_per_epoch, validation_steps, validation_freq, mode, validation_in_fit, prepared_feed_values_from_dataset, steps_name, **kwargs)\u001b[0m\n\u001b[0;32m    361\u001b[0m \u001b[1;33m\u001b[0m\u001b[0m\n\u001b[0;32m    362\u001b[0m         \u001b[1;31m# Get outputs.\u001b[0m\u001b[1;33m\u001b[0m\u001b[1;33m\u001b[0m\u001b[1;33m\u001b[0m\u001b[0m\n\u001b[1;32m--> 363\u001b[1;33m         \u001b[0mbatch_outs\u001b[0m \u001b[1;33m=\u001b[0m \u001b[0mf\u001b[0m\u001b[1;33m(\u001b[0m\u001b[0mins_batch\u001b[0m\u001b[1;33m)\u001b[0m\u001b[1;33m\u001b[0m\u001b[1;33m\u001b[0m\u001b[0m\n\u001b[0m\u001b[0;32m    364\u001b[0m         \u001b[1;32mif\u001b[0m \u001b[1;32mnot\u001b[0m \u001b[0misinstance\u001b[0m\u001b[1;33m(\u001b[0m\u001b[0mbatch_outs\u001b[0m\u001b[1;33m,\u001b[0m \u001b[0mlist\u001b[0m\u001b[1;33m)\u001b[0m\u001b[1;33m:\u001b[0m\u001b[1;33m\u001b[0m\u001b[1;33m\u001b[0m\u001b[0m\n\u001b[0;32m    365\u001b[0m           \u001b[0mbatch_outs\u001b[0m \u001b[1;33m=\u001b[0m \u001b[1;33m[\u001b[0m\u001b[0mbatch_outs\u001b[0m\u001b[1;33m]\u001b[0m\u001b[1;33m\u001b[0m\u001b[1;33m\u001b[0m\u001b[0m\n",
      "\u001b[1;32m~\\Anaconda3\\lib\\site-packages\\tensorflow\\python\\keras\\backend.py\u001b[0m in \u001b[0;36m__call__\u001b[1;34m(self, inputs)\u001b[0m\n\u001b[0;32m   3441\u001b[0m         \u001b[0mvalue\u001b[0m \u001b[1;33m=\u001b[0m \u001b[0mmath_ops\u001b[0m\u001b[1;33m.\u001b[0m\u001b[0mcast\u001b[0m\u001b[1;33m(\u001b[0m\u001b[0mvalue\u001b[0m\u001b[1;33m,\u001b[0m \u001b[0mtensor\u001b[0m\u001b[1;33m.\u001b[0m\u001b[0mdtype\u001b[0m\u001b[1;33m)\u001b[0m\u001b[1;33m\u001b[0m\u001b[1;33m\u001b[0m\u001b[0m\n\u001b[0;32m   3442\u001b[0m       \u001b[0mconverted_inputs\u001b[0m\u001b[1;33m.\u001b[0m\u001b[0mappend\u001b[0m\u001b[1;33m(\u001b[0m\u001b[0mvalue\u001b[0m\u001b[1;33m)\u001b[0m\u001b[1;33m\u001b[0m\u001b[1;33m\u001b[0m\u001b[0m\n\u001b[1;32m-> 3443\u001b[1;33m     \u001b[0moutputs\u001b[0m \u001b[1;33m=\u001b[0m \u001b[0mself\u001b[0m\u001b[1;33m.\u001b[0m\u001b[0m_graph_fn\u001b[0m\u001b[1;33m(\u001b[0m\u001b[1;33m*\u001b[0m\u001b[0mconverted_inputs\u001b[0m\u001b[1;33m)\u001b[0m\u001b[1;33m\u001b[0m\u001b[1;33m\u001b[0m\u001b[0m\n\u001b[0m\u001b[0;32m   3444\u001b[0m     return nest.pack_sequence_as(\n\u001b[0;32m   3445\u001b[0m         \u001b[0mself\u001b[0m\u001b[1;33m.\u001b[0m\u001b[0m_outputs_structure\u001b[0m\u001b[1;33m,\u001b[0m \u001b[1;33m[\u001b[0m\u001b[0mx\u001b[0m\u001b[1;33m.\u001b[0m\u001b[0mnumpy\u001b[0m\u001b[1;33m(\u001b[0m\u001b[1;33m)\u001b[0m \u001b[1;32mfor\u001b[0m \u001b[0mx\u001b[0m \u001b[1;32min\u001b[0m \u001b[0moutputs\u001b[0m\u001b[1;33m]\u001b[0m\u001b[1;33m,\u001b[0m\u001b[1;33m\u001b[0m\u001b[1;33m\u001b[0m\u001b[0m\n",
      "\u001b[1;32m~\\Anaconda3\\lib\\site-packages\\tensorflow\\python\\eager\\function.py\u001b[0m in \u001b[0;36m__call__\u001b[1;34m(self, *args, **kwargs)\u001b[0m\n\u001b[0;32m    559\u001b[0m       raise TypeError(\"Keyword arguments {} unknown. Expected {}.\".format(\n\u001b[0;32m    560\u001b[0m           list(kwargs.keys()), list(self._arg_keywords)))\n\u001b[1;32m--> 561\u001b[1;33m     \u001b[1;32mreturn\u001b[0m \u001b[0mself\u001b[0m\u001b[1;33m.\u001b[0m\u001b[0m_call_flat\u001b[0m\u001b[1;33m(\u001b[0m\u001b[0margs\u001b[0m\u001b[1;33m)\u001b[0m\u001b[1;33m\u001b[0m\u001b[1;33m\u001b[0m\u001b[0m\n\u001b[0m\u001b[0;32m    562\u001b[0m \u001b[1;33m\u001b[0m\u001b[0m\n\u001b[0;32m    563\u001b[0m   \u001b[1;32mdef\u001b[0m \u001b[0m_filtered_call\u001b[0m\u001b[1;33m(\u001b[0m\u001b[0mself\u001b[0m\u001b[1;33m,\u001b[0m \u001b[0margs\u001b[0m\u001b[1;33m,\u001b[0m \u001b[0mkwargs\u001b[0m\u001b[1;33m)\u001b[0m\u001b[1;33m:\u001b[0m\u001b[1;33m\u001b[0m\u001b[1;33m\u001b[0m\u001b[0m\n",
      "\u001b[1;32m~\\Anaconda3\\lib\\site-packages\\tensorflow\\python\\eager\\function.py\u001b[0m in \u001b[0;36m_call_flat\u001b[1;34m(self, args)\u001b[0m\n\u001b[0;32m    658\u001b[0m     \u001b[1;31m# Only need to override the gradient in graph mode and when we have outputs.\u001b[0m\u001b[1;33m\u001b[0m\u001b[1;33m\u001b[0m\u001b[1;33m\u001b[0m\u001b[0m\n\u001b[0;32m    659\u001b[0m     \u001b[1;32mif\u001b[0m \u001b[0mcontext\u001b[0m\u001b[1;33m.\u001b[0m\u001b[0mexecuting_eagerly\u001b[0m\u001b[1;33m(\u001b[0m\u001b[1;33m)\u001b[0m \u001b[1;32mor\u001b[0m \u001b[1;32mnot\u001b[0m \u001b[0mself\u001b[0m\u001b[1;33m.\u001b[0m\u001b[0moutputs\u001b[0m\u001b[1;33m:\u001b[0m\u001b[1;33m\u001b[0m\u001b[1;33m\u001b[0m\u001b[0m\n\u001b[1;32m--> 660\u001b[1;33m       \u001b[0moutputs\u001b[0m \u001b[1;33m=\u001b[0m \u001b[0mself\u001b[0m\u001b[1;33m.\u001b[0m\u001b[0m_inference_function\u001b[0m\u001b[1;33m.\u001b[0m\u001b[0mcall\u001b[0m\u001b[1;33m(\u001b[0m\u001b[0mctx\u001b[0m\u001b[1;33m,\u001b[0m \u001b[0margs\u001b[0m\u001b[1;33m)\u001b[0m\u001b[1;33m\u001b[0m\u001b[1;33m\u001b[0m\u001b[0m\n\u001b[0m\u001b[0;32m    661\u001b[0m     \u001b[1;32melse\u001b[0m\u001b[1;33m:\u001b[0m\u001b[1;33m\u001b[0m\u001b[1;33m\u001b[0m\u001b[0m\n\u001b[0;32m    662\u001b[0m       \u001b[0mself\u001b[0m\u001b[1;33m.\u001b[0m\u001b[0m_register_gradient\u001b[0m\u001b[1;33m(\u001b[0m\u001b[1;33m)\u001b[0m\u001b[1;33m\u001b[0m\u001b[1;33m\u001b[0m\u001b[0m\n",
      "\u001b[1;32m~\\Anaconda3\\lib\\site-packages\\tensorflow\\python\\eager\\function.py\u001b[0m in \u001b[0;36mcall\u001b[1;34m(self, ctx, args)\u001b[0m\n\u001b[0;32m    432\u001b[0m             attrs=(\"executor_type\", executor_type,\n\u001b[0;32m    433\u001b[0m                    \"config_proto\", config),\n\u001b[1;32m--> 434\u001b[1;33m             ctx=ctx)\n\u001b[0m\u001b[0;32m    435\u001b[0m       \u001b[1;31m# Replace empty list with None\u001b[0m\u001b[1;33m\u001b[0m\u001b[1;33m\u001b[0m\u001b[1;33m\u001b[0m\u001b[0m\n\u001b[0;32m    436\u001b[0m       \u001b[0moutputs\u001b[0m \u001b[1;33m=\u001b[0m \u001b[0moutputs\u001b[0m \u001b[1;32mor\u001b[0m \u001b[1;32mNone\u001b[0m\u001b[1;33m\u001b[0m\u001b[1;33m\u001b[0m\u001b[0m\n",
      "\u001b[1;32m~\\Anaconda3\\lib\\site-packages\\tensorflow\\python\\eager\\execute.py\u001b[0m in \u001b[0;36mquick_execute\u001b[1;34m(op_name, num_outputs, inputs, attrs, ctx, name)\u001b[0m\n\u001b[0;32m     59\u001b[0m     tensors = pywrap_tensorflow.TFE_Py_Execute(ctx._handle, device_name,\n\u001b[0;32m     60\u001b[0m                                                \u001b[0mop_name\u001b[0m\u001b[1;33m,\u001b[0m \u001b[0minputs\u001b[0m\u001b[1;33m,\u001b[0m \u001b[0mattrs\u001b[0m\u001b[1;33m,\u001b[0m\u001b[1;33m\u001b[0m\u001b[1;33m\u001b[0m\u001b[0m\n\u001b[1;32m---> 61\u001b[1;33m                                                num_outputs)\n\u001b[0m\u001b[0;32m     62\u001b[0m   \u001b[1;32mexcept\u001b[0m \u001b[0mcore\u001b[0m\u001b[1;33m.\u001b[0m\u001b[0m_NotOkStatusException\u001b[0m \u001b[1;32mas\u001b[0m \u001b[0me\u001b[0m\u001b[1;33m:\u001b[0m\u001b[1;33m\u001b[0m\u001b[1;33m\u001b[0m\u001b[0m\n\u001b[0;32m     63\u001b[0m     \u001b[1;32mif\u001b[0m \u001b[0mname\u001b[0m \u001b[1;32mis\u001b[0m \u001b[1;32mnot\u001b[0m \u001b[1;32mNone\u001b[0m\u001b[1;33m:\u001b[0m\u001b[1;33m\u001b[0m\u001b[1;33m\u001b[0m\u001b[0m\n",
      "\u001b[1;31mKeyboardInterrupt\u001b[0m: "
     ]
    }
   ],
   "source": [
    "bz = 100\n",
    "history = model.fit(\n",
    "    xtrain,\n",
    "    ytrain,\n",
    "    epochs = 50,\n",
    "    batch_size = bz,\n",
    "    validation_data =(xtest, ytest)\n",
    ")"
   ]
  },
  {
   "cell_type": "code",
   "execution_count": null,
   "metadata": {},
   "outputs": [],
   "source": [
    "model.predict(xtest)"
   ]
  },
  {
   "cell_type": "code",
   "execution_count": null,
   "metadata": {},
   "outputs": [],
   "source": []
  }
 ],
 "metadata": {
  "kernelspec": {
   "display_name": "vision1",
   "language": "python",
   "name": "vision1"
  }
 },
 "nbformat": 4,
 "nbformat_minor": 2
}
