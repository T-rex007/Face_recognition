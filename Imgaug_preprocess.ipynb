{
 "cells": [
  {
   "cell_type": "code",
   "execution_count": 1,
   "metadata": {},
   "outputs": [],
   "source": [
    "from imgaug import augmenters as iaa\n",
    "from Manager import *\n",
    "from VisionUtils import *\n",
    "from sklearn.model_selection import train_test_split\n",
    "from sklearn.utils import shuffle\n",
    "import tensorflow as tf\n",
    "import imgaug as ia\n",
    "import matplotlib.pyplot as plt\n",
    "import numpy as np\n",
    "from tqdm import tqdm\n"
   ]
  },
  {
   "cell_type": "code",
   "execution_count": 2,
   "metadata": {},
   "outputs": [],
   "source": [
    "tf.enable_eager_execution()"
   ]
  },
  {
   "cell_type": "code",
   "execution_count": 39,
   "metadata": {},
   "outputs": [
    {
     "name": "stderr",
     "output_type": "stream",
     "text": [
      "W0930 21:54:02.987272  9540 hdf5_format.py:221] No training configuration found in save file: the model was *not* compiled. Compile it manually.\n"
     ]
    }
   ],
   "source": [
    "IMG_RT_PATH = 'data/images/'\n",
    "FEATURE_RT_PATH = \"data/processed/Image_features/\"\n",
    "FEATURE_AUG_RT_PATH = \"data/image_aug_features/\"\n",
    "IMG_AUG_RT_PATH = 'data/images_aug/'\n",
    "\n",
    "#img_list = pd.read_csv(IMG_RT_PATH + \"test_list.TXT\")\n",
    "feature_extractor = load_model(\"Models\\FaceNet/Facenet_keras.h5\")\n",
    "face_detector = MTCNN()"
   ]
  },
  {
   "cell_type": "code",
   "execution_count": 40,
   "metadata": {},
   "outputs": [],
   "source": [
    "\n",
    "seq = iaa.Sequential([iaa.MotionBlur(k = 20)])"
   ]
  },
  {
   "cell_type": "code",
   "execution_count": 41,
   "metadata": {},
   "outputs": [
    {
     "data": {
      "text/plain": [
       "'images'"
      ]
     },
     "execution_count": 41,
     "metadata": {},
     "output_type": "execute_result"
    }
   ],
   "source": [
    "os.listdir(\"data/processed/\")[0]"
   ]
  },
  {
   "cell_type": "code",
   "execution_count": 42,
   "metadata": {},
   "outputs": [],
   "source": [
    "import os \n",
    "img_path_list = []\n",
    "folder_list = os.listdir(IMG_RT_PATH)\n",
    "for FOLDER in folder_list:\n",
    "    image_list_names = os.listdir(IMG_RT_PATH + FOLDER)\n",
    "    for NAME in image_list_names:\n",
    "        img_path_list.append(FOLDER+'/'+NAME)"
   ]
  },
  {
   "cell_type": "code",
   "execution_count": 43,
   "metadata": {},
   "outputs": [],
   "source": [
    "feat_path_list = []\n",
    "folder_list = os.listdir(FEATURE_RT_PATH)\n",
    "for FOLDER in folder_list:\n",
    "    image_list_names = os.listdir(FEATURE_RT_PATH + FOLDER)\n",
    "    for NAME in image_list_names:\n",
    "        feat_path_list.append(FOLDER+'/'+NAME)"
   ]
  },
  {
   "cell_type": "code",
   "execution_count": 44,
   "metadata": {},
   "outputs": [
    {
     "data": {
      "text/plain": [
       "'n000002/0001_01.npy'"
      ]
     },
     "execution_count": 44,
     "metadata": {},
     "output_type": "execute_result"
    }
   ],
   "source": [
    "feat_path_list[0]"
   ]
  },
  {
   "cell_type": "code",
   "execution_count": 45,
   "metadata": {},
   "outputs": [],
   "source": [
    "img_list = pd.DataFrame({\"path\": feat_path_list})"
   ]
  },
  {
   "cell_type": "code",
   "execution_count": 46,
   "metadata": {},
   "outputs": [
    {
     "data": {
      "text/html": [
       "<div>\n",
       "<style scoped>\n",
       "    .dataframe tbody tr th:only-of-type {\n",
       "        vertical-align: middle;\n",
       "    }\n",
       "\n",
       "    .dataframe tbody tr th {\n",
       "        vertical-align: top;\n",
       "    }\n",
       "\n",
       "    .dataframe thead th {\n",
       "        text-align: right;\n",
       "    }\n",
       "</style>\n",
       "<table border=\"1\" class=\"dataframe\">\n",
       "  <thead>\n",
       "    <tr style=\"text-align: right;\">\n",
       "      <th></th>\n",
       "      <th>path</th>\n",
       "    </tr>\n",
       "  </thead>\n",
       "  <tbody>\n",
       "    <tr>\n",
       "      <th>0</th>\n",
       "      <td>n000002/0001_01.npy</td>\n",
       "    </tr>\n",
       "    <tr>\n",
       "      <th>1</th>\n",
       "      <td>n000002/0002_01.npy</td>\n",
       "    </tr>\n",
       "    <tr>\n",
       "      <th>2</th>\n",
       "      <td>n000002/0003_01.npy</td>\n",
       "    </tr>\n",
       "    <tr>\n",
       "      <th>3</th>\n",
       "      <td>n000002/0004_01.npy</td>\n",
       "    </tr>\n",
       "    <tr>\n",
       "      <th>4</th>\n",
       "      <td>n000002/0005_01.npy</td>\n",
       "    </tr>\n",
       "    <tr>\n",
       "      <th>5</th>\n",
       "      <td>n000002/0006_01.npy</td>\n",
       "    </tr>\n",
       "    <tr>\n",
       "      <th>6</th>\n",
       "      <td>n000002/0007_01.npy</td>\n",
       "    </tr>\n",
       "    <tr>\n",
       "      <th>7</th>\n",
       "      <td>n000002/0008_01.npy</td>\n",
       "    </tr>\n",
       "    <tr>\n",
       "      <th>8</th>\n",
       "      <td>n000002/0009_01.npy</td>\n",
       "    </tr>\n",
       "    <tr>\n",
       "      <th>9</th>\n",
       "      <td>n000002/0010_01.npy</td>\n",
       "    </tr>\n",
       "    <tr>\n",
       "      <th>10</th>\n",
       "      <td>n000002/0011_01.npy</td>\n",
       "    </tr>\n",
       "    <tr>\n",
       "      <th>11</th>\n",
       "      <td>n000002/0012_01.npy</td>\n",
       "    </tr>\n",
       "    <tr>\n",
       "      <th>12</th>\n",
       "      <td>n000002/0013_01.npy</td>\n",
       "    </tr>\n",
       "    <tr>\n",
       "      <th>13</th>\n",
       "      <td>n000002/0014_01.npy</td>\n",
       "    </tr>\n",
       "    <tr>\n",
       "      <th>14</th>\n",
       "      <td>n000002/0015_01.npy</td>\n",
       "    </tr>\n",
       "    <tr>\n",
       "      <th>15</th>\n",
       "      <td>n000002/0016_01.npy</td>\n",
       "    </tr>\n",
       "    <tr>\n",
       "      <th>16</th>\n",
       "      <td>n000002/0017_01.npy</td>\n",
       "    </tr>\n",
       "    <tr>\n",
       "      <th>17</th>\n",
       "      <td>n000002/0018_01.npy</td>\n",
       "    </tr>\n",
       "    <tr>\n",
       "      <th>18</th>\n",
       "      <td>n000002/0018_02.npy</td>\n",
       "    </tr>\n",
       "    <tr>\n",
       "      <th>19</th>\n",
       "      <td>n000002/0018_03.npy</td>\n",
       "    </tr>\n",
       "    <tr>\n",
       "      <th>20</th>\n",
       "      <td>n000002/0018_04.npy</td>\n",
       "    </tr>\n",
       "    <tr>\n",
       "      <th>21</th>\n",
       "      <td>n000002/0019_01.npy</td>\n",
       "    </tr>\n",
       "    <tr>\n",
       "      <th>22</th>\n",
       "      <td>n000002/0020_01.npy</td>\n",
       "    </tr>\n",
       "    <tr>\n",
       "      <th>23</th>\n",
       "      <td>n000002/0021_01.npy</td>\n",
       "    </tr>\n",
       "    <tr>\n",
       "      <th>24</th>\n",
       "      <td>n000002/0022_01.npy</td>\n",
       "    </tr>\n",
       "    <tr>\n",
       "      <th>25</th>\n",
       "      <td>n000002/0023_01.npy</td>\n",
       "    </tr>\n",
       "    <tr>\n",
       "      <th>26</th>\n",
       "      <td>n000002/0024_01.npy</td>\n",
       "    </tr>\n",
       "    <tr>\n",
       "      <th>27</th>\n",
       "      <td>n000002/0025_01.npy</td>\n",
       "    </tr>\n",
       "    <tr>\n",
       "      <th>28</th>\n",
       "      <td>n000002/0026_01.npy</td>\n",
       "    </tr>\n",
       "    <tr>\n",
       "      <th>29</th>\n",
       "      <td>n000002/0027_01.npy</td>\n",
       "    </tr>\n",
       "    <tr>\n",
       "      <th>...</th>\n",
       "      <td>...</td>\n",
       "    </tr>\n",
       "    <tr>\n",
       "      <th>373023</th>\n",
       "      <td>n001137/0539_01.npy</td>\n",
       "    </tr>\n",
       "    <tr>\n",
       "      <th>373024</th>\n",
       "      <td>n001137/0540_01.npy</td>\n",
       "    </tr>\n",
       "    <tr>\n",
       "      <th>373025</th>\n",
       "      <td>n001137/0541_01.npy</td>\n",
       "    </tr>\n",
       "    <tr>\n",
       "      <th>373026</th>\n",
       "      <td>n001137/0542_01.npy</td>\n",
       "    </tr>\n",
       "    <tr>\n",
       "      <th>373027</th>\n",
       "      <td>n001137/0543_01.npy</td>\n",
       "    </tr>\n",
       "    <tr>\n",
       "      <th>373028</th>\n",
       "      <td>n001137/0545_03.npy</td>\n",
       "    </tr>\n",
       "    <tr>\n",
       "      <th>373029</th>\n",
       "      <td>n001137/0547_01.npy</td>\n",
       "    </tr>\n",
       "    <tr>\n",
       "      <th>373030</th>\n",
       "      <td>n001137/0547_02.npy</td>\n",
       "    </tr>\n",
       "    <tr>\n",
       "      <th>373031</th>\n",
       "      <td>n001137/0549_01.npy</td>\n",
       "    </tr>\n",
       "    <tr>\n",
       "      <th>373032</th>\n",
       "      <td>n001137/0550_01.npy</td>\n",
       "    </tr>\n",
       "    <tr>\n",
       "      <th>373033</th>\n",
       "      <td>n001137/0551_01.npy</td>\n",
       "    </tr>\n",
       "    <tr>\n",
       "      <th>373034</th>\n",
       "      <td>n001137/0555_01.npy</td>\n",
       "    </tr>\n",
       "    <tr>\n",
       "      <th>373035</th>\n",
       "      <td>n001137/0556_04.npy</td>\n",
       "    </tr>\n",
       "    <tr>\n",
       "      <th>373036</th>\n",
       "      <td>n001137/0557_01.npy</td>\n",
       "    </tr>\n",
       "    <tr>\n",
       "      <th>373037</th>\n",
       "      <td>n001137/0558_01.npy</td>\n",
       "    </tr>\n",
       "    <tr>\n",
       "      <th>373038</th>\n",
       "      <td>n001137/0559_01.npy</td>\n",
       "    </tr>\n",
       "    <tr>\n",
       "      <th>373039</th>\n",
       "      <td>n001137/0559_02.npy</td>\n",
       "    </tr>\n",
       "    <tr>\n",
       "      <th>373040</th>\n",
       "      <td>n001137/0561_01.npy</td>\n",
       "    </tr>\n",
       "    <tr>\n",
       "      <th>373041</th>\n",
       "      <td>n001137/0562_01.npy</td>\n",
       "    </tr>\n",
       "    <tr>\n",
       "      <th>373042</th>\n",
       "      <td>n001137/0564_01.npy</td>\n",
       "    </tr>\n",
       "    <tr>\n",
       "      <th>373043</th>\n",
       "      <td>n001137/0565_01.npy</td>\n",
       "    </tr>\n",
       "    <tr>\n",
       "      <th>373044</th>\n",
       "      <td>n001137/0566_03.npy</td>\n",
       "    </tr>\n",
       "    <tr>\n",
       "      <th>373045</th>\n",
       "      <td>n001137/0566_07.npy</td>\n",
       "    </tr>\n",
       "    <tr>\n",
       "      <th>373046</th>\n",
       "      <td>n001137/0567_01.npy</td>\n",
       "    </tr>\n",
       "    <tr>\n",
       "      <th>373047</th>\n",
       "      <td>n001137/0568_01.npy</td>\n",
       "    </tr>\n",
       "    <tr>\n",
       "      <th>373048</th>\n",
       "      <td>n001137/0570_01.npy</td>\n",
       "    </tr>\n",
       "    <tr>\n",
       "      <th>373049</th>\n",
       "      <td>n001137/0574_01.npy</td>\n",
       "    </tr>\n",
       "    <tr>\n",
       "      <th>373050</th>\n",
       "      <td>n001137/0575_01.npy</td>\n",
       "    </tr>\n",
       "    <tr>\n",
       "      <th>373051</th>\n",
       "      <td>n001137/0582_01.npy</td>\n",
       "    </tr>\n",
       "    <tr>\n",
       "      <th>373052</th>\n",
       "      <td>n001137/0591_02.npy</td>\n",
       "    </tr>\n",
       "  </tbody>\n",
       "</table>\n",
       "<p>373053 rows × 1 columns</p>\n",
       "</div>"
      ],
      "text/plain": [
       "                       path\n",
       "0       n000002/0001_01.npy\n",
       "1       n000002/0002_01.npy\n",
       "2       n000002/0003_01.npy\n",
       "3       n000002/0004_01.npy\n",
       "4       n000002/0005_01.npy\n",
       "5       n000002/0006_01.npy\n",
       "6       n000002/0007_01.npy\n",
       "7       n000002/0008_01.npy\n",
       "8       n000002/0009_01.npy\n",
       "9       n000002/0010_01.npy\n",
       "10      n000002/0011_01.npy\n",
       "11      n000002/0012_01.npy\n",
       "12      n000002/0013_01.npy\n",
       "13      n000002/0014_01.npy\n",
       "14      n000002/0015_01.npy\n",
       "15      n000002/0016_01.npy\n",
       "16      n000002/0017_01.npy\n",
       "17      n000002/0018_01.npy\n",
       "18      n000002/0018_02.npy\n",
       "19      n000002/0018_03.npy\n",
       "20      n000002/0018_04.npy\n",
       "21      n000002/0019_01.npy\n",
       "22      n000002/0020_01.npy\n",
       "23      n000002/0021_01.npy\n",
       "24      n000002/0022_01.npy\n",
       "25      n000002/0023_01.npy\n",
       "26      n000002/0024_01.npy\n",
       "27      n000002/0025_01.npy\n",
       "28      n000002/0026_01.npy\n",
       "29      n000002/0027_01.npy\n",
       "...                     ...\n",
       "373023  n001137/0539_01.npy\n",
       "373024  n001137/0540_01.npy\n",
       "373025  n001137/0541_01.npy\n",
       "373026  n001137/0542_01.npy\n",
       "373027  n001137/0543_01.npy\n",
       "373028  n001137/0545_03.npy\n",
       "373029  n001137/0547_01.npy\n",
       "373030  n001137/0547_02.npy\n",
       "373031  n001137/0549_01.npy\n",
       "373032  n001137/0550_01.npy\n",
       "373033  n001137/0551_01.npy\n",
       "373034  n001137/0555_01.npy\n",
       "373035  n001137/0556_04.npy\n",
       "373036  n001137/0557_01.npy\n",
       "373037  n001137/0558_01.npy\n",
       "373038  n001137/0559_01.npy\n",
       "373039  n001137/0559_02.npy\n",
       "373040  n001137/0561_01.npy\n",
       "373041  n001137/0562_01.npy\n",
       "373042  n001137/0564_01.npy\n",
       "373043  n001137/0565_01.npy\n",
       "373044  n001137/0566_03.npy\n",
       "373045  n001137/0566_07.npy\n",
       "373046  n001137/0567_01.npy\n",
       "373047  n001137/0568_01.npy\n",
       "373048  n001137/0570_01.npy\n",
       "373049  n001137/0574_01.npy\n",
       "373050  n001137/0575_01.npy\n",
       "373051  n001137/0582_01.npy\n",
       "373052  n001137/0591_02.npy\n",
       "\n",
       "[373053 rows x 1 columns]"
      ]
     },
     "execution_count": 46,
     "metadata": {},
     "output_type": "execute_result"
    }
   ],
   "source": [
    "img_list"
   ]
  },
  {
   "cell_type": "code",
   "execution_count": 47,
   "metadata": {},
   "outputs": [],
   "source": [
    "iman = ImageManager(\n",
    "    imgpaths = img_list,\n",
    "    feature_extractor = feature_extractor,\n",
    "    face_detector =  face_detector, \n",
    "    IMG_RTPATH = IMG_RT_PATH,\n",
    ")"
   ]
  },
  {
   "cell_type": "code",
   "execution_count": 48,
   "metadata": {},
   "outputs": [],
   "source": [
    "iman.balance_random_sample(30)\n",
    "paths = iman.get_sample_image_paths()\n",
    "iman.split(train_size = 0.8)"
   ]
  },
  {
   "cell_type": "code",
   "execution_count": 49,
   "metadata": {},
   "outputs": [],
   "source": [
    "path1 = np.array(img_list)[iman.sample_feat1]\n",
    "path2 = np.array(img_list)[iman.sample_feat2]\n",
    "path1, path2 = shuffle(path1, path2, random_state = 42)"
   ]
  },
  {
   "cell_type": "code",
   "execution_count": 50,
   "metadata": {},
   "outputs": [
    {
     "data": {
      "text/plain": [
       "48465.0"
      ]
     },
     "execution_count": 50,
     "metadata": {},
     "output_type": "execute_result"
    }
   ],
   "source": [
    "len(path1)*0.75"
   ]
  },
  {
   "cell_type": "code",
   "execution_count": 51,
   "metadata": {},
   "outputs": [
    {
     "data": {
      "text/plain": [
       "array([['n000441/0035_02.npy'],\n",
       "       ['n000182/0044_01.npy'],\n",
       "       ['n000795/0145_01.npy'],\n",
       "       ['n000295/0049_01.npy'],\n",
       "       ['n000683/0162_02.npy'],\n",
       "       ['n000592/0049_01.npy'],\n",
       "       ['n000856/0273_01.npy'],\n",
       "       ['n000461/0010_01.npy'],\n",
       "       ['n000839/0384_01.npy'],\n",
       "       ['n000239/0268_01.npy']], dtype=object)"
      ]
     },
     "execution_count": 51,
     "metadata": {},
     "output_type": "execute_result"
    }
   ],
   "source": [
    "path1[:10]"
   ]
  },
  {
   "cell_type": "code",
   "execution_count": 52,
   "metadata": {},
   "outputs": [],
   "source": [
    "xtrain1 = path1[:int(len(path1)*.75)]\n",
    "xtrain2 = path2[:int(len(path2)*.75)]\n",
    "xtest1 = path1[int(len(path1)*.75):]\n",
    "xtest2 = path2[int(len(path2)*.75):]"
   ]
  },
  {
   "cell_type": "code",
   "execution_count": 53,
   "metadata": {},
   "outputs": [],
   "source": [
    "def extract_feature2( feature_extractor, img, bb):\n",
    "    \"\"\"\n",
    "    Extract features given img, bounding box and feature extractor\n",
    "    \"\"\"\n",
    "    insz = feature_extractor.input_shape\n",
    "    img = resize(img,(insz[1],insz[2]))\n",
    "    img = normalize(img).reshape((1, insz[1],insz[2], insz[3]))\n",
    "    image_feature = feature_extractor.predict(img)\n",
    "    return image_feature"
   ]
  },
  {
   "cell_type": "code",
   "execution_count": 54,
   "metadata": {},
   "outputs": [],
   "source": [
    "i = 0\n",
    "augment_mode = False\n",
    "method = \"imgaug\"\n",
    "training_features1 = []\n",
    "training_features2 = []\n",
    "p2, p1, train_labels = [], [], []"
   ]
  },
  {
   "cell_type": "code",
   "execution_count": 55,
   "metadata": {},
   "outputs": [],
   "source": [
    "path1 = xtrain1\n",
    "path2 = xtrain2"
   ]
  },
  {
   "cell_type": "code",
   "execution_count": 56,
   "metadata": {},
   "outputs": [
    {
     "data": {
      "text/plain": [
       "48465"
      ]
     },
     "execution_count": 56,
     "metadata": {},
     "output_type": "execute_result"
    }
   ],
   "source": [
    "len(path1)"
   ]
  },
  {
   "cell_type": "code",
   "execution_count": 57,
   "metadata": {},
   "outputs": [
    {
     "data": {
      "text/plain": [
       "'n000441'"
      ]
     },
     "execution_count": 57,
     "metadata": {},
     "output_type": "execute_result"
    }
   ],
   "source": [
    "path1[i][0].split('/')[0]"
   ]
  },
  {
   "cell_type": "code",
   "execution_count": 58,
   "metadata": {},
   "outputs": [
    {
     "data": {
      "text/plain": [
       "'data/processed/Image_features/n000441/0035_02.npy'"
      ]
     },
     "execution_count": 58,
     "metadata": {},
     "output_type": "execute_result"
    }
   ],
   "source": [
    "FEATURE_RT_PATH + str(path1[i][0])"
   ]
  },
  {
   "cell_type": "code",
   "execution_count": 59,
   "metadata": {},
   "outputs": [
    {
     "name": "stderr",
     "output_type": "stream",
     "text": [
      "100%|██████████████████████████████████████████████████████████████████| 48465/48465 [07:19<00:00, 110.38it/s]\n"
     ]
    }
   ],
   "source": [
    "for i in tqdm(range(len(path1))):\n",
    "    training_features1.append(np.load(FEATURE_RT_PATH + str(path1[i][0])))\n",
    "    training_features2.append(np.load(FEATURE_RT_PATH + str(path2[i][0])))\n",
    "    if(path1[i][0].split('/')[0] ==path2[i][0].split('/')[0]):\n",
    "        train_labels.append(1)\n",
    "    else:\n",
    "        train_labels.append(0)  "
   ]
  },
  {
   "cell_type": "code",
   "execution_count": 60,
   "metadata": {},
   "outputs": [
    {
     "name": "stdout",
     "output_type": "stream",
     "text": [
      "Number of features in feat1: 48465\n",
      "Number of features in feat2: 48465\n",
      "Number of features in labels: 48465\n"
     ]
    }
   ],
   "source": [
    "print(\"Number of features in feat1: {}\".format(len(training_features1)))\n",
    "print(\"Number of features in feat2: {}\".format(len(training_features2)))\n",
    "print(\"Number of features in labels: {}\".format(len(train_labels)))"
   ]
  },
  {
   "cell_type": "code",
   "execution_count": 61,
   "metadata": {},
   "outputs": [
    {
     "data": {
      "text/plain": [
       "48465"
      ]
     },
     "execution_count": 61,
     "metadata": {},
     "output_type": "execute_result"
    }
   ],
   "source": [
    "len(training_features1)"
   ]
  },
  {
   "cell_type": "code",
   "execution_count": 62,
   "metadata": {},
   "outputs": [
    {
     "data": {
      "text/plain": [
       "48465"
      ]
     },
     "execution_count": 62,
     "metadata": {},
     "output_type": "execute_result"
    }
   ],
   "source": [
    "len(train_labels)"
   ]
  },
  {
   "cell_type": "code",
   "execution_count": 63,
   "metadata": {},
   "outputs": [],
   "source": [
    "path1_t = xtest1\n",
    "path2_t = xtest2\n",
    "test_features1, test_features2 = [], []\n",
    "test_labels = []"
   ]
  },
  {
   "cell_type": "code",
   "execution_count": 64,
   "metadata": {},
   "outputs": [
    {
     "name": "stderr",
     "output_type": "stream",
     "text": [
      "100%|██████████████████████████████████████████████████████████████████| 16155/16155 [02:01<00:00, 133.16it/s]\n"
     ]
    }
   ],
   "source": [
    "for i in tqdm(range(len(path1_t))):\n",
    "    test_features1.append(np.load(FEATURE_RT_PATH + path1_t[i][0]))\n",
    "    test_features2.append(np.load(FEATURE_RT_PATH + path2_t[i][0]))\n",
    "    if(path1_t[i][0].split('/')[0] == path2_t[i][0].split('/')[0]):\n",
    "        test_labels.append(1)\n",
    "    else:\n",
    "        test_labels.append(0)"
   ]
  },
  {
   "cell_type": "code",
   "execution_count": 65,
   "metadata": {},
   "outputs": [],
   "source": [
    "train_feat1 = np.vstack(training_features1)\n",
    "train_feat2 = np.vstack(training_features2)\n",
    "\n",
    "test_feat1 = np.vstack(test_features1)\n",
    "test_feat2 = np.vstack(test_features2)"
   ]
  },
  {
   "cell_type": "code",
   "execution_count": 66,
   "metadata": {},
   "outputs": [],
   "source": [
    "np.save(\"features/train_feat1.npy\", train_feat1) \n",
    "np.save(\"features/train_feat2.npy\", train_feat2)\n",
    "np.save(\"features/train_labels.npy\", train_labels)\n"
   ]
  },
  {
   "cell_type": "code",
   "execution_count": 67,
   "metadata": {},
   "outputs": [],
   "source": [
    "np.save(\"features/test_feat1.npy\", test_feat1) \n",
    "np.save(\"features/test_feat2.npy\", test_feat2)\n",
    "np.save(\"features/test_labels.npy\", test_labels)\n"
   ]
  },
  {
   "cell_type": "code",
   "execution_count": null,
   "metadata": {},
   "outputs": [],
   "source": []
  },
  {
   "cell_type": "code",
   "execution_count": null,
   "metadata": {},
   "outputs": [],
   "source": []
  },
  {
   "cell_type": "code",
   "execution_count": null,
   "metadata": {},
   "outputs": [],
   "source": []
  },
  {
   "cell_type": "code",
   "execution_count": null,
   "metadata": {},
   "outputs": [],
   "source": []
  },
  {
   "cell_type": "code",
   "execution_count": null,
   "metadata": {},
   "outputs": [],
   "source": []
  },
  {
   "cell_type": "code",
   "execution_count": null,
   "metadata": {},
   "outputs": [],
   "source": []
  },
  {
   "cell_type": "code",
   "execution_count": null,
   "metadata": {},
   "outputs": [],
   "source": []
  },
  {
   "cell_type": "code",
   "execution_count": null,
   "metadata": {},
   "outputs": [],
   "source": []
  }
 ],
 "metadata": {
  "kernelspec": {
   "display_name": "vision1",
   "language": "python",
   "name": "vision1"
  },
  "language_info": {
   "codemirror_mode": {
    "name": "ipython",
    "version": 3
   },
   "file_extension": ".py",
   "mimetype": "text/x-python",
   "name": "python",
   "nbconvert_exporter": "python",
   "pygments_lexer": "ipython3",
   "version": "3.7.3"
  }
 },
 "nbformat": 4,
 "nbformat_minor": 2
}
