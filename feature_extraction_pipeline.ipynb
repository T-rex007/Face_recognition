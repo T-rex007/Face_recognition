{
 "cells": [
  {
   "cell_type": "code",
   "execution_count": null,
   "metadata": {},
   "outputs": [],
   "source": [
    "from mtcnn.mtcnn import MTCNN\n",
    "from Manager import *\n",
    "from VisionUtils import *\n",
    "from tensorflow.keras.models import model_from_json, load_model\n",
    "from pathlib import Path as path\n",
    "from PIL import ImageDraw, ImageFont\n",
    "from matplotlib import patches, patheffects\n",
    "import tensorflow as tf\n",
    "import numpy as np\n",
    "import matplotlib.pyplot as plt\n",
    "import json\n",
    "import pdb ### Python debuger\n",
    "import os ### Navigate Through Dirrectory\n",
    "import matplotlib.pyplot as plt\n",
    "import collections\n",
    "import cv2\n",
    "import pandas as pd\n",
    "import random\n",
    "import itertools\n"
   ]
  },
  {
   "cell_type": "code",
   "execution_count": null,
   "metadata": {},
   "outputs": [],
   "source": [
    "tf.enable_eager_execution()"
   ]
  },
  {
   "cell_type": "code",
   "execution_count": null,
   "metadata": {},
   "outputs": [],
   "source": [
    "img_lst = pd.read_csv(\"data/images/test_list.txt\")\n",
    "img_lst.info()\n",
    "img_lst = img_lst.values"
   ]
  },
  {
   "cell_type": "code",
   "execution_count": null,
   "metadata": {},
   "outputs": [],
   "source": [
    "path = \"data/images/\""
   ]
  },
  {
   "cell_type": "code",
   "execution_count": null,
   "metadata": {},
   "outputs": [],
   "source": [
    "img = plt.imread(path+img_lst[0][0])\n",
    "face_detector = MTCNN()"
   ]
  },
  {
   "cell_type": "code",
   "execution_count": null,
   "metadata": {},
   "outputs": [],
   "source": [
    "img.shape"
   ]
  },
  {
   "cell_type": "code",
   "execution_count": null,
   "metadata": {},
   "outputs": [],
   "source": [
    "bb = detect_faces( img, face_detector)"
   ]
  },
  {
   "cell_type": "code",
   "execution_count": null,
   "metadata": {},
   "outputs": [],
   "source": [
    "bb"
   ]
  },
  {
   "cell_type": "code",
   "execution_count": null,
   "metadata": {},
   "outputs": [],
   "source": [
    "a = show_img(img)\n",
    "draw_bb(a, bb[0])"
   ]
  },
  {
   "cell_type": "code",
   "execution_count": null,
   "metadata": {},
   "outputs": [],
   "source": [
    "model = load_model(\"Models/FaceNet/facenet_keras.h5\")\n",
    "features= extract_feature(model, img, bb[0])"
   ]
  },
  {
   "cell_type": "code",
   "execution_count": null,
   "metadata": {},
   "outputs": [],
   "source": [
    "img_list = pd.read_csv(\"data/images/test_list.txt\")\n",
    "img_list = [ str(i[0]) for i in img_list.values ]"
   ]
  },
  {
   "cell_type": "code",
   "execution_count": null,
   "metadata": {},
   "outputs": [],
   "source": [
    "feature_rt_path = \"data/image_features\"\n",
    "imgrt_path = \"data/images\""
   ]
  },
  {
   "cell_type": "code",
   "execution_count": null,
   "metadata": {},
   "outputs": [],
   "source": [
    "for i in img_list:\n",
    "    if(os.path.isfile(feature_rt_path+\"/\"+i+\".npy\") ==True):\n",
    "        continue\n",
    "    else:\n",
    "        img = plt.imread(imgrt_path+\"/\" + i)\n",
    "        bb_lst = detect_faces(img, face_detector)\n",
    "        for i1 in range(len(bb_lst)):\n",
    "            feature = extract_feature(model, img, bb_lst[i1])\n",
    "\n",
    "            ###check to see if dirrectory e\n",
    "            if os.path.isdir(feature_rt_path+\"/\"+i[:7]):\n",
    "                np.save( feature_rt_path+\"/\"+i[:-4]+\".npy\", feature)\n",
    "            else:\n",
    "                os.mkdir(feature_rt_path+\"/\"+i[:7])\n",
    "                np.save( feature_rt_path+\"/\"+i[:-4]+\".npy\", feature)\n"
   ]
  },
  {
   "cell_type": "code",
   "execution_count": null,
   "metadata": {},
   "outputs": [],
   "source": [
    "print(\"Extraction Complete\")"
   ]
  },
  {
   "cell_type": "markdown",
   "metadata": {},
   "source": [
    "SAMPLING FEATURES"
   ]
  },
  {
   "cell_type": "code",
   "execution_count": null,
   "metadata": {},
   "outputs": [],
   "source": [
    "img_lst = pd.read_csv(\"data/images/test_list.txt\")\n",
    "img_lst = [ str(i[0]) for i in img_lst.values ]\n",
    "model = load_model(\"Models/FaceNet/facenet_keras.h5\")\n",
    "pths = pd.read_csv(\"data/images/test_list.txt\")"
   ]
  },
  {
   "cell_type": "code",
   "execution_count": null,
   "metadata": {},
   "outputs": [],
   "source": [
    "m = ImageManager( pths,model, face_detector, img_rtpath = \"data/images\", feat_rtpath = \"date/image_features\" )"
   ]
  },
  {
   "cell_type": "code",
   "execution_count": null,
   "metadata": {},
   "outputs": [],
   "source": [
    "m.compute_face_detector_error()\n",
    "m.update_matainfo()\n",
    "m.balance_random_sample(50)\n",
    "m.load_features()\n",
    "feature1, feature2, labels = m.get_features()"
   ]
  },
  {
   "cell_type": "code",
   "execution_count": null,
   "metadata": {},
   "outputs": [],
   "source": [
    "np.save(\"data/features/feat1.npy\", feature1)\n",
    "np.save(\"data/features/feat2.npy\", feature2)\n",
    "np.save(\"data/features/labels.npy\", np.array(labels))"
   ]
  }
 ],
 "metadata": {
  "kernelspec": {
   "display_name": "vision1",
   "language": "python",
   "name": "vision1"
  },
  "language_info": {
   "codemirror_mode": {
    "name": "ipython",
    "version": 3
   },
   "file_extension": ".py",
   "mimetype": "text/x-python",
   "name": "python",
   "nbconvert_exporter": "python",
   "pygments_lexer": "ipython3",
   "version": "3.7.3"
  }
 },
 "nbformat": 4,
 "nbformat_minor": 2
}
