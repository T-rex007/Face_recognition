{
 "cells": [
  {
   "cell_type": "code",
   "execution_count": 0,
   "metadata": {
    "colab": {},
    "colab_type": "code",
    "id": "hwtid1u_zSV1"
   },
   "outputs": [],
   "source": []
  },
  {
   "cell_type": "code",
   "execution_count": 0,
   "metadata": {
    "colab": {
     "base_uri": "https://localhost:8080/",
     "height": 34
    },
    "colab_type": "code",
    "executionInfo": {
     "elapsed": 59,
     "status": "ok",
     "timestamp": 1574088163386,
     "user": {
      "displayName": "clive cadogan",
      "photoUrl": "https://lh3.googleusercontent.com/a-/AAuE7mBetPwzDKoPXVylhoqriy46mM_oiDOfaWIOqEI5eg=s64",
      "userId": "06069342331970137131"
     },
     "user_tz": 240
    },
    "id": "xKM7yw22zUVV",
    "outputId": "5e583100-6a4d-4a35-f63d-295bd2338c19"
   },
   "outputs": [
    {
     "name": "stdout",
     "output_type": "stream",
     "text": [
      "Mounted at /content/drive\n"
     ]
    }
   ],
   "source": [
    "from google.colab import drive\n",
    "drive.mount('/content/drive')"
   ]
  },
  {
   "cell_type": "code",
   "execution_count": 3,
   "metadata": {
    "colab": {
     "base_uri": "https://localhost:8080/",
     "height": 760
    },
    "colab_type": "code",
    "executionInfo": {
     "elapsed": 65100,
     "status": "ok",
     "timestamp": 1574686934819,
     "user": {
      "displayName": "clive cadogan",
      "photoUrl": "https://lh3.googleusercontent.com/a-/AAuE7mBetPwzDKoPXVylhoqriy46mM_oiDOfaWIOqEI5eg=s64",
      "userId": "06069342331970137131"
     },
     "user_tz": 240
    },
    "id": "hRcBh05ozrT0",
    "outputId": "6203cbec-e4b7-43d4-f132-46bae486b8e6"
   },
   "outputs": [
    {
     "name": "stdout",
     "output_type": "stream",
     "text": [
      "Collecting tensorflow==1.14.0\n",
      "\u001b[?25l  Downloading https://files.pythonhosted.org/packages/de/f0/96fb2e0412ae9692dbf400e5b04432885f677ad6241c088ccc5fe7724d69/tensorflow-1.14.0-cp36-cp36m-manylinux1_x86_64.whl (109.2MB)\n",
      "\u001b[K     |████████████████████████████████| 109.2MB 46kB/s \n",
      "\u001b[?25hRequirement already satisfied: gast>=0.2.0 in /usr/local/lib/python3.6/dist-packages (from tensorflow==1.14.0) (0.2.2)\n",
      "Requirement already satisfied: wheel>=0.26 in /usr/local/lib/python3.6/dist-packages (from tensorflow==1.14.0) (0.33.6)\n",
      "Requirement already satisfied: keras-preprocessing>=1.0.5 in /usr/local/lib/python3.6/dist-packages (from tensorflow==1.14.0) (1.1.0)\n",
      "Collecting tensorboard<1.15.0,>=1.14.0\n",
      "\u001b[?25l  Downloading https://files.pythonhosted.org/packages/91/2d/2ed263449a078cd9c8a9ba50ebd50123adf1f8cfbea1492f9084169b89d9/tensorboard-1.14.0-py3-none-any.whl (3.1MB)\n",
      "\u001b[K     |████████████████████████████████| 3.2MB 59.3MB/s \n",
      "\u001b[?25hRequirement already satisfied: six>=1.10.0 in /usr/local/lib/python3.6/dist-packages (from tensorflow==1.14.0) (1.12.0)\n",
      "Requirement already satisfied: absl-py>=0.7.0 in /usr/local/lib/python3.6/dist-packages (from tensorflow==1.14.0) (0.8.1)\n",
      "Requirement already satisfied: termcolor>=1.1.0 in /usr/local/lib/python3.6/dist-packages (from tensorflow==1.14.0) (1.1.0)\n",
      "Requirement already satisfied: google-pasta>=0.1.6 in /usr/local/lib/python3.6/dist-packages (from tensorflow==1.14.0) (0.1.8)\n",
      "Collecting tensorflow-estimator<1.15.0rc0,>=1.14.0rc0\n",
      "\u001b[?25l  Downloading https://files.pythonhosted.org/packages/3c/d5/21860a5b11caf0678fbc8319341b0ae21a07156911132e0e71bffed0510d/tensorflow_estimator-1.14.0-py2.py3-none-any.whl (488kB)\n",
      "\u001b[K     |████████████████████████████████| 491kB 47.5MB/s \n",
      "\u001b[?25hRequirement already satisfied: keras-applications>=1.0.6 in /usr/local/lib/python3.6/dist-packages (from tensorflow==1.14.0) (1.0.8)\n",
      "Requirement already satisfied: wrapt>=1.11.1 in /usr/local/lib/python3.6/dist-packages (from tensorflow==1.14.0) (1.11.2)\n",
      "Requirement already satisfied: grpcio>=1.8.6 in /usr/local/lib/python3.6/dist-packages (from tensorflow==1.14.0) (1.15.0)\n",
      "Requirement already satisfied: protobuf>=3.6.1 in /usr/local/lib/python3.6/dist-packages (from tensorflow==1.14.0) (3.10.0)\n",
      "Requirement already satisfied: numpy<2.0,>=1.14.5 in /usr/local/lib/python3.6/dist-packages (from tensorflow==1.14.0) (1.17.4)\n",
      "Requirement already satisfied: astor>=0.6.0 in /usr/local/lib/python3.6/dist-packages (from tensorflow==1.14.0) (0.8.0)\n",
      "Requirement already satisfied: werkzeug>=0.11.15 in /usr/local/lib/python3.6/dist-packages (from tensorboard<1.15.0,>=1.14.0->tensorflow==1.14.0) (0.16.0)\n",
      "Requirement already satisfied: setuptools>=41.0.0 in /usr/local/lib/python3.6/dist-packages (from tensorboard<1.15.0,>=1.14.0->tensorflow==1.14.0) (41.6.0)\n",
      "Requirement already satisfied: markdown>=2.6.8 in /usr/local/lib/python3.6/dist-packages (from tensorboard<1.15.0,>=1.14.0->tensorflow==1.14.0) (3.1.1)\n",
      "Requirement already satisfied: h5py in /usr/local/lib/python3.6/dist-packages (from keras-applications>=1.0.6->tensorflow==1.14.0) (2.8.0)\n",
      "Installing collected packages: tensorboard, tensorflow-estimator, tensorflow\n",
      "  Found existing installation: tensorboard 1.15.0\n",
      "    Uninstalling tensorboard-1.15.0:\n",
      "      Successfully uninstalled tensorboard-1.15.0\n",
      "  Found existing installation: tensorflow-estimator 1.15.1\n",
      "    Uninstalling tensorflow-estimator-1.15.1:\n",
      "      Successfully uninstalled tensorflow-estimator-1.15.1\n",
      "  Found existing installation: tensorflow 1.15.0\n",
      "    Uninstalling tensorflow-1.15.0:\n",
      "      Successfully uninstalled tensorflow-1.15.0\n",
      "Successfully installed tensorboard-1.14.0 tensorflow-1.14.0 tensorflow-estimator-1.14.0\n"
     ]
    }
   ],
   "source": [
    "!pip install tensorflow==1.14.0"
   ]
  },
  {
   "cell_type": "code",
   "execution_count": 0,
   "metadata": {
    "colab": {
     "base_uri": "https://localhost:8080/",
     "height": 34
    },
    "colab_type": "code",
    "executionInfo": {
     "elapsed": 81,
     "status": "ok",
     "timestamp": 1574088166202,
     "user": {
      "displayName": "clive cadogan",
      "photoUrl": "https://lh3.googleusercontent.com/a-/AAuE7mBetPwzDKoPXVylhoqriy46mM_oiDOfaWIOqEI5eg=s64",
      "userId": "06069342331970137131"
     },
     "user_tz": 240
    },
    "id": "h3z950l5zs-j",
    "outputId": "7f8b9ead-8923-4fc7-927d-0f7460c94c15"
   },
   "outputs": [
    {
     "name": "stdout",
     "output_type": "stream",
     "text": [
      "Requirement already satisfied: tqdm in /usr/local/lib/python3.6/dist-packages (4.28.1)\n"
     ]
    }
   ],
   "source": [
    "!pip install tqdm"
   ]
  },
  {
   "cell_type": "code",
   "execution_count": 0,
   "metadata": {
    "colab": {
     "base_uri": "https://localhost:8080/",
     "height": 207
    },
    "colab_type": "code",
    "executionInfo": {
     "elapsed": 62,
     "status": "ok",
     "timestamp": 1574088166202,
     "user": {
      "displayName": "clive cadogan",
      "photoUrl": "https://lh3.googleusercontent.com/a-/AAuE7mBetPwzDKoPXVylhoqriy46mM_oiDOfaWIOqEI5eg=s64",
      "userId": "06069342331970137131"
     },
     "user_tz": 240
    },
    "id": "NrIh6Jygzs0h",
    "outputId": "58be2368-3c72-4c0f-b0c9-c6f98ad57d7e"
   },
   "outputs": [
    {
     "name": "stdout",
     "output_type": "stream",
     "text": [
      "Collecting scikit-learn==0.20.3\n",
      "\u001b[?25l  Downloading https://files.pythonhosted.org/packages/5e/82/c0de5839d613b82bddd088599ac0bbfbbbcbd8ca470680658352d2c435bd/scikit_learn-0.20.3-cp36-cp36m-manylinux1_x86_64.whl (5.4MB)\n",
      "\u001b[K     |████████████████████████████████| 5.4MB 24kB/s \n",
      "\u001b[?25hRequirement already satisfied: scipy>=0.13.3 in /usr/local/lib/python3.6/dist-packages (from scikit-learn==0.20.3) (1.3.2)\n",
      "Requirement already satisfied: numpy>=1.8.2 in /usr/local/lib/python3.6/dist-packages (from scikit-learn==0.20.3) (1.17.4)\n",
      "Installing collected packages: scikit-learn\n",
      "  Found existing installation: scikit-learn 0.21.3\n",
      "    Uninstalling scikit-learn-0.21.3:\n",
      "      Successfully uninstalled scikit-learn-0.21.3\n",
      "Successfully installed scikit-learn-0.20.3\n"
     ]
    }
   ],
   "source": [
    "!pip install scikit-learn==0.20.3"
   ]
  },
  {
   "cell_type": "code",
   "execution_count": 0,
   "metadata": {
    "colab": {
     "base_uri": "https://localhost:8080/",
     "height": 479
    },
    "colab_type": "code",
    "executionInfo": {
     "elapsed": 51,
     "status": "ok",
     "timestamp": 1574088166203,
     "user": {
      "displayName": "clive cadogan",
      "photoUrl": "https://lh3.googleusercontent.com/a-/AAuE7mBetPwzDKoPXVylhoqriy46mM_oiDOfaWIOqEI5eg=s64",
      "userId": "06069342331970137131"
     },
     "user_tz": 240
    },
    "id": "Q4v_zbCjzsvK",
    "outputId": "bd152c7c-4cd3-4e19-df4e-d0456285168e"
   },
   "outputs": [
    {
     "name": "stdout",
     "output_type": "stream",
     "text": [
      "Collecting scikit-image==0.14.2\n",
      "\u001b[?25l  Downloading https://files.pythonhosted.org/packages/24/06/d560630eb9e36d90d69fe57d9ff762d8f501664ce478b8a0ae132b3c3008/scikit_image-0.14.2-cp36-cp36m-manylinux1_x86_64.whl (25.3MB)\n",
      "\u001b[K     |████████████████████████████████| 25.3MB 94kB/s \n",
      "\u001b[?25hRequirement already satisfied: networkx>=1.8 in /usr/local/lib/python3.6/dist-packages (from scikit-image==0.14.2) (2.4)\n",
      "Requirement already satisfied: cloudpickle>=0.2.1 in /usr/local/lib/python3.6/dist-packages (from scikit-image==0.14.2) (1.2.2)\n",
      "Requirement already satisfied: scipy>=0.17.0 in /usr/local/lib/python3.6/dist-packages (from scikit-image==0.14.2) (1.3.2)\n",
      "Requirement already satisfied: pillow>=4.3.0 in /usr/local/lib/python3.6/dist-packages (from scikit-image==0.14.2) (4.3.0)\n",
      "Requirement already satisfied: matplotlib>=2.0.0 in /usr/local/lib/python3.6/dist-packages (from scikit-image==0.14.2) (3.1.1)\n",
      "Requirement already satisfied: dask[array]>=1.0.0 in /usr/local/lib/python3.6/dist-packages (from scikit-image==0.14.2) (1.1.5)\n",
      "Requirement already satisfied: six>=1.10.0 in /usr/local/lib/python3.6/dist-packages (from scikit-image==0.14.2) (1.12.0)\n",
      "Requirement already satisfied: PyWavelets>=0.4.0 in /usr/local/lib/python3.6/dist-packages (from scikit-image==0.14.2) (1.1.1)\n",
      "Requirement already satisfied: decorator>=4.3.0 in /usr/local/lib/python3.6/dist-packages (from networkx>=1.8->scikit-image==0.14.2) (4.4.1)\n",
      "Requirement already satisfied: numpy>=1.13.3 in /usr/local/lib/python3.6/dist-packages (from scipy>=0.17.0->scikit-image==0.14.2) (1.17.4)\n",
      "Requirement already satisfied: olefile in /usr/local/lib/python3.6/dist-packages (from pillow>=4.3.0->scikit-image==0.14.2) (0.46)\n",
      "Requirement already satisfied: cycler>=0.10 in /usr/local/lib/python3.6/dist-packages (from matplotlib>=2.0.0->scikit-image==0.14.2) (0.10.0)\n",
      "Requirement already satisfied: pyparsing!=2.0.4,!=2.1.2,!=2.1.6,>=2.0.1 in /usr/local/lib/python3.6/dist-packages (from matplotlib>=2.0.0->scikit-image==0.14.2) (2.4.5)\n",
      "Requirement already satisfied: kiwisolver>=1.0.1 in /usr/local/lib/python3.6/dist-packages (from matplotlib>=2.0.0->scikit-image==0.14.2) (1.1.0)\n",
      "Requirement already satisfied: python-dateutil>=2.1 in /usr/local/lib/python3.6/dist-packages (from matplotlib>=2.0.0->scikit-image==0.14.2) (2.6.1)\n",
      "Requirement already satisfied: toolz>=0.7.3; extra == \"array\" in /usr/local/lib/python3.6/dist-packages (from dask[array]>=1.0.0->scikit-image==0.14.2) (0.10.0)\n",
      "Requirement already satisfied: setuptools in /usr/local/lib/python3.6/dist-packages (from kiwisolver>=1.0.1->matplotlib>=2.0.0->scikit-image==0.14.2) (41.4.0)\n",
      "\u001b[31mERROR: albumentations 0.1.12 has requirement imgaug<0.2.7,>=0.2.5, but you'll have imgaug 0.2.9 which is incompatible.\u001b[0m\n",
      "Installing collected packages: scikit-image\n",
      "  Found existing installation: scikit-image 0.15.0\n",
      "    Uninstalling scikit-image-0.15.0:\n",
      "      Successfully uninstalled scikit-image-0.15.0\n",
      "Successfully installed scikit-image-0.14.2\n"
     ]
    }
   ],
   "source": [
    "!pip install scikit-image==0.14.2"
   ]
  },
  {
   "cell_type": "code",
   "execution_count": 0,
   "metadata": {
    "colab": {
     "base_uri": "https://localhost:8080/",
     "height": 207
    },
    "colab_type": "code",
    "executionInfo": {
     "elapsed": 30,
     "status": "ok",
     "timestamp": 1574088166203,
     "user": {
      "displayName": "clive cadogan",
      "photoUrl": "https://lh3.googleusercontent.com/a-/AAuE7mBetPwzDKoPXVylhoqriy46mM_oiDOfaWIOqEI5eg=s64",
      "userId": "06069342331970137131"
     },
     "user_tz": 240
    },
    "id": "Igkv1Qbwzspm",
    "outputId": "92b394cc-087a-452e-a3a9-8bb5a8181f94"
   },
   "outputs": [
    {
     "name": "stdout",
     "output_type": "stream",
     "text": [
      "Collecting mtcnn==0.0.9\n",
      "\u001b[?25l  Downloading https://files.pythonhosted.org/packages/9e/c7/8546b18fbd367b156c5bbbbaa8912ab31c8129171523ff8b47b546d70b09/mtcnn-0.0.9.tar.gz (2.3MB)\n",
      "\r",
      "\u001b[K     |▏                               | 10kB 22.5MB/s eta 0:00:01\r",
      "\u001b[K     |▎                               | 20kB 6.5MB/s eta 0:00:01\r",
      "\u001b[K     |▍                               | 30kB 9.1MB/s eta 0:00:01\r",
      "\u001b[K     |▋                               | 40kB 6.0MB/s eta 0:00:01\r",
      "\u001b[K     |▊                               | 51kB 7.3MB/s eta 0:00:01\r",
      "\u001b[K     |▉                               | 61kB 8.7MB/s eta 0:00:01\r",
      "\u001b[K     |█                               | 71kB 9.9MB/s eta 0:00:01\r",
      "\u001b[K     |█▏                              | 81kB 11.0MB/s eta 0:00:01\r",
      "\u001b[K     |█▎                              | 92kB 12.2MB/s eta 0:00:01\r",
      "\u001b[K     |█▌                              | 102kB 9.7MB/s eta 0:00:01\r",
      "\u001b[K     |█▋                              | 112kB 9.7MB/s eta 0:00:01\r",
      "\u001b[K     |█▊                              | 122kB 9.7MB/s eta 0:00:01\r",
      "\u001b[K     |█▉                              | 133kB 9.7MB/s eta 0:00:01\r",
      "\u001b[K     |██                              | 143kB 9.7MB/s eta 0:00:01\r",
      "\u001b[K     |██▏                             | 153kB 9.7MB/s eta 0:00:01\r",
      "\u001b[K     |██▎                             | 163kB 9.7MB/s eta 0:00:01\r",
      "\u001b[K     |██▌                             | 174kB 9.7MB/s eta 0:00:01\r",
      "\u001b[K     |██▋                             | 184kB 9.7MB/s eta 0:00:01\r",
      "\u001b[K     |██▊                             | 194kB 9.7MB/s eta 0:00:01\r",
      "\u001b[K     |███                             | 204kB 9.7MB/s eta 0:00:01\r",
      "\u001b[K     |███                             | 215kB 9.7MB/s eta 0:00:01\r",
      "\u001b[K     |███▏                            | 225kB 9.7MB/s eta 0:00:01\r",
      "\u001b[K     |███▍                            | 235kB 9.7MB/s eta 0:00:01\r",
      "\u001b[K     |███▌                            | 245kB 9.7MB/s eta 0:00:01\r",
      "\u001b[K     |███▋                            | 256kB 9.7MB/s eta 0:00:01\r",
      "\u001b[K     |███▊                            | 266kB 9.7MB/s eta 0:00:01\r",
      "\u001b[K     |████                            | 276kB 9.7MB/s eta 0:00:01\r",
      "\u001b[K     |████                            | 286kB 9.7MB/s eta 0:00:01\r",
      "\u001b[K     |████▏                           | 296kB 9.7MB/s eta 0:00:01\r",
      "\u001b[K     |████▍                           | 307kB 9.7MB/s eta 0:00:01\r",
      "\u001b[K     |████▌                           | 317kB 9.7MB/s eta 0:00:01\r",
      "\u001b[K     |████▋                           | 327kB 9.7MB/s eta 0:00:01\r",
      "\u001b[K     |████▉                           | 337kB 9.7MB/s eta 0:00:01\r",
      "\u001b[K     |█████                           | 348kB 9.7MB/s eta 0:00:01\r",
      "\u001b[K     |█████                           | 358kB 9.7MB/s eta 0:00:01\r",
      "\u001b[K     |█████▎                          | 368kB 9.7MB/s eta 0:00:01\r",
      "\u001b[K     |█████▍                          | 378kB 9.7MB/s eta 0:00:01\r",
      "\u001b[K     |█████▌                          | 389kB 9.7MB/s eta 0:00:01\r",
      "\u001b[K     |█████▋                          | 399kB 9.7MB/s eta 0:00:01\r",
      "\u001b[K     |█████▉                          | 409kB 9.7MB/s eta 0:00:01\r",
      "\u001b[K     |██████                          | 419kB 9.7MB/s eta 0:00:01\r",
      "\u001b[K     |██████                          | 430kB 9.7MB/s eta 0:00:01\r",
      "\u001b[K     |██████▎                         | 440kB 9.7MB/s eta 0:00:01\r",
      "\u001b[K     |██████▍                         | 450kB 9.7MB/s eta 0:00:01\r",
      "\u001b[K     |██████▌                         | 460kB 9.7MB/s eta 0:00:01\r",
      "\u001b[K     |██████▊                         | 471kB 9.7MB/s eta 0:00:01\r",
      "\u001b[K     |██████▉                         | 481kB 9.7MB/s eta 0:00:01\r",
      "\u001b[K     |███████                         | 491kB 9.7MB/s eta 0:00:01\r",
      "\u001b[K     |███████▏                        | 501kB 9.7MB/s eta 0:00:01\r",
      "\u001b[K     |███████▎                        | 512kB 9.7MB/s eta 0:00:01\r",
      "\u001b[K     |███████▍                        | 522kB 9.7MB/s eta 0:00:01\r",
      "\u001b[K     |███████▌                        | 532kB 9.7MB/s eta 0:00:01\r",
      "\u001b[K     |███████▊                        | 542kB 9.7MB/s eta 0:00:01\r",
      "\u001b[K     |███████▉                        | 552kB 9.7MB/s eta 0:00:01\r",
      "\u001b[K     |████████                        | 563kB 9.7MB/s eta 0:00:01\r",
      "\u001b[K     |████████▏                       | 573kB 9.7MB/s eta 0:00:01\r",
      "\u001b[K     |████████▎                       | 583kB 9.7MB/s eta 0:00:01\r",
      "\u001b[K     |████████▍                       | 593kB 9.7MB/s eta 0:00:01\r",
      "\u001b[K     |████████▋                       | 604kB 9.7MB/s eta 0:00:01\r",
      "\u001b[K     |████████▊                       | 614kB 9.7MB/s eta 0:00:01\r",
      "\u001b[K     |████████▉                       | 624kB 9.7MB/s eta 0:00:01\r",
      "\u001b[K     |█████████                       | 634kB 9.7MB/s eta 0:00:01\r",
      "\u001b[K     |█████████▏                      | 645kB 9.7MB/s eta 0:00:01\r",
      "\u001b[K     |█████████▎                      | 655kB 9.7MB/s eta 0:00:01\r",
      "\u001b[K     |█████████▍                      | 665kB 9.7MB/s eta 0:00:01\r",
      "\u001b[K     |█████████▋                      | 675kB 9.7MB/s eta 0:00:01\r",
      "\u001b[K     |█████████▊                      | 686kB 9.7MB/s eta 0:00:01\r",
      "\u001b[K     |█████████▉                      | 696kB 9.7MB/s eta 0:00:01\r",
      "\u001b[K     |██████████                      | 706kB 9.7MB/s eta 0:00:01\r",
      "\u001b[K     |██████████▏                     | 716kB 9.7MB/s eta 0:00:01\r",
      "\u001b[K     |██████████▎                     | 727kB 9.7MB/s eta 0:00:01\r",
      "\u001b[K     |██████████▌                     | 737kB 9.7MB/s eta 0:00:01\r",
      "\u001b[K     |██████████▋                     | 747kB 9.7MB/s eta 0:00:01\r",
      "\u001b[K     |██████████▊                     | 757kB 9.7MB/s eta 0:00:01\r",
      "\u001b[K     |███████████                     | 768kB 9.7MB/s eta 0:00:01\r",
      "\u001b[K     |███████████                     | 778kB 9.7MB/s eta 0:00:01\r",
      "\u001b[K     |███████████▏                    | 788kB 9.7MB/s eta 0:00:01\r",
      "\u001b[K     |███████████▎                    | 798kB 9.7MB/s eta 0:00:01\r",
      "\u001b[K     |███████████▌                    | 808kB 9.7MB/s eta 0:00:01\r",
      "\u001b[K     |███████████▋                    | 819kB 9.7MB/s eta 0:00:01\r",
      "\u001b[K     |███████████▊                    | 829kB 9.7MB/s eta 0:00:01\r",
      "\u001b[K     |████████████                    | 839kB 9.7MB/s eta 0:00:01\r",
      "\u001b[K     |████████████                    | 849kB 9.7MB/s eta 0:00:01\r",
      "\u001b[K     |████████████▏                   | 860kB 9.7MB/s eta 0:00:01\r",
      "\u001b[K     |████████████▍                   | 870kB 9.7MB/s eta 0:00:01\r",
      "\u001b[K     |████████████▌                   | 880kB 9.7MB/s eta 0:00:01\r",
      "\u001b[K     |████████████▋                   | 890kB 9.7MB/s eta 0:00:01\r",
      "\u001b[K     |████████████▉                   | 901kB 9.7MB/s eta 0:00:01\r",
      "\u001b[K     |█████████████                   | 911kB 9.7MB/s eta 0:00:01\r",
      "\u001b[K     |█████████████                   | 921kB 9.7MB/s eta 0:00:01\r",
      "\u001b[K     |█████████████▏                  | 931kB 9.7MB/s eta 0:00:01\r",
      "\u001b[K     |█████████████▍                  | 942kB 9.7MB/s eta 0:00:01\r",
      "\u001b[K     |█████████████▌                  | 952kB 9.7MB/s eta 0:00:01\r",
      "\u001b[K     |█████████████▋                  | 962kB 9.7MB/s eta 0:00:01\r",
      "\u001b[K     |█████████████▉                  | 972kB 9.7MB/s eta 0:00:01\r",
      "\u001b[K     |██████████████                  | 983kB 9.7MB/s eta 0:00:01\r",
      "\u001b[K     |██████████████                  | 993kB 9.7MB/s eta 0:00:01\r",
      "\u001b[K     |██████████████▎                 | 1.0MB 9.7MB/s eta 0:00:01\r",
      "\u001b[K     |██████████████▍                 | 1.0MB 9.7MB/s eta 0:00:01\r",
      "\u001b[K     |██████████████▌                 | 1.0MB 9.7MB/s eta 0:00:01\r",
      "\u001b[K     |██████████████▊                 | 1.0MB 9.7MB/s eta 0:00:01\r",
      "\u001b[K     |██████████████▉                 | 1.0MB 9.7MB/s eta 0:00:01\r",
      "\u001b[K     |███████████████                 | 1.1MB 9.7MB/s eta 0:00:01\r",
      "\u001b[K     |███████████████                 | 1.1MB 9.7MB/s eta 0:00:01\r",
      "\u001b[K     |███████████████▎                | 1.1MB 9.7MB/s eta 0:00:01\r",
      "\u001b[K     |███████████████▍                | 1.1MB 9.7MB/s eta 0:00:01\r",
      "\u001b[K     |███████████████▌                | 1.1MB 9.7MB/s eta 0:00:01\r",
      "\u001b[K     |███████████████▊                | 1.1MB 9.7MB/s eta 0:00:01\r",
      "\u001b[K     |███████████████▉                | 1.1MB 9.7MB/s eta 0:00:01\r",
      "\u001b[K     |████████████████                | 1.1MB 9.7MB/s eta 0:00:01\r",
      "\u001b[K     |████████████████▏               | 1.1MB 9.7MB/s eta 0:00:01\r",
      "\u001b[K     |████████████████▎               | 1.1MB 9.7MB/s eta 0:00:01\r",
      "\u001b[K     |████████████████▍               | 1.2MB 9.7MB/s eta 0:00:01\r",
      "\u001b[K     |████████████████▋               | 1.2MB 9.7MB/s eta 0:00:01\r",
      "\u001b[K     |████████████████▊               | 1.2MB 9.7MB/s eta 0:00:01\r",
      "\u001b[K     |████████████████▉               | 1.2MB 9.7MB/s eta 0:00:01\r",
      "\u001b[K     |█████████████████               | 1.2MB 9.7MB/s eta 0:00:01\r",
      "\u001b[K     |█████████████████▏              | 1.2MB 9.7MB/s eta 0:00:01\r",
      "\u001b[K     |█████████████████▎              | 1.2MB 9.7MB/s eta 0:00:01\r",
      "\u001b[K     |█████████████████▍              | 1.2MB 9.7MB/s eta 0:00:01\r",
      "\u001b[K     |█████████████████▋              | 1.2MB 9.7MB/s eta 0:00:01\r",
      "\u001b[K     |█████████████████▊              | 1.2MB 9.7MB/s eta 0:00:01\r",
      "\u001b[K     |█████████████████▉              | 1.3MB 9.7MB/s eta 0:00:01\r",
      "\u001b[K     |██████████████████              | 1.3MB 9.7MB/s eta 0:00:01\r",
      "\u001b[K     |██████████████████▏             | 1.3MB 9.7MB/s eta 0:00:01\r",
      "\u001b[K     |██████████████████▎             | 1.3MB 9.7MB/s eta 0:00:01\r",
      "\u001b[K     |██████████████████▌             | 1.3MB 9.7MB/s eta 0:00:01\r",
      "\u001b[K     |██████████████████▋             | 1.3MB 9.7MB/s eta 0:00:01\r",
      "\u001b[K     |██████████████████▊             | 1.3MB 9.7MB/s eta 0:00:01\r",
      "\u001b[K     |██████████████████▉             | 1.3MB 9.7MB/s eta 0:00:01\r",
      "\u001b[K     |███████████████████             | 1.3MB 9.7MB/s eta 0:00:01\r",
      "\u001b[K     |███████████████████▏            | 1.4MB 9.7MB/s eta 0:00:01\r",
      "\u001b[K     |███████████████████▎            | 1.4MB 9.7MB/s eta 0:00:01\r",
      "\u001b[K     |███████████████████▌            | 1.4MB 9.7MB/s eta 0:00:01\r",
      "\u001b[K     |███████████████████▋            | 1.4MB 9.7MB/s eta 0:00:01\r",
      "\u001b[K     |███████████████████▊            | 1.4MB 9.7MB/s eta 0:00:01\r",
      "\u001b[K     |████████████████████            | 1.4MB 9.7MB/s eta 0:00:01\r",
      "\u001b[K     |████████████████████            | 1.4MB 9.7MB/s eta 0:00:01\r",
      "\u001b[K     |████████████████████▏           | 1.4MB 9.7MB/s eta 0:00:01\r",
      "\u001b[K     |████████████████████▍           | 1.4MB 9.7MB/s eta 0:00:01\r",
      "\u001b[K     |████████████████████▌           | 1.4MB 9.7MB/s eta 0:00:01\r",
      "\u001b[K     |████████████████████▋           | 1.5MB 9.7MB/s eta 0:00:01\r",
      "\u001b[K     |████████████████████▊           | 1.5MB 9.7MB/s eta 0:00:01\r",
      "\u001b[K     |█████████████████████           | 1.5MB 9.7MB/s eta 0:00:01\r",
      "\u001b[K     |█████████████████████           | 1.5MB 9.7MB/s eta 0:00:01\r",
      "\u001b[K     |█████████████████████▏          | 1.5MB 9.7MB/s eta 0:00:01\r",
      "\u001b[K     |█████████████████████▍          | 1.5MB 9.7MB/s eta 0:00:01\r",
      "\u001b[K     |█████████████████████▌          | 1.5MB 9.7MB/s eta 0:00:01\r",
      "\u001b[K     |█████████████████████▋          | 1.5MB 9.7MB/s eta 0:00:01\r",
      "\u001b[K     |█████████████████████▉          | 1.5MB 9.7MB/s eta 0:00:01\r",
      "\u001b[K     |██████████████████████          | 1.5MB 9.7MB/s eta 0:00:01\r",
      "\u001b[K     |██████████████████████          | 1.6MB 9.7MB/s eta 0:00:01\r",
      "\u001b[K     |██████████████████████▎         | 1.6MB 9.7MB/s eta 0:00:01\r",
      "\u001b[K     |██████████████████████▍         | 1.6MB 9.7MB/s eta 0:00:01\r",
      "\u001b[K     |██████████████████████▌         | 1.6MB 9.7MB/s eta 0:00:01\r",
      "\u001b[K     |██████████████████████▋         | 1.6MB 9.7MB/s eta 0:00:01\r",
      "\u001b[K     |██████████████████████▉         | 1.6MB 9.7MB/s eta 0:00:01\r",
      "\u001b[K     |███████████████████████         | 1.6MB 9.7MB/s eta 0:00:01\r",
      "\u001b[K     |███████████████████████         | 1.6MB 9.7MB/s eta 0:00:01\r",
      "\u001b[K     |███████████████████████▎        | 1.6MB 9.7MB/s eta 0:00:01\r",
      "\u001b[K     |███████████████████████▍        | 1.6MB 9.7MB/s eta 0:00:01\r",
      "\u001b[K     |███████████████████████▌        | 1.7MB 9.7MB/s eta 0:00:01\r",
      "\u001b[K     |███████████████████████▊        | 1.7MB 9.7MB/s eta 0:00:01\r",
      "\u001b[K     |███████████████████████▉        | 1.7MB 9.7MB/s eta 0:00:01\r",
      "\u001b[K     |████████████████████████        | 1.7MB 9.7MB/s eta 0:00:01\r",
      "\u001b[K     |████████████████████████▏       | 1.7MB 9.7MB/s eta 0:00:01\r",
      "\u001b[K     |████████████████████████▎       | 1.7MB 9.7MB/s eta 0:00:01\r",
      "\u001b[K     |████████████████████████▍       | 1.7MB 9.7MB/s eta 0:00:01\r",
      "\u001b[K     |████████████████████████▌       | 1.7MB 9.7MB/s eta 0:00:01\r",
      "\u001b[K     |████████████████████████▊       | 1.7MB 9.7MB/s eta 0:00:01\r",
      "\u001b[K     |████████████████████████▉       | 1.8MB 9.7MB/s eta 0:00:01\r",
      "\u001b[K     |█████████████████████████       | 1.8MB 9.7MB/s eta 0:00:01\r",
      "\u001b[K     |█████████████████████████▏      | 1.8MB 9.7MB/s eta 0:00:01\r",
      "\u001b[K     |█████████████████████████▎      | 1.8MB 9.7MB/s eta 0:00:01\r",
      "\u001b[K     |█████████████████████████▍      | 1.8MB 9.7MB/s eta 0:00:01\r",
      "\u001b[K     |█████████████████████████▋      | 1.8MB 9.7MB/s eta 0:00:01\r",
      "\u001b[K     |█████████████████████████▊      | 1.8MB 9.7MB/s eta 0:00:01\r",
      "\u001b[K     |█████████████████████████▉      | 1.8MB 9.7MB/s eta 0:00:01\r",
      "\u001b[K     |██████████████████████████      | 1.8MB 9.7MB/s eta 0:00:01\r",
      "\u001b[K     |██████████████████████████▏     | 1.8MB 9.7MB/s eta 0:00:01\r",
      "\u001b[K     |██████████████████████████▎     | 1.9MB 9.7MB/s eta 0:00:01\r",
      "\u001b[K     |██████████████████████████▍     | 1.9MB 9.7MB/s eta 0:00:01\r",
      "\u001b[K     |██████████████████████████▋     | 1.9MB 9.7MB/s eta 0:00:01\r",
      "\u001b[K     |██████████████████████████▊     | 1.9MB 9.7MB/s eta 0:00:01\r",
      "\u001b[K     |██████████████████████████▉     | 1.9MB 9.7MB/s eta 0:00:01\r",
      "\u001b[K     |███████████████████████████     | 1.9MB 9.7MB/s eta 0:00:01\r",
      "\u001b[K     |███████████████████████████▏    | 1.9MB 9.7MB/s eta 0:00:01\r",
      "\u001b[K     |███████████████████████████▎    | 1.9MB 23kB/s eta 0:00:14\r",
      "\u001b[K     |███████████████████████████▌    | 1.9MB 23kB/s eta 0:00:14\r",
      "\u001b[K     |███████████████████████████▋    | 1.9MB 23kB/s eta 0:00:14\r",
      "\u001b[K     |███████████████████████████▊    | 2.0MB 23kB/s eta 0:00:13\r",
      "\u001b[K     |███████████████████████████▉    | 2.0MB 23kB/s eta 0:00:13\r",
      "\u001b[K     |████████████████████████████    | 2.0MB 23kB/s eta 0:00:12\r",
      "\u001b[K     |████████████████████████████▏   | 2.0MB 23kB/s eta 0:00:12\r",
      "\u001b[K     |████████████████████████████▎   | 2.0MB 23kB/s eta 0:00:11\r",
      "\u001b[K     |████████████████████████████▌   | 2.0MB 23kB/s eta 0:00:11\r",
      "\u001b[K     |████████████████████████████▋   | 2.0MB 23kB/s eta 0:00:11\r",
      "\u001b[K     |████████████████████████████▊   | 2.0MB 23kB/s eta 0:00:10\r",
      "\u001b[K     |█████████████████████████████   | 2.0MB 23kB/s eta 0:00:10\r",
      "\u001b[K     |█████████████████████████████   | 2.0MB 23kB/s eta 0:00:09\r",
      "\u001b[K     |█████████████████████████████▏  | 2.1MB 23kB/s eta 0:00:09\r",
      "\u001b[K     |█████████████████████████████▍  | 2.1MB 23kB/s eta 0:00:08\r",
      "\u001b[K     |█████████████████████████████▌  | 2.1MB 23kB/s eta 0:00:08\r",
      "\u001b[K     |█████████████████████████████▋  | 2.1MB 23kB/s eta 0:00:08\r",
      "\u001b[K     |█████████████████████████████▊  | 2.1MB 23kB/s eta 0:00:07\r",
      "\u001b[K     |██████████████████████████████  | 2.1MB 23kB/s eta 0:00:07\r",
      "\u001b[K     |██████████████████████████████  | 2.1MB 23kB/s eta 0:00:06\r",
      "\u001b[K     |██████████████████████████████▏ | 2.1MB 23kB/s eta 0:00:06\r",
      "\u001b[K     |██████████████████████████████▍ | 2.1MB 23kB/s eta 0:00:05\r",
      "\u001b[K     |██████████████████████████████▌ | 2.2MB 23kB/s eta 0:00:05\r",
      "\u001b[K     |██████████████████████████████▋ | 2.2MB 23kB/s eta 0:00:04\r",
      "\u001b[K     |██████████████████████████████▉ | 2.2MB 23kB/s eta 0:00:04\r",
      "\u001b[K     |███████████████████████████████ | 2.2MB 23kB/s eta 0:00:04\r",
      "\u001b[K     |███████████████████████████████ | 2.2MB 23kB/s eta 0:00:03\r",
      "\u001b[K     |███████████████████████████████▎| 2.2MB 23kB/s eta 0:00:03\r",
      "\u001b[K     |███████████████████████████████▍| 2.2MB 23kB/s eta 0:00:02\r",
      "\u001b[K     |███████████████████████████████▌| 2.2MB 23kB/s eta 0:00:02\r",
      "\u001b[K     |███████████████████████████████▋| 2.2MB 23kB/s eta 0:00:01\r",
      "\u001b[K     |███████████████████████████████▉| 2.2MB 23kB/s eta 0:00:01\r",
      "\u001b[K     |████████████████████████████████| 2.3MB 23kB/s eta 0:00:01\r",
      "\u001b[K     |████████████████████████████████| 2.3MB 23kB/s \n",
      "\u001b[?25hBuilding wheels for collected packages: mtcnn\n",
      "  Building wheel for mtcnn (setup.py) ... \u001b[?25l\u001b[?25hdone\n",
      "  Created wheel for mtcnn: filename=mtcnn-0.0.9-cp36-none-any.whl size=2257690 sha256=88cff458e49ec625e0c684187fc3a36be64aff2da5619d9da7c45b8984fce9d9\n",
      "  Stored in directory: /root/.cache/pip/wheels/85/81/65/6363fa5aafd7a155c896591e0c7c6e27b69642aa82b9cbf076\n",
      "Successfully built mtcnn\n",
      "Installing collected packages: mtcnn\n",
      "Successfully installed mtcnn-0.0.9\n"
     ]
    }
   ],
   "source": [
    "!pip install mtcnn==0.0.9"
   ]
  },
  {
   "cell_type": "code",
   "execution_count": 0,
   "metadata": {
    "colab": {
     "base_uri": "https://localhost:8080/",
     "height": 293
    },
    "colab_type": "code",
    "executionInfo": {
     "elapsed": 17,
     "status": "ok",
     "timestamp": 1574088166204,
     "user": {
      "displayName": "clive cadogan",
      "photoUrl": "https://lh3.googleusercontent.com/a-/AAuE7mBetPwzDKoPXVylhoqriy46mM_oiDOfaWIOqEI5eg=s64",
      "userId": "06069342331970137131"
     },
     "user_tz": 240
    },
    "id": "kCRle_nezsjG",
    "outputId": "67263da3-78ae-4a4a-f2a8-fe13f8abadf9"
   },
   "outputs": [
    {
     "name": "stdout",
     "output_type": "stream",
     "text": [
      "Collecting numpy==1.16.3\n",
      "\u001b[?25l  Downloading https://files.pythonhosted.org/packages/c1/e2/4db8df8f6cddc98e7d7c537245ef2f4e41a1ed17bf0c3177ab3cc6beac7f/numpy-1.16.3-cp36-cp36m-manylinux1_x86_64.whl (17.3MB)\n",
      "\u001b[K     |████████████████████████████████| 17.3MB 141kB/s \n",
      "\u001b[31mERROR: datascience 0.10.6 has requirement folium==0.2.1, but you'll have folium 0.8.3 which is incompatible.\u001b[0m\n",
      "\u001b[31mERROR: albumentations 0.1.12 has requirement imgaug<0.2.7,>=0.2.5, but you'll have imgaug 0.2.9 which is incompatible.\u001b[0m\n",
      "\u001b[?25hInstalling collected packages: numpy\n",
      "  Found existing installation: numpy 1.17.4\n",
      "    Uninstalling numpy-1.17.4:\n",
      "      Successfully uninstalled numpy-1.17.4\n",
      "Successfully installed numpy-1.16.3\n"
     ]
    },
    {
     "data": {
      "application/vnd.colab-display-data+json": {
       "pip_warning": {
        "packages": [
         "numpy"
        ]
       }
      }
     },
     "metadata": {
      "tags": []
     },
     "output_type": "display_data"
    }
   ],
   "source": [
    "!pip install numpy==1.16.3"
   ]
  },
  {
   "cell_type": "code",
   "execution_count": 0,
   "metadata": {
    "colab": {},
    "colab_type": "code",
    "id": "qwh0XuTFLor6"
   },
   "outputs": [],
   "source": []
  },
  {
   "cell_type": "code",
   "execution_count": 0,
   "metadata": {
    "colab": {
     "base_uri": "https://localhost:8080/",
     "height": 34
    },
    "colab_type": "code",
    "executionInfo": {
     "elapsed": 874,
     "status": "ok",
     "timestamp": 1574088279150,
     "user": {
      "displayName": "clive cadogan",
      "photoUrl": "https://lh3.googleusercontent.com/a-/AAuE7mBetPwzDKoPXVylhoqriy46mM_oiDOfaWIOqEI5eg=s64",
      "userId": "06069342331970137131"
     },
     "user_tz": 240
    },
    "id": "mXYd2bLOzQSv",
    "outputId": "ef14e719-d31f-4f96-d08b-106637099cb1"
   },
   "outputs": [
    {
     "name": "stdout",
     "output_type": "stream",
     "text": [
      "/content/drive/My Drive/upwork/Face_recognition-master\n"
     ]
    }
   ],
   "source": [
    "cd 'drive/My Drive/upwork/Face_recognition-master'"
   ]
  },
  {
   "cell_type": "code",
   "execution_count": 0,
   "metadata": {
    "colab": {},
    "colab_type": "code",
    "id": "s56GCmfiG1dI"
   },
   "outputs": [],
   "source": [
    "from sklearn.model_selection import train_test_split, GridSearchCV\n",
    "#from sklearn.svm import SVC, LinearSVC\n",
    "#from sklearn.linear_model import SGDClassifier\n",
    "#from sklearn.tree import DecisionTreeClassifier\n",
    "#from sklearn.ensemble import RandomForestClassifier, ExtraTreesClassifier\n",
    "#from sklearn.experimental import enable_hist_gradient_boosting\n",
    "#from sklearn.ensemble import HistGradientBoostingClassifier\n",
    "from joblib import dump, load\n",
    "#from sklearn.naive_bayes import GaussianNB \n",
    "from VisionUtils import *\n",
    "import numpy as np\n",
    "from sklearn.preprocessing import MinMaxScaler\n",
    "from sklearn.feature_selection import SelectKBest, chi2\n",
    "from sklearn.multiclass import OneVsRestClassifier\n",
    "import pandas as pd\n",
    "from mtcnn.mtcnn import MTCNN\n",
    "from pathlib import Path\n",
    "from sklearn.utils import shuffle\n",
    "from tqdm import tqdm\n",
    "import tensorflow as tf\n",
    "#import autosklearn.classification"
   ]
  },
  {
   "cell_type": "code",
   "execution_count": 0,
   "metadata": {
    "colab": {
     "base_uri": "https://localhost:8080/",
     "height": 34
    },
    "colab_type": "code",
    "executionInfo": {
     "elapsed": 1088,
     "status": "ok",
     "timestamp": 1574088342524,
     "user": {
      "displayName": "clive cadogan",
      "photoUrl": "https://lh3.googleusercontent.com/a-/AAuE7mBetPwzDKoPXVylhoqriy46mM_oiDOfaWIOqEI5eg=s64",
      "userId": "06069342331970137131"
     },
     "user_tz": 240
    },
    "id": "3uPR1LOr-aG7",
    "outputId": "a7783337-710d-45d5-dbd9-942ed7d051e9"
   },
   "outputs": [
    {
     "data": {
      "text/plain": [
       "'0.20.3'"
      ]
     },
     "execution_count": 5,
     "metadata": {
      "tags": []
     },
     "output_type": "execute_result"
    }
   ],
   "source": [
    "import sklearn\n",
    "sklearn.__version__"
   ]
  },
  {
   "cell_type": "code",
   "execution_count": 0,
   "metadata": {
    "colab": {
     "base_uri": "https://localhost:8080/",
     "height": 34
    },
    "colab_type": "code",
    "executionInfo": {
     "elapsed": 517,
     "status": "ok",
     "timestamp": 1574088302488,
     "user": {
      "displayName": "clive cadogan",
      "photoUrl": "https://lh3.googleusercontent.com/a-/AAuE7mBetPwzDKoPXVylhoqriy46mM_oiDOfaWIOqEI5eg=s64",
      "userId": "06069342331970137131"
     },
     "user_tz": 240
    },
    "id": "ry1tozzw-UBu",
    "outputId": "4a208c52-c5bd-477f-f5cb-157d458e5fde"
   },
   "outputs": [
    {
     "data": {
      "text/plain": [
       "'1.16.3'"
      ]
     },
     "execution_count": 4,
     "metadata": {
      "tags": []
     },
     "output_type": "execute_result"
    }
   ],
   "source": [
    "np.__version__"
   ]
  },
  {
   "cell_type": "code",
   "execution_count": 0,
   "metadata": {
    "colab": {
     "base_uri": "https://localhost:8080/",
     "height": 68
    },
    "colab_type": "code",
    "executionInfo": {
     "elapsed": 712,
     "status": "ok",
     "timestamp": 1574088290051,
     "user": {
      "displayName": "clive cadogan",
      "photoUrl": "https://lh3.googleusercontent.com/a-/AAuE7mBetPwzDKoPXVylhoqriy46mM_oiDOfaWIOqEI5eg=s64",
      "userId": "06069342331970137131"
     },
     "user_tz": 240
    },
    "id": "u3YS_gndLrSi",
    "outputId": "52a15b34-170c-4650-c9c7-62e6484a15b7"
   },
   "outputs": [
    {
     "name": "stdout",
     "output_type": "stream",
     "text": [
      "TensorFlow Version:  1.14.0\n",
      "Eager mode:  False\n",
      "Is GPU available:  False\n"
     ]
    }
   ],
   "source": [
    "print(\"TensorFlow Version: \", tf.__version__)\n",
    "print(\"Eager mode: \", tf.executing_eagerly())\n",
    "print(\"Is GPU available: \", tf.test.is_gpu_available())"
   ]
  },
  {
   "cell_type": "markdown",
   "metadata": {
    "colab_type": "text",
    "id": "pS_2J52ZG1dN"
   },
   "source": [
    "##### !curl https://raw.githubusercontent.com/automl/auto-sklearn/master/requirements.txt | xargs -n 1 -L 1 pip install"
   ]
  },
  {
   "cell_type": "code",
   "execution_count": 0,
   "metadata": {
    "colab": {},
    "colab_type": "code",
    "id": "BvvcD4eFG1dO"
   },
   "outputs": [],
   "source": [
    "def trans(feat1, feat2):\n",
    "    f1 = [feat1[i1].reshape(-1,1) for i1 in range(len(feat1))]\n",
    "    f2 = [feat2[i2].reshape(-1,1) for i2 in range(len(feat2))]\n",
    "    cos_d = np.array([feat_distance_cosine_scalar(f1[i].T, f2[i]) for i in range(len(feat1))])\n",
    "    cos_d = cos_d.reshape(-1,1)\n",
    "    sqr_diff = np.power(np.abs(feat1- feat2), 2)\n",
    "    rat = feat1/feat2\n",
    "    data = np.hstack([cos_d, sqr_diff, rat])\n",
    "    return data"
   ]
  },
  {
   "cell_type": "markdown",
   "metadata": {
    "colab_type": "text",
    "id": "CEnKypi3G1dQ"
   },
   "source": [
    "train_aug_feat1 = np.load(\"features/train_aug_feat12.npy\")\n",
    "train_aug_feat2 = np.load(\"features/train_aug_feat22.npy\")\n",
    "train_aug_labels = np.load(\"features/train_aug_labels2.npy\")\n",
    "\n",
    "train_parallel_feat1 = np.load(\"features/train_parallel_feat11.npy\")\n",
    "train_parallel_feat2 = np.load(\"features/train_parallel_feat21.npy\")\n",
    "train_parallel_labels = np.load(\"features/train_parallel_labels.npy\")\n",
    "\n",
    "train_spotlight_feat1 = np.load(\"features/train_spotlight_feat11.npy\")\n",
    "train_spotlight_feat2 = np.load(\"features/train_spotlight_feat21.npy\")\n",
    "train_spotlight_labels = np.load(\"features/train_spotlight_labels.npy\")"
   ]
  },
  {
   "cell_type": "code",
   "execution_count": 0,
   "metadata": {
    "colab": {},
    "colab_type": "code",
    "id": "rXRvR-5UG1dR"
   },
   "outputs": [],
   "source": [
    "train_feat1_mbyt = np.load(\"data/processed_2/packaged/features/train_feat1.npy\")\n",
    "train_feat2_mbyt = np.load(\"data/processed_2/packaged/features/train_feat2.npy\")\n",
    "train_labels_mbyt = np.load(\"data/processed_2/packaged/features/train_labels.npy\")\n",
    "\n",
    "test_feat1_mbyt = np.load(\"data/processed_2/packaged/features/test_feat1.npy\")\n",
    "test_feat2_mbyt = np.load(\"data/processed_2/packaged/features/test_feat2.npy\")\n",
    "test_labels_mbyt = np.load(\"data/processed_2/packaged/features/test_labels.npy\")\n",
    "\n",
    "train_feat1_aug_mbyt = np.load(\"data/processed_2/packaged/motion_blur_features/train_feat1.npy\")\n",
    "train_feat2_aug_mbyt = np.load(\"data/processed_2/packaged/motion_blur_features/train_feat2.npy\")\n",
    "train_labels_aug_mbyt = np.load(\"data/processed_2/packaged/motion_blur_features/train_labels.npy\")\n",
    "\n",
    "test_feat1_aug_mbyt = np.load(\"data/processed_2/packaged/motion_blur_features/test_feat1.npy\")\n",
    "test_feat2_aug_mbyt = np.load(\"data/processed_2/packaged/motion_blur_features/test_feat2.npy\")\n",
    "test_labels_aug_mbyt = np.load(\"data/processed_2/packaged/motion_blur_features/test_labels.npy\")\n",
    "\n",
    "\n"
   ]
  },
  {
   "cell_type": "code",
   "execution_count": 0,
   "metadata": {
    "colab": {
     "base_uri": "https://localhost:8080/",
     "height": 34
    },
    "colab_type": "code",
    "executionInfo": {
     "elapsed": 33250,
     "status": "ok",
     "timestamp": 1573840280985,
     "user": {
      "displayName": "clive cadogan",
      "photoUrl": "https://lh3.googleusercontent.com/a-/AAuE7mBetPwzDKoPXVylhoqriy46mM_oiDOfaWIOqEI5eg=s64",
      "userId": "06069342331970137131"
     },
     "user_tz": 240
    },
    "id": "c65uTw6B-_a8",
    "outputId": "e1771bf6-c171-44e0-c186-476318fa687c"
   },
   "outputs": [
    {
     "data": {
      "text/plain": [
       "'/content/drive/My Drive/upwork/Face_recognition-master'"
      ]
     },
     "execution_count": 7,
     "metadata": {
      "tags": []
     },
     "output_type": "execute_result"
    }
   ],
   "source": [
    "pwd"
   ]
  },
  {
   "cell_type": "code",
   "execution_count": 0,
   "metadata": {
    "colab": {},
    "colab_type": "code",
    "id": "mK5L826IG1dT"
   },
   "outputs": [],
   "source": [
    "labels = \\\n",
    "  list(train_labels_mbyt) + \\\n",
    "  list(train_labels_aug_mbyt)  + \\\n",
    "  list(test_labels_mbyt)\n"
   ]
  },
  {
   "cell_type": "code",
   "execution_count": 0,
   "metadata": {
    "colab": {
     "base_uri": "https://localhost:8080/",
     "height": 34
    },
    "colab_type": "code",
    "executionInfo": {
     "elapsed": 539,
     "status": "ok",
     "timestamp": 1574088593145,
     "user": {
      "displayName": "clive cadogan",
      "photoUrl": "https://lh3.googleusercontent.com/a-/AAuE7mBetPwzDKoPXVylhoqriy46mM_oiDOfaWIOqEI5eg=s64",
      "userId": "06069342331970137131"
     },
     "user_tz": 240
    },
    "id": "_jR9PL22G1dV",
    "outputId": "7e0535c0-b370-40dc-b874-39a4549b8807"
   },
   "outputs": [
    {
     "data": {
      "text/plain": [
       "26640"
      ]
     },
     "execution_count": 11,
     "metadata": {
      "tags": []
     },
     "output_type": "execute_result"
    }
   ],
   "source": [
    "len(labels)"
   ]
  },
  {
   "cell_type": "code",
   "execution_count": 0,
   "metadata": {
    "colab": {
     "base_uri": "https://localhost:8080/",
     "height": 34
    },
    "colab_type": "code",
    "executionInfo": {
     "elapsed": 325,
     "status": "ok",
     "timestamp": 1573840492681,
     "user": {
      "displayName": "clive cadogan",
      "photoUrl": "https://lh3.googleusercontent.com/a-/AAuE7mBetPwzDKoPXVylhoqriy46mM_oiDOfaWIOqEI5eg=s64",
      "userId": "06069342331970137131"
     },
     "user_tz": 240
    },
    "id": "GXaOUrPPG1dZ",
    "outputId": "d9ab4524-e02c-45f6-e673-52d966cbaed1"
   },
   "outputs": [
    {
     "data": {
      "text/plain": [
       "654177"
      ]
     },
     "execution_count": 18,
     "metadata": {
      "tags": []
     },
     "output_type": "execute_result"
    }
   ],
   "source": [
    "len(labels)"
   ]
  },
  {
   "cell_type": "code",
   "execution_count": 0,
   "metadata": {
    "colab": {},
    "colab_type": "code",
    "id": "mLTsETqPG1db"
   },
   "outputs": [],
   "source": [
    "train_feat1 = np.vstack([\n",
    "                         train_feat1_mbyt,\n",
    "                         train_feat1_aug_mbyt\n",
    "])\n",
    "train_feat2 = np.vstack([\n",
    "                         train_feat2_mbyt,\n",
    "                         train_feat2_aug_mbyt\n",
    "])\n"
   ]
  },
  {
   "cell_type": "code",
   "execution_count": 0,
   "metadata": {
    "colab": {
     "base_uri": "https://localhost:8080/",
     "height": 34
    },
    "colab_type": "code",
    "executionInfo": {
     "elapsed": 22843,
     "status": "ok",
     "timestamp": 1574088671348,
     "user": {
      "displayName": "clive cadogan",
      "photoUrl": "https://lh3.googleusercontent.com/a-/AAuE7mBetPwzDKoPXVylhoqriy46mM_oiDOfaWIOqEI5eg=s64",
      "userId": "06069342331970137131"
     },
     "user_tz": 240
    },
    "id": "5pnYN3xuMMWp",
    "outputId": "538d3332-49d1-45e9-a9e9-4564ec24908e"
   },
   "outputs": [
    {
     "data": {
      "text/plain": [
       "(11840, 11840)"
      ]
     },
     "execution_count": 13,
     "metadata": {
      "tags": []
     },
     "output_type": "execute_result"
    }
   ],
   "source": [
    "len(train_labels_mbyt), len(train_feat1_mbyt)"
   ]
  },
  {
   "cell_type": "code",
   "execution_count": 0,
   "metadata": {
    "colab": {},
    "colab_type": "code",
    "id": "FsZ5MrX8G1dk"
   },
   "outputs": [],
   "source": [
    "xtrain = trans(train_feat1, train_feat2)\n",
    "xtest = trans(test_feat1_mbyt, test_feat2_mbyt)"
   ]
  },
  {
   "cell_type": "code",
   "execution_count": 0,
   "metadata": {
    "colab": {},
    "colab_type": "code",
    "id": "sJefgBbaG1dn"
   },
   "outputs": [],
   "source": [
    "tr_len = len(xtrain)\n",
    "tst_len = len(xtest)"
   ]
  },
  {
   "cell_type": "code",
   "execution_count": 0,
   "metadata": {
    "colab": {
     "base_uri": "https://localhost:8080/",
     "height": 34
    },
    "colab_type": "code",
    "executionInfo": {
     "elapsed": 512,
     "status": "ok",
     "timestamp": 1574088778615,
     "user": {
      "displayName": "clive cadogan",
      "photoUrl": "https://lh3.googleusercontent.com/a-/AAuE7mBetPwzDKoPXVylhoqriy46mM_oiDOfaWIOqEI5eg=s64",
      "userId": "06069342331970137131"
     },
     "user_tz": 240
    },
    "id": "atmdQ5qCQq8Y",
    "outputId": "f0ff3b19-d8fb-41f6-8187-f36288e3bb79"
   },
   "outputs": [
    {
     "data": {
      "text/plain": [
       "23680"
      ]
     },
     "execution_count": 19,
     "metadata": {
      "tags": []
     },
     "output_type": "execute_result"
    }
   ],
   "source": [
    "tr_len"
   ]
  },
  {
   "cell_type": "code",
   "execution_count": 0,
   "metadata": {
    "colab": {
     "base_uri": "https://localhost:8080/",
     "height": 34
    },
    "colab_type": "code",
    "executionInfo": {
     "elapsed": 634,
     "status": "ok",
     "timestamp": 1574088786403,
     "user": {
      "displayName": "clive cadogan",
      "photoUrl": "https://lh3.googleusercontent.com/a-/AAuE7mBetPwzDKoPXVylhoqriy46mM_oiDOfaWIOqEI5eg=s64",
      "userId": "06069342331970137131"
     },
     "user_tz": 240
    },
    "id": "ArG8-fWpQnyc",
    "outputId": "c18be617-3513-4306-81fa-ea7c3a413f09"
   },
   "outputs": [
    {
     "data": {
      "text/plain": [
       "2960"
      ]
     },
     "execution_count": 20,
     "metadata": {
      "tags": []
     },
     "output_type": "execute_result"
    }
   ],
   "source": [
    "\n",
    "tst_len"
   ]
  },
  {
   "cell_type": "code",
   "execution_count": 0,
   "metadata": {
    "colab": {},
    "colab_type": "code",
    "id": "_gDgJ58AG1do"
   },
   "outputs": [],
   "source": [
    "data = np.vstack([xtrain, xtest])\n"
   ]
  },
  {
   "cell_type": "code",
   "execution_count": 0,
   "metadata": {
    "colab": {
     "base_uri": "https://localhost:8080/",
     "height": 34
    },
    "colab_type": "code",
    "executionInfo": {
     "elapsed": 690,
     "status": "ok",
     "timestamp": 1574088796047,
     "user": {
      "displayName": "clive cadogan",
      "photoUrl": "https://lh3.googleusercontent.com/a-/AAuE7mBetPwzDKoPXVylhoqriy46mM_oiDOfaWIOqEI5eg=s64",
      "userId": "06069342331970137131"
     },
     "user_tz": 240
    },
    "id": "1B2KL3aXGk-9",
    "outputId": "70f1660e-2612-49d8-bbf7-6425f2564e09"
   },
   "outputs": [
    {
     "data": {
      "text/plain": [
       "26640"
      ]
     },
     "execution_count": 22,
     "metadata": {
      "tags": []
     },
     "output_type": "execute_result"
    }
   ],
   "source": [
    "len(data)"
   ]
  },
  {
   "cell_type": "code",
   "execution_count": 0,
   "metadata": {
    "colab": {
     "base_uri": "https://localhost:8080/",
     "height": 34
    },
    "colab_type": "code",
    "executionInfo": {
     "elapsed": 562,
     "status": "ok",
     "timestamp": 1574088807896,
     "user": {
      "displayName": "clive cadogan",
      "photoUrl": "https://lh3.googleusercontent.com/a-/AAuE7mBetPwzDKoPXVylhoqriy46mM_oiDOfaWIOqEI5eg=s64",
      "userId": "06069342331970137131"
     },
     "user_tz": 240
    },
    "id": "8R_zUTS0G1d2",
    "outputId": "121ee283-85fe-4376-fab9-619a806a0058"
   },
   "outputs": [
    {
     "data": {
      "text/plain": [
       "(26640, 257)"
      ]
     },
     "execution_count": 23,
     "metadata": {
      "tags": []
     },
     "output_type": "execute_result"
    }
   ],
   "source": [
    "data.shape\n",
    "#labels.shape"
   ]
  },
  {
   "cell_type": "code",
   "execution_count": 0,
   "metadata": {
    "colab": {},
    "colab_type": "code",
    "id": "8qavPlmHG1d9"
   },
   "outputs": [],
   "source": [
    "scaler = MinMaxScaler()\n",
    "scaled_data = scaler.fit_transform(data)\n",
    "f_selector = SelectKBest(chi2, k = int(0.8*(len(data.T))))\n",
    "data_ = f_selector.fit_transform(scaled_data, labels )"
   ]
  },
  {
   "cell_type": "markdown",
   "metadata": {
    "colab_type": "text",
    "id": "Ux28vM_qG1eB"
   },
   "source": [
    "data_df = pd.DataFrame(data_)\n",
    "image_paths_csv = pd.read_csv(\"features/image_paths.csv\", index_col = False)"
   ]
  },
  {
   "cell_type": "markdown",
   "metadata": {
    "colab_type": "text",
    "id": "hhv1c9UGG1eC"
   },
   "source": [
    "all_data_df = pd.concat([image_paths_csv,data_df], axis = 1)"
   ]
  },
  {
   "cell_type": "markdown",
   "metadata": {
    "colab_type": "text",
    "id": "2USG0eSXG1eC"
   },
   "source": [
    "len(all_data_df)"
   ]
  },
  {
   "cell_type": "markdown",
   "metadata": {
    "colab_type": "text",
    "id": "wT6XEYqLG1eD"
   },
   "source": [
    "xtrain, xtest, ytrain, ytest = train_test_split(all_data_df, labels, shuffle = True, random_state = 42)"
   ]
  },
  {
   "cell_type": "markdown",
   "metadata": {
    "colab_type": "text",
    "id": "KKHoIFPpG1eD"
   },
   "source": [
    "paths_dict = {\n",
    "    \"train_paths1\": xtrain[\"path1\"],\n",
    "    \"train_paths2\": xtrain[\"path2\"],\n",
    "    \"test_paths1\": xtest[\"path1\"],\n",
    "    \"test_paths2\": xtest[\"path2\"]\n",
    "}\n",
    "xtrain1 = xtrain.drop([\"path1\", \"path2\", \"Unnamed: 0\"], axis = 1).values\n",
    "xtest1 = xtest.drop([\"path1\", \"path2\", \"Unnamed: 0\"], axis = 1).values"
   ]
  },
  {
   "cell_type": "code",
   "execution_count": 0,
   "metadata": {
    "colab": {},
    "colab_type": "code",
    "id": "P4KlT04yG1eE"
   },
   "outputs": [],
   "source": [
    "xtrain, xtest = data_[:tr_len], data_[-tst_len:]\n",
    "ytrain, ytest = labels[:tr_len], labels[-tst_len:]\n",
    "xtrain, ytrain = shuffle(xtrain, ytrain)"
   ]
  },
  {
   "cell_type": "code",
   "execution_count": 0,
   "metadata": {
    "colab": {
     "base_uri": "https://localhost:8080/",
     "height": 34
    },
    "colab_type": "code",
    "executionInfo": {
     "elapsed": 320,
     "status": "ok",
     "timestamp": 1574088830703,
     "user": {
      "displayName": "clive cadogan",
      "photoUrl": "https://lh3.googleusercontent.com/a-/AAuE7mBetPwzDKoPXVylhoqriy46mM_oiDOfaWIOqEI5eg=s64",
      "userId": "06069342331970137131"
     },
     "user_tz": 240
    },
    "id": "jlwD_2n2G1eG",
    "outputId": "333e56ec-a085-4325-bec0-66e679f89bb8"
   },
   "outputs": [
    {
     "data": {
      "text/plain": [
       "(23680, 205)"
      ]
     },
     "execution_count": 26,
     "metadata": {
      "tags": []
     },
     "output_type": "execute_result"
    }
   ],
   "source": [
    "xtrain.shape"
   ]
  },
  {
   "cell_type": "code",
   "execution_count": 0,
   "metadata": {
    "colab": {
     "base_uri": "https://localhost:8080/",
     "height": 34
    },
    "colab_type": "code",
    "executionInfo": {
     "elapsed": 1049,
     "status": "ok",
     "timestamp": 1574088832517,
     "user": {
      "displayName": "clive cadogan",
      "photoUrl": "https://lh3.googleusercontent.com/a-/AAuE7mBetPwzDKoPXVylhoqriy46mM_oiDOfaWIOqEI5eg=s64",
      "userId": "06069342331970137131"
     },
     "user_tz": 240
    },
    "id": "P6Pgvb83G1eI",
    "outputId": "1a9ba423-dbf9-4a72-8aa0-228648680fb7"
   },
   "outputs": [
    {
     "data": {
      "text/plain": [
       "(2960, 205)"
      ]
     },
     "execution_count": 27,
     "metadata": {
      "tags": []
     },
     "output_type": "execute_result"
    }
   ],
   "source": [
    "xtest.shape"
   ]
  },
  {
   "cell_type": "markdown",
   "metadata": {
    "colab_type": "text",
    "id": "NEOBDdhyG1eK"
   },
   "source": [
    "Gradient Boosting Classifier"
   ]
  },
  {
   "cell_type": "code",
   "execution_count": 0,
   "metadata": {
    "colab": {},
    "colab_type": "code",
    "id": "K7zqi3tyG1eL"
   },
   "outputs": [],
   "source": [
    "from sklearn.ensemble import BaggingClassifier, VotingClassifier, GradientBoostingClassifier\n",
    "from sklearn.neighbors import KNeighborsClassifier\n",
    "from sklearn.tree import DecisionTreeClassifier\n",
    "from sklearn.linear_model import SGDClassifier\n",
    "from sklearn.model_selection import GridSearchCV"
   ]
  },
  {
   "cell_type": "markdown",
   "metadata": {
    "colab_type": "text",
    "id": "p6u5yguoG1eN"
   },
   "source": [
    "\n",
    "params_grid = {\n",
    "    \"loss\" : [\"exponential\"],\n",
    "    \"n_estimators\": [60,70,90], \"max_depth\": 10\n",
    "              }\n",
    "gboost = GradientBoostingClassifier()\n",
    "gs = GridSearchCV(gboost, param_grid = params_grid, cv = 2 )\n",
    "gs.fit(xtrain, ytrain)\n",
    "report(gs.cv_results_)\n",
    "gboost = gs.best_estimator_"
   ]
  },
  {
   "cell_type": "code",
   "execution_count": 0,
   "metadata": {
    "colab": {},
    "colab_type": "code",
    "id": "aUCmrVMcG1eN"
   },
   "outputs": [],
   "source": [
    "gboost = GradientBoostingClassifier(loss='exponential', n_estimators=60, max_depth=6)"
   ]
  },
  {
   "cell_type": "markdown",
   "metadata": {
    "colab_type": "text",
    "id": "87gz-3mDG1eP"
   },
   "source": [
    "params_grid = {\n",
    "    \"loss\" : [\"deviance\", \"exponential\"],\n",
    "    \"n_estimators\": [10, 50,100, 150, 200],}\n",
    "\n",
    "gs = GridSearchCV(gboost, param_grid = params_grid, cv = 5 )"
   ]
  },
  {
   "cell_type": "markdown",
   "metadata": {
    "colab_type": "text",
    "id": "nfAYE0e-G1eQ"
   },
   "source": [
    "gboost.fit(xtrain, ytrain)"
   ]
  },
  {
   "cell_type": "markdown",
   "metadata": {
    "colab_type": "text",
    "id": "x_dadls8G1eR"
   },
   "source": [
    "gboost = gs.best_estimator_"
   ]
  },
  {
   "cell_type": "code",
   "execution_count": 0,
   "metadata": {
    "colab": {
     "base_uri": "https://localhost:8080/",
     "height": 170
    },
    "colab_type": "code",
    "executionInfo": {
     "elapsed": 83039,
     "status": "ok",
     "timestamp": 1574088924851,
     "user": {
      "displayName": "clive cadogan",
      "photoUrl": "https://lh3.googleusercontent.com/a-/AAuE7mBetPwzDKoPXVylhoqriy46mM_oiDOfaWIOqEI5eg=s64",
      "userId": "06069342331970137131"
     },
     "user_tz": 240
    },
    "id": "mqyktWZVG1eR",
    "outputId": "832a718a-4d9d-4b23-b304-d904dc635ca5"
   },
   "outputs": [
    {
     "data": {
      "text/plain": [
       "GradientBoostingClassifier(criterion='friedman_mse', init=None,\n",
       "              learning_rate=0.1, loss='exponential', max_depth=6,\n",
       "              max_features=None, max_leaf_nodes=None,\n",
       "              min_impurity_decrease=0.0, min_impurity_split=None,\n",
       "              min_samples_leaf=1, min_samples_split=2,\n",
       "              min_weight_fraction_leaf=0.0, n_estimators=60,\n",
       "              n_iter_no_change=None, presort='auto', random_state=None,\n",
       "              subsample=1.0, tol=0.0001, validation_fraction=0.1,\n",
       "              verbose=0, warm_start=False)"
      ]
     },
     "execution_count": 30,
     "metadata": {
      "tags": []
     },
     "output_type": "execute_result"
    }
   ],
   "source": [
    "gboost.fit( xtrain, ytrain)"
   ]
  },
  {
   "cell_type": "code",
   "execution_count": 0,
   "metadata": {
    "colab": {},
    "colab_type": "code",
    "id": "6PNcTPwOG1eX"
   },
   "outputs": [],
   "source": [
    "pred = gboost.predict(xtest)"
   ]
  },
  {
   "cell_type": "code",
   "execution_count": 0,
   "metadata": {
    "colab": {
     "base_uri": "https://localhost:8080/",
     "height": 136
    },
    "colab_type": "code",
    "executionInfo": {
     "elapsed": 720,
     "status": "ok",
     "timestamp": 1574088985929,
     "user": {
      "displayName": "clive cadogan",
      "photoUrl": "https://lh3.googleusercontent.com/a-/AAuE7mBetPwzDKoPXVylhoqriy46mM_oiDOfaWIOqEI5eg=s64",
      "userId": "06069342331970137131"
     },
     "user_tz": 240
    },
    "id": "9SOrwO9XG1ea",
    "outputId": "6fc92948-bbce-470d-d6cd-798303015453"
   },
   "outputs": [
    {
     "name": "stdout",
     "output_type": "stream",
     "text": [
      "-The Accuracy of the the cllasifier: 0.9280405405405405\n",
      "-The recall Score:  0.8956343792633015\n",
      "-The precision score:  0.956300072833212\n",
      "-The F1_score:  0.9249735822472701\n",
      "-The confusion matrix:\n",
      "[[1434   60]\n",
      " [ 153 1313]]\n"
     ]
    }
   ],
   "source": [
    "from sklearn.metrics import accuracy_score, confusion_matrix, recall_score, precision_score, f1_score \n",
    "acc = accuracy_score(ytest,pred)\n",
    "conf = confusion_matrix(ytest, pred)\n",
    "rs = recall_score(ytest, pred)\n",
    "ps = precision_score(ytest, pred)\n",
    "f1 = f1_score(ytest, pred)\n",
    "print(\"-The Accuracy of the the cllasifier:\",acc)\n",
    "print(\"-The recall Score: \", rs)\n",
    "print(\"-The precision score: \", ps)\n",
    "print(\"-The F1_score: \", f1)\n",
    "print(\"-The confusion matrix:\" )\n",
    "print(conf)"
   ]
  },
  {
   "cell_type": "markdown",
   "metadata": {
    "colab_type": "text",
    "id": "oPKJC2fVNqOo"
   },
   "source": [
    "```\n",
    "PREVIOUS -The Accuracy of the the cllasifier trained only on youtube data: 0.9108108108108108\n",
    "-The recall Score:  0.8997938144329897\n",
    "-The precision score:  0.9214527027027027\n",
    "-The F1_score:  0.9104944711036929\n",
    "-The confusion matrix:\n",
    "[[2199  186]\n",
    " [ 243 2182]]\n",
    " ```"
   ]
  },
  {
   "cell_type": "code",
   "execution_count": 0,
   "metadata": {
    "colab": {
     "base_uri": "https://localhost:8080/",
     "height": 136
    },
    "colab_type": "code",
    "executionInfo": {
     "elapsed": 545,
     "status": "ok",
     "timestamp": 1574089003522,
     "user": {
      "displayName": "clive cadogan",
      "photoUrl": "https://lh3.googleusercontent.com/a-/AAuE7mBetPwzDKoPXVylhoqriy46mM_oiDOfaWIOqEI5eg=s64",
      "userId": "06069342331970137131"
     },
     "user_tz": 240
    },
    "id": "dw4d9FMgG1ec",
    "outputId": "e4c31009-33eb-4255-c4b5-f78b77d31d52"
   },
   "outputs": [
    {
     "name": "stdout",
     "output_type": "stream",
     "text": [
      "-The Accuracy of the the cllasifier: 0.9280405405405405\n",
      "-The recall Score:  0.8956343792633015\n",
      "-The precision score:  0.956300072833212\n",
      "-The F1_score:  0.9249735822472701\n",
      "-The confusion matrix:\n",
      "[[1434   60]\n",
      " [ 153 1313]]\n"
     ]
    }
   ],
   "source": [
    "from sklearn.metrics import accuracy_score, confusion_matrix, recall_score, precision_score, f1_score \n",
    "acc = accuracy_score(ytest,pred)\n",
    "conf = confusion_matrix(ytest, pred)\n",
    "rs = recall_score(ytest, pred)\n",
    "ps = precision_score(ytest, pred)\n",
    "f1 = f1_score(ytest, pred)\n",
    "print(\"-The Accuracy of the the cllasifier:\",acc)\n",
    "print(\"-The recall Score: \", rs)\n",
    "print(\"-The precision score: \", ps)\n",
    "print(\"-The F1_score: \", f1)\n",
    "print(\"-The confusion matrix:\" )\n",
    "print(conf)"
   ]
  },
  {
   "cell_type": "code",
   "execution_count": 0,
   "metadata": {
    "colab": {},
    "colab_type": "code",
    "id": "0m37cVwBG1ee"
   },
   "outputs": [],
   "source": [
    "false_positive = []\n",
    "false_positive_pred = []\n",
    "\n",
    "false_negative = []\n",
    "false_negative_pred = []\n",
    "\n",
    "for i in range(len(pred)):\n",
    "    ### False Positive check\n",
    "    if ((pred[i]==1) & (ytest[i] ==0)):\n",
    "        false_positive.append(i)\n",
    "        false_positive_pred.append(pred[i])\n",
    "    ### False Negative check\n",
    "    elif ((pred[i] == 0) &(ytest[i]==1)):\n",
    "        false_negative.append(i)\n",
    "        false_negative_pred.append(pred[i])\n"
   ]
  },
  {
   "cell_type": "code",
   "execution_count": 0,
   "metadata": {
    "colab": {
     "base_uri": "https://localhost:8080/",
     "height": 51
    },
    "colab_type": "code",
    "executionInfo": {
     "elapsed": 507,
     "status": "ok",
     "timestamp": 1574089013334,
     "user": {
      "displayName": "clive cadogan",
      "photoUrl": "https://lh3.googleusercontent.com/a-/AAuE7mBetPwzDKoPXVylhoqriy46mM_oiDOfaWIOqEI5eg=s64",
      "userId": "06069342331970137131"
     },
     "user_tz": 240
    },
    "id": "aLYbd4r8G1eg",
    "outputId": "48b67674-ad71-4255-b73f-af3ebd73ba36"
   },
   "outputs": [
    {
     "name": "stdout",
     "output_type": "stream",
     "text": [
      "60\n",
      "153\n"
     ]
    }
   ],
   "source": [
    "print(len(false_positive))\n",
    "print(len(false_negative))"
   ]
  },
  {
   "cell_type": "markdown",
   "metadata": {
    "colab_type": "text",
    "id": "j3YNR2PmG1ei"
   },
   "source": [
    "False Positves"
   ]
  },
  {
   "cell_type": "code",
   "execution_count": 0,
   "metadata": {
    "colab": {
     "base_uri": "https://localhost:8080/",
     "height": 181
    },
    "colab_type": "code",
    "executionInfo": {
     "elapsed": 1023,
     "status": "error",
     "timestamp": 1572878150132,
     "user": {
      "displayName": "clive cadogan",
      "photoUrl": "https://lh3.googleusercontent.com/a-/AAuE7mBetPwzDKoPXVylhoqriy46mM_oiDOfaWIOqEI5eg=s64",
      "userId": "06069342331970137131"
     },
     "user_tz": 240
    },
    "id": "WgIBoqDwG1ej",
    "outputId": "910291f5-870a-41ab-8c10-e2fe8d765167"
   },
   "outputs": [
    {
     "ename": "NameError",
     "evalue": "ignored",
     "output_type": "error",
     "traceback": [
      "\u001b[0;31m---------------------------------------------------------------------------\u001b[0m",
      "\u001b[0;31mNameError\u001b[0m                                 Traceback (most recent call last)",
      "\u001b[0;32m<ipython-input-41-71eb2c629a11>\u001b[0m in \u001b[0;36m<module>\u001b[0;34m()\u001b[0m\n\u001b[0;32m----> 1\u001b[0;31m \u001b[0mfalse_image_lst1\u001b[0m \u001b[0;34m=\u001b[0m \u001b[0mlist\u001b[0m\u001b[0;34m(\u001b[0m\u001b[0mnp\u001b[0m\u001b[0;34m.\u001b[0m\u001b[0marray\u001b[0m\u001b[0;34m(\u001b[0m\u001b[0mpaths_dict\u001b[0m\u001b[0;34m[\u001b[0m\u001b[0;34m\"test_paths1\"\u001b[0m\u001b[0;34m]\u001b[0m\u001b[0;34m)\u001b[0m\u001b[0;34m[\u001b[0m\u001b[0mfalse_positive\u001b[0m\u001b[0;34m]\u001b[0m\u001b[0;34m)\u001b[0m\u001b[0;34m\u001b[0m\u001b[0;34m\u001b[0m\u001b[0m\n\u001b[0m\u001b[1;32m      2\u001b[0m \u001b[0mfalse_image_lst2\u001b[0m \u001b[0;34m=\u001b[0m \u001b[0mlist\u001b[0m\u001b[0;34m(\u001b[0m\u001b[0mnp\u001b[0m\u001b[0;34m.\u001b[0m\u001b[0marray\u001b[0m\u001b[0;34m(\u001b[0m\u001b[0mpaths_dict\u001b[0m\u001b[0;34m[\u001b[0m\u001b[0;34m\"test_paths2\"\u001b[0m\u001b[0;34m]\u001b[0m\u001b[0;34m)\u001b[0m\u001b[0;34m[\u001b[0m\u001b[0mfalse_positive\u001b[0m\u001b[0;34m]\u001b[0m\u001b[0;34m)\u001b[0m\u001b[0;34m\u001b[0m\u001b[0;34m\u001b[0m\u001b[0m\n",
      "\u001b[0;31mNameError\u001b[0m: name 'paths_dict' is not defined"
     ]
    }
   ],
   "source": [
    "false_image_lst1 = list(np.array(paths_dict[\"test_paths1\"])[false_positive])\n",
    "false_image_lst2 = list(np.array(paths_dict[\"test_paths2\"])[false_positive])"
   ]
  },
  {
   "cell_type": "code",
   "execution_count": 0,
   "metadata": {
    "colab": {},
    "colab_type": "code",
    "id": "svEIfBSMG1ek"
   },
   "outputs": [],
   "source": [
    "%matplotlib inline\n",
    "import matplotlib.pyplot as plt \n",
    "\n",
    "def showfalse(idx, i):\n",
    "    \n",
    "    try:\n",
    "        imgs = [ plt.imread(\"data/images/\" + false_image_lst1[idx]), \n",
    "               plt.imread(\"data/images/\" + false_image_lst2[idx])]\n",
    "        pathls = [\"#: {} data/images/\".format(i) + false_image_lst1[idx], \n",
    "                  \"#: {} data/images/\".format(i) + false_image_lst2[idx]]\n",
    "        for i in range(len(imgs)):\n",
    "            bb = detect_faces(imgs[i], m)\n",
    "            ax = show_img(imgs[i])\n",
    "            \n",
    "            for b in bb:\n",
    "                write_txt(ax, (b[0], b[1]),pathls[i], 14)\n",
    "                draw_bb(ax, b)\n",
    "            write_txt(ax, (0, 0),\"{}\".format(i), 20)\n",
    "        #print(50*\"#\")\n",
    "    except FileNotFoundError:\n",
    "        print(i)"
   ]
  },
  {
   "cell_type": "code",
   "execution_count": 0,
   "metadata": {
    "colab": {
     "base_uri": "https://localhost:8080/",
     "height": 34
    },
    "colab_type": "code",
    "executionInfo": {
     "elapsed": 1840,
     "status": "ok",
     "timestamp": 1574089059434,
     "user": {
      "displayName": "clive cadogan",
      "photoUrl": "https://lh3.googleusercontent.com/a-/AAuE7mBetPwzDKoPXVylhoqriy46mM_oiDOfaWIOqEI5eg=s64",
      "userId": "06069342331970137131"
     },
     "user_tz": 240
    },
    "id": "XAvklZYJG1em",
    "outputId": "c05d42b4-f9f8-4b08-faab-d80832a862c1"
   },
   "outputs": [
    {
     "data": {
      "text/plain": [
       "['demo/PipelineParts/feature_selector.joblib']"
      ]
     },
     "execution_count": 36,
     "metadata": {
      "tags": []
     },
     "output_type": "execute_result"
    }
   ],
   "source": [
    "dump(gboost, \"demo/PipelineParts/GboostModel.joblib\")\n",
    "dump(scaler, \"demo/PipelineParts/scaler.joblib\")\n",
    "dump(f_selector, \"demo/PipelineParts/feature_selector.joblib\")"
   ]
  },
  {
   "cell_type": "code",
   "execution_count": 0,
   "metadata": {
    "colab": {
     "base_uri": "https://localhost:8080/",
     "height": 170
    },
    "colab_type": "code",
    "executionInfo": {
     "elapsed": 665,
     "status": "ok",
     "timestamp": 1574089060561,
     "user": {
      "displayName": "clive cadogan",
      "photoUrl": "https://lh3.googleusercontent.com/a-/AAuE7mBetPwzDKoPXVylhoqriy46mM_oiDOfaWIOqEI5eg=s64",
      "userId": "06069342331970137131"
     },
     "user_tz": 240
    },
    "id": "janRkCm2G1en",
    "outputId": "ab0b15fb-7c9f-4450-858c-9914e147fbae"
   },
   "outputs": [
    {
     "data": {
      "text/plain": [
       "GradientBoostingClassifier(criterion='friedman_mse', init=None,\n",
       "              learning_rate=0.1, loss='exponential', max_depth=6,\n",
       "              max_features=None, max_leaf_nodes=None,\n",
       "              min_impurity_decrease=0.0, min_impurity_split=None,\n",
       "              min_samples_leaf=1, min_samples_split=2,\n",
       "              min_weight_fraction_leaf=0.0, n_estimators=60,\n",
       "              n_iter_no_change=None, presort='auto', random_state=None,\n",
       "              subsample=1.0, tol=0.0001, validation_fraction=0.1,\n",
       "              verbose=0, warm_start=False)"
      ]
     },
     "execution_count": 37,
     "metadata": {
      "tags": []
     },
     "output_type": "execute_result"
    }
   ],
   "source": [
    "gboost"
   ]
  },
  {
   "cell_type": "code",
   "execution_count": 0,
   "metadata": {
    "colab": {},
    "colab_type": "code",
    "id": "QQJLlbaZG1ep"
   },
   "outputs": [],
   "source": [
    "gboost = load(\"demo/PipelineParts/GboostModel.joblib\")"
   ]
  },
  {
   "cell_type": "code",
   "execution_count": 0,
   "metadata": {
    "colab": {},
    "colab_type": "code",
    "id": "jV41OwFzG1es"
   },
   "outputs": [],
   "source": [
    "pred = gboost.predict(xtest)"
   ]
  },
  {
   "cell_type": "code",
   "execution_count": 0,
   "metadata": {
    "colab": {
     "base_uri": "https://localhost:8080/",
     "height": 136
    },
    "colab_type": "code",
    "executionInfo": {
     "elapsed": 484,
     "status": "ok",
     "timestamp": 1574089064856,
     "user": {
      "displayName": "clive cadogan",
      "photoUrl": "https://lh3.googleusercontent.com/a-/AAuE7mBetPwzDKoPXVylhoqriy46mM_oiDOfaWIOqEI5eg=s64",
      "userId": "06069342331970137131"
     },
     "user_tz": 240
    },
    "id": "jYGdGJuGG1ev",
    "outputId": "93f8f98d-33a2-4d15-ff60-80ee10c4a130"
   },
   "outputs": [
    {
     "name": "stdout",
     "output_type": "stream",
     "text": [
      "-The Accuracy of the the cllasifier: 0.9280405405405405\n",
      "-The recall Score:  0.8956343792633015\n",
      "-The precision score:  0.956300072833212\n",
      "-The F1_score:  0.9249735822472701\n",
      "-The confusion matrix:\n",
      "[[1434   60]\n",
      " [ 153 1313]]\n"
     ]
    }
   ],
   "source": [
    "from sklearn.metrics import accuracy_score, confusion_matrix, recall_score, precision_score, f1_score \n",
    "acc = accuracy_score(ytest,pred)\n",
    "conf = confusion_matrix(ytest, pred)\n",
    "rs = recall_score(ytest, pred)\n",
    "ps = precision_score(ytest, pred)\n",
    "f1 = f1_score(ytest, pred)\n",
    "print(\"-The Accuracy of the the cllasifier:\",acc)\n",
    "print(\"-The recall Score: \", rs)\n",
    "print(\"-The precision score: \", ps)\n",
    "print(\"-The F1_score: \", f1)\n",
    "print(\"-The confusion matrix:\" )\n",
    "print(conf)"
   ]
  },
  {
   "cell_type": "code",
   "execution_count": 0,
   "metadata": {
    "colab": {},
    "colab_type": "code",
    "id": "nPGKSlVFG1ex"
   },
   "outputs": [],
   "source": []
  }
 ],
 "metadata": {
  "colab": {
   "name": "gboosttrees_pipeline_Inpection_notebook-Copy1.ipynb",
   "provenance": [],
   "toc_visible": true
  },
  "kernelspec": {
   "display_name": "vision1",
   "language": "python",
   "name": "vision1"
  },
  "language_info": {
   "codemirror_mode": {
    "name": "ipython",
    "version": 3
   },
   "file_extension": ".py",
   "mimetype": "text/x-python",
   "name": "python",
   "nbconvert_exporter": "python",
   "pygments_lexer": "ipython3",
   "version": "3.7.3"
  }
 },
 "nbformat": 4,
 "nbformat_minor": 1
}
